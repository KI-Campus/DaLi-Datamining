{
 "cells": [
  {
   "cell_type": "markdown",
   "id": "69943c54",
   "metadata": {},
   "source": [
    "# <font color='darkblue'>Modul 3: Übungsmaterial zu Datenverständnis und Datenvorbereitung - Welcher Diamant ist wie wertvoll?</font> &nbsp; <font size='6'>&#128142;</font>"
   ]
  },
  {
   "cell_type": "markdown",
   "id": "3d32b14c",
   "metadata": {},
   "source": [
    "<hr style=\"border:1px solid gray\"> </hr>"
   ]
  },
  {
   "cell_type": "markdown",
   "id": "8e426283",
   "metadata": {},
   "source": [
    "In diesem Notebook wird mit einem Datensatz zu Diamanten noch einmal das Bereinigen und Darstellen von Daten geübt. Außerdem werden die im Video thematisierten Skalierungsverfahren praktisch umgesetzt."
   ]
  },
  {
   "cell_type": "markdown",
   "id": "4b9508b5",
   "metadata": {},
   "source": [
    "## <font color='darkblue'>Inhalt</font>\n",
    "\n",
    "1. [Datensatz einlesen und erforschen](#kap1)  \n",
    "    \n",
    "    \n",
    "2. [Datensatz vorbereiten und visualisieren](#kap2)     \n",
    "\n",
    "\n",
    "3. [Skalierung der Daten](#kap3)  \n",
    "   3.1 [Standardisierung der Daten](#kap31)  \n",
    "   3.2 [Normalisierung der Daten](#kap32)  \n",
    "   \n",
    "   \n",
    "4. [Fazit](#kap4)"
   ]
  },
  {
   "cell_type": "markdown",
   "id": "31a28279",
   "metadata": {},
   "source": [
    "<hr style=\"border:1px solid gray\"> </hr>"
   ]
  },
  {
   "cell_type": "markdown",
   "id": "c899ea07",
   "metadata": {
    "nbgrader": {
     "grade": false,
     "grade_id": "cell-38496bb7a1299cc2",
     "locked": true,
     "schema_version": 3,
     "solution": false,
     "task": false
    }
   },
   "source": [
    "## <font color='darkblue'>1. Datensatz einlesen und erforschen</font> <a name=\"kap1\"></a>"
   ]
  },
  {
   "cell_type": "markdown",
   "id": "86818f03",
   "metadata": {},
   "source": [
    "Zunächst einmal wird die Pandas Bibliothek und Pyplot eingebunden. "
   ]
  },
  {
   "cell_type": "code",
   "execution_count": null,
   "id": "498536b6",
   "metadata": {
    "nbgrader": {
     "grade": false,
     "grade_id": "cell-712fe4906bc311d3",
     "locked": true,
     "schema_version": 3,
     "solution": false,
     "task": false
    }
   },
   "outputs": [],
   "source": [
    "import pandas as pd\n",
    "import matplotlib.pyplot as plt"
   ]
  },
  {
   "cell_type": "markdown",
   "id": "7a7522c6",
   "metadata": {},
   "source": [
    "Anschließend wird der Datensatz eingelesen. Es handelt sich hierbei um einen <a href=\"https://data.world/nahrin/diamonds\">Datensatz</a>, der verschiedene Merkmale zu Diamanten und deren Preis enthält."
   ]
  },
  {
   "cell_type": "code",
   "execution_count": null,
   "id": "799d7f83",
   "metadata": {
    "nbgrader": {
     "grade": false,
     "grade_id": "cell-712fe4906bc311d3",
     "locked": true,
     "schema_version": 3,
     "solution": false,
     "task": false
    }
   },
   "outputs": [],
   "source": [
    "df = pd.read_csv('M3_Uebung_Diamanten.csv', index_col=0)\n",
    "df.info()"
   ]
  },
  {
   "cell_type": "markdown",
   "id": "7acf278d",
   "metadata": {},
   "source": [
    "<table align='left'>\n",
    "    <thead>\n",
    "        <tr>\n",
    "          <th style=\"text-align:left\">Spaltenname</th>\n",
    "          <th style=\"text-align:left\">Bedeutung</th>\n",
    "          <th style=\"text-align:left\">Weitere Informationen</th>\n",
    "        </tr>\n",
    "    </thead>\n",
    "    <tr>\n",
    "    <td style=\"text-align:left\">price</td>\n",
    "    <td style=\"text-align:left\">Preis</td>\n",
    "    <td style=\"text-align:left\">[USD]</td>\n",
    "    </tr>\n",
    "    <tr>\n",
    "    <td style=\"text-align:left\">carat</td>\n",
    "    <td style=\"text-align:left\">Gewicht</td>\n",
    "    <td style=\"text-align:left\">[Kt] bzw. [ct]</td>\n",
    "    </tr>\n",
    "    <tr>\n",
    "    <td style=\"text-align:left; vertical-align: top\">cut</td>\n",
    "    <td style=\"text-align:left; vertical-align: top\">Qualität des Schliffs</td>\n",
    "    <td style=\"text-align:left; vertical-align: top\">Fair, Good, Very Good, Premium, Ideal</td>\n",
    "    </tr>\n",
    "    <tr>\n",
    "    <td style=\"text-align:left; vertical-align: top\">color</td>\n",
    "    <td style=\"text-align:left; vertical-align: top\">Farbe</td>\n",
    "    <td style=\"text-align:left; vertical-align: top\">D, E, F, G, H, I, J</td>\n",
    "    </tr>\n",
    "    <tr>\n",
    "    <td style=\"text-align:left; vertical-align: top\">clarity</td>\n",
    "    <td style=\"text-align:left; vertical-align: top\">Reinheit</td>\n",
    "    <td style=\"text-align:left; vertical-align: top\">I1, SI2, SI1, VS2, VS1, VVS2, VVS1, IF</td>\n",
    "    </tr>\n",
    "    <tr>\n",
    "    <td style=\"text-align:left\">x</td>\n",
    "    <td style=\"text-align:left\">Länge</td>\n",
    "    <td style=\"text-align:left\">[mm]</td>\n",
    "    </tr>\n",
    "    <tr>\n",
    "    <td style=\"text-align:left; vertical-align: top\">y</td>\n",
    "    <td style=\"text-align:left; vertical-align: top\">Breite</td>\n",
    "    <td style=\"text-align:left; vertical-align: top\">[mm]</td>\n",
    "    </tr>\n",
    "    <tr>\n",
    "    <td style=\"text-align:left\">z</td>\n",
    "    <td style=\"text-align:left\">Tiefe</td>\n",
    "    <td style=\"text-align:left\">[mm]</td>\n",
    "    </tr>\n",
    "    <tr>\n",
    "    <td style=\"text-align:left; vertical-align: top\">depth</td>\n",
    "    <td style=\"text-align:left; vertical-align: top\">Gesamttiefe in Prozent: z / mean(x, y) = 2 * z / (x + y)</td>\n",
    "    <td style=\"text-align:left; vertical-align: top\">[%]</td>\n",
    "    </tr>\n",
    "    <tr>\n",
    "    <td style=\"text-align:left\">table</td>\n",
    "    <td style=\"text-align:left\">Breite der Oberkante des Diamanten im Verhältnis zur breitesten Stelle</td>\n",
    "    <td style=\"text-align:left\">[%]</td>\n",
    "    </tr>\n",
    "</table>"
   ]
  },
  {
   "cell_type": "markdown",
   "id": "73bfe461",
   "metadata": {},
   "source": [
    "In diesem Datensatz sind 53.940 Datenpunkte enthalten. Und die erste Ansicht zeigt, dass alle Felder gefüllt sind. Das erspart Arbeit bei der Datenbereinigung.\n",
    "Drei Merkmale haben den Typ 'object', dies sind `cut`, `color` und `clarity`. \n"
   ]
  },
  {
   "cell_type": "code",
   "execution_count": null,
   "id": "4a2378d0",
   "metadata": {},
   "outputs": [],
   "source": [
    "df.describe()"
   ]
  },
  {
   "cell_type": "code",
   "execution_count": null,
   "id": "6dde6122",
   "metadata": {},
   "outputs": [],
   "source": [
    "df.hist(bins=50, figsize=(12,9)); "
   ]
  },
  {
   "cell_type": "markdown",
   "id": "a2a455e6",
   "metadata": {},
   "source": [
    "Viele Merkmale enthalten Ausreißer. Dies zeit sich beim Histogramm an einer großen Spannweite auf der x-Achse, die kaum ausgefüllt ist. "
   ]
  },
  {
   "cell_type": "markdown",
   "id": "a67cc179",
   "metadata": {},
   "source": [
    "Da die Merkmale `cut`, `color` und `clarity` vom Typ `object` sind und deswegen keine numerischen Ausprägungen haben, sind sie nicht in der Ausgabe von `describe` oder den Histogrammen abgebildet.\n",
    "\n",
    "Um die tatsächlichen Ausprägungen zu sehen, sollen die ersten 5 Einträge des Datensatzes ausgegeben werden."
   ]
  },
  {
   "cell_type": "code",
   "execution_count": null,
   "id": "2a6e5c07",
   "metadata": {
    "nbgrader": {
     "grade": false,
     "grade_id": "cell-0c1508cae6df7389",
     "locked": true,
     "schema_version": 3,
     "solution": false,
     "task": false
    }
   },
   "outputs": [],
   "source": [
    "df.head()"
   ]
  },
  {
   "cell_type": "markdown",
   "id": "59211e9c",
   "metadata": {},
   "source": [
    "<hr style=\"border:1px solid gray\"> </hr>"
   ]
  },
  {
   "cell_type": "markdown",
   "id": "cccb6803",
   "metadata": {},
   "source": [
    "## <font color='darkblue'>2. Datensatz vorbereiten und visualisieren</font> <a name=\"kap2\"></a>"
   ]
  },
  {
   "cell_type": "markdown",
   "id": "6632140b",
   "metadata": {},
   "source": [
    "Damit die Werte auch visualisiert werden können, soll zunächst eine Umwandlung vorgenommen werden. Um zu ermitteln, welche Ausprägungen das jeweilige Merkmal hat, wird die Funktion `unique()` angewendet, die diese ausgibt:"
   ]
  },
  {
   "cell_type": "code",
   "execution_count": null,
   "id": "cc6346b5",
   "metadata": {},
   "outputs": [],
   "source": [
    "pd.unique(df['cut'])"
   ]
  },
  {
   "cell_type": "code",
   "execution_count": null,
   "id": "f0390371",
   "metadata": {},
   "outputs": [],
   "source": [
    "pd.unique(df['color'])"
   ]
  },
  {
   "cell_type": "code",
   "execution_count": null,
   "id": "0c296751",
   "metadata": {},
   "outputs": [],
   "source": [
    "pd.unique(df['clarity'])"
   ]
  },
  {
   "cell_type": "markdown",
   "id": "e993ce3a",
   "metadata": {},
   "source": [
    "Mittels Recherche kann ermittelt werden, dass jeweils die folgende Rangfolge gilt:\n",
    "- Qualität des Schliffs: Fair (schlechteste), Good, Very Good, Premium, Ideal (beste)  \n",
    "- Reinheit: I1 (schlechteste), SI2, SI1, VS2, VS1, VVS2, VVS1, IF (beste)\n",
    "\n",
    "Bei diesen Merkmalen liegt also eine Reihenfolge vor. Sie soll also von links nach rechts aufsteigend (Fair &rarr; 0, Good &rarr; 1,...) zahlencodiert werden.\n",
    "\n",
    "Die Farben haben keine Reihenfolge. Sie sollen alphabetisch absteigend codiert werden, also von D (6) bis J (0). Es ist möglich, dass beispielsweise durch Seltenheit bestimmter Farben ein Einfluss der Farbe auf den Preis dennoch erkennbar ist. Aber eine Rechnung mit diesem Merkmal sollte in jedem Falle inhaltlich hinterfragt werden!"
   ]
  },
  {
   "cell_type": "markdown",
   "id": "371ab84b",
   "metadata": {},
   "source": [
    "<div class=\"alert alert-block alert-success\">\n",
    "&#128187; <b>Arbeitsauftrag:</b> \n",
    "\n",
    "Wandeln Sie mit Hilfe des Beispiels und der Umwandlung von `cut` die Merkmale `color` und `clarity` in Zahlen-codierte Merkmale um. \n",
    "    \n",
    "</div>"
   ]
  },
  {
   "cell_type": "markdown",
   "id": "3c8b689e",
   "metadata": {
    "nbgrader": {
     "grade": false,
     "grade_id": "cell-e56ddfe6c553c5d1",
     "locked": true,
     "schema_version": 3,
     "solution": false,
     "task": false
    }
   },
   "source": [
    "<div class=\"alert alert-block alert-info\">\n",
    "&#128204; <b>Anmerkung:</b>  \n",
    "    \n",
    "Mithilfe der Methode `map()` von Pandas lassen sich Werte in einer Spalte durch andere Werte ersetzen.\n",
    "\n",
    "Das folgende Beispiel wandelt die Einträge des Merkmals `wetter` Dataframes `df` um. Alle Einträge von `Regen` werden durch den Wert 0, `Bewölkt` durch 1 und `Sonne` durch 2 ersetzt.\n",
    "\n",
    "```python\n",
    "df['wetter'] = df['wetter'].map({'Regen': 0, 'Bewölkt': 1, 'Sonne': 2})\n",
    "\n",
    "```\n",
    "\n",
    "So entsteht eine Zahlcodierung und es kann außerdem eine Wertung/Rangfolge entstehen: `Regen` < `Bewölkt` < `Sonne`.\n",
    "    \n"
   ]
  },
  {
   "cell_type": "code",
   "execution_count": null,
   "id": "e0b8d4f2",
   "metadata": {
    "nbgrader": {
     "grade": false,
     "grade_id": "cell-290579d189a34535",
     "locked": false,
     "schema_version": 3,
     "solution": true,
     "task": false
    }
   },
   "outputs": [],
   "source": [
    "# Beispiel für das Merkmal cut\n",
    "df['cut'] = df['cut'].map({'Fair': 0, 'Good': 1, 'Very Good': 2, 'Premium': 3, 'Ideal': 4})"
   ]
  },
  {
   "cell_type": "code",
   "execution_count": null,
   "id": "efe62225",
   "metadata": {
    "nbgrader": {
     "grade": true,
     "grade_id": "cell-5a18bc17c21479e9",
     "locked": true,
     "points": 1,
     "schema_version": 3,
     "solution": false,
     "task": false
    }
   },
   "outputs": [],
   "source": [
    "# Konvertieren Sie hier die Merkmale color und clarity"
   ]
  },
  {
   "cell_type": "markdown",
   "id": "33783e0d",
   "metadata": {},
   "source": [
    "Hat die Umwandlung funktioniert, sollte die folgende Ausgabe der Histogramme nun auch die Markmale `cut`, `color` und `clarity` enthalten. "
   ]
  },
  {
   "cell_type": "code",
   "execution_count": null,
   "id": "63816d75",
   "metadata": {},
   "outputs": [],
   "source": [
    "df.hist(figsize=(12,9)) \n",
    "plt.show()"
   ]
  },
  {
   "cell_type": "markdown",
   "id": "c8ada140",
   "metadata": {},
   "source": [
    "Hier ist zu sehen, dass die Merkmalsausprägungen sehr verschiedene Größenordnungen besitzen (z.B. von 0 bis 20000 bei `price` und nur von 0 bis 5 bei `carat`). Dies sorgt dafür, dass vor einer Modellierung eine Skalierung der Daten notwendig ist. Bevor diese Skalierung vorgenommen wird, wird eine letzte etwas aufwändigere Visualisierung vorgenommen. "
   ]
  },
  {
   "cell_type": "markdown",
   "id": "534ec060",
   "metadata": {},
   "source": [
    "<div class=\"alert alert-block alert-success\">\n",
    "&#128187; <b>Arbeitsauftrag:</b> \n",
    "\n",
    "Ergänzen Sie die Variablen, sodass die folgende Zelle einen Scatterplot Karat gegen Preis, eingefärbt nach Reinheit, ausgibt. \n",
    "    \n",
    "</div>"
   ]
  },
  {
   "cell_type": "code",
   "execution_count": null,
   "id": "d789e723",
   "metadata": {},
   "outputs": [],
   "source": [
    "scatter = plt.scatter(#, #, c=#,marker='o') \n",
    "plt.title('Karat, Preis und Reinheit der Diamanten') \n",
    "plt.xlabel('Karat') \n",
    "plt.ylabel('Preis') \n",
    "plt.legend(*scatter.legend_elements())\n",
    "plt.show;"
   ]
  },
  {
   "cell_type": "markdown",
   "id": "17dfcd6f",
   "metadata": {},
   "source": [
    "Das Diagramm zeigt gut erkennbar Farbstufen an. Es gilt, dass bei gleichem Gewicht reinere Diamanten einen höheren Preis erzielen. Die nachfolgende Skalierung wird anhand der in dieser Grafik visualisierten Daten vorgenommen, dafür wird der Datensatz auf einer Kopie auf diese Daten eingeschränkt. "
   ]
  },
  {
   "cell_type": "code",
   "execution_count": null,
   "id": "38460ea2",
   "metadata": {},
   "outputs": [],
   "source": [
    "df_copy = df[['carat','price','clarity']]"
   ]
  },
  {
   "cell_type": "markdown",
   "id": "0c3df0fc",
   "metadata": {},
   "source": [
    "<hr style=\"border:1px solid gray\"> </hr>"
   ]
  },
  {
   "cell_type": "markdown",
   "id": "ed797d82",
   "metadata": {},
   "source": [
    "## <font color='darkblue'>3. Skalierung der Daten</font> <a name=\"kap3\"></a>"
   ]
  },
  {
   "cell_type": "markdown",
   "id": "2ff81497",
   "metadata": {},
   "source": [
    "Wie bereits oben angekündigt, müssen die Daten vor der Modellierung umskaliert werden. Da die Skalierung der Daten stets nach der Trennung der Trainings- und Testdaten vorgenommen wird, muss diese Aufteilung zuerst vorgenommen werden. "
   ]
  },
  {
   "cell_type": "markdown",
   "id": "a8fef578",
   "metadata": {},
   "source": [
    "<div class=\"alert alert-block alert-success\">\n",
    "&#128187; <b>Arbeitsauftrag:</b> \n",
    "\n",
    "Führen Sie einen train-test-split durch, bei dem 70% der Daten der Trainingsmenge und 30% der Testmenge zugeordnet wird . Dabei soll das Merkmal `clarity` anteilig gleich in den beiden Mengen vorhanden sein. Außerdem soll auch bei mehreren Durchläufen die gleiche Aufteilung getroffen werden. \n",
    "</div>"
   ]
  },
  {
   "cell_type": "code",
   "execution_count": null,
   "id": "fe6e7899",
   "metadata": {},
   "outputs": [],
   "source": [
    "from sklearn.model_selection import train_test_split\n",
    "train, test = train_test_split(df_copy, , , ) "
   ]
  },
  {
   "cell_type": "markdown",
   "id": "840c848c",
   "metadata": {},
   "source": [
    "## <font color='darkblue'>3.1 Standardisierung der Daten</font> <a name=\"kap31\"></a>"
   ]
  },
  {
   "cell_type": "markdown",
   "id": "bc7e0dc9",
   "metadata": {},
   "source": [
    "Zunächst wird die Standardisierung mit dem `StandardScaler` genutzt. Dieser transformiert die Daten so, dass sie schließlich einheitlich skaliert sind, und dass der Mittelwert der Merkmale Null und die Standardabweichung 1 wird."
   ]
  },
  {
   "cell_type": "markdown",
   "id": "fb204745",
   "metadata": {},
   "source": [
    "**Exkurs - StandardScaler (für mathematisch Interessierte):**  \n",
    "\n",
    "Für eine Spalte mit Werten &ensp; $x_{1},...,x_n$ &ensp; berechnet der StandardScaler zunächst\n",
    "\n",
    "&ensp;  den Mittelwert &ensp; $m := \\frac{1}{n}\\sum_{i=1}^nx_i$  \n",
    "&ensp;  und die Standardabweichung &ensp; $s := \\sqrt{\\frac{1}{n}\\sum_{i=1}^n(x_i-m)^2}$   \n",
    "&ensp;  und skaliert die einzelnen Werte in der Spalte dann zu neuen Werten &ensp; $z_i := \\frac{x_i-m}{s}$.  \n",
    "    \n",
    "Diese Spalte mit den neuen Werten $z_1,...,z_n$ hat dann Mittelwert $0$ und Standardabweichung $1$."
   ]
  },
  {
   "cell_type": "markdown",
   "id": "6a97ece9",
   "metadata": {},
   "source": [
    "Die Skalierung soll nun nur auf die Merkmale `carat` und `price` angewendet werden, damit das Merkmal `clarity` ein Integer bleibt (so kann er für die Farbcodierung eingesetzt werden).   "
   ]
  },
  {
   "cell_type": "code",
   "execution_count": null,
   "id": "05994b9c",
   "metadata": {},
   "outputs": [],
   "source": [
    "from sklearn.preprocessing import StandardScaler\n",
    "\n",
    "# Nur die Merkmale werden standardisiert, daher wird eine Liste erstellt, die nur die Merkmale ohne das Zielmerkmal enthält\n",
    "features = list(df_copy.drop(['clarity'], axis=1).columns)\n",
    "\n",
    "# Skalierung wird an train_set angepasst\n",
    "scaler = StandardScaler()\n",
    "scaler.fit(train[features])\n",
    "\n",
    "# Skalierung der Trainingsdaten\n",
    "train_features_scaled = pd.DataFrame(scaler.transform(train[features]), columns=features, index=train.index)\n",
    "# Zusammenfügen der skalierten Merkmale und das Zielmerkmal (nicht skaliert) zu einem Dataframe\n",
    "train_set_scaled = pd.concat([train_features_scaled, train['clarity']], axis=1)\n",
    "\n",
    "# Skalierung der Testdaten\n",
    "test_features_scaled = pd.DataFrame(scaler.transform(test[features]), columns=features, index=test.index)\n",
    "# Zusammenfügen der skalierten Merkmale und das Zielmerkmal (nicht skaliert) zu einem Dataframe\n",
    "test_set_scaled = pd.concat([test_features_scaled, test['clarity']], axis=1)\n",
    "\n",
    "train_set_scaled.head()"
   ]
  },
  {
   "cell_type": "markdown",
   "id": "0f6968d4",
   "metadata": {},
   "source": [
    "Die Ausgabe zeigt bereits, dass sich an den skalierten Merkmalen etwas verändert hat. Nun wird die oben visualisierte Grafik noch einmal für die Trainingsdaten und die skalierten Trainingsdaten ausgegeben (Hier Überprüfung: Stimmt die Syntax von Ihrem Plot?): "
   ]
  },
  {
   "cell_type": "code",
   "execution_count": null,
   "id": "4fc4a4e0",
   "metadata": {},
   "outputs": [],
   "source": [
    "scatter = plt.scatter(train['carat'], train['price'], c=train['clarity'],marker='o')#löschen\n",
    "plt.title('Karat, Preis und Reinheit der Diamanten') \n",
    "plt.xlabel('Karat') \n",
    "plt.ylabel('Preis') \n",
    "plt.legend(*scatter.legend_elements())\n",
    "plt.show;"
   ]
  },
  {
   "cell_type": "code",
   "execution_count": null,
   "id": "a4dd83ec",
   "metadata": {},
   "outputs": [],
   "source": [
    "scatter = plt.scatter(train_set_scaled['carat'], train_set_scaled['price'], c=train_set_scaled['clarity'],marker='o')#löschen\n",
    "plt.title('Karat, Preis und Reinheit der Diamanten') \n",
    "plt.xlabel('Karat') \n",
    "plt.ylabel('Preis') \n",
    "plt.legend(*scatter.legend_elements())\n",
    "plt.show;"
   ]
  },
  {
   "cell_type": "markdown",
   "id": "5bf3bc5b",
   "metadata": {},
   "source": [
    "Auch die Grafik zeigt: Die Verteilung der Daten ist gleich geblieben, lediglich die Achsen haben sich verändert. \n",
    "\n",
    "Es ist zu beachten, dass nun die ursprünglichen Maßeinheiten keinen Sinn mehr ergeben und eine Transformation durchgeführt wurde, die logisch gesehen keinen Sinn hat. Hier werden die Daten jedoch nicht aus der logischen Perspektive, sondern als Data Mining Projekt betrachtet, sodass hier alles erlaubt ist, was für die Modellierung die besten Ergebnisse liefert.\n",
    "\n",
    "Ein Blick auf die Statistiken der Daten zeigt, dass nun tatsächlich die Mittelwerte (mean) der transformierten Merkmale ungefähr 0 und die Standardabweichungen (std) ungefähr 1 sind:"
   ]
  },
  {
   "cell_type": "code",
   "execution_count": null,
   "id": "a5071768",
   "metadata": {},
   "outputs": [],
   "source": [
    "train_set_scaled.describe()"
   ]
  },
  {
   "cell_type": "markdown",
   "id": "950eaa3f",
   "metadata": {},
   "source": [
    "## <font color='darkblue'>3.2 Normalisierung der Daten</font> <a name=\"kap32\"></a>"
   ]
  },
  {
   "cell_type": "markdown",
   "id": "faf3bfd0",
   "metadata": {},
   "source": [
    "Eine Alternative zur Standardisierung ist die Normalisierung der Daten, beispielsweise mit dem MinMaxScaler. Dieser transformiert die Daten so, dass alle Ausprägungen danach zwischen 0 und 1 liegen. "
   ]
  },
  {
   "cell_type": "markdown",
   "id": "76fe051c",
   "metadata": {},
   "source": [
    "**Exkurs - MinMaxScaler (für mathematisch Interessierte):**  \n",
    "\n",
    "Für eine Spalte mit Werten &ensp; $x_{1},...,x_n$ &ensp; berechnet der MinMaxScaler zunächst\n",
    "\n",
    "&ensp;  das Maximum $x_{max} := \\max\\{x_1,\\cdots,x_n\\}$   \n",
    "&ensp;  und das Minimum $x_{min} := \\min\\{x_1,\\cdots,x_n\\}$   \n",
    "&ensp;  und skaliert dann zu den neuen Werten $z_i := \\frac{x_i-x_{min}}{x_{max}-x_{min}}$.    \n",
    "    \n",
    "Die neuen Werte liegen alle zwischen 0 und 1, und die vorherigen Minima sind nun 0 und die vorherigen Maxima sind jetzt 1."
   ]
  },
  {
   "cell_type": "markdown",
   "id": "e74317fc",
   "metadata": {},
   "source": [
    "Die Normalisierung soll nun nur auf die Merkmale `carat` und `price` angewendet werden, damit das Merkmal `clarity` ein Integer bleibt (so kann er für die Farbcodierung eingesetzt werden).  "
   ]
  },
  {
   "cell_type": "code",
   "execution_count": null,
   "id": "3c4cf586",
   "metadata": {},
   "outputs": [],
   "source": [
    "from sklearn.preprocessing import MinMaxScaler\n",
    "\n",
    "# Nur die Merkmale werden standardisiert, daher wird eine Liste erstellt, die nur die Merkmale ohne das Zielmerkmal enthält\n",
    "features = list(df_copy.drop(['clarity'], axis=1).columns)\n",
    "\n",
    "# Skalierung wird an train_set angepasst\n",
    "scaler = MinMaxScaler()\n",
    "scaler.fit(train[features])\n",
    "\n",
    "# Skalierung der Trainingsdaten\n",
    "train_features_scaled = pd.DataFrame(scaler.transform(train[features]), columns=features, index=train.index)\n",
    "# Zusammenfügen der skalierten Merkmale und das Zielmerkmal (nicht skaliert) zu einem Dataframe\n",
    "train_set_scaled = pd.concat([train_features_scaled, train['clarity']], axis=1)\n",
    "\n",
    "# Skalierung der Testdaten\n",
    "test_features_scaled = pd.DataFrame(scaler.transform(test[features]), columns=features, index=test.index)\n",
    "# Zusammenfügen der skalierten Merkmale und das Zielmerkmal (nicht skaliert) zu einem Dataframe\n",
    "test_set_scaled = pd.concat([test_features_scaled, test['clarity']], axis=1)\n",
    "\n",
    "train_set_scaled.head()"
   ]
  },
  {
   "cell_type": "markdown",
   "id": "ed126dfa",
   "metadata": {},
   "source": [
    "Die Ausgabe zeigt bereits, dass sich an den skalierten Merkmalen etwas verändert hat. Es soll erneut durch den Plot überprüft werden:"
   ]
  },
  {
   "cell_type": "markdown",
   "id": "8154c693",
   "metadata": {},
   "source": [
    "<div class=\"alert alert-block alert-success\">\n",
    "&#128187; <b>Arbeitsauftrag:</b> \n",
    "\n",
    "Legen Sie einen Scatterplot Karat gegen Preis, eingefärbt nach Reinheit, einmal für die Trainingsdaten und einmal für die normierten Trainingsdaten an.\n",
    "    \n",
    "</div>"
   ]
  },
  {
   "cell_type": "code",
   "execution_count": null,
   "id": "cbf742a0",
   "metadata": {},
   "outputs": [],
   "source": [
    "# Plot für die ursprünglichen Trainingsdaten"
   ]
  },
  {
   "cell_type": "code",
   "execution_count": null,
   "id": "f2687104",
   "metadata": {},
   "outputs": [],
   "source": [
    "# Plot für die normalisierten Trainingsdaten"
   ]
  },
  {
   "cell_type": "markdown",
   "id": "cc77a65d",
   "metadata": {},
   "source": [
    "<hr style=\"border:1px solid gray\"> </hr>"
   ]
  },
  {
   "cell_type": "markdown",
   "id": "633cf235",
   "metadata": {},
   "source": [
    "## <font color='darkblue'>4. Fazit</font> <a name=\"kap4\"></a>"
   ]
  },
  {
   "cell_type": "markdown",
   "id": "5f01305f",
   "metadata": {},
   "source": [
    "Dieses Notebook hat\n",
    "- einige Schritte des Datenverständnisses und der Datenvorbereitung wiederholt. \n",
    "- die Umformatierung nicht Zahlen-codierter Merkmale in Zahlen-codierte Merkmale gezeigt.\n",
    "- die Umsetzung von Skalierungsverfahren in Python erläutert. "
   ]
  }
 ],
 "metadata": {
  "celltoolbar": "Create Assignment",
  "kernelspec": {
   "display_name": "DaLI-DM",
   "language": "python",
   "name": "python-dali-dm"
  },
  "language_info": {
   "codemirror_mode": {
    "name": "ipython",
    "version": 3
   },
   "file_extension": ".py",
   "mimetype": "text/x-python",
   "name": "python",
   "nbconvert_exporter": "python",
   "pygments_lexer": "ipython3",
   "version": "3.8.8"
  },
  "latex_envs": {
   "LaTeX_envs_menu_present": true,
   "autoclose": false,
   "autocomplete": true,
   "bibliofile": "biblio.bib",
   "cite_by": "apalike",
   "current_citInitial": 1,
   "eqLabelWithNumbers": true,
   "eqNumInitial": 1,
   "hotkeys": {
    "equation": "Ctrl-E",
    "itemize": "Ctrl-I"
   },
   "labels_anchors": false,
   "latex_user_defs": false,
   "report_style_numbering": false,
   "user_envs_cfg": false
  },
  "toc": {
   "base_numbering": 1,
   "nav_menu": {},
   "number_sections": false,
   "sideBar": true,
   "skip_h1_title": true,
   "title_cell": "Table of Contents",
   "title_sidebar": "Contents",
   "toc_cell": false,
   "toc_position": {},
   "toc_section_display": true,
   "toc_window_display": false
  },
  "varInspector": {
   "cols": {
    "lenName": 16,
    "lenType": 16,
    "lenVar": 40
   },
   "kernels_config": {
    "python": {
     "delete_cmd_postfix": "",
     "delete_cmd_prefix": "del ",
     "library": "var_list.py",
     "varRefreshCmd": "print(var_dic_list())"
    },
    "r": {
     "delete_cmd_postfix": ") ",
     "delete_cmd_prefix": "rm(",
     "library": "var_list.r",
     "varRefreshCmd": "cat(var_dic_list()) "
    }
   },
   "types_to_exclude": [
    "module",
    "function",
    "builtin_function_or_method",
    "instance",
    "_Feature"
   ],
   "window_display": false
  }
 },
 "nbformat": 4,
 "nbformat_minor": 5
}
