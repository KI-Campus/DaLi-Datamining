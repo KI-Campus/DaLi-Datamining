{
 "cells": [
  {
   "cell_type": "markdown",
   "id": "346b30f5",
   "metadata": {},
   "source": [
    "# <font color='darkblue'>Modul 6: Übungsmaterial zu k-Means - Wie ergeben sich die besten Trainingsgruppen?</font> &nbsp; <font size='6'>&#9917;</font>"
   ]
  },
  {
   "cell_type": "markdown",
   "id": "ae4e658e",
   "metadata": {},
   "source": [
    "<hr style=\"border:1px solid gray\"> </hr>"
   ]
  },
  {
   "cell_type": "markdown",
   "id": "3c87c8c0",
   "metadata": {},
   "source": [
    "Im zweiten Video dieses Moduls haben Sie gesehen, dass der k-Means ein weitverbreitetes und effizientes Verfahren zur Clusterananlyse ist. Der k-Means soll nun auf einen dreidimensionalen Datensatz angewendet werden und im Anschluss ein weiteres Verfahren zur Bestimmung des k, d.h. der Anzahl der zu bestimmenden Cluster, thematisiert werden. "
   ]
  },
  {
   "cell_type": "markdown",
   "id": "2367ef3f",
   "metadata": {},
   "source": [
    "## <font color='darkblue'>Inhalt</font>\n",
    "\n",
    "\n",
    "1. [Anwendung von k-Means auf einen Fußball-Datensatz](#kap1)  \n",
    "    1.1 [Datensatz einlesen und erforschen](#kap11)  \n",
    "    1.2 [Anwendung von k-Means](#kap12)    \n",
    "    \n",
    "\n",
    "2. [Bestimmung von k mit dem Silhouettenkoeffizienten](#kap2)    \n",
    "    2.1 [Bestimmung des Silhouettenkoeffizienten](#kap21)    \n",
    "    2.2 [Bedeutung des Silhouettenkoeffizienten](#kap22)     \n",
    "    2.3 [Anwendung auf das Fußballbeispiel](#kap23)\n",
    "\n",
    "\n",
    "3. [Fazit](#kap3)"
   ]
  },
  {
   "cell_type": "markdown",
   "id": "e545ac66",
   "metadata": {},
   "source": [
    "<hr style=\"border:1px solid gray\"> </hr>"
   ]
  },
  {
   "cell_type": "markdown",
   "id": "d3ebbfb0",
   "metadata": {},
   "source": [
    "## <font color='darkblue'><p style='margin-bottom:-10px'>1. Anwendung von k-Means auf einen Fußball-Datensatz </p> <a name=\"kap1\"></a>"
   ]
  },
  {
   "cell_type": "markdown",
   "id": "03be3ece",
   "metadata": {},
   "source": [
    "In diesem Beispiel wird k-Means eingesetzt, um möglichst passend Trainingsgruppen beim Fußball zu bilden. Die Grundlage dafür bildet ein selbsterstellter Datensatz, der wichtige Fähigkeiten der einzelnen Spieler enthält. "
   ]
  },
  {
   "cell_type": "markdown",
   "id": "0694b346",
   "metadata": {},
   "source": [
    "### <font color='darkblue'>1.1 Datensatz einlesen und erforschen</font> <a name=\"kap11\"></a>"
   ]
  },
  {
   "cell_type": "markdown",
   "id": "3afcff79",
   "metadata": {},
   "source": [
    "Zunächst werden die benötigten Bibliotheken eingebunden:"
   ]
  },
  {
   "cell_type": "code",
   "execution_count": null,
   "id": "7e1b384f",
   "metadata": {},
   "outputs": [],
   "source": [
    "import numpy as np\n",
    "import matplotlib.pyplot as plt\n",
    "import pandas as pd\n",
    "import seaborn as sns\n",
    "import warnings\n",
    "warnings.filterwarnings('ignore')"
   ]
  },
  {
   "cell_type": "markdown",
   "id": "b76add33",
   "metadata": {},
   "source": [
    "Der folgende Datensatz enthält Daten zu Charakteristiken von 200 Fußballspielern. Der Datensatz wird nun zunächst eingelesen, erste Informationen ausgegeben und Histogramme geplottet: "
   ]
  },
  {
   "cell_type": "code",
   "execution_count": null,
   "id": "3f81c33c",
   "metadata": {},
   "outputs": [],
   "source": [
    "df = pd.read_csv('M6_Uebung_Fussball.csv', sep=',')\n",
    "df.info()"
   ]
  },
  {
   "cell_type": "code",
   "execution_count": null,
   "id": "19ac79c4",
   "metadata": {},
   "outputs": [],
   "source": [
    "df.hist(figsize=(12,9));"
   ]
  },
  {
   "cell_type": "markdown",
   "id": "0bdc0944",
   "metadata": {},
   "source": [
    "Der Datensatz enthält die folgenden Merkmale: "
   ]
  },
  {
   "cell_type": "markdown",
   "id": "3308bb85",
   "metadata": {},
   "source": [
    "<table align='left'>\n",
    "    <thead>\n",
    "        <tr>\n",
    "          <th style=\"text-align:left\">Spaltenname</th>\n",
    "          <th style=\"text-align:left\">Bedeutung</th>\n",
    "          <th style=\"text-align:left\">Weitere Informationen</th>\n",
    "        </tr>\n",
    "    </thead>\n",
    "    <tr>\n",
    "    <td style=\"text-align:left\">100m Sprint</td>\n",
    "    <td style=\"text-align:left\">Zeit über 100m Sprintstrecke</td>\n",
    "    <td style=\"text-align:left\">[s]</td>\n",
    "    </tr>\n",
    "    <tr>\n",
    "    <td style=\"text-align:left\">10km Langlauf</td>\n",
    "    <td style=\"text-align:left\">Zeit über 10km Langlaufstrecke</td>\n",
    "    <td style=\"text-align:left\">[min]</td>\n",
    "    </tr>\n",
    "    <tr>\n",
    "    <td style=\"text-align:left\">Score Dribbling</td>\n",
    "    <td style=\"text-align:left\">Fähigkeiten beim Dribbling</td>\n",
    "    <td style=\"text-align:left\">-</td>\n",
    "    </tr>\n",
    "    <tr>\n",
    "    <td style=\"text-align:left; vertical-align: top\">Fussballer ID</td>\n",
    "    <td style=\"text-align:left; vertical-align: top\">ID Nummer</td>\n",
    "    <td style=\"text-align:left; vertical-align: top\">-</td>\n",
    "    </tr>\n",
    "</table>"
   ]
  },
  {
   "cell_type": "markdown",
   "id": "21e03963",
   "metadata": {},
   "source": [
    "<div class=\"alert alert-block alert-success\">\n",
    "&#128187; <b>Arbeitsauftrag:</b> \n",
    "\n",
    "Um sich einen weiteren Überblick über die Daten zu schaffen, geben Sie die Korrelationsmatrix der Variablen aus. Versuchen Sie außerdem einen Grund dafür zu finden, dass der 100m Sprint und die FussballerID eine hohe Korrelation haben. \n",
    "    \n",
    "Tipp: Geben Sie zur Beantwortung der Frage die letzten 10 Einträge des Datensatzes aus.\n",
    "   \n",
    "</div>"
   ]
  },
  {
   "cell_type": "code",
   "execution_count": null,
   "id": "0dfbecf8",
   "metadata": {},
   "outputs": [],
   "source": [
    "# leeren"
   ]
  },
  {
   "cell_type": "code",
   "execution_count": null,
   "id": "cb4c70b9",
   "metadata": {},
   "outputs": [],
   "source": [
    "# leeren"
   ]
  },
  {
   "cell_type": "markdown",
   "id": "474f46c7",
   "metadata": {},
   "source": [
    "Die FussballerID ist offenbar nicht aussagekräftig für eine weitere Modellierung. Da die Merkmale außer der Ausnahme untereinander nicht korrelieren, werden nun zunächst alle drei Merkmale in einen Plot ausgegeben.  "
   ]
  },
  {
   "cell_type": "code",
   "execution_count": null,
   "id": "6d55acfe",
   "metadata": {},
   "outputs": [],
   "source": [
    "# Erstellen der Grafik\n",
    "fig = plt.figure()\n",
    "ax = fig.add_subplot(111, projection='3d')\n",
    "\n",
    "# Plot der Datenpunkte / Scatterplot\n",
    "ax.scatter(df['100m Sprint'], df['10km Langlauf'], df['Score Dribbling'])\n",
    "\n",
    "# Beschriftung der Achsen\n",
    "ax.set_xlabel('100m Sprint')\n",
    "ax.set_ylabel('10km Langlauf')\n",
    "ax.set_zlabel('Score Dribbling')\n",
    "\n",
    "plt.show()"
   ]
  },
  {
   "cell_type": "markdown",
   "id": "3d702114",
   "metadata": {},
   "source": [
    "Die Daten bilden - anders als in den bisherigen Beispielen - keine sofort ins Auge springenden Cluster. Hier wird k-Means trotzdem gute Dienste leisten. "
   ]
  },
  {
   "cell_type": "markdown",
   "id": "4aba6263",
   "metadata": {},
   "source": [
    "Da die Merkmale wieder sehr unterschiedliche Größenordnungen in ihren Ausprägungen aufweisen, wird vor der nachfolgenden Modellierung zunächst eine Skalierung vorgenommen: "
   ]
  },
  {
   "cell_type": "code",
   "execution_count": null,
   "id": "5ba22966",
   "metadata": {},
   "outputs": [],
   "source": [
    "from sklearn.preprocessing import StandardScaler\n",
    "\n",
    "scaler = StandardScaler()\n",
    "\n",
    "scaler.fit(df)\n",
    "df_scaled = pd.DataFrame(scaler.transform(df),columns=df.columns )\n",
    "\n",
    "print(df_scaled)\n",
    "df=df_scaled"
   ]
  },
  {
   "cell_type": "markdown",
   "id": "28e0397e",
   "metadata": {},
   "source": [
    "### <font color='darkblue'>1.2 Anwendung von k-Means</font> <a name=\"kap12\"></a>"
   ]
  },
  {
   "cell_type": "markdown",
   "id": "9eb62236",
   "metadata": {},
   "source": [
    "Nun sollen Trainingsgruppen zusammengestellt werden, sodass Fußballer mit ähnlichen Eigenschaften in einer Gruppe sind und das Training auf ihre Stärken und Schwächen abgestimmt werden kann. Da nicht festgelegt ist, wie viele Trainingsgruppen es geben soll, ist die erste Aufgabe die Bestimmung der besten Anzahl."
   ]
  },
  {
   "cell_type": "markdown",
   "id": "893dfed6",
   "metadata": {},
   "source": [
    "Zunächst einmal wird die Ellenbogenmethode angewendet, um das beste k zur Anwendung des k-Means-Verfahren zu bestimmen."
   ]
  },
  {
   "cell_type": "code",
   "execution_count": null,
   "id": "30c2d462",
   "metadata": {},
   "outputs": [],
   "source": [
    "from sklearn.cluster import KMeans\n",
    "\n",
    "y = []\n",
    "for i in range(1, 15):\n",
    "    kmeans = KMeans(n_clusters = i, random_state = 0)\n",
    "    kmeans.fit(df)\n",
    "    y.append(kmeans.inertia_)\n",
    "\n",
    "plt.plot(range(1, 15), y)\n",
    "plt.title('Ellenbogenplot', fontsize = 20)\n",
    "plt.xlabel('Anzahl Cluster')\n",
    "plt.ylabel('Inertia')\n",
    "plt.xticks([1,2,3,4,5,6,7,8,9,10,11,12,13,14,15])\n",
    "plt.grid()\n",
    "plt.show()"
   ]
  },
  {
   "cell_type": "markdown",
   "id": "f5a38c06",
   "metadata": {},
   "source": [
    "<div class=\"alert alert-block alert-success\">\n",
    "&#128187; <b>Arbeitsauftrag:</b> \n",
    "\n",
    "Das Ergebnis ist nicht völlig eindeutig (kein klarer Knick!). Entscheiden Sie sich für einen Wert für k und wenden Sie für dieses k das k-Means-Verfahren an. Visualisieren Sie die zugehörige Clusterung.\n",
    "\n",
    "Tipp: Zum Plotten definieren Sie eine Variable `y_pred` und nutzen den vorgegebenen Baustein.\n",
    "</div>"
   ]
  },
  {
   "cell_type": "code",
   "execution_count": null,
   "id": "d35fe66f",
   "metadata": {},
   "outputs": [],
   "source": [
    "# Ergänzen Sie den Code um das passende k\n",
    "k = #\n",
    "kmeans = KMeans(n_clusters = k, random_state = 0)\n",
    "kmeans.fit(df)"
   ]
  },
  {
   "cell_type": "code",
   "execution_count": null,
   "id": "33311b17",
   "metadata": {},
   "outputs": [],
   "source": [
    "# Definieren Sie eine Variable y_pred, die in dem nachfolgenden Code als color-Vektor übergeben wird"
   ]
  },
  {
   "cell_type": "code",
   "execution_count": null,
   "id": "08280d1b",
   "metadata": {},
   "outputs": [],
   "source": [
    "# Erstellen der Grafik\n",
    "fig = plt.figure()\n",
    "ax = fig.add_subplot(111, projection='3d')\n",
    "\n",
    "# Plot der Datenpunkte / Scatterplot\n",
    "ax.scatter(df['100m Sprint'], df['10km Langlauf'], df['Score Dribbling'], c = y_pred)\n",
    "\n",
    "# Beschriftung der Achsen\n",
    "ax.set_xlabel('100m Sprint')\n",
    "ax.set_ylabel('10km Langlauf')\n",
    "ax.set_zlabel('Score Dribbling')\n",
    "\n",
    "plt.show()"
   ]
  },
  {
   "cell_type": "markdown",
   "id": "0f3d0826",
   "metadata": {},
   "source": [
    "<hr style=\"border:1px solid gray\"> </hr>"
   ]
  },
  {
   "cell_type": "markdown",
   "id": "ff675180",
   "metadata": {},
   "source": [
    "## <font color='darkblue'>2. Bestimmung von k mit dem Silhouettenkoeffizienten</font> <a name=\"kap2\"></a>"
   ]
  },
  {
   "cell_type": "markdown",
   "id": "2fab079c",
   "metadata": {},
   "source": [
    "Eine Schwierigkeit des k-Means liegt in der Vorgabe des k, d.h. der Anzahl der zu bestimmenden Cluster. Eine Lösungsmethode, die bereits thematisiert wurde, ist die Ellenbogenmethode. Wie im vorhergehenden Beispiel zu sehen ist, ist diese Methode nicht immer eindeutig. \n",
    "\n",
    "Hier wird nun eine andere Methode gezeigt, deren Berechnung zwar aufwendiger ist, bei der die Bestimmung des k aber einfacher gelingt. Dies ist die Berechnung des Silhouettenkoeffizienten. "
   ]
  },
  {
   "cell_type": "markdown",
   "id": "de56c95f",
   "metadata": {},
   "source": [
    "Zunächst wird der Datensatz aus dem zweiten Video erzeugt: "
   ]
  },
  {
   "cell_type": "code",
   "execution_count": null,
   "id": "9fc4ad7d",
   "metadata": {},
   "outputs": [],
   "source": [
    "from sklearn import cluster, datasets, mixture\n",
    "blob_centers = np.array(\n",
    "    [[1,  2],\n",
    "     [4 , 5],\n",
    "     [3,  1],\n",
    "     [2.2,  2.8],\n",
    "     ])\n",
    "blob_std = np.array([0.3, 0.2, 0.4, 0.2])\n",
    "X_sp, y_sp = datasets.make_blobs(n_samples=500, centers=blob_centers, cluster_std=blob_std, random_state=7)  "
   ]
  },
  {
   "cell_type": "markdown",
   "id": "0fcd5be2",
   "metadata": {},
   "source": [
    "### <font color='darkblue'>2.1 Bestimmung des Silhouettenkoeffizienten</font> <a name=\"kap21\"></a>"
   ]
  },
  {
   "cell_type": "markdown",
   "id": "458e9e31",
   "metadata": {},
   "source": [
    "Der Silhouettenkoeffizient lässt sich mit einem Befehl aus der scikit-learn Bibliothek bestimmen. Hier wird zunächst die \"optimale\" Clusterung aus dem Videonotebook genutzt:"
   ]
  },
  {
   "cell_type": "code",
   "execution_count": null,
   "id": "ed0b57bc",
   "metadata": {},
   "outputs": [],
   "source": [
    "from sklearn.metrics import silhouette_samples, silhouette_score\n",
    "\n",
    "k = 4\n",
    "kmeans_sp = KMeans(n_clusters=k, random_state=0)\n",
    "\n",
    "y_sp_pred = kmeans_sp.fit_predict(X_sp)\n",
    "silhouette = silhouette_score(X_sp, y_sp_pred)\n",
    "print(\"Für k =\", k, \"Cluster beträgt der Silhouettenkoeffizient:\", silhouette)"
   ]
  },
  {
   "cell_type": "markdown",
   "id": "927af2b7",
   "metadata": {},
   "source": [
    "Der Silhouettenkoeffizient liegt immer zwischen -1 und 1. Je näher er an 1 liegt, desto besser ist die Clusterung. "
   ]
  },
  {
   "cell_type": "markdown",
   "id": "f53d85bf",
   "metadata": {},
   "source": [
    "### <font color='darkblue'>2.2 Bedeutung des Silhouettenkoeffizienten</font> <a name=\"kap22\"></a>"
   ]
  },
  {
   "cell_type": "markdown",
   "id": "9ede86ce",
   "metadata": {},
   "source": [
    "Um zu verstehen, was der Silhouettenkoeffizient berechnet, wird zunächst der Silhouettenplot betrachtet. Er visualisiert die Aufteilung der Cluster. Dies ist besonders bei höherdimensionalen Daten hilfreich, bei denen eine optische Kontrolle über den Scatterplot nicht möglich ist. \n",
    "\n",
    "Der Silhouettenplot wird im folgenden Code umgesetzt:"
   ]
  },
  {
   "cell_type": "markdown",
   "id": "4e446b8b",
   "metadata": {},
   "source": [
    "<div class=\"alert alert-block alert-info\">\n",
    "&#128204; <b>Anmerkung:</b> Führen Sie die zwei Codezellen zunächst nur aus, um dann den zugehörigen, darunterliegenden Text zu lesen. Hier folgt dann ein Arbeitsauftrag der sich mit dem Verständnis des Codes befasst."
   ]
  },
  {
   "cell_type": "code",
   "execution_count": null,
   "id": "b0247e58",
   "metadata": {},
   "outputs": [],
   "source": [
    "#Code im Orginal aus: https://scikit-learn.org/stable/auto_examples/cluster/plot_kmeans_silhouette_analysis.html#sphx-glr-auto-examples-cluster-plot-kmeans-silhouette-analysis-py\n",
    "#Hier leicht verändert\n",
    "\n",
    "import matplotlib.cm as cm\n",
    "\n",
    "def plot_silhouette(X, y_pred, kmeans, k):\n",
    "    fig, (ax1, ax2) = plt.subplots(1, 2)\n",
    "    fig.set_size_inches(18, 7)\n",
    "\n",
    "    # Das linke Bild ist der Silhouettenplot.\n",
    "    # Der Silhouettenkoeffizient kann Werte zwischen -1 und 1 annehmen.\n",
    "    # Die Anzeige wird auf den gängigen Bereich zwischen [-0.1, 1] beschränkt.\n",
    "    ax1.set_xlim([-0.1, 1])\n",
    "    # Das (k+1)*10 fügt leeren Raum zwischen die Silhouettenplots von zwei Clustern ein, damit man sie gut unterscheiden kann. \n",
    "    ax1.set_ylim([0, len(X) + (k + 1) * 10])\n",
    "\n",
    "    # Für jeden Punkt der Stichprobe wird die Silhouette berechnet.\n",
    "    sample_silhouette_values = silhouette_samples(X, y_pred)\n",
    "\n",
    "    y_lower = 10\n",
    "    for i in range(k):\n",
    "        # Die Silhouetten für alle Punkte, die zum Cluster i gehören, werden zusammengefasst und der Größe nach sortiert.\n",
    "        ith_cluster_silhouette_values = sample_silhouette_values[y_pred == i]\n",
    "\n",
    "        ith_cluster_silhouette_values.sort()\n",
    "\n",
    "        size_cluster_i = ith_cluster_silhouette_values.shape[0]\n",
    "        y_upper = y_lower + size_cluster_i\n",
    "\n",
    "        color = cm.nipy_spectral(float(i) / k)\n",
    "        ax1.fill_betweenx(\n",
    "            np.arange(y_lower, y_upper),\n",
    "            0,\n",
    "            ith_cluster_silhouette_values,\n",
    "            facecolor=color,\n",
    "            edgecolor=color,\n",
    "            alpha=0.7,\n",
    "        )\n",
    "\n",
    "        # Die Silhouettenplots werden in der Mitte mit den Clusternummern beschriftet.\n",
    "        ax1.text(-0.05, y_lower + 0.5 * size_cluster_i, str(i))\n",
    "\n",
    "        # Ein neues y_lower für den Start der nächsten Silhouette wird berechnet. \n",
    "        y_lower = y_upper + 10  # 10 for the 0 samples\n",
    "\n",
    "    ax1.set_title(\"Silhouettenplot für die verschiedenen Cluster\")\n",
    "    ax1.set_xlabel(\"Werte der Silhouettenkoeffizienten\")\n",
    "    ax1.set_ylabel(\"Cluster Nummer\")\n",
    "\n",
    "    # Vertikale Linie für den Silhouettenkoeffizienten, d.h. den durchschnittlichen Silhouettenwert über alle Punkte\n",
    "    ax1.axvline(x=silhouette_score(X_sp, y_sp_pred), color=\"red\", linestyle=\"--\")\n",
    "\n",
    "    ax1.set_yticks([])  # keine Zahlen an der y-Achse\n",
    "    ax1.set_xticks([-0.1, 0, 0.2, 0.4, 0.6, 0.8, 1])\n",
    "\n",
    "    # Das rechte Bild zeigt die aktuell berechneten Cluster. \n",
    "    colors = cm.nipy_spectral(y_pred.astype(float) / k)\n",
    "    ax2.scatter(\n",
    "        X[:, 0], X[:, 1], marker=\".\", s=30, lw=0, alpha=0.7, c=colors, edgecolor=\"k\"\n",
    "    )\n",
    "\n",
    "    # Beschriftung der Cluster\n",
    "    centers = kmeans.cluster_centers_\n",
    "    # Weiße Kreise um die Clusterzentren\n",
    "    ax2.scatter(\n",
    "        centers[:, 0],\n",
    "        centers[:, 1],\n",
    "        marker=\"o\",\n",
    "        c=\"white\",\n",
    "        alpha=1,\n",
    "        s=200,\n",
    "        edgecolor=\"k\",\n",
    "    )\n",
    "\n",
    "    for i, c in enumerate(centers):\n",
    "        ax2.scatter(c[0], c[1], marker=\"$%d$\" % i, alpha=1, s=50, edgecolor=\"k\")\n",
    "\n",
    "    ax2.set_title(\"Visualisierung der geclusterten Daten\")\n",
    "    ax2.set_xlabel(\"Wertebereich des ersten Merkmals\")\n",
    "    ax2.set_ylabel(\"Wertebereich des zweiten Merkmals\")\n",
    "\n",
    "    plt.suptitle(\n",
    "        \"Silhouetten-Analyse für k-Means Clusteranalyse mit Anzahl der Cluster k = %d\"\n",
    "        % k,\n",
    "        fontsize=14,\n",
    "        fontweight=\"bold\",\n",
    "    )\n",
    "\n",
    "    plt.show()"
   ]
  },
  {
   "cell_type": "code",
   "execution_count": null,
   "id": "fa2a2f6b",
   "metadata": {},
   "outputs": [],
   "source": [
    "plot_silhouette(X_sp, y_sp_pred, kmeans_sp, 4) "
   ]
  },
  {
   "cell_type": "markdown",
   "id": "5dfb5560",
   "metadata": {},
   "source": [
    "Die Berechnung des Silhouttenkoeffizienten erfolgt in mehreren Schritten:\n",
    "\n",
    "1. Für jeden Punkt wird seine Distanz zu seinem eigenen Cluster berechnet. Dies ist das arithmetische Mittel über die Abstände zu allen anderen Punkten seines Clusters.\n",
    "\n",
    "\n",
    "2. Für jeden Punkt wird seine Distanz zu seinem nächstgelegenen Cluster berechnet. Dies ist das arithmetische Mittel der Abstände zu allen Punkten des nächstgelegenen Clusters.\n",
    "\n",
    "\n",
    "3. Für jeden Punkt wird seine Silhouette berechnet. Dies ist die Differenz aus seiner Distanz zum nächstgelegenen Cluster und seiner Distanz zum eigenen Cluster, geteilt durch den größeren der beiden Werten. Hieraus folgt, dass die Silhouette eines Punktes immer Werte zwischen -1 und 1 annimmt:\n",
    "    - Silhouette nahe 1 bedeutet, dass der Punkt in seinem Cluster liegt. \n",
    "    - Silhouette nahe 0 bedeutet, dass der Punkt fast so weit vom eigenen Cluster entfernt ist wie vom nächstgelegenen Cluster. \n",
    "    - Eine negative Silhouette bedeutet, dass der Punkt weiter vom eigenen Cluster entfernt ist als vom nächstgelegenen Cluster (Achtung: Nicht vom Zentrum, sondern von allen Punkten. Sonst wäre er im anderen Cluster.)\n",
    "    \n",
    "    \n",
    "4. Der Silhouettenkoeffizient ist dann das arithmetische Mittel über die Silhouetten aller Punkte. "
   ]
  },
  {
   "cell_type": "markdown",
   "id": "13d137bb",
   "metadata": {},
   "source": [
    "Für den Silhouettenplot werden die Silhouetten der Punkte eines Clusters der Größe nach geordnet und als Balken nebeneinander geplottet. Auf diese Weise entsteht meistens wie oben links eine charakteristische Messerform. Der Silhouettenkoeffizient entspricht der roten gestrichelten Linie in der linken Darstellung.\n",
    "\n",
    "Auf der rechten Seite ist zur Orientierung die zugehörige Clusterung dargestellt. \n",
    "\n",
    "Der Silhouettenkoeffizient wird also umso größer, je näher die Punkte eines Clusters beieinander liegen und desto weiter sie von den anderen Clustern entfernt liegen. Insgesamt bedeutet dies, wie oben bereits notiert, dass ein hoher Silhouettenkoeffizient eine gute Clusterung anzeigt."
   ]
  },
  {
   "cell_type": "markdown",
   "id": "514d1cc4",
   "metadata": {},
   "source": [
    "<div class=\"alert alert-block alert-success\"> <a name=\"p1\"></a>\n",
    "&#128187; <b>Arbeitsauftrag:</b> \n",
    "\n",
    "Lesen Sie den obigen Code und die Kommentierung durch und beantworten Sie die folgenden Fragen: \n",
    "    \n",
    "1. Was passiert in der Schleife <span style='font-family:monospace'>for i in range(k): ... </span>?  \n",
    "2. In welcher Zeile wird die Silhouette eines Punktes berechnet?\n",
    "3. An welcher Stelle wird der Silhouettenkoeffizient bestimmt?\n",
    "     \n",
    "      \n",
    "<font size=\"1\">Die Antworten zu diesen Fragen finden Sie [am Ende](#answers) des Notebooks.</font>                                                                                                                     \n",
    "</div>"
   ]
  },
  {
   "cell_type": "markdown",
   "id": "ad86ddd5",
   "metadata": {},
   "source": [
    "Wie zu sehen, beträgt der Silhouettenkoeffizient im Beispiel bei 4 Clustern etwa 0,74. Wenn eine andere Anzahl an Clustern vorgegeben wird, wird der Wert sinken. Probieren Sie es aus!\n",
    "\n",
    "Auch die Form der \"Messer\" ist aufschlussreich:\n",
    "- Ein flaches/stumpfes Messer zeigt an, dass die Punkte des Clusters alle eng beieinander liegen. Das Cluster ist kompakt. Dies ist z.B. bei Cluster 1 der Fall. \n",
    "- Bei einem scharfen Messer liegen manche Punkte nahe beieinander, andere haben aber einen größeren Abstand zu den anderen Punkten. Das Cluster ist nicht kompakt und ein Teil der Punkte liegt recht nahe am nächsten Cluster. Cluster 2 und 3 haben diese Form."
   ]
  },
  {
   "cell_type": "markdown",
   "id": "4e926cb8",
   "metadata": {},
   "source": [
    "<div class=\"alert alert-block alert-success\">\n",
    "&#128187; <b>Arbeitsauftrag:</b> \n",
    "\n",
    "Im gelben Cluster sind wenige negative Silhouetten zu erkennen. Überlegen Sie, zu welchen Punkten der rechten Grafik sie gehören.  \n",
    "    \n",
    "</div>"
   ]
  },
  {
   "cell_type": "markdown",
   "id": "efa963ca",
   "metadata": {},
   "source": [
    "### <font color='darkblue'>2.3 Anwendung auf das Fußballbeispiel</font> <a name=\"kap23\"></a>"
   ]
  },
  {
   "cell_type": "markdown",
   "id": "2149c861",
   "metadata": {},
   "source": [
    "Nun soll der Silhouettenplot auch für das oben betrachtete Beispiel erstellt werden. \n",
    "\n",
    "Da es sich bei dem Beispiel um einen dreidimensionalen Datensatz handelt, wird aus dem Code von oben der Teil des zweidimensionalen Plots auf der rechten Seite herausgelöscht. "
   ]
  },
  {
   "cell_type": "code",
   "execution_count": null,
   "id": "bcc1dc81",
   "metadata": {},
   "outputs": [],
   "source": [
    "#Code orginal aus: https://scikit-learn.org/stable/auto_examples/cluster/plot_kmeans_silhouette_analysis.html#sphx-glr-auto-examples-cluster-plot-kmeans-silhouette-analysis-py\n",
    "#hier überarbeitet\n",
    "\n",
    "def plot_silhouette_nd(X, y_pred, kmeans, k):\n",
    "    fig = plt.figure()\n",
    "    ax = fig.add_subplot(111)\n",
    "\n",
    "    ax.set_xlim([-0.1, 1])\n",
    "    ax.set_ylim([0, len(X) + (k + 1) * 10])\n",
    "\n",
    "    sample_silhouette_values = silhouette_samples(X, y_pred)\n",
    "\n",
    "    y_lower = 10\n",
    "    for i in range(k):\n",
    "        ith_cluster_silhouette_values = sample_silhouette_values[y_pred == i]\n",
    "\n",
    "        ith_cluster_silhouette_values.sort()\n",
    "\n",
    "        size_cluster_i = ith_cluster_silhouette_values.shape[0]\n",
    "        y_upper = y_lower + size_cluster_i\n",
    "\n",
    "        color = cm.nipy_spectral(float(i) / k)\n",
    "        ax.fill_betweenx(\n",
    "            np.arange(y_lower, y_upper),\n",
    "            0,\n",
    "            ith_cluster_silhouette_values,\n",
    "            facecolor=color,\n",
    "            edgecolor=color,\n",
    "            alpha=0.7,\n",
    "        )\n",
    "\n",
    "        ax.text(-0.05, y_lower + 0.5 * size_cluster_i, str(i))\n",
    "\n",
    "        y_lower = y_upper + 10 \n",
    "\n",
    "    ax.set_title(\"Silhouetten-Analyse für k-Means Clusteranalyse mit Anzahl der Cluster k = %d\" % k,)\n",
    "    ax.set_xlabel(\"Die Werte des Silhouettenkoeffizienten\")\n",
    "    ax.set_ylabel(\"Cluster Nummer\")\n",
    "\n",
    "    ax.axvline(x=silhouette_score(X, y_pred), color=\"red\", linestyle=\"--\")\n",
    "\n",
    "    ax.set_yticks([])  \n",
    "    ax.set_xticks([-0.1, 0, 0.2, 0.4, 0.6, 0.8, 1])\n",
    "\n",
    "    plt.show()"
   ]
  },
  {
   "cell_type": "markdown",
   "id": "92152a0b",
   "metadata": {},
   "source": [
    "<div class=\"alert alert-block alert-success\">\n",
    "&#128187; <b>Arbeitsauftrag:</b> \n",
    "\n",
    "Erstellen Sie den Silhouettenplot, indem Sie die Eingabevariablen der Funktion `plot_silhouette` in der nachfolgenden Zelle ergänzen. \n",
    "  \n",
    "</div>"
   ]
  },
  {
   "cell_type": "markdown",
   "id": "84aa1694",
   "metadata": {},
   "source": [
    "<div class=\"alert alert-block alert-info\">\n",
    "&#128204; <b>Anmerkung:</b>\n",
    "\n",
    "Da unklar ist, ob Sie `y_pred` oben korrekt belegt haben, wird dieses hier neu definiert. Stimmen die Definitionen überein, haben Sie die obige Aufgabe richtig gelöst.\n",
    "\n",
    "</div>"
   ]
  },
  {
   "cell_type": "code",
   "execution_count": null,
   "id": "e9a14429",
   "metadata": {},
   "outputs": [],
   "source": [
    "y_pred = kmeans.fit_predict(df)"
   ]
  },
  {
   "cell_type": "code",
   "execution_count": null,
   "id": "a218ae4e",
   "metadata": {},
   "outputs": [],
   "source": [
    "# Ergänzen Sie die Eingabevariablen\n",
    "plot_silhouette_nd(#, #, #)"
   ]
  },
  {
   "cell_type": "markdown",
   "id": "e2c42044",
   "metadata": {},
   "source": [
    "Wie interpretieren Sie diesen Plot?\n",
    "Ist die Aufteilung in drei Cluster geeignet für diese Datenmenge?\n",
    "\n",
    "Eher nicht denn die \"Messer\" von Cluster 0 und 1 sind scharf. Der Silhouettenkoeffizient liegt nur bei etwa 0,4."
   ]
  },
  {
   "cell_type": "markdown",
   "id": "d8a17b8a",
   "metadata": {},
   "source": [
    "<div class=\"alert alert-block alert-success\">\n",
    "&#128187; <b>Arbeitsauftrag:</b>   \n",
    "    \n",
    "Erstellen Sie analog zur Ellenbogenkurve eine Grafik, in der Sie auf der x-Achse k (variierend zwischen 2 und 8) auftragen und auf der y-Achse den Wert des zugehörigen Silhouettenkoeffizienten. \n",
    "    \n",
    "Wählen Sie anschließend das beste k aus und visualisieren Sie die zugehörige Clusterung.\n",
    "\n",
    "</div>"
   ]
  },
  {
   "cell_type": "code",
   "execution_count": null,
   "id": "4cad5294",
   "metadata": {},
   "outputs": [],
   "source": [
    "# Ergänzen Sie den Code der Schleife\n",
    "silhouette = []\n",
    "\n",
    "for k in range(2,8):\n",
    "    #\n",
    "    #\n",
    "    #\n",
    "    \n",
    "plt.plot(number_clusters,silhouette_avg, 'o' )\n",
    "plt.xlabel('Anzahl der Cluster (k)', labelpad=10)\n",
    "plt.ylabel('Silhouettenkoeffizient', labelpad=10)\n",
    "plt.grid()"
   ]
  },
  {
   "cell_type": "code",
   "execution_count": null,
   "id": "7eea894c",
   "metadata": {},
   "outputs": [],
   "source": [
    "# Ergänzen Sie das ausgewählte k\n",
    "\n",
    "k = #\n",
    "kmeans = KMeans(n_clusters = k, random_state = 0)\n",
    "kmeans.fit(df)\n",
    "\n",
    "y_pred = kmeans.fit_predict(df)\n",
    "\n",
    "# Erstellen der Grafik\n",
    "fig = plt.figure()\n",
    "ax = fig.add_subplot(111, projection='3d')\n",
    "\n",
    "# Plot der Datenpunkte / Scatterplot\n",
    "ax.scatter(df['100m Sprint'], df['10km Langlauf'], df['Score Dribbling'], c = y_pred)\n",
    "\n",
    "# Beschriftung der Achsen\n",
    "ax.set_xlabel('100m Sprint')\n",
    "ax.set_ylabel('10km Langlauf')\n",
    "ax.set_zlabel('Score Dribbling')\n",
    "\n",
    "plt.show()"
   ]
  },
  {
   "cell_type": "markdown",
   "id": "b125c022",
   "metadata": {},
   "source": [
    "Der Silhouettenplot ergibt k=2 als günstigste Anzahl der Cluster. Hier ist aber nun erkennbar, dass auch k=7 eine gute Teilung ergeben würde. Dies war auf dem Ellenbogenplot nicht zu erkennen. "
   ]
  },
  {
   "cell_type": "markdown",
   "id": "a211779a",
   "metadata": {},
   "source": [
    "<hr style=\"border:1px solid gray\"> </hr>"
   ]
  },
  {
   "cell_type": "markdown",
   "id": "a21acb69",
   "metadata": {},
   "source": [
    "## <font color='darkblue'>3. Fazit</font> <a name=\"kap3\"></a>"
   ]
  },
  {
   "cell_type": "markdown",
   "id": "5f9c8a57",
   "metadata": {},
   "source": [
    "Dieses Notebook hat:\n",
    "- die Anwendung des k-Means-Algorithmus auf höherdimensionale Daten gezeigt.\n",
    "- Silhouettenplot und seine Interpretation thematisiert.\n",
    "- die Bestimmung des besten k mit dem Silhouettenkoeffizienten gezeigt.\n"
   ]
  },
  {
   "cell_type": "markdown",
   "id": "a1052bf0",
   "metadata": {},
   "source": [
    "<hr style=\"border:1px solid gray\"> </hr>\n",
    "<hr style=\"border:8px solid gray\"> </hr>"
   ]
  },
  {
   "cell_type": "markdown",
   "id": "38387f34",
   "metadata": {},
   "source": [
    "<div class=\"alert alert-block alert-warning\"> <a name=\"answers\"></a>\n",
    "    &#128161; <b>Antworten:</b>  \n",
    "\n",
    "1. Was passiert in der Schleife <span style='font-family:monospace'>for i in range(k): ... </span>?  \n",
    "    <br>*Es werden die einzelnen Cluster durchlaufen.*\n",
    "2. In welcher Zeile wird die Silhouette eines Punktes berechnet?\n",
    "    <br>*In der Zeile nach dem Schleifenbeginn:* <span style='font-family:monospace'>ith_cluster_silhouette_values = sample_silhouette_values[y_pred == i]</span>\n",
    "3. An welcher Stelle wird der Silhouettenkoeffizient bestimmt?\n",
    "    <br>*Er wird erst in der Zeile* <span style='font-family:monospace'>ax1.axvline(x=silhouette_score(X_sp, y_sp_pred), color=\"red\", linestyle=\"--\")</span> *berechnet.*  \n",
    "\n",
    "<font size=\"1\">&emsp;[Zurück](#p1).</font>\n",
    "</div>"
   ]
  }
 ],
 "metadata": {
  "kernelspec": {
   "display_name": "Python 3",
   "language": "python",
   "name": "python3"
  },
  "language_info": {
   "codemirror_mode": {
    "name": "ipython",
    "version": 3
   },
   "file_extension": ".py",
   "mimetype": "text/x-python",
   "name": "python",
   "nbconvert_exporter": "python",
   "pygments_lexer": "ipython3",
   "version": "3.8.8"
  },
  "latex_envs": {
   "LaTeX_envs_menu_present": true,
   "autoclose": false,
   "autocomplete": true,
   "bibliofile": "biblio.bib",
   "cite_by": "apalike",
   "current_citInitial": 1,
   "eqLabelWithNumbers": true,
   "eqNumInitial": 1,
   "hotkeys": {
    "equation": "Ctrl-E",
    "itemize": "Ctrl-I"
   },
   "labels_anchors": false,
   "latex_user_defs": false,
   "report_style_numbering": false,
   "user_envs_cfg": false
  },
  "toc": {
   "base_numbering": 1,
   "nav_menu": {},
   "number_sections": false,
   "sideBar": true,
   "skip_h1_title": true,
   "title_cell": "Table of Contents",
   "title_sidebar": "Contents",
   "toc_cell": false,
   "toc_position": {},
   "toc_section_display": true,
   "toc_window_display": false
  },
  "varInspector": {
   "cols": {
    "lenName": 16,
    "lenType": 16,
    "lenVar": 40
   },
   "kernels_config": {
    "python": {
     "delete_cmd_postfix": "",
     "delete_cmd_prefix": "del ",
     "library": "var_list.py",
     "varRefreshCmd": "print(var_dic_list())"
    },
    "r": {
     "delete_cmd_postfix": ") ",
     "delete_cmd_prefix": "rm(",
     "library": "var_list.r",
     "varRefreshCmd": "cat(var_dic_list()) "
    }
   },
   "types_to_exclude": [
    "module",
    "function",
    "builtin_function_or_method",
    "instance",
    "_Feature"
   ],
   "window_display": false
  }
 },
 "nbformat": 4,
 "nbformat_minor": 5
}
