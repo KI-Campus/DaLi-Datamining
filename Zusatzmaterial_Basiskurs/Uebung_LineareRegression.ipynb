{
 "cells": [
  {
   "cell_type": "markdown",
   "id": "8c669492",
   "metadata": {},
   "source": [
    "# Lineare Regression\n",
    "\n",
    "### DaLI &ndash; KI-Campus\n",
    "#### Prof. Dr. Richard Hirsch, 17.03.2022"
   ]
  },
  {
   "cell_type": "markdown",
   "id": "d5e4174e",
   "metadata": {},
   "source": [
    "## Funktionsgleichung"
   ]
  },
  {
   "cell_type": "code",
   "execution_count": null,
   "id": "b69423af",
   "metadata": {},
   "outputs": [],
   "source": [
    "from matplotlib import pyplot as plt\n",
    "from matplotlib import cm\n",
    "\n",
    "%matplotlib notebook"
   ]
  },
  {
   "cell_type": "code",
   "execution_count": null,
   "id": "9190d433",
   "metadata": {},
   "outputs": [],
   "source": [
    "run = 0"
   ]
  },
  {
   "cell_type": "code",
   "execution_count": null,
   "id": "606ac2b6",
   "metadata": {},
   "outputs": [],
   "source": [
    "α0 = 0     # Achsenabschnitt\n",
    "α1 = 2     # Steigung\n",
    "\n",
    "fig, ax = plt.subplots(figsize = (9, 6))\n",
    "\n",
    "ax.set_xlabel('x')\n",
    "ax.set_ylabel('y')\n",
    "ax.set_axis_off()\n",
    "\n",
    "# Funktionsgraph (Steigung: 2)\n",
    "ax.plot((-2, 10), (α0 - 2*α1, α0 + 10*α1), color = 'black')\n",
    "\n",
    "# Punkt\n",
    "ax.plot(0, α0, color = 'red', marker = 'o', markersize = 10)\n",
    "\n",
    "# Steigung\n",
    "ax.arrow(4, α0 + 4*α1, 2, 2*α1, color = 'red', width = 0.15)\n",
    "\n",
    "# kartesisches Koordinatensystem\n",
    "if run > 0:\n",
    "    ax.set_axis_on()\n",
    "    # Steigungsdreieck\n",
    "    ax.arrow(4, α0 + 4*α1, 2, 0, color = 'gray')\n",
    "    ax.arrow(6, α0 + 4*α1, 0, 2*α1, color = 'gray')\n",
    "    ax.text(5, α0 + 4*α1, r'$\\Delta x$', verticalalignment = 'top', horizontalalignment = 'center', fontsize = 14)\n",
    "    ax.text(6, α0 + 5*α1, r'$\\Delta y = \\alpha_1\\cdot\\Delta x$', verticalalignment = 'center', fontsize = 14)\n",
    "\n",
    "run += 1"
   ]
  },
  {
   "cell_type": "markdown",
   "id": "5dd1f4b7",
   "metadata": {},
   "source": [
    "### zur Erinnerung\n",
    "\n",
    "- Eine Gerade ist durch ihre *Steigung* und *einen Punkt* eindeutig bestimmt.\n",
    "- In einem kartesischen Koordinatensystem kann die Gerade als Graph eines Polynoms 1.&nbsp;Grades beschrieben werden: $$y = \\alpha_0 + \\alpha_1 x$$\n",
    "- $\\alpha_0$ ist der Funktionswert am Punkt $x = 0$ (*$y$-Achsenabschnitt*).\n",
    "- $\\alpha_1$ ist die Steigung."
   ]
  },
  {
   "cell_type": "markdown",
   "id": "5f9b4fba",
   "metadata": {},
   "source": [
    "### Messdaten\n",
    "\n",
    "Daten aus Messungen sind fehlerbehaftet; die Datenpunkte liegen nicht genau auf einer Geraden.\n",
    "\n",
    "$$\n",
    "  y_i = \\alpha_0 + \\alpha_1 x_i + \\epsilon_i,\\qquad\\text{für $i\\in\\{1, \\ldots, n\\}$}\n",
    "$$\n",
    "\n",
    "Die Fehler sind (in der Regel) normalverteilt: \n",
    "$$\n",
    "  \\epsilon_i \\sim \\mathcal{N}(0, \\sigma_\\epsilon)\n",
    "$$"
   ]
  },
  {
   "cell_type": "markdown",
   "id": "f23bd773",
   "metadata": {},
   "source": [
    "### Modelldaten\n",
    "\n",
    "Wir leisten uns den Luxus, bei der Bestimmung von Schätzwerten für $\\alpha_0$ und $\\alpha_1$ &mdash; wir nennen sie  $\\beta_0$ und $\\beta_1$ &mdash; mit Modelldaten zu arbeiten, die wir selbst durch eine *Simulation* aus einem Paar vorgegebener Parameter $\\alpha_0$ und $\\alpha_1$ erzeugen. Wir kennen also das richtige Ergebnis schon vorher, und können unsere Verfahren entsprechend bewerten.\n",
    "\n",
    "Dazu berechnen wir zu einem vorgegebenen Satz von $x$-Werten die entsprechenden $y$-Werte und beaufschlagen sie mit einem kleinen Fehler&nbsp;$\\epsilon$. Dieses $\\epsilon$ ist *normalverteilt* mit einem Mittelwert von&nbsp;0 und einer Standdardabweichung von $\\sigma_\\epsilon$.\n",
    "$$\n",
    "  y_i = \\alpha_0 + \\alpha_1 x_i + \\epsilon,\\qquad\\text{für $i\\in\\{1, \\ldots, n\\}$}\n",
    "$$"
   ]
  },
  {
   "cell_type": "markdown",
   "id": "e5718a57",
   "metadata": {},
   "source": [
    "(Zur Simulation der Fehler können wir die Funktion `default_rng` aus der `numpy`-Bibliothek verwenden. Sie liefert einen Generator, der Zahlenfolgen liefert, die sich wie Zufallszahlen verhalten. Im Gegensatz zu echten Zufallszahlen können Sie aber mit Hilfe des Parameters `seed` reproduziert werden.)"
   ]
  },
  {
   "cell_type": "code",
   "execution_count": null,
   "id": "462725f6",
   "metadata": {},
   "outputs": [],
   "source": [
    "import numpy as np\n",
    "\n",
    "rng = np.random.default_rng(seed = 1313)"
   ]
  },
  {
   "cell_type": "code",
   "execution_count": null,
   "id": "fcfdfd4b",
   "metadata": {},
   "outputs": [],
   "source": [
    "α0, α1 = (1, 0.5)           # die \"echten\" Werte für Achsenabschnitt und Steigung\n",
    "𝜎_ε = 0.2                   # Standardabweichung der Fehler\n",
    "n = 10                      # Anzahl der simulierten Datenpunkte\n",
    "\n",
    "x = np.sort(10*rng.random(size = n))\n",
    "y = α0 + α1*x + rng.normal(scale = 𝜎_ε, size = n)"
   ]
  },
  {
   "cell_type": "code",
   "execution_count": null,
   "id": "c684c9f4",
   "metadata": {},
   "outputs": [],
   "source": [
    "fig2, ax2 = plt.subplots(figsize = (9, 6))\n",
    "\n",
    "fig2.suptitle(\"simulierte Modelldaten\")\n",
    "ax2.set_xlabel(\"x\")\n",
    "ax2.set_ylabel(\"y\")\n",
    "ax2.set_xlim((0, 10))\n",
    "ax2.set_ylim((0, 7))\n",
    "\n",
    "ax2.plot(x, y, marker = \".\", color = \"blue\", linestyle = \"\", label= \"simulierte Daten\")\n",
    "ax2.plot((0, 10), (α0, α0 + 10*α1), color = \"gray\", linestyle = \"dashed\", label = \"Vorgabe\")\n",
    "ax2.legend()\n",
    "None"
   ]
  },
  {
   "cell_type": "markdown",
   "id": "98af493c",
   "metadata": {},
   "source": [
    "#### Qualitätsfunktion"
   ]
  },
  {
   "cell_type": "code",
   "execution_count": null,
   "id": "7215f691",
   "metadata": {},
   "outputs": [],
   "source": [
    "def sum_squared_distances(β0, β1):\n",
    "    distances = β0 + β1*x - y\n",
    "    return np.sum(distances**2)"
   ]
  },
  {
   "cell_type": "code",
   "execution_count": null,
   "id": "431a6472",
   "metadata": {},
   "outputs": [],
   "source": [
    "# analytische Lösung (nur für die Abbildung; kommt später)\n",
    "def lin_reg(x, y):\n",
    "    \"\"\"linear regression on x and y, returns intercept and slope\"\"\"\n",
    "    S1  = len(x)\n",
    "    Sx  = np.sum(x)\n",
    "    Sy  = np.sum(y)\n",
    "    Sxx = np.sum(x**2)\n",
    "    Sxy = np.sum(x*y)\n",
    "    \n",
    "    slope = (S1*Sxy - Sx*Sy)/(S1*Sxx - Sx*Sx)\n",
    "    intercept = (Sy - slope*Sx)/S1\n",
    "    \n",
    "    return intercept, slope\n",
    "\n",
    "β0_opt, β1_opt = lin_reg(x, y) "
   ]
  },
  {
   "cell_type": "code",
   "execution_count": null,
   "id": "2ca4e660",
   "metadata": {},
   "outputs": [],
   "source": [
    "run = 0"
   ]
  },
  {
   "cell_type": "code",
   "execution_count": null,
   "id": "e5a384a2",
   "metadata": {},
   "outputs": [],
   "source": [
    "X, Y = np.meshgrid(np.linspace(α0 - 0.5, α0 + 0.5, 100), np.linspace(α1 - 0.15, α1 + 0.15, 100))\n",
    "\n",
    "Z = np.array([ sum_squared_distances(β0, β1) for β0, β1 in zip(X.flatten(), Y.flatten())])\n",
    "Z.shape=(len(X), len(Y))\n",
    "\n",
    "fig_ssd, ax_ssd = plt.subplots(figsize=(9, 6))\n",
    "fig_ssd.suptitle(\"Summe der Abweichungsquadrate\")\n",
    "\n",
    "ax_ssd.set_xlabel('β₀')\n",
    "ax_ssd.set_ylabel('β₁')\n",
    "\n",
    "# Konturen\n",
    "cs = ax_ssd.contourf(X, Y, Z, levels = [0, 0.5, 1, 2, 4, 8, 16, 32], cmap = cm.magma_r)\n",
    "cbar = fig_ssd.colorbar(cs)\n",
    "\n",
    "# Minimum (Ergebnis aus der linearen Regression)\n",
    "if run > 0:\n",
    "    ax_ssd.plot((α0 - 0.5, β0_opt, β0_opt), (β1_opt, β1_opt, α1 - 0.15), color = 'gray', linestyle = 'dashed')\n",
    "    ax_ssd.text(β0_opt + 0.02, β1_opt, \"Minimum\", verticalalignment = 'center')\n",
    "\n",
    "# vorgegebene Werte\n",
    "if run > 1:\n",
    "    ax_ssd.plot(α0, α1, \"xk\")\n",
    "    ax_ssd.text(α0 - 0.02, α1, \"Vorgabe (α₀, α₁)\", horizontalalignment = 'right', verticalalignment = 'bottom')\n",
    "            \n",
    "run += 1"
   ]
  },
  {
   "cell_type": "markdown",
   "id": "ae74368f",
   "metadata": {},
   "source": [
    "Die begrenzte Information aus den Messwerten lässt es nicht zu, die realen (vorgegebenen) Parameter $a_1$ und $a_0$ der Grundgesamtheit zu ermitteln! \n",
    "\n",
    "Wir erhalten lediglich *Schätzwerte*."
   ]
  },
  {
   "cell_type": "markdown",
   "id": "b2c0e0d3",
   "metadata": {},
   "source": [
    "## Iterative Lösung\n",
    "\n",
    "Zunächst wollen wir versuchen, die optimalen Werte für $\\beta_0$ und $\\beta_1$ ohne höhere Mathematik zu bestimmen. Dazu probieren wir, ob der folgende *Algorithmus* zum Erfolg führt:"
   ]
  },
  {
   "cell_type": "markdown",
   "id": "981088c1",
   "metadata": {},
   "source": [
    "### Algorithmus zur iterativen Bestimmung der Geradenparameter\n",
    "\n",
    "1. lege Startwerte für die gesuchten Parameter fest (z. B. Achsenabschnitt und Steigung der Geraden durch den ersten und letzten Datenpunkt).\n",
    "2. berechne den Wert der Qualitätsfunktion für die gewählten $\\beta_0$ und $\\beta_1$.\n",
    "3. verändere den Wert von $\\beta_0$ um einen kleinen, zufälligen Betrag;\n",
    "4. berechne die Qualitätsfunktion für die neuen Wert von $\\beta_0$ (und dem alten $\\beta_1$).\n",
    "5. Wenn der neue Wert der Qualitätsfunktion kleiner (also besser) ist als der alte, behalte das neue $\\beta_0$ bei, falls nicht, verwerfe es.\n",
    "6. verändere die Werte von $\\beta_1$ um einen kleinen, zufälligen Betrag;\n",
    "7. berechne die Qualitätsfunktion für den neuen Wert von $\\beta_1$.\n",
    "8. Wenn der neue Wert der Qualitätsfunktion kleiner (also besser) ist als der alte, behalte das neue $\\beta_1$ bei, falls nicht, verwerfe es.\n",
    "9. wiederhole die Schritte 3 bis 8 solange, bis ein Abbruchskriterium erfüllt ist.\n",
    "\n",
    "Wir brechen die Iteration ab, wenn sich der Wert von $Q(\\beta_0, \\beta_1)$ über 20 Wiederholungen nicht verbessert."
   ]
  },
  {
   "cell_type": "markdown",
   "id": "76d4c960",
   "metadata": {},
   "source": [
    "### Festlegen der Startwerte"
   ]
  },
  {
   "cell_type": "code",
   "execution_count": null,
   "id": "5267298d",
   "metadata": {},
   "outputs": [],
   "source": [
    "𝛽1 = (y[-1] - y[0])/(x[-1] - x[0])\n",
    "𝛽0 = y[0] - 𝛽1*x[0]"
   ]
  },
  {
   "cell_type": "code",
   "execution_count": null,
   "id": "382c2948",
   "metadata": {},
   "outputs": [],
   "source": [
    "ssd = sum_squared_distances(β0, β1)"
   ]
  },
  {
   "cell_type": "code",
   "execution_count": null,
   "id": "a5ce91c9",
   "metadata": {},
   "outputs": [],
   "source": [
    "fig_i0, ax_i0 = plt.subplots(figsize = (9, 6))\n",
    "fig_i0.suptitle(\"Parameter vor der Iteration\")\n",
    "\n",
    "ax_i0.set_xlabel(\"x\")\n",
    "ax_i0.set_ylabel(\"y\")\n",
    "# ax_i0.set_xlim((0, 10))\n",
    "# ax_i0.set_ylim((0, 7))\n",
    "\n",
    "ax_i0.plot(x, y, marker = \".\", linestyle = \"\", color = \"blue\", )\n",
    "ax_i0.plot(x, 𝛽0 + x*𝛽1, color = \"gray\", linestyle = \"dashed\")\n",
    "\n",
    "ax_i0.text(7, 1.8, rf\"$\\beta_0 = {𝛽0:9.4f}$\")\n",
    "ax_i0.text(7, 1.6, rf\"$\\beta_1 = {𝛽1:9.4f}$\")\n",
    "ax_i0.text(7, 1.4, rf\"$Q\\; = {ssd:9.4f}$\")\n",
    "None"
   ]
  },
  {
   "cell_type": "markdown",
   "id": "8669d83c",
   "metadata": {},
   "source": [
    "### Iteration"
   ]
  },
  {
   "cell_type": "code",
   "execution_count": null,
   "id": "25493de7",
   "metadata": {},
   "outputs": [],
   "source": [
    "σ_rel = 0.01\n",
    "max_no_changes = 20 # if there is no change in 20 iterations we are going to stop\n",
    "\n",
    "results = [(0, β0, β1, ssd)]\n",
    "counter = 0\n",
    "no_changes = 0\n",
    "\n",
    "while no_changes < max_no_changes:\n",
    "    counter += 1\n",
    "    no_changes += 1\n",
    "    \n",
    "    # try to improve β0\n",
    "    β0_test = rng.normal(β0, β0*σ_rel)\n",
    "    ssd_test  = sum_squared_distances(β0_test, β1)\n",
    "    if ssd_test < ssd: # success: conserve achievment\n",
    "        β0 = β0_test\n",
    "        ssd = ssd_test\n",
    "        no_changes = 0\n",
    "        \n",
    "    # try to improve β1\n",
    "    β1_test = rng.normal(β1, β0*σ_rel)\n",
    "    ssd_test  = sum_squared_distances(β0, β1_test)\n",
    "    if ssd_test < ssd: # success: conserve achievment\n",
    "        β1 = β1_test\n",
    "        ssd = ssd_test\n",
    "        no_changes = 0\n",
    "        \n",
    "    if no_changes == 0:  # if there was an improvement\n",
    "        results.append( (counter, β0, β1, ssd) )"
   ]
  },
  {
   "cell_type": "markdown",
   "id": "bf678b83",
   "metadata": {},
   "source": [
    "Die Ergebnisse speichern wir in einen [Pandas](https://www.pandas.org) *Dataframe*."
   ]
  },
  {
   "cell_type": "code",
   "execution_count": null,
   "id": "ed75c3b0",
   "metadata": {},
   "outputs": [],
   "source": [
    "import pandas as pd\n",
    "\n",
    "results_df = pd.DataFrame(results, columns=['iteration', 'β0', 'β1', 'ssd'])\n",
    "results_df"
   ]
  },
  {
   "cell_type": "code",
   "execution_count": null,
   "id": "c3906782",
   "metadata": {},
   "outputs": [],
   "source": [
    "fig_i, (ax_ib, ax_iq) = plt.subplots(ncols = 2)\n",
    "\n",
    "ax_ib.set_title('Geradenparameter')\n",
    "ax_ib.plot(results_df.iteration, results_df.β0, color = 'blue', label = 'β0')\n",
    "ax_ib.plot(results_df.iteration, results_df.β1, color = 'orange', label = 'β1')\n",
    "ax_ib.axhline(α0, color = 'blue',   linestyle = 'dashed', label = 'α0')\n",
    "ax_ib.axhline(α1, color = 'orange', linestyle = 'dashed', label = 'α1')\n",
    "ax_ib.set_ylim(bottom = 0)\n",
    "ax_ib.legend()\n",
    "\n",
    "ax_iq.set_title('Summe Abstandsquadrate')\n",
    "ax_iq.plot(results_df.iteration, results_df.ssd, color = 'black')\n",
    "ax_iq.set_ylim(bottom = 0)"
   ]
  },
  {
   "cell_type": "code",
   "execution_count": null,
   "id": "53a332a8",
   "metadata": {},
   "outputs": [],
   "source": [
    "fig_ssd"
   ]
  },
  {
   "cell_type": "code",
   "execution_count": null,
   "id": "ee0a489c",
   "metadata": {},
   "outputs": [],
   "source": [
    "b0 = results_df['β0']\n",
    "b1 = results_df['β1']\n",
    "\n",
    "ax_ssd.plot(b0, b1, color = \"black\")\n",
    "None"
   ]
  },
  {
   "cell_type": "code",
   "execution_count": null,
   "id": "909a42f3",
   "metadata": {},
   "outputs": [],
   "source": [
    "results_df.iloc[-1]"
   ]
  },
  {
   "cell_type": "markdown",
   "id": "495399c0",
   "metadata": {},
   "source": [
    "### Residuen\n",
    "\n",
    "Die Abweichungen zwischen der Modellfunktion mit den gefitteten Parametern und den Datenpunkten werden *Residuen* genannt.\n",
    "\n",
    "Sie sollten zufällig um die Nulllinie verteilt sein. Systematische Abweichungen würden darauf hindeuten, dass das Modell nicht mächtig genug ist, die Daten zu beschreiben."
   ]
  },
  {
   "cell_type": "code",
   "execution_count": null,
   "id": "74374c61",
   "metadata": {},
   "outputs": [],
   "source": [
    "residuals = β0 + β1*x - y"
   ]
  },
  {
   "cell_type": "code",
   "execution_count": null,
   "id": "53afba14",
   "metadata": {},
   "outputs": [],
   "source": [
    "fig_r, (ax_rl, ax_rr) = plt.subplots(nrows = 2, sharex = True, figsize = (9, 6))\n",
    "fig_r.suptitle(\"Parameter nach der Iteration\")\n",
    "\n",
    "ax_rl.set_title(\"Ausgleichsgerade\")\n",
    "ax_rl.set_ylabel(\"y\")\n",
    "ax_rl.set_xlim((0, 10))\n",
    "ax_rl.set_ylim((0, 7))\n",
    "\n",
    "ax_rl.plot(x, y, \".b\")\n",
    "ax_rl.plot(x, 𝛽0 + x*𝛽1, color = \"gray\", linestyle = \"dashed\")\n",
    "\n",
    "ax_rl.text(7, 1.6, rf\"$\\beta_0 = {𝛽0:9.4f}$\")\n",
    "ax_rl.text(7, 1.0, rf\"$\\beta_1 = {𝛽1:9.4f}$\")\n",
    "ax_rl.text(7, 0.4, rf\"$ssd\\; = {ssd:9.4f}$\")\n",
    "       \n",
    "ax_rr.set_title(\"Residuen\")\n",
    "ax_rr.set_xlabel(\"x\")\n",
    "ax_rr.set_ylabel(\"Δy\")\n",
    "ax_rr.set_xlim((0, 10))\n",
    "ax_rr.axhline(0, color=\"black\")\n",
    "\n",
    "for x_, r in zip(x, residuals):\n",
    "    ax_rr.arrow(x_, 0, 0, r, color = 'gray', linewidth = 0.1)\n",
    "ax_rr.plot(x, residuals, marker = \"o\", linestyle = \"\", color = \"blue\")\n",
    "None"
   ]
  },
  {
   "cell_type": "markdown",
   "id": "7200b717",
   "metadata": {},
   "source": [
    "## analytische Lösung\n",
    "\n",
    "Bei linearen Modellen kann man die optimalen Schätzwerte für 𝛽0\n",
    "und 𝛽1 auch direkt aus den Daten berechnen."
   ]
  },
  {
   "cell_type": "markdown",
   "id": "0f49bd43",
   "metadata": {},
   "source": [
    "### Qualitätsfunktion"
   ]
  },
  {
   "cell_type": "markdown",
   "id": "c0d24e9e",
   "metadata": {},
   "source": [
    "#### Schnitt in Richtung β₀"
   ]
  },
  {
   "cell_type": "code",
   "execution_count": null,
   "id": "6d3a1a4f",
   "metadata": {},
   "outputs": [],
   "source": [
    "ssd_opt = sum_squared_distances(β0_opt, β1_opt)\n",
    "\n",
    "fig_q_b0, ax_q_b0 = plt.subplots(figsize = (9, 6))\n",
    "fig_q_b0.suptitle(\"Schnitt in β₀-Richtung\")\n",
    "\n",
    "x_b0 = np.linspace(0.5, 1.5, 100)\n",
    "y_b0 = (x_b0 - β0_opt)**2 + ssd_opt\n",
    "t_b0  = np.full_like(x_b0, ssd_opt)\n",
    "\n",
    "ax_q_b0.set_xlabel('β₀')\n",
    "ax_q_b0.set_ylabel('SSD')\n",
    "# ax_q_b0.set_yticks([])\n",
    "# ax_q_b0.set_ylim(0, 0.6)\n",
    "\n",
    "ax_q_b0.plot(x_b0, y_b0, color = 'blue', label = 'SSD')\n",
    "ax_q_b0.plot(x_b0, t_b0, color = 'gray', label = 'Tangente')\n",
    "\n",
    "plt.legend()\n",
    "None"
   ]
  },
  {
   "cell_type": "markdown",
   "id": "96d2fa14",
   "metadata": {},
   "source": [
    "- Am Minimum beträgt die Steigung der Tangente am Rand der Schnittfläche null.\n",
    "- Am Minimum ist der Funktionswert der **1. Ableitung der Qualitätsfunktion nach β₀** gleich null."
   ]
  },
  {
   "cell_type": "markdown",
   "id": "0edaf623",
   "metadata": {},
   "source": [
    "#### Schnitt in Richtung β₁"
   ]
  },
  {
   "cell_type": "code",
   "execution_count": null,
   "id": "4c7652cb",
   "metadata": {},
   "outputs": [],
   "source": [
    "fig_q_b1, ax_q_b1 = plt.subplots(figsize = (9, 6))\n",
    "fig_q_b1.suptitle(\"Schnitt in β₁-Richtung\")\n",
    "\n",
    "x_b1 = np.linspace(0.35, 0.65, 100)\n",
    "y_b1 = (x_b1 - β1_opt)**2 + ssd_opt\n",
    "t_b1  = np.full_like(x_b1, ssd_opt)\n",
    "\n",
    "ax_q_b1.set_xlabel('β₁')\n",
    "ax_q_b1.set_ylabel('SSD')\n",
    "# ax_q_b1.set_yticks([])\n",
    "# ax_q_b1.set_ylim(0, 0.4)\n",
    "\n",
    "ax_q_b1.plot(x_b1, y_b1, color = 'blue', label = 'SSD')\n",
    "ax_q_b1.plot(x_b1, t_b1, color = 'gray', label = 'Tangente')\n",
    "\n",
    "plt.legend()\n",
    "None"
   ]
  },
  {
   "cell_type": "markdown",
   "id": "408ae048",
   "metadata": {},
   "source": [
    "- Am Minimum beträgt die Steigung der Tangente am Rand der Schnittfläche null.\n",
    "- Am Minimum ist der Funktionswert der **1. Ableitung der Qualitätsfunktion nach β₁** gleich null."
   ]
  },
  {
   "cell_type": "markdown",
   "id": "e4c4ffb4",
   "metadata": {},
   "source": [
    "### Berechnung der optimalen Schätzwerte β₀ und β₁"
   ]
  },
  {
   "cell_type": "markdown",
   "id": "bd50cdce",
   "metadata": {},
   "source": [
    "Für die Berechnung der optimalen Werte für $\\beta_0$ und $\\beta_1$ bildet man die (partiellen) Ableitungen von \n",
    "$$\n",
    "  Q(\\beta_0,\\beta_1) = \\sum_{i=1}^n (\\beta_0 + \\beta_1 x_i - y_i)^2\n",
    "$$\n",
    "nach $\\beta_0$ bzw. $\\beta_1$ und bestimmt die jeweiligen Nullstellen:\n",
    "$$\n",
    "\\begin{align*}\n",
    "  Q_{\\beta_0} &= \\sum_{i=1}^n\\; \\hphantom{x_i\\cdot{}}2\\cdot(\\beta_0 + \\beta_1 x_i - y_i) = 0 \\\\\n",
    "  Q_{\\beta_1} &= \\sum_{i=1}^n\\; x_i\\cdot 2\\cdot (\\beta_0 - \\beta_1 x_i - y_i) = 0 \\\\\n",
    "\\end{align*}\n",
    "$$"
   ]
  },
  {
   "cell_type": "markdown",
   "id": "8d314c63",
   "metadata": {},
   "source": [
    "Wir erhalten zwei Gleichungen (mit den zwei Unbekannten $\\beta_0$ und $\\beta_1$):\n",
    "\n",
    "$$\n",
    "\\begin{align*}\n",
    "  S_{y}  &= \\beta_0 S_1 + \\beta_1 S_{x} \\\\[2ex]\n",
    "  S_{xy} &= \\beta_0 S_{x} + \\beta_1 S_{xx}\\\\\n",
    "\\end{align*}\n",
    "$$\n",
    "\n",
    "mit \n",
    "$$\n",
    "\\begin{align*}\n",
    "  S_1   &= n, \\\\\n",
    "  S_{x} &= \\sum_{i=1}^n x_i, &\n",
    "  S_{y} &= \\sum_{i=1}^n y_i, \\\\\n",
    "  S_{xx} &= \\sum_{i=1}^n x_i^2, &\n",
    "  S_{xy} &= \\sum_{i=1}^n x_i y_i\n",
    "\\end{align*}\n",
    "$$"
   ]
  },
  {
   "cell_type": "markdown",
   "id": "87cfe547",
   "metadata": {},
   "source": [
    "&hellip; und können sie nach $\\beta_0$ und $\\beta_1$ auflösen:\n",
    "\n",
    "$$\n",
    "\\begin{align*}\n",
    "  \\beta_1 &= \\frac{S_1 S_{xy} - S_x S_y}{S_1 S_{xx} - S_x S_x} \\\\[2ex]\n",
    "  \\beta_0 &= \\frac{S_y - \\beta_1 S_x}{n}% = \\bar{y} - \\beta_1 \\bar{x}\n",
    "\\end{align*}\n",
    "$$"
   ]
  },
  {
   "cell_type": "code",
   "execution_count": null,
   "id": "594285ea",
   "metadata": {},
   "outputs": [],
   "source": [
    "S1  = len(x)\n",
    "Sx  = np.sum(x)\n",
    "Sy  = np.sum(y)\n",
    "Sxx = np.sum(x**2)\n",
    "Sxy = np.sum(x*y)\n",
    "\n",
    "β1_analytisch = (S1*Sxy - Sx*Sy)/(S1*Sxx - Sx*Sx)\n",
    "β0_analytisch = (Sy - β1_analytisch*Sx)/S1\n",
    "ssd_analytisch = sum_squared_distances(β0_analytisch, β1_analytisch)\n",
    "\n",
    "print(f\"analytische Lösung für β0:     {β0_analytisch:8.4f}\")\n",
    "print(f\"analytische Lösung für β1:     {β1_analytisch:8.4f}\")\n",
    "print(f\"Summe der Abweichungsquadrate: {ssd_analytisch:8.4f}\")"
   ]
  },
  {
   "cell_type": "markdown",
   "id": "d656b330",
   "metadata": {},
   "source": [
    "Vergleich mit den Daten aus der Iteration:"
   ]
  },
  {
   "cell_type": "code",
   "execution_count": null,
   "id": "d76af5d1",
   "metadata": {},
   "outputs": [],
   "source": [
    "print(f\"Schätzwert für β0:             {β0:8.4f}\")\n",
    "print(f\"Schätzwert für β1:             {β1:8.4f}\")\n",
    "print(f\"Summe der Abweichungsquadrate: {ssd:8.4f}\")"
   ]
  },
  {
   "cell_type": "code",
   "execution_count": null,
   "id": "4ae3d91b",
   "metadata": {},
   "outputs": [],
   "source": [
    "run = 0"
   ]
  },
  {
   "cell_type": "code",
   "execution_count": null,
   "id": "c3780cf2",
   "metadata": {
    "scrolled": false
   },
   "outputs": [],
   "source": [
    "fig_opt, (ax_optl, ax_optr) = plt.subplots(nrows = 2, sharex = True, figsize = (9, 6))\n",
    "fig_opt.suptitle(\"Analytische Lösung\")\n",
    "\n",
    "ax_optl.set_title(\"Ausgleichsgerade\")\n",
    "ax_optl.set_ylabel(\"y\")\n",
    "ax_optl.set_xlim((0, 10))\n",
    "ax_optl.set_ylim((0, 7))\n",
    "\n",
    "ax_optl.plot(x, y, marker = \".\", color = \"blue\", linestyle = \"\")\n",
    "ax_optl.plot(x, 𝛽0_analytisch + x*𝛽1_analytisch, color = \"gray\", linestyle = \"dashed\")\n",
    "\n",
    "ax_optl.text(7, 1.6, rf\"$\\beta_0 = {𝛽0_analytisch:9.4f}$\")\n",
    "ax_optl.text(7, 1.0, rf\"$\\beta_1 = {𝛽1_analytisch:9.4f}$\")\n",
    "ax_optl.text(7, 0.4, rf\"$Q\\; = {ssd_analytisch:9.4f}$\")\n",
    "       \n",
    "ax_optr.set_title(\"Residuen\")\n",
    "ax_optr.set_xlabel(\"x\")\n",
    "ax_optr.set_ylabel(\"Δy\")\n",
    "ax_optr.set_xlim((0, 10))\n",
    "ax_optr.axhline(0, color = \"black\")\n",
    "\n",
    "for x_, r in zip(x, residuals):\n",
    "    ax_optr.arrow(x_, 0, 0, r, color = \"gray\", linewidth = 0.1)\n",
    "ax_optr.plot(x, residuals, marker = \"o\", color = \"blue\", linestyle = \"\")\n",
    "\n",
    "if run > 0:\n",
    "    ax_optl.plot(Sx/S1, Sy/S1, marker = \"o\", color = \"red\")\n",
    "    ax_optl.text(Sx/S1, Sy/S1 - 0.8, r'$(\\bar{x}, \\bar{y})$', horizontalalignment = 'center')\n",
    "\n",
    "run += 1"
   ]
  },
  {
   "cell_type": "markdown",
   "id": "f2edae1a",
   "metadata": {},
   "source": [
    "###  Vorteile der analytischen Lösung\n",
    "\n",
    "- liefert immer die optimalen Parameter\n",
    "- sehr schnell zu berechnen\n",
    "- gewährt neue Einsichten"
   ]
  },
  {
   "cell_type": "markdown",
   "id": "feee02db",
   "metadata": {},
   "source": [
    "#### Schlussfolgerung aus der analytischen Lösung\n",
    "\n",
    "\\begin{align*}\n",
    "   \\beta_0 &= \\frac{S_y - \\beta_1 S_x}{n} \\\\\n",
    "           &= \\frac{1}{n}\\,S_y - \\beta_1\\cdot\\frac{1}{n} S_x \\\\[2ex]\n",
    "           &= \\bar{y} - \\beta_1 \\cdot \\bar{x}\\\\[2ex]\n",
    "   \\text{oder}\\hspace{2em}\\\\[2ex]\n",
    "   \\bar{y} &= \\beta_0 + \\beta_1 \\cdot \\bar{x}\n",
    "\\end{align*}\n",
    "\n",
    "Die Ausgleichsgerade geht also immer durch den Schwerpunkt der Datenpunkte."
   ]
  },
  {
   "cell_type": "markdown",
   "id": "27eaab43",
   "metadata": {},
   "source": [
    "## Ergänzungen"
   ]
  },
  {
   "cell_type": "markdown",
   "id": "a5e177e7",
   "metadata": {},
   "source": [
    "### Residuenbetrachtung bei insuffizientem Modell (*Underfitting*)"
   ]
  },
  {
   "cell_type": "markdown",
   "id": "01b8a6ab",
   "metadata": {},
   "source": [
    "#### Modelldaten\n",
    "\n",
    "Die Daten stammen tatsächlich von einem Polynom 3. Grades."
   ]
  },
  {
   "cell_type": "code",
   "execution_count": null,
   "id": "5c1d81e2",
   "metadata": {},
   "outputs": [],
   "source": [
    "i3 = (-1, 1)              # interval to draw samples from\n",
    "a3, c3 = -0.1, 1.1        # parameters of polynomial\n",
    "x3 = (i3[1] - i3[0])*rng.random(20) + i3[0]  # from interval i3\n",
    "y3 = a3*x3**3 + c3*x3 + rng.normal(0, 0.001, size = len(x3))\n",
    "\n",
    "β0_3, β1_3 = lin_reg(x3, y3)"
   ]
  },
  {
   "cell_type": "code",
   "execution_count": null,
   "id": "76cd62ae",
   "metadata": {},
   "outputs": [],
   "source": [
    "fig_m3, ax_m3 = plt.subplots(figsize = (9, 6))\n",
    "fig_m3.suptitle(\"Modelldatensatz P3\")\n",
    "\n",
    "ax_m3.set_title(\"lineare Regression\")\n",
    "ax_m3.set_xlabel(\"x\")\n",
    "ax_m3.set_ylabel(\"y\")\n",
    "ax_m3.set_axis_off()\n",
    "ax_m3.plot(i3, β0_3 + β1_3*np.array(i3), color = \"gray\", linestyle = \"dashed\")\n",
    "ax_m3.plot(x3, y3, marker = \"o\", color = \"blue\", linestyle = \"\")\n",
    "None"
   ]
  },
  {
   "cell_type": "markdown",
   "id": "979bed44",
   "metadata": {},
   "source": [
    "#### Residuen"
   ]
  },
  {
   "cell_type": "code",
   "execution_count": null,
   "id": "2f49174a",
   "metadata": {},
   "outputs": [],
   "source": [
    "residuals_3 = y3 - β0_3 - β1_3*x3"
   ]
  },
  {
   "cell_type": "code",
   "execution_count": null,
   "id": "ffcae404",
   "metadata": {
    "scrolled": true
   },
   "outputs": [],
   "source": [
    "fig_r3, ax_r3 = plt.subplots(figsize = (9, 6))\n",
    "fig_r3.suptitle(\"Modelldatensatz P3\")\n",
    "\n",
    "ax_r3.set_title(\"Residuen\")\n",
    "ax_r3.set_xlabel(\"x\")\n",
    "ax_r3.set_ylabel(\"Δy\")\n",
    "ax_r3.set_axis_off()\n",
    "ax_r3.axhline(0, color = \"black\")\n",
    "\n",
    "for x_, r_ in zip(x3, residuals_3):\n",
    "    ax_r3.plot((x_, x_), (0, r_), color = \"gray\", linewidth = 0.2)\n",
    "ax_r3.plot(x3, residuals_3, marker = \"o\", color = \"blue\", linestyle = \"\")\n",
    "None"
   ]
  },
  {
   "cell_type": "markdown",
   "id": "48b9ad02",
   "metadata": {},
   "source": [
    "Die Residuen schwanken nicht zufällig um die Nulllinie; es liegen systematische Abweichungen vor. Hier wäre ein komplexeres Modell angebracht: kubische, statt lineare Regression, d. h. Anpassung an ein Polynom 3. Grades.\n",
    "\n",
    "Möglicherweise kann man im Interpolationsintervall mit den Abweichungen leben, aber auf keinen Fall darf man **extrapolieren**."
   ]
  },
  {
   "cell_type": "markdown",
   "id": "a973b087",
   "metadata": {},
   "source": [
    "#### Extrapolation"
   ]
  },
  {
   "cell_type": "code",
   "execution_count": null,
   "id": "43ef7853",
   "metadata": {
    "scrolled": false
   },
   "outputs": [],
   "source": [
    "from matplotlib import animation as animation\n",
    "\n",
    "fig_e3, ax_e3 = plt.subplots(figsize = (9, 6))\n",
    "fig_e3.suptitle(\"Extrapolation mit Modelldatensatz P3\")\n",
    "\n",
    "def animate(lim):\n",
    "    ax_e3.clear()\n",
    "\n",
    "    ax_e3.set_xlabel(\"x\")\n",
    "    ax_e3.set_ylabel(\"y\")\n",
    "    ax_e3.set_xlim((-lim, lim))\n",
    "    ax_e3.set_ylim((-lim, lim))\n",
    "    ax_e3.plot((-lim, lim), β0_3 + β1_3*np.array([-lim, lim]), \n",
    "               color = \"gray\", linestyle = \"dashed\")\n",
    "    ax_e3.plot(x3, y3, marker = \"o\", color = \"blue\", linestyle = \"\")\n",
    "    \n",
    "    ex = np.linspace(-lim, lim, 100)\n",
    "    ax_e3.plot(ex, a3*ex**3 + c3*ex, color='black')\n",
    "    \n",
    "anim_3 = animation.FuncAnimation(fig_e3, animate, \n",
    "                                 frames = np.linspace(i3[1], 4*i3[1], num = 100),\n",
    "                                 interval = 15, repeat = False)\n",
    "#video_3 = anim_3.to_html5_video()"
   ]
  },
  {
   "cell_type": "markdown",
   "id": "aa90d340",
   "metadata": {},
   "source": [
    "### Auswirkungen eines zu komplexen Modells (*Overfitting*)"
   ]
  },
  {
   "cell_type": "markdown",
   "id": "69068379",
   "metadata": {},
   "source": [
    "Es ist nicht schwierig Funktionen zu finden, die genau durch alle Datenpunkte laufen (z. B. [Lagrange-Interpolationspolynome](https://en.wikipedia.org/wiki/Lagrange_polynomial)). Aber die habe in der Regel nichts mit der physikalischen Realität zu tun &ndash; wie auch, wenn sie nicht einmal die Möglichkeit einbeziehen, dass Messdaten fehlerbehaftet sind!"
   ]
  },
  {
   "cell_type": "code",
   "execution_count": null,
   "id": "18147c14",
   "metadata": {},
   "outputs": [],
   "source": [
    "def lagrange_basis_polynomials(x_data, y_data, x):\n",
    "\n",
    "    def lagrange_basis_polynomial(j, x):\n",
    "        basis_j = 1 # neutral element of multiplication\n",
    "        for m in range(n):\n",
    "            if m == j: continue\n",
    "            basis_j *= (x - x_data[m])/(x_data[j] - x_data[m])\n",
    "        return basis_j\n",
    "    \n",
    "    n = len(x_data)\n",
    "    return [ y_data[j]*lagrange_basis_polynomial(j, x) for j in range(n) ]"
   ]
  },
  {
   "cell_type": "markdown",
   "id": "45000be3",
   "metadata": {},
   "source": [
    "Hier wird ein Polynom 9. Grades durch 10 Datenpunkte gelegt. Der Graph der Funktion geht genau durch jeden Datenpunkt, aber &hellip;"
   ]
  },
  {
   "cell_type": "code",
   "execution_count": null,
   "id": "2220f827",
   "metadata": {},
   "outputs": [],
   "source": [
    "run = 0"
   ]
  },
  {
   "cell_type": "code",
   "execution_count": null,
   "id": "40df0792",
   "metadata": {},
   "outputs": [],
   "source": [
    "fig_l, ax_l = plt.subplots(figsize = (9, 6))\n",
    "fig_l.suptitle(\"Lagrange-Interpolation der Modelldaten\")\n",
    "\n",
    "xx = np.arange(0, 10, 0.05)\n",
    "yy = np.sum(lagrange_basis_polynomials(x, y, xx), axis = 0)\n",
    "            \n",
    "ax_l.set_xlabel(\"x\")\n",
    "ax_l.set_ylabel(\"y\")\n",
    "ax_l.set_xlim(0, 10)\n",
    "ax_l.set_ylim(0, 10)\n",
    "ax_l.plot(x, y, marker = \"o\", color = \"blue\", linestyle = \"\", label = \"Datenpunkte\")\n",
    "\n",
    "ax_l.plot(xx, β0 + β1*xx, color = \"gray\", linestyle = \"dashed\", label = \"lineare Regression\")\n",
    "\n",
    "if run > 0: \n",
    "    ax_l.plot(xx, yy, color = \"gray\", label = \"Interpolationspolynom\")\n",
    "plt.legend()\n",
    "\n",
    "run += 1"
   ]
  },
  {
   "cell_type": "markdown",
   "id": "053465e8",
   "metadata": {},
   "source": [
    "# Zusammenfassung\n",
    "\n",
    "- Mit Regressionsverfahren bestimmt man **Parameter für ein Modell**, so dass vorgegebene Daten mit dem Modell optimal beschrieben werden.\n",
    "- *Optimal* heißt in der Regel, dass die **Summe der Abstandsquadrate** minimal wird.\n",
    "- Bei linearen Modellen kann man die optimalen Parameter auch direkt berechnen (**analytische Lösung**).\n",
    "- Durch Betrachtung der **Residuen** kann man *Underfitting* erkennen.\n",
    "- **Extrapolation**, also Berechnung von Schätzwerten außerhalb des durch die vorgegebenen Daten abgedeckten Bereichs, ist nicht erlaubt!"
   ]
  }
 ],
 "metadata": {
  "celltoolbar": "Create Assignment",
   "kernelspec": {
   "display_name": "DaLI-DM",
   "language": "python",
   "name": "python-dali-dm"
  },
  "language_info": {
   "codemirror_mode": {
    "name": "ipython",
    "version": 3
   },
   "file_extension": ".py",
   "mimetype": "text/x-python",
   "name": "python",
   "nbconvert_exporter": "python",
   "pygments_lexer": "ipython3",
   "version": "3.8.8"
  },
  "latex_envs": {
   "LaTeX_envs_menu_present": true,
   "autoclose": false,
   "autocomplete": true,
   "bibliofile": "biblio.bib",
   "cite_by": "apalike",
   "current_citInitial": 1,
   "eqLabelWithNumbers": true,
   "eqNumInitial": 1,
   "hotkeys": {
    "equation": "Ctrl-E",
    "itemize": "Ctrl-I"
   },
   "labels_anchors": false,
   "latex_user_defs": false,
   "report_style_numbering": false,
   "user_envs_cfg": false
  },
  "toc": {
   "base_numbering": 1,
   "nav_menu": {},
   "number_sections": false,
   "sideBar": true,
   "skip_h1_title": true,
   "title_cell": "Table of Contents",
   "title_sidebar": "Contents",
   "toc_cell": false,
   "toc_position": {},
   "toc_section_display": true,
   "toc_window_display": false
  },
  "varInspector": {
   "cols": {
    "lenName": 16,
    "lenType": 16,
    "lenVar": 40
   },
   "kernels_config": {
    "python": {
     "delete_cmd_postfix": "",
     "delete_cmd_prefix": "del ",
     "library": "var_list.py",
     "varRefreshCmd": "print(var_dic_list())"
    },
    "r": {
     "delete_cmd_postfix": ") ",
     "delete_cmd_prefix": "rm(",
     "library": "var_list.r",
     "varRefreshCmd": "cat(var_dic_list()) "
    }
   },
   "types_to_exclude": [
    "module",
    "function",
    "builtin_function_or_method",
    "instance",
    "_Feature"
   ],
   "window_display": false
  }
 },
 "nbformat": 4,
 "nbformat_minor": 5
}
