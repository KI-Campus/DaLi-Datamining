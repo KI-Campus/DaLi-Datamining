{
 "cells": [
  {
   "cell_type": "markdown",
   "id": "2228efe4",
   "metadata": {
    "slideshow": {
     "slide_type": "slide"
    }
   },
   "source": [
    "# Hypothesentests\n",
    "\n",
    "### DaLI &ndash; KI-Campus\n",
    "#### Prof. Dr. Konrad Förstner, Prof. Dr. Richard Hirsch, 17. März 2022"
   ]
  },
  {
   "cell_type": "code",
   "execution_count": 1,
   "id": "49933679",
   "metadata": {
    "slideshow": {
     "slide_type": "skip"
    }
   },
   "outputs": [],
   "source": [
    "import numpy as np\n",
    "\n",
    "from matplotlib import pyplot as plt"
   ]
  },
  {
   "cell_type": "code",
   "execution_count": 2,
   "id": "7608611c",
   "metadata": {
    "slideshow": {
     "slide_type": "skip"
    }
   },
   "outputs": [],
   "source": [
    "th_red        = '#c81e0f'\n",
    "th_orange     = '#ea5a00'\n",
    "th_magenta    = '#b43092'\n",
    "th_grey       = 'gray'\n",
    "th_darkgrey   = 'darkgray'"
   ]
  },
  {
   "cell_type": "markdown",
   "id": "2448b2e5",
   "metadata": {
    "slideshow": {
     "slide_type": "slide"
    }
   },
   "source": [
    "## Wie schafft man Wissen?\n",
    "\n",
    "### deduktiv\n",
    "\n",
    "Neue Gesetzmäßigkeiten werden durch gültige *Schlussfolgerungen* aus bekannten abgeleitet.\n",
    "\n",
    "### induktiv\n",
    "\n",
    "Neue Erkenntnisse werden aus *wiederkehrenden Mustern* in Beobachtungen gewonnen."
   ]
  },
  {
   "cell_type": "markdown",
   "id": "72804a5e",
   "metadata": {
    "slideshow": {
     "slide_type": "fragment"
    }
   },
   "source": [
    "#### Beispiel:\n",
    "Es gibt einen Zusammenhang zwischen Tageszeit und Luftqualität in Köln."
   ]
  },
  {
   "cell_type": "markdown",
   "id": "8879f6f3",
   "metadata": {
    "slideshow": {
     "slide_type": "subslide"
    }
   },
   "source": [
    "## Problem bei der induktiven Methode\n",
    "\n",
    "- Auffällige Muster können auch auf Zufall beruhen (Wolken) &mdash; im schlimmsten Fall sogar auf Einbildung (Aberglaube).\n",
    "- In den Wissenschaften wurden Verfahren etabliert, um induktive Schlussfolgerungen auf die nötige Probe zu stellen."
   ]
  },
  {
   "cell_type": "markdown",
   "id": "02abefe5",
   "metadata": {
    "slideshow": {
     "slide_type": "fragment"
    }
   },
   "source": [
    "\n",
    "- Es werden **Hypothesen** formuliert, die widerlegbar (*falsifizierbar*) sind.\n",
    "- Mit **Hypothesentests** kann überprüft werden, wie belastbar die vermuteten Zusammenhänge sind."
   ]
  },
  {
   "cell_type": "markdown",
   "id": "f4fbf02e",
   "metadata": {},
   "source": [
    "## *Learning Outcomes*\n",
    "\n",
    "- Sie lernen den prinzipiellen Ablauf einen Hypothesentests kennen,\n",
    "\n",
    "- indem wir beispielhaft einen einfachen Test durchführen,\n",
    "\n",
    "- damit Sie ein Gefühl dafür bekommen, was so ein Test leisten kann\n",
    "  und wie man die Ergebnisse bewerten muss."
   ]
  },
  {
   "cell_type": "markdown",
   "id": "f843fa37",
   "metadata": {
    "slideshow": {
     "slide_type": "slide"
    }
   },
   "source": [
    "# Hypothesentests\n",
    "\n",
    "## Vorgehen bei einem Hypothesentest\n",
    "(nach Chow und Liu, 2008)\n",
    "\n",
    "1. formuliere die **Nullhypothese**,\n",
    "2. formuliere eine **Alternativhypothese**, die für die Forscher besonders interessant ist,\n",
    "2. wähle eine **Teststatistik** und **Signifikanzniveau**,\n",
    "3. bestimme die **Nullverteilung** der Teststatistik,\n",
    "4. bestimme den **Annahme-** und **Ablehnungsbereich** für die Nullhypothese,\n",
    "5. generiere eine Stichprobe (Studie bzw. Experiment durchführen),\n",
    "6. berechne die Teststatistik,\n",
    "7. ermittle das Ergebnis der Studie gemäß den Vorgaben aus Nr. 3 und 5."
   ]
  },
  {
   "cell_type": "markdown",
   "id": "ea41457a",
   "metadata": {
    "slideshow": {
     "slide_type": "subslide"
    }
   },
   "source": [
    "## Nullhypothese\n",
    "\n",
    "Es gibt **keinen** Unterschied zwischen der Feinstaubbelastung der Luft am Tag und in der Nacht."
   ]
  },
  {
   "cell_type": "markdown",
   "id": "9c67c2ed",
   "metadata": {
    "slideshow": {
     "slide_type": "subslide"
    }
   },
   "source": [
    "## Alternativhypothese"
   ]
  },
  {
   "cell_type": "markdown",
   "id": "11375f07",
   "metadata": {
    "slideshow": {
     "slide_type": "fragment"
    }
   },
   "source": [
    "### einseitig\n",
    "\n",
    "Die Feinstaubbelastung der Luft ist am Tag **höher** als in der Nacht."
   ]
  },
  {
   "cell_type": "markdown",
   "id": "aa785d22",
   "metadata": {
    "slideshow": {
     "slide_type": "fragment"
    }
   },
   "source": [
    "### zweiseitig\n",
    "\n",
    "Die Feinstaubbelastung der Luft ist am Tag **höher oder geringer** als in der Nacht."
   ]
  },
  {
   "cell_type": "markdown",
   "id": "1b557dbc",
   "metadata": {
    "slideshow": {
     "slide_type": "subslide"
    }
   },
   "source": [
    "### Signifikanzniveau\n",
    "\n",
    "Auch unter der Nullhypothese ist es &ndash; zumindest theoretisch &ndash; möglich, dass alle &ndash; oder fast alle &ndash; Beobachtungen positiv ausfallen. \n",
    "\n",
    "Man muss nun &ndash; vor dem Experiment &ndash; eine Wahrscheinlichkeit festlegen, bei der man nicht mehr bereit ist, das Ergebnis durch bloßen Zufall zu erklären; das ist das *Signifikanzniveau*.\n",
    "\n",
    "Nach allgemeiner Übereinkunft gilt ein Signifikanzniveau von 5&#x2009;% als guter Kompromiss zwischen &mdash; ja, und das klären wir später."
   ]
  },
  {
   "cell_type": "code",
   "execution_count": 3,
   "id": "9bcd80cf",
   "metadata": {
    "slideshow": {
     "slide_type": "fragment"
    }
   },
   "outputs": [],
   "source": [
    "α = 0.05"
   ]
  },
  {
   "cell_type": "markdown",
   "id": "4beed4ac",
   "metadata": {
    "slideshow": {
     "slide_type": "subslide"
    }
   },
   "source": [
    "## Teststatistik\n",
    "\n",
    "Anzahl der Tage im Beobachtungszeitraum, an denen die Feinstaubbelastung am Tag höher ist als in der Nacht."
   ]
  },
  {
   "cell_type": "markdown",
   "id": "91756b29",
   "metadata": {
    "slideshow": {
     "slide_type": "slide"
    }
   },
   "source": [
    "## Nullverteilung\n",
    "\n",
    "Unter der Nullhypothese (kein Effekt) beruhen die Ergebnisse **Verbesserung** bzw. **keine Verbesserung** nur auf Zufall.\n",
    "\n",
    "Stellen wir uns vor, wir hätten $n$ Beobachtungen gemacht. Wieviele **Verbesserungen** erwarten wir (immer noch unter der Nullhypothese)?"
   ]
  },
  {
   "cell_type": "markdown",
   "id": "e851fca9",
   "metadata": {
    "slideshow": {
     "slide_type": "skip"
    }
   },
   "source": [
    "Ungefähr die Hälfte, aber geht das genauer?\n",
    "\n",
    "Die Antwort liefert uns die &hellip;"
   ]
  },
  {
   "cell_type": "markdown",
   "id": "4b281cdd",
   "metadata": {
    "slideshow": {
     "slide_type": "skip"
    }
   },
   "source": [
    "### Binomialverteilung\n",
    "\n",
    "> Die [**Binomialverteilung**](https://de.wikipedia.org/wiki/Stochastisch_unabh%C3%A4ngige_Ereignisse) [&hellip;] \n",
    "> beschreibt die Anzahl der Erfolge in einer Serie von gleichartigen und \n",
    "> [unabhängigen](https://de.wikipedia.org/wiki/Stochastisch_unabh%C3%A4ngige_Ereignisse) Versuchen, die jeweils \n",
    "> genau zwei mögliche Ergebnisse haben [&hellip;].\n",
    "\n",
    "Seite „Binomialverteilung“. In: Wikipedia – Die freie Enzyklopädie. Bearbeitungsstand: 4. November 2021, 17:11 UTC. URL: https://de.wikipedia.org/w/index.php?title=Binomialverteilung&oldid=216974685 (Abgerufen: 19. Dezember 2021, 16:01 UTC) "
   ]
  },
  {
   "cell_type": "code",
   "execution_count": 4,
   "id": "77caff13",
   "metadata": {
    "slideshow": {
     "slide_type": "skip"
    }
   },
   "outputs": [],
   "source": [
    "from scipy.stats import binom"
   ]
  },
  {
   "cell_type": "code",
   "execution_count": 5,
   "id": "2e1b9da6",
   "metadata": {
    "slideshow": {
     "slide_type": "skip"
    }
   },
   "outputs": [],
   "source": [
    "p = 0.5                # probability for positive outcome"
   ]
  },
  {
   "cell_type": "markdown",
   "id": "90602d41",
   "metadata": {},
   "source": [
    "#### Wahrscheinlichkeitsverteilung\n",
    "\n",
    "Jede Beobachtung soll mit der Wahrscheinlichkeit $p$ ein bestimmtes Ergebnis zeitigen (positiv sein). Die Wahrscheinlichkeit dafür, dass bei $n$ Beobachtungen **genau** $k$ positiv sind, beträgt\n",
    "$$ {n \\choose k}\\,p^k\\, (1 - p)^{n - k} $$\n",
    "\n",
    "Diese Werte können mit Hilfe der Funktion `pmf` (*probability mass function*) berechnen:"
   ]
  },
  {
   "cell_type": "code",
   "execution_count": 6,
   "id": "363e02b5",
   "metadata": {},
   "outputs": [],
   "source": [
    "n = 12                 # number of observations\n",
    "k = np.arange(n + 1)   # number of positive observations\n",
    "                       # k in {0, 1, ..., n}"
   ]
  },
  {
   "cell_type": "code",
   "execution_count": 7,
   "id": "914b8d3c",
   "metadata": {
    "slideshow": {
     "slide_type": "skip"
    }
   },
   "outputs": [
    {
     "data": {
      "image/png": "[encoded data removed]",
      "text/plain": [
       "<Figure size 432x288 with 1 Axes>"
      ]
     },
     "metadata": {
      "needs_background": "light"
     },
     "output_type": "display_data"
    }
   ],
   "source": [
    "fig_pmf, ax_pmf = plt.subplots()\n",
    "fig_pmf.suptitle('Binomialverteilung')\n",
    "\n",
    "ax_pmf.set_title('Wahrscheinlichkeitsverteilung')\n",
    "ax_pmf.set_xlabel('$k$')\n",
    "ax_pmf.set_ylabel(f'$P({n}, k, {p})$')\n",
    "ax_pmf.bar(k, binom.pmf(k, n, p), color = th_orange) # probability mass function\n",
    "None"
   ]
  },
  {
   "cell_type": "markdown",
   "id": "725c4574",
   "metadata": {},
   "source": [
    "#### kumulative Verteilungsfunktion"
   ]
  },
  {
   "cell_type": "code",
   "execution_count": 8,
   "id": "637786a8",
   "metadata": {},
   "outputs": [
    {
     "data": {
      "image/png": "[encoded data removed]",
      "text/plain": [
       "<Figure size 432x288 with 1 Axes>"
      ]
     },
     "metadata": {
      "needs_background": "light"
     },
     "output_type": "display_data"
    }
   ],
   "source": [
    "fig_cdf, ax_cdf = plt.subplots()\n",
    "fig_cdf.suptitle('Binomialverteilung')\n",
    "\n",
    "ax_cdf.set_title('kumulative Verteilungsfunktion')\n",
    "ax_cdf.set_xlabel('$k$')\n",
    "ax_cdf.set_ylabel(f'$P({n}, k, {p})$')\n",
    "ax_cdf.step(k, binom.cdf(k, n, p), color = th_orange) # cumulative distribution function\n",
    "None"
   ]
  },
  {
   "cell_type": "markdown",
   "id": "4208ddce",
   "metadata": {},
   "source": [
    "#### Quantile\n",
    "\n",
    "Für welches $k$ erreicht die kumulative Verteilungsfunktion einen bestimmten Wert?"
   ]
  },
  {
   "cell_type": "markdown",
   "id": "7c76f05e",
   "metadata": {},
   "source": [
    "(In der `scipy`-Bibliothek wird eine Quantile der Binomialverteilung mit der *percent point function* `ppf` berechnet.)"
   ]
  },
  {
   "cell_type": "code",
   "execution_count": 9,
   "id": "3fed555a",
   "metadata": {
    "slideshow": {
     "slide_type": "skip"
    }
   },
   "outputs": [
    {
     "data": {
      "image/png": "[encoded data removed]",
      "text/plain": [
       "<Figure size 432x288 with 1 Axes>"
      ]
     },
     "metadata": {
      "needs_background": "light"
     },
     "output_type": "display_data"
    }
   ],
   "source": [
    "fig_ppf, ax_ppf = plt.subplots()\n",
    "\n",
    "q = np.linspace(0, 1, 100)\n",
    "\n",
    "ax_ppf.set_title('Quantile')\n",
    "ax_ppf.set_xlabel('$q$')\n",
    "ax_ppf.set_ylabel('$k$')\n",
    "ax_ppf.step(q, binom. ppf(q, n, p), color=th_grey)  # percent point function\n",
    "None"
   ]
  },
  {
   "cell_type": "code",
   "execution_count": 10,
   "id": "df6fe6b6",
   "metadata": {
    "slideshow": {
     "slide_type": "skip"
    }
   },
   "outputs": [
    {
     "name": "stdout",
     "output_type": "stream",
     "text": [
      "95 %-Quantile:        9\n",
      "erfasster Bereich:   98.1 %\n"
     ]
    }
   ],
   "source": [
    "q_95 = binom.ppf(0.95, n, p)           # 95 % quantile\n",
    "print(f'95 %-Quantile: {q_95:8.0f}')\n",
    "print(f'erfasster Bereich: {100*binom.cdf(q_95, n, p):6.1f} %')"
   ]
  },
  {
   "cell_type": "markdown",
   "id": "c9b8caf2",
   "metadata": {
    "slideshow": {
     "slide_type": "skip"
    }
   },
   "source": [
    "## Annahme und Ablehnungsbereich"
   ]
  },
  {
   "cell_type": "code",
   "execution_count": 11,
   "id": "6c744e3d",
   "metadata": {
    "slideshow": {
     "slide_type": "skip"
    }
   },
   "outputs": [],
   "source": [
    "n = 100\n",
    "k = np.arange(30, 70)"
   ]
  },
  {
   "cell_type": "markdown",
   "id": "78cfe980",
   "metadata": {
    "slideshow": {
     "slide_type": "skip"
    }
   },
   "source": [
    "### einseitige Fragestellung"
   ]
  },
  {
   "cell_type": "code",
   "execution_count": 12,
   "id": "c4594e35",
   "metadata": {
    "slideshow": {
     "slide_type": "skip"
    }
   },
   "outputs": [
    {
     "name": "stdout",
     "output_type": "stream",
     "text": [
      "Grenze zwischen Annahme- und Ablehnungsbereich (einseitig): 58.0\n"
     ]
    }
   ],
   "source": [
    "k_1 = binom.ppf(1 - α, n, p)\n",
    "print(f\"Grenze zwischen Annahme- und Ablehnungsbereich (einseitig): {k_1}\")"
   ]
  },
  {
   "cell_type": "code",
   "execution_count": 13,
   "id": "24c896c7",
   "metadata": {
    "slideshow": {
     "slide_type": "skip"
    }
   },
   "outputs": [
    {
     "data": {
      "image/png": "[encoded data removed]",
      "text/plain": [
       "<Figure size 432x288 with 1 Axes>"
      ]
     },
     "metadata": {
      "needs_background": "light"
     },
     "output_type": "display_data"
    }
   ],
   "source": [
    "fig_rr1, ax_rr1 = plt.subplots()        # region of rejection\n",
    "\n",
    "rr_labels  = [ 'Annahmebereich', 'Ablehnungsbereich]' ]\n",
    "rr_handles = [ plt.Rectangle((0, 0), 1, 1, color=color) \n",
    "                  for color in [th_orange, th_magenta] ]\n",
    "\n",
    "ax_rr1.set_title('einseitige Fragestellung')\n",
    "ax_rr1.set_xlabel('$k$')\n",
    "ax_rr1.set_ylabel(f'$P({n}, k, {p})$')\n",
    "ax_rr1.bar(k, binom.pmf(k, n, p),\n",
    "          color=[th_magenta if l > k_1 else th_orange for l in k])\n",
    "ax_rr1.legend(rr_handles, rr_labels)\n",
    "None"
   ]
  },
  {
   "cell_type": "markdown",
   "id": "24eb494c",
   "metadata": {
    "slideshow": {
     "slide_type": "skip"
    }
   },
   "source": [
    "Ein Anteil von $\\alpha$ der Beobachtungen fällt bei Gültigkeit der Nullhypothese in den Ablehnungsbereich."
   ]
  },
  {
   "cell_type": "markdown",
   "id": "890aed0a",
   "metadata": {
    "slideshow": {
     "slide_type": "skip"
    }
   },
   "source": [
    "### zweiseitige Fragestellung"
   ]
  },
  {
   "cell_type": "code",
   "execution_count": 14,
   "id": "f758c24c",
   "metadata": {
    "slideshow": {
     "slide_type": "skip"
    }
   },
   "outputs": [
    {
     "name": "stdout",
     "output_type": "stream",
     "text": [
      "Grenzen zwischen Annahme- und Ablehnungsbereich (zweiseitig): (40.0, 60.0)\n"
     ]
    }
   ],
   "source": [
    "k_2 = (binom.ppf(α/2, n, p), binom.ppf(1 - α/2, n, p))\n",
    "print(f\"Grenzen zwischen Annahme- und Ablehnungsbereich (zweiseitig): {k_2}\")"
   ]
  },
  {
   "cell_type": "code",
   "execution_count": 15,
   "id": "ff99f5d5",
   "metadata": {
    "slideshow": {
     "slide_type": "skip"
    }
   },
   "outputs": [
    {
     "data": {
      "image/png": "[encoded data removed]",
      "text/plain": [
       "<Figure size 432x288 with 1 Axes>"
      ]
     },
     "metadata": {
      "needs_background": "light"
     },
     "output_type": "display_data"
    }
   ],
   "source": [
    "fig_rr2, ax_rr2 = plt.subplots()        # region of rejection\n",
    "\n",
    "ax_rr2.set_title('zweiseitige Fragestellung')\n",
    "ax_rr2.set_xlabel('$k$')\n",
    "ax_rr2.set_ylabel(f'$P({n}, k, {p})$')\n",
    "ax_rr2.bar(k, binom.pmf(k, n, p), label='Annahmebereich',\n",
    "          color=[th_magenta if l < k_2[0] or l > k_2[1] else th_orange for l in k])\n",
    "ax_rr2.legend(rr_handles, rr_labels)\n",
    "None"
   ]
  },
  {
   "cell_type": "markdown",
   "id": "68de1ebf",
   "metadata": {
    "slideshow": {
     "slide_type": "skip"
    }
   },
   "source": [
    "Der Anteil von Beobachtungen, der bei Gültigkeit der Nullhypothese in den Ablehnungsbereich fällt, entspricht dem Signifikanzniveau $\\alpha$."
   ]
  },
  {
   "cell_type": "markdown",
   "id": "52463afc",
   "metadata": {
    "slideshow": {
     "slide_type": "skip"
    }
   },
   "source": [
    "## Ergebnis"
   ]
  },
  {
   "cell_type": "markdown",
   "id": "17861356",
   "metadata": {
    "slideshow": {
     "slide_type": "skip"
    }
   },
   "source": [
    "### Prüfgröße im Ablehnungsbereich\n",
    "\n",
    "1. Die **Nullhypothese trifft nicht zu** &ndash; es gibt einen echten Effekt. Der Test liefert ein **korrektes Ergebnis**.\n",
    "2. Die **Nullhypothese trifft zu**! Die Prüfgröße ist durch Zufall im Ablehnungsbereich gelandet. Wir machen einen **Fehler 1.&nbsp;Art**.\n",
    "\n",
    "Da wir die Größe des Fehlers 1.&nbsp;Art selbst und so festlegen können, dass wir mit dem falschen Ergebnis leben könnten, ist das in Ordnung.\n",
    "\n",
    "Liegt die Nullhypothese im Ablehnungsbereich, lehnen wir sie auf dem gewählten Signifikanzniveau ab, (und gehen davon aus, dass es einen Effekt gibt.)"
   ]
  },
  {
   "cell_type": "markdown",
   "id": "faae1b24",
   "metadata": {
    "slideshow": {
     "slide_type": "skip"
    }
   },
   "source": [
    "### Prüfgröße im Annahmebereich\n",
    "\n",
    "1. Die **Nullhypothese trifft zu** &ndash; es gibt keinen echten Effekt. Der Test liefert ein **korrektes Ergebnis**.\n",
    "2. Die **Nullhypothese trifft nicht zu**! Die Prüfgröße ist durch Zufall &ndash; trotz Effekt &ndash; im Annahmebereich gelandet. Wir machen einen **Fehler 2.&nbsp;Art**.\n",
    "\n",
    "Da wir die Größe des Fehlers 2.&nbsp;Art nicht kennen, können wir keine Risikobewertung machen.\n",
    "\n",
    "Liegt die Nullhypothese im Annahmebereich, können wir die Nullhypothese nicht ablehnen. Wir können sie aber auch nicht annehmen: Vielleicht gibt es ja tatsächlich einen Effekt, aber unser Experiment war nicht mächtig genug, ihn nachzuweisen.\n",
    "\n",
    "Wir sind so klug als wie zuvor!"
   ]
  },
  {
   "cell_type": "markdown",
   "id": "c0e58e05",
   "metadata": {
    "slideshow": {
     "slide_type": "skip"
    }
   },
   "source": [
    "## Beispiel: Feinstaubbelastung in Köln\n",
    "\n",
    "### Nullhypothese\n",
    "\n",
    "Es gibt keinen Unterschied zwischen der Feinstaubbelastung in Köln am Tag und in der Nacht.\n",
    "\n",
    "### Alternativhypothese (zweiseitige Fragestellung)\n",
    "\n",
    "Es gibt einen Unterschied zwischen der Feinstaubbelastung in Köln am Tag und in der Nacht.\n",
    "\n",
    "### Signifikanzniveau"
   ]
  },
  {
   "cell_type": "code",
   "execution_count": 16,
   "id": "7bd09161",
   "metadata": {
    "slideshow": {
     "slide_type": "skip"
    }
   },
   "outputs": [],
   "source": [
    "α = 0.05"
   ]
  },
  {
   "cell_type": "markdown",
   "id": "9a8810aa",
   "metadata": {
    "slideshow": {
     "slide_type": "skip"
    }
   },
   "source": [
    "### Teststatistik\n",
    "\n",
    "Anzahl der Tage, an denen die Feinstaubbelastung am Tag größer ist als in der Nacht."
   ]
  },
  {
   "cell_type": "markdown",
   "id": "a292a775",
   "metadata": {
    "slideshow": {
     "slide_type": "skip"
    }
   },
   "source": [
    "### Nullverteilung"
   ]
  },
  {
   "cell_type": "code",
   "execution_count": 17,
   "id": "d01a2b86",
   "metadata": {},
   "outputs": [
    {
     "data": {
      "image/png": "[encoded data removed]",
      "text/plain": [
       "<Figure size 432x288 with 1 Axes>"
      ]
     },
     "metadata": {
      "needs_background": "light"
     },
     "output_type": "display_data"
    }
   ],
   "source": [
    "n = 363                 # number of observations\n",
    "k = np.arange(binom.ppf(0.001, n, p), binom.ppf(0.999, n, p))\n",
    "\n",
    "fig_rr2, ax_rr2 = plt.subplots()        # region of rejection\n",
    "k_2 = (binom.ppf(α/2, n, p), binom.ppf(1 - α/2, n, p))\n",
    "\n",
    "ax_rr2.set_title('zweiseitige Fragestellung')\n",
    "ax_rr2.set_xlabel('$k$')\n",
    "ax_rr2.set_ylabel(f'$P({n}, k, {p})$')\n",
    "ax_rr2.bar(k, binom.pmf(k, n, p), label='Annahmebereich',\n",
    "          color=[th_magenta if l < k_2[0] or l > k_2[1] else th_orange for l in k])\n",
    "ax_rr2.legend(rr_handles, rr_labels)\n",
    "None"
   ]
  },
  {
   "cell_type": "markdown",
   "id": "d75e3efc",
   "metadata": {},
   "source": [
    "Grenzen für den Ablehnungsbereich:"
   ]
  },
  {
   "cell_type": "code",
   "execution_count": 18,
   "id": "af9987d4",
   "metadata": {},
   "outputs": [
    {
     "data": {
      "text/plain": [
       "(163.0, 200.0)"
      ]
     },
     "execution_count": 18,
     "metadata": {},
     "output_type": "execute_result"
    }
   ],
   "source": [
    "n = 151 + 212          # number of observations\n",
    "\n",
    "limits = (binom.ppf(α/2, n, p), binom.ppf(1 - α/2, n, p))\n",
    "limits"
   ]
  },
  {
   "cell_type": "markdown",
   "id": "3e6025ca",
   "metadata": {
    "slideshow": {
     "slide_type": "skip"
    }
   },
   "source": [
    "### Ergebnis\n",
    "\n",
    "Das Auslesen der Daten für die Feinstaubbelastungen um 3:00 Uhr (Nacht) und 15:00 Uhr (Tag) im Zeitraum vom 1. November 2020 bis 31. Oktober 2021 an der Messstation Köln-Rodenkirchen ergab folgendes Ergebnis (https://github.com/konrad/DaLI_Basismodul_WiSe2021_2022/blob/main/Feinstaub_Tag_vs_Nacht.ipynb)\n",
    "\n",
    "```\n",
    "     False    212\n",
    "     True     151\n",
    "```"
   ]
  },
  {
   "cell_type": "code",
   "execution_count": 19,
   "id": "368c8ea8",
   "metadata": {},
   "outputs": [
    {
     "data": {
      "image/png": "[encoded data removed]",
      "text/plain": [
       "<Figure size 432x288 with 1 Axes>"
      ]
     },
     "execution_count": 19,
     "metadata": {},
     "output_type": "execute_result"
    }
   ],
   "source": [
    "ax_rr2.annotate(\"Prüfgröße\", xy = (151, 0.0005), xytext=(150, 0.005), \n",
    "                 arrowprops=dict(arrowstyle=\"->\"))\n",
    "fig_rr2"
   ]
  },
  {
   "cell_type": "markdown",
   "id": "ca66d3b6",
   "metadata": {
    "slideshow": {
     "slide_type": "skip"
    }
   },
   "source": [
    "### Alternative Auswertung\n",
    "\n",
    "Damit die Nullhypothese abgelehnt werden kann, muss der Wert der kumulativen Verteilungsfunktion (CDF) für die Ereignisse, die die Hypothese stützen (`True`), kleiner als $\\alpha/2$ oder größer als $1 - \\alpha/2$ sein (zweiseitige Fragestellung). "
   ]
  },
  {
   "cell_type": "markdown",
   "id": "7fb00483",
   "metadata": {
    "slideshow": {
     "slide_type": "skip"
    }
   },
   "source": [
    "Das Ergebnis ist &hellip;"
   ]
  },
  {
   "cell_type": "code",
   "execution_count": 20,
   "id": "d919d7ec",
   "metadata": {
    "slideshow": {
     "slide_type": "skip"
    }
   },
   "outputs": [
    {
     "data": {
      "text/plain": [
       "0.0008005845014284349"
      ]
     },
     "execution_count": 20,
     "metadata": {},
     "output_type": "execute_result"
    }
   ],
   "source": [
    "binom.cdf(151, n, p)"
   ]
  },
  {
   "cell_type": "markdown",
   "id": "447b5766",
   "metadata": {
    "slideshow": {
     "slide_type": "skip"
    }
   },
   "source": [
    "Der Wert ist also kleiner als $\\alpha/2$. Die Nullhypothese kann also auf dem 5&#x2009;%-Niveau abgelehnt werden. Die Feinstaubwerte am Tag und in der Nacht unterscheiden sich signifikant (auf dem 5&#x2009;%-Niveau)."
   ]
  },
  {
   "cell_type": "markdown",
   "id": "f73e25d8",
   "metadata": {
    "slideshow": {
     "slide_type": "skip"
    }
   },
   "source": [
    "## p-Wert\n",
    "\n",
    "Viele Statistikprogramme geben als Ergebnis einen **p-Wert** aus.\n",
    "\n",
    "Der $p$-Wert entspricht der Fläche unter dem Graphen der Wahrscheinlichkeitsdichte an den Enden jenseits der Prüfgröße."
   ]
  },
  {
   "cell_type": "code",
   "execution_count": 21,
   "id": "1b738e72",
   "metadata": {
    "scrolled": true
   },
   "outputs": [
    {
     "data": {
      "image/png": "[encoded data removed]",
      "text/plain": [
       "<Figure size 432x288 with 1 Axes>"
      ]
     },
     "metadata": {
      "needs_background": "light"
     },
     "output_type": "display_data"
    }
   ],
   "source": [
    "fig_p, ax_p = plt.subplots()\n",
    "\n",
    "k = np.arange(140, 170)\n",
    "\n",
    "ax_p.set_title('$p$-Wert')\n",
    "ax_p.set_xlabel('$k$')\n",
    "ax_p.set_ylabel(f'$P({n}, k, {p})$')\n",
    "ax_p.bar(k, binom.pmf(k, n, p), \n",
    "            color=[th_magenta if l < 151 else th_orange for l in k])\n",
    "\n",
    "ax_p.annotate(\"$p$-Wert\", xy = (147, 0.0002), xytext=(145, 0.003), \n",
    "                 arrowprops=dict(arrowstyle=\"->\"))\n",
    "None"
   ]
  },
  {
   "cell_type": "markdown",
   "id": "5fae55e9",
   "metadata": {},
   "source": [
    "An der Grenze zwischen dem Annahme- und dem Ablehnungsbereich entspricht der $p$-Wert genau dem Signifikanzniveau. Je weiter die Prüfgröße in den Ablehnungsbereich fällt, desto kleiner wird der $p$-Wert.\n",
    "\n",
    "Der Flächeninhalt unter dem Graphen der Wahrscheinlichkeitsfunktion entspricht dem Wert der [*cumulative density function*](https://docs.scipy.org/doc/scipy/reference/tutorial/stats.html) `cdf`. (Bei der zweiseitigen Fragestellung müssen wir das Ergebnis noch mit 2 multiplizieren, sehen Sie warum?)"
   ]
  },
  {
   "cell_type": "code",
   "execution_count": 22,
   "id": "0814d8cd",
   "metadata": {
    "slideshow": {
     "slide_type": "skip"
    }
   },
   "outputs": [
    {
     "name": "stdout",
     "output_type": "stream",
     "text": [
      "p-Wert:  0.001601\n"
     ]
    }
   ],
   "source": [
    "p_value = 2*binom.cdf(151, 151 + 212, 1/2)\n",
    "print(f\"p-Wert:  {p_value:8.4}\")"
   ]
  },
  {
   "cell_type": "markdown",
   "id": "2696487f",
   "metadata": {},
   "source": [
    "Liegt der $p$-Wert unter dem Signifikanzniveau&nbsp;$\\alpha$, gilt das Ergebnis als statistisch signifikant."
   ]
  },
  {
   "cell_type": "code",
   "execution_count": 23,
   "id": "f18a0ebe",
   "metadata": {},
   "outputs": [
    {
     "name": "stdout",
     "output_type": "stream",
     "text": [
      "Das Testergebnis ist statistisch signifikant.\n"
     ]
    }
   ],
   "source": [
    "if p_value <= α:\n",
    "    print(\"Das Testergebnis ist statistisch signifikant.\")\n",
    "else:\n",
    "    print(\"Das Testergebnis ist statistisch nicht signifikant.\")"
   ]
  },
  {
   "cell_type": "markdown",
   "id": "df10a659",
   "metadata": {
    "slideshow": {
     "slide_type": "skip"
    }
   },
   "source": [
    "Man verwendet den $p$-Wert auch dazu, verschiedene Ausprägungen von \n",
    "[Signifikanz](https://xkcd.com/882/) zu definieren:\n",
    "\n",
    "| $p$-Wert | Signifikanz | Sternchennotation |\n",
    "| :--------: | :-----------: | :-----------------: |\n",
    "| 0,1 &ndash; 1 | keine Signifikanz | (*kein Symbol*) |\n",
    "| 0,05 &ndash; 0,1 | schwach signifikant | + |\n",
    "| 0,01 &ndash; 0,05 | signifikant | * |\n",
    "| 0,001 &ndash; 0,01 | sehr signifikant | ** |\n",
    "| 0 &ndash; 0,001 | hoch signifikant | *** |\n",
    "\n",
    "Aber Vorsicht bei der Interpretation des $p$-Wertes: Er ist als Ergebnis eines Experiments auch nur eine Zufallsgröße.  \n",
    "\n",
    "**Auf keinen Fall darf er als die Wahrscheinlichkeit verstanden werden, mit der die Nullhypothese zutrifft!**"
   ]
  },
  {
   "cell_type": "markdown",
   "id": "f2fce4fe",
   "metadata": {
    "slideshow": {
     "slide_type": "skip"
    }
   },
   "source": [
    "### *Jelly beans cause acne!*\n",
    "\n",
    "https://xkcd.com/882/"
   ]
  },
  {
   "cell_type": "markdown",
   "id": "2156949c",
   "metadata": {
    "slideshow": {
     "slide_type": "subslide"
    }
   },
   "source": [
    "## Kausalzusammenhänge\n",
    "\n",
    "Aus dem Ergebnis eines Hypothesentests kann man noch nicht auf einen ursächlichen Zusammenhang zwischen den beobachteten Daten schließen. Wissenschaftlerinnen und Wissenschaftler können lediglich **Modelle** aufstellen.\n",
    "\n",
    "Belastbare Modelle können nur aus *prospektiv* anglegten Studien/Experimenten gewonnen werden (***Challenge, Dechallenge, Rechallenge***). Prospektiv bedeutet, dass Nullhypothese, Alternativhypothese, Teststatistik und Signifikanzniveau vor der Datenerhebung festgelegt werden; (im Nachhinhein kann man auch aus Zufallsdaten signifikante Zusammenhänge herauslesen, s. o., [*Jelly beans cause acne!*](https://xkcd.com/882/)).\n",
    "\n",
    "Die Modelle gelten dann solange als akzeptiert, bis neue Beobachtungen einem Modell widersprechen. Dann wird es in der Regel verfeinert."
   ]
  }
 ],
 "metadata": {
  "celltoolbar": "Create Assignment",
  "kernelspec": {
   "display_name": "DaLI-DM",
   "language": "python",
   "name": "python-dali-dm"
  },
  "language_info": {
   "codemirror_mode": {
    "name": "ipython",
    "version": 3
   },
   "file_extension": ".py",
   "mimetype": "text/x-python",
   "name": "python",
   "nbconvert_exporter": "python",
   "pygments_lexer": "ipython3",
   "version": "3.8.10"
  }
 },
 "nbformat": 4,
 "nbformat_minor": 5
}
