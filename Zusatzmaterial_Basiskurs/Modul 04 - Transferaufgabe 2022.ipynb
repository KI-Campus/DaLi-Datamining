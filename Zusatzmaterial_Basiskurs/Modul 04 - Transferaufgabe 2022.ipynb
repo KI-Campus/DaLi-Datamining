{
 "cells": [
  {
   "cell_type": "markdown",
   "id": "945c988c",
   "metadata": {},
   "source": [
    "### Wetterdaten importieren\n",
    "\n",
    "Die Meteostat-Stationskennung für **[Helgoland](https://meteostat.net/de/station/10015?t=2022-11-07/2022-11-14)** ist `10015`.\n",
    "\n",
    "Damit können wir die täglichen Wetterdaten für Helgoland für den Zeitraum vom 01.11.2021 bis 31.10.2022 direkt in einen Pandas-*Dataframe* einlesen:"
   ]
  },
  {
   "cell_type": "code",
   "execution_count": null,
   "id": "da1f6664",
   "metadata": {},
   "outputs": [],
   "source": [
    "helgoland_id   = '10015'\n",
    "helgoland_data = meteostat.Daily(helgoland_id, \n",
    "                                 start=datetime(2021, 11, 1), \n",
    "                                 end=datetime(2022, 10, 31)).fetch()\n",
    "helgoland_data"
   ]
  },
  {
   "cell_type": "markdown",
   "id": "cf29d10e",
   "metadata": {},
   "source": [
    "Auf Helgoland erwarte ich kräftigen Wind. Mich interessiert, ob es dort mehr Sonnentage oder mehr Regentage gibt.\n",
    "\n",
    "#### Forschungsfrage\n",
    "\n",
    "Wie verhält sich die Anzahl der Regentage zur Anzahl der Sonnentage auf Helgoland im jährlichen Mittel?"
   ]
  },
  {
   "cell_type": "markdown",
   "id": "9800709e",
   "metadata": {},
   "source": [
    "# explorative Visualisierung"
   ]
  },
  {
   "cell_type": "markdown",
   "id": "747e823e",
   "metadata": {},
   "source": [
    "## Durchschnittstemperatur"
   ]
  },
  {
   "cell_type": "code",
   "execution_count": null,
   "id": "33d659b5",
   "metadata": {},
   "outputs": [],
   "source": [
    "helgoland_data.tavg.plot()"
   ]
  },
  {
   "cell_type": "markdown",
   "id": "ec0d29d8",
   "metadata": {},
   "source": [
    "## Niederschlag"
   ]
  },
  {
   "cell_type": "code",
   "execution_count": null,
   "id": "2ca62d21",
   "metadata": {},
   "outputs": [],
   "source": [
    "helgoland_data.prcp.plot()"
   ]
  },
  {
   "cell_type": "markdown",
   "id": "108420de",
   "metadata": {},
   "source": [
    "## Windgeschwindigkeiten"
   ]
  },
  {
   "cell_type": "code",
   "execution_count": null,
   "id": "d8747100",
   "metadata": {},
   "outputs": [],
   "source": [
    "helgoland_data.wspd.plot()"
   ]
  },
  {
   "cell_type": "markdown",
   "id": "764d34bd",
   "metadata": {},
   "source": [
    "## Sonnenscheindauer"
   ]
  },
  {
   "cell_type": "code",
   "execution_count": null,
   "id": "a9dbe45b",
   "metadata": {},
   "outputs": [],
   "source": [
    "helgoland_data.tsun.plot()"
   ]
  },
  {
   "cell_type": "markdown",
   "id": "3f6fc408",
   "metadata": {},
   "source": [
    "# Kenngrößen berechnen"
   ]
  },
  {
   "cell_type": "markdown",
   "id": "3d3d993c",
   "metadata": {},
   "source": [
    "## Sonnenscheindauer"
   ]
  },
  {
   "cell_type": "markdown",
   "id": "c1936e58",
   "metadata": {},
   "source": [
    "### Mittelwert"
   ]
  },
  {
   "cell_type": "code",
   "execution_count": null,
   "id": "0b34eae1",
   "metadata": {},
   "outputs": [],
   "source": [
    "helgoland_data.tsun.mean()"
   ]
  },
  {
   "cell_type": "markdown",
   "id": "a4989502",
   "metadata": {},
   "source": [
    "### Minimum"
   ]
  },
  {
   "cell_type": "code",
   "execution_count": null,
   "id": "e1f2e6a7",
   "metadata": {},
   "outputs": [],
   "source": [
    "helgoland_data.tsun.min()"
   ]
  },
  {
   "cell_type": "markdown",
   "id": "49420248",
   "metadata": {},
   "source": [
    "### Maximum"
   ]
  },
  {
   "cell_type": "code",
   "execution_count": null,
   "id": "29e31ea5",
   "metadata": {},
   "outputs": [],
   "source": [
    "helgoland_data.tsun.min()"
   ]
  },
  {
   "cell_type": "markdown",
   "id": "2c752864",
   "metadata": {},
   "source": [
    "### Median"
   ]
  },
  {
   "cell_type": "code",
   "execution_count": null,
   "id": "6f641503",
   "metadata": {},
   "outputs": [],
   "source": [
    "helgoland_data.tsun.median()"
   ]
  },
  {
   "cell_type": "code",
   "execution_count": null,
   "id": "7af4ee5e",
   "metadata": {},
   "outputs": [],
   "source": [
    "helgoland_data.prcp.max()"
   ]
  },
  {
   "cell_type": "markdown",
   "id": "99b069c4",
   "metadata": {},
   "source": [
    "## Quantile\n",
    "\n",
    "Das Minimum in einem Datensatz entspricht der 0&npsp;%-Quantile, der Median der 50&thinspace;%-Quantile und das Maximum der 100&thinspace;-Quantile. Damit lässt sich die Aufgabe einfach mit einer Schleife über die geforderten Prozentzahlen lösen:"
   ]
  },
  {
   "cell_type": "code",
   "execution_count": null,
   "id": "441dc1d0",
   "metadata": {},
   "outputs": [],
   "source": [
    "for percent in [0, 25, 50, 75, 100]:\n",
    "    print(f\"{percent:3} %-Quantil: {helgoland_data.tsun.quantile(percent/100)}\")"
   ]
  },
  {
   "cell_type": "markdown",
   "id": "0d7efe36",
   "metadata": {},
   "source": [
    "### Interquartilsabstand: "
   ]
  },
  {
   "cell_type": "code",
   "execution_count": null,
   "id": "3a0303b3",
   "metadata": {},
   "outputs": [],
   "source": [
    "helgoland_data.tsun.quantile(0.75) - helgoland_data.quantile(0.25)"
   ]
  }
 ],
 "metadata": {
  "kernelspec": {
   "display_name": "Python 3",
   "language": "python",
   "name": "python-dali-dm"
  },
  "language_info": {
   "codemirror_mode": {
    "name": "ipython",
    "version": 3
   },
   "file_extension": ".py",
   "mimetype": "text/x-python",
   "name": "python",
   "nbconvert_exporter": "python",
   "pygments_lexer": "ipython3",
   "version": "3.8.8"
  },
  "latex_envs": {
   "LaTeX_envs_menu_present": true,
   "autoclose": false,
   "autocomplete": true,
   "bibliofile": "biblio.bib",
   "cite_by": "apalike",
   "current_citInitial": 1,
   "eqLabelWithNumbers": true,
   "eqNumInitial": 1,
   "hotkeys": {
    "equation": "Ctrl-E",
    "itemize": "Ctrl-I"
   },
   "labels_anchors": false,
   "latex_user_defs": false,
   "report_style_numbering": false,
   "user_envs_cfg": false
  },
  "toc": {
   "base_numbering": 1,
   "nav_menu": {},
   "number_sections": false,
   "sideBar": true,
   "skip_h1_title": true,
   "title_cell": "Table of Contents",
   "title_sidebar": "Contents",
   "toc_cell": false,
   "toc_position": {},
   "toc_section_display": true,
   "toc_window_display": false
  },
  "varInspector": {
   "cols": {
    "lenName": 16,
    "lenType": 16,
    "lenVar": 40
   },
   "kernels_config": {
    "python": {
     "delete_cmd_postfix": "",
     "delete_cmd_prefix": "del ",
     "library": "var_list.py",
     "varRefreshCmd": "print(var_dic_list())"
    },
    "r": {
     "delete_cmd_postfix": ") ",
     "delete_cmd_prefix": "rm(",
     "library": "var_list.r",
     "varRefreshCmd": "cat(var_dic_list()) "
    }
   },
   "types_to_exclude": [
    "module",
    "function",
    "builtin_function_or_method",
    "instance",
    "_Feature"
   ],
   "window_display": false
  }
 },
 "nbformat": 4,
 "nbformat_minor": 5
}
