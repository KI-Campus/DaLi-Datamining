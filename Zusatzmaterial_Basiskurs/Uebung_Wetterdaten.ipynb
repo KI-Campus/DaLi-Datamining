{
 "cells": [
  {
   "cell_type": "markdown",
   "id": "collective-guatemala",
   "metadata": {},
   "source": [
    "# <font color='darkblue'>Wetter-Daten und Luftqualität kombinieren</font>"
   ]
  },
  {
   "cell_type": "markdown",
   "id": "consolidated-carnival",
   "metadata": {},
   "source": [
    "Mit Ihren grundlegenden Python-Fähigkeiten sollen Sie jetzt eine kleine Analyse von zwei Datensätzen durchführen.\n",
    "\n",
    "Bei dem ersten Datensatz handelt es sich um Werte, welche in ihrer ursprünglichen Form von Meteostat <a href=\"https://meteostat.net/de/place/45I0JU?t=2020-11-01/2021-10-31\">auf dieser Seite</a> zur Verfügung gestellt werden. Die Daten aus dem zweiten Datensatz werden vom Umweltbundesamt <a href=\"https://www.umweltbundesamt.de/daten/luft/luftdaten\">auf dieser Seite</a> zur Verfügung gestellt. \n",
    "\n",
    "\n",
    "Hierbei nutzen Sie das populäre Package `pandas`, das besonders zum Einlesen und bearbeiten von tabelarischen Daten sinnvoll ist. Häufig werden hier Abkürzungen für die geladenen Packages vergeben. Für `pandas` ist `pd` üblich."
   ]
  },
  {
   "cell_type": "code",
   "execution_count": null,
   "id": "standard-celtic",
   "metadata": {},
   "outputs": [],
   "source": [
    "import pandas as pd"
   ]
  },
  {
   "cell_type": "markdown",
   "id": "functioning-symphony",
   "metadata": {},
   "source": [
    "Zu allererst nutzen Sie die Funktion `read_csv` aus `pandas`, was Sie mit pd abgekürzt haben,\n",
    "um die Datei `weather_cologne_selected.csv` einzulesen. In diesem Fall\n",
    "trennt der Punkt nicht Objekt von einer Methode ab, sondern den Package-Namen \n",
    "bzw. dessen Abkürzung von einer Funktion."
   ]
  },
  {
   "cell_type": "code",
   "execution_count": null,
   "id": "crude-restaurant",
   "metadata": {},
   "outputs": [],
   "source": [
    "weather = pd.read_csv(\"weather_cologne_selected.csv\")"
   ]
  },
  {
   "cell_type": "markdown",
   "id": "sharp-citizenship",
   "metadata": {},
   "source": [
    "Die Funktion gibt eine Datenstruktur, die DataFrame genannt wird, zurück, die Sie in \n",
    "der Variablen `weather` ablegen. Diese können Sie sich jetzt anzeigen lassen, bei dieser Art der Darstellung\n",
    "werden nur die ersten 5 und letzten 5 Zeilen dargestellt."
   ]
  },
  {
   "cell_type": "code",
   "execution_count": null,
   "id": "tired-former",
   "metadata": {},
   "outputs": [],
   "source": [
    "weather"
   ]
  },
  {
   "cell_type": "markdown",
   "id": "invalid-theta",
   "metadata": {},
   "source": [
    "Mit der Methode `describe` können Sie sich für alle numerischen Spalten - in diesem Fall `tmin` für die Minimaltemperatur und `tmax` für die Maximaltemperatur -  statistische Kennziffern wie den Mittelwert (`mean`), die Standardabweichtung (`std`) u.ä.  anzeigen lassen."
   ]
  },
  {
   "cell_type": "code",
   "execution_count": null,
   "id": "limiting-stephen",
   "metadata": {},
   "outputs": [],
   "source": [
    "weather.describe()"
   ]
  },
  {
   "cell_type": "markdown",
   "id": "aerial-specification",
   "metadata": {},
   "source": [
    "Mit `pandas` können Sie sogar Graphiken erzeugen, hier zum Beispiel den Zusammenhang von der Minimal- und Maximaltemperatur eines Tages durch ein Streudiagramm."
   ]
  },
  {
   "cell_type": "code",
   "execution_count": null,
   "id": "fatty-imperial",
   "metadata": {},
   "outputs": [],
   "source": [
    "fig = weather.plot.scatter(x=\"tmin\", y=\"tmax\")"
   ]
  },
  {
   "cell_type": "markdown",
   "id": "electrical-midnight",
   "metadata": {},
   "source": [
    "Nun soll ein zweiter Datensatz zur Luftqualität hinzugefügt werden. Auch hier nutzen Sie die Funktion `read_cs` von `panda` um die Daten aus der Datei `air_qualities_cologne.csv` einzulesen."
   ]
  },
  {
   "cell_type": "code",
   "execution_count": null,
   "id": "everyday-homeless",
   "metadata": {},
   "outputs": [],
   "source": [
    "air_quality = pd.read_csv(\"air_qualities_cologne.csv\")"
   ]
  },
  {
   "cell_type": "markdown",
   "id": "welcome-point",
   "metadata": {},
   "source": [
    "Schauen Sie sich den Inhalt des DataFrames an. Hier sind neben Datum und Uhrzeiten unter anderen Feinstaub- und Ozonwerte zu finden."
   ]
  },
  {
   "cell_type": "code",
   "execution_count": null,
   "id": "racial-mineral",
   "metadata": {},
   "outputs": [],
   "source": [
    "air_quality"
   ]
  },
  {
   "cell_type": "markdown",
   "id": "handed-ancient",
   "metadata": {},
   "source": [
    "Auch hier können Sie sich für die numerischen Spalten die statistischen Kennzahlen anzeigen lassen."
   ]
  },
  {
   "cell_type": "code",
   "execution_count": null,
   "id": "tested-circulation",
   "metadata": {},
   "outputs": [],
   "source": [
    "air_quality.describe()"
   ]
  },
  {
   "cell_type": "markdown",
   "id": "innovative-conspiracy",
   "metadata": {},
   "source": [
    "Einzelne Spalten, in '`pandas` Series genannt, können durch eckige Klammern und den Spaltennamen angesprochen werden. Hier am Beispiel der Feinstaubspalte."
   ]
  },
  {
   "cell_type": "code",
   "execution_count": null,
   "id": "atmospheric-handbook",
   "metadata": {},
   "outputs": [],
   "source": [
    "air_quality[\"Feinstaub\"]"
   ]
  },
  {
   "cell_type": "markdown",
   "id": "loaded-prefix",
   "metadata": {},
   "source": [
    "Einzelne Spalten besitzen eine Methode names `hist`, mit der die Verteilung der Werte als Histogramm dargestellt werden können. Dabei wird der Wertebereich alle Werte in der Spalte in 10 gleich große Bereiche aufgeteilt. Es wird dann gezählt wie viele der Werte in den jeweiligen Bereich fallen und dies als Balkenlänge dargestellt."
   ]
  },
  {
   "cell_type": "code",
   "execution_count": null,
   "id": "noble-paris",
   "metadata": {},
   "outputs": [],
   "source": [
    "fig_2 = air_quality[\"Feinstaub\"].hist()"
   ]
  },
  {
   "cell_type": "markdown",
   "id": "brown-moisture",
   "metadata": {},
   "source": [
    "Als letzte werden die beiden DataFrames an Hand einer gemeinsamen Spalte, hier die Datums-Spalte, zusammengefügt. Dabei ist zu beachten, dass der DataFrame mit den Luftqualitätsdaten sehr viel mehr Einträge besitzt als der Temperatur-DataFrame. \n",
    "\n",
    "Hierzu nutzen Sie die Methode `merge` des DataFrames `air_quality` und übergeben den anderen DataFrame `weather` als erstes Argument. Als sogenannte Keyword-Argumente geben Sie die Namen der beiden Spalten mit. `left_on` mit dem Spaltennamen im `air_quality`-DataFrame und `right_on` mit dem Spaltennamen im `weather`-DataFrame."
   ]
  },
  {
   "cell_type": "code",
   "execution_count": null,
   "id": "answering-notion",
   "metadata": {},
   "outputs": [],
   "source": [
    "air_quality_and_weather = air_quality.merge(weather, left_on=\"Datum\", right_on=\"date\")"
   ]
  },
  {
   "cell_type": "markdown",
   "id": "different-qatar",
   "metadata": {},
   "source": [
    "Das Ergebnis speichern Sie in der Variable `air_quality_and_weather`. Schauen Sie sich das Ergebnis einmal an:"
   ]
  },
  {
   "cell_type": "code",
   "execution_count": null,
   "id": "large-separation",
   "metadata": {},
   "outputs": [],
   "source": [
    "air_quality_and_weather"
   ]
  },
  {
   "cell_type": "markdown",
   "id": "apart-incidence",
   "metadata": {},
   "source": [
    "Jetzt können Sie Wert beider Datensätze in Zusammenhang bringen. Ist bei hoher Temperatur auch der Feinstaubgehalt hoch? Dies scheint nicht der Fall zu sein."
   ]
  },
  {
   "cell_type": "code",
   "execution_count": null,
   "id": "satellite-frequency",
   "metadata": {},
   "outputs": [],
   "source": [
    "fig_3 = air_quality_and_weather.plot.scatter(x=\"Feinstaub\", y=\"tmin\")"
   ]
  }
 ],
 "metadata": {
  "kernelspec": {
   "display_name": "DaLI-DM",
   "language": "python",
   "name": "python-dali-dm"
  },
  "language_info": {
   "codemirror_mode": {
    "name": "ipython",
    "version": 3
   },
   "file_extension": ".py",
   "mimetype": "text/x-python",
   "name": "python",
   "nbconvert_exporter": "python",
   "pygments_lexer": "ipython3",
   "version": "3.8.8"
  },
  "latex_envs": {
   "LaTeX_envs_menu_present": true,
   "autoclose": false,
   "autocomplete": true,
   "bibliofile": "biblio.bib",
   "cite_by": "apalike",
   "current_citInitial": 1,
   "eqLabelWithNumbers": true,
   "eqNumInitial": 1,
   "hotkeys": {
    "equation": "Ctrl-E",
    "itemize": "Ctrl-I"
   },
   "labels_anchors": false,
   "latex_user_defs": false,
   "report_style_numbering": false,
   "user_envs_cfg": false
  },
  "toc": {
   "base_numbering": 1,
   "nav_menu": {},
   "number_sections": false,
   "sideBar": true,
   "skip_h1_title": true,
   "title_cell": "Table of Contents",
   "title_sidebar": "Contents",
   "toc_cell": false,
   "toc_position": {},
   "toc_section_display": true,
   "toc_window_display": false
  },
  "varInspector": {
   "cols": {
    "lenName": 16,
    "lenType": 16,
    "lenVar": 40
   },
   "kernels_config": {
    "python": {
     "delete_cmd_postfix": "",
     "delete_cmd_prefix": "del ",
     "library": "var_list.py",
     "varRefreshCmd": "print(var_dic_list())"
    },
    "r": {
     "delete_cmd_postfix": ") ",
     "delete_cmd_prefix": "rm(",
     "library": "var_list.r",
     "varRefreshCmd": "cat(var_dic_list()) "
    }
   },
   "types_to_exclude": [
    "module",
    "function",
    "builtin_function_or_method",
    "instance",
    "_Feature"
   ],
   "window_display": false
  }
 },
 "nbformat": 4,
 "nbformat_minor": 5
}
