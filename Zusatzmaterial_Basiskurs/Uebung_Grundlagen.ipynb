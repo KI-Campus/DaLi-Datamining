{
 "cells": [
  {
   "cell_type": "markdown",
   "id": "brilliant-unemployment",
   "metadata": {},
   "source": [
    "#  <font color='darkblue'>Python Grundlagen</font>"
   ]
  },
  {
   "cell_type": "markdown",
   "id": "80d787bf",
   "metadata": {},
   "source": [
    "<hr style=\"border:1px solid gray\"> </hr>"
   ]
  },
  {
   "cell_type": "markdown",
   "id": "floppy-richardson",
   "metadata": {},
   "source": [
    "Wie bereits angekündigt, wird in diesem Kurs Python über Jupyter Notebooks genutzt. Sie können innerhalb dieses Kurses auf die zum Kurs gehörenden Notebooks zugreifen ohne hierfür ein Software installieren zu müssen. Klicken Sie dazu einfach jeweils auf den Link des Notebooks, welches Sie öffnen wollen. Dieses öffnet sich dann in einem anderen Browserfenster. \n",
    "\n",
    "Schauen Sie sich erst einmal im Jupyter Notebook um. Sie können neue Zellen erstellen und den Typ der Zellen auswählen. Dabei können Sie zwischen Code und Markdown unterscheiden. Mit Markdown können Sie Text formatieren. Zum Beispiel können Sie ein Wort durch Umklammerung mit einem Sternchen *kursiv* schreiben. Mit zwei Sternchen wird der Text **fett**."
   ]
  },
  {
   "cell_type": "markdown",
   "id": "empirical-methodology",
   "metadata": {},
   "source": [
    "## <font color='darkblue'>1. Einfache Rechenoperationen</font>"
   ]
  },
  {
   "cell_type": "markdown",
   "id": "homeless-institution",
   "metadata": {},
   "source": [
    "Beginnen Sie mit einer einfachen Rechenoperation und addieren 10 und 5. \n",
    "Dazu geben Sie `10`, `+` und `5` ein und führen die Zelle mit `Shift` und `Enter` aus.\n",
    "Alternativ können Sie den Run-Button in der Menüleiste klicken.\n",
    "Super - wir haben eine Taschenrechner."
   ]
  },
  {
   "cell_type": "code",
   "execution_count": 1,
   "id": "finnish-stockholm",
   "metadata": {},
   "outputs": [
    {
     "data": {
      "text/plain": [
       "15"
      ]
     },
     "execution_count": 1,
     "metadata": {},
     "output_type": "execute_result"
    }
   ],
   "source": [
    "10 + 5"
   ]
  },
  {
   "cell_type": "markdown",
   "id": "functional-house",
   "metadata": {},
   "source": [
    "Auch andere Operationen wie Divison funktionieren. Zum Beispiel 3 geteilt durch 2."
   ]
  },
  {
   "cell_type": "code",
   "execution_count": 2,
   "id": "critical-gender",
   "metadata": {},
   "outputs": [
    {
     "data": {
      "text/plain": [
       "1.5"
      ]
     },
     "execution_count": 2,
     "metadata": {},
     "output_type": "execute_result"
    }
   ],
   "source": [
    "3 / 2"
   ]
  },
  {
   "cell_type": "markdown",
   "id": "apparent-pledge",
   "metadata": {},
   "source": [
    "## <font color='darkblue'>2. Die print-Funktion</font>"
   ]
  },
  {
   "cell_type": "markdown",
   "id": "floppy-roots",
   "metadata": {},
   "source": [
    "Jetzt soll eine erste Python-Funktion genutzt werden. Beginnen Sie mit der `print`-Funktion, die Werte ausgibt. Für den Funktionsaufruf müssen Sie den Funktionsnamen und eine öffnende und eine schließende Klammer schreiben. In die Klammer schreiben Sie ein sogennantes Argument, in dem Fall eine Zeichenkette, was durch Anführungszeichen anzeigt wird.\n"
   ]
  },
  {
   "cell_type": "code",
   "execution_count": 3,
   "id": "neither-chick",
   "metadata": {},
   "outputs": [
    {
     "name": "stdout",
     "output_type": "stream",
     "text": [
      "Hello World\n"
     ]
    }
   ],
   "source": [
    "print(\"Hello World\")"
   ]
  },
  {
   "cell_type": "markdown",
   "id": "moving-messaging",
   "metadata": {},
   "source": [
    "## <font color='darkblue'>3. Variablen-Zuweisungen</font>"
   ]
  },
  {
   "cell_type": "markdown",
   "id": "thirty-lithuania",
   "metadata": {},
   "source": [
    "Ein wichtiges Konzept beim Programmieren mit Python sind die sogenannten Variablen. Variablen können viele unterschiedliche Dinge enthalten, beispielsweise Zahlen, Worte, Sätze, Bilder, Listen. Um eine Variable zu definieren wird zunächst der Name der Variable, dann ein Gleichheitszeichen und dann das geschrieben, was die Variable enthalten soll. Betrachten Sie die folgenden Beispiele."
   ]
  },
  {
   "cell_type": "markdown",
   "id": "legitimate-elephant",
   "metadata": {},
   "source": [
    "Hier wird der Variablen `number_of_plants` der Wert `20` - eine Ganzzahl auch Integer - zugeordnet."
   ]
  },
  {
   "cell_type": "code",
   "execution_count": 4,
   "id": "radical-institute",
   "metadata": {},
   "outputs": [],
   "source": [
    "number_of_plants = 20"
   ]
  },
  {
   "cell_type": "markdown",
   "id": "genuine-blast",
   "metadata": {},
   "source": [
    "Im nächsten Beipiel weisen Sie eine Zeichenkette zu. Diese werden wie vorhin gesagt durch Anführungszeichen ein- und ausgeleitet."
   ]
  },
  {
   "cell_type": "code",
   "execution_count": 5,
   "id": "descending-association",
   "metadata": {},
   "outputs": [],
   "source": [
    "wise_sentence = \"All generalisations are wrong.\""
   ]
  },
  {
   "cell_type": "markdown",
   "id": "differential-console",
   "metadata": {},
   "source": [
    "### <font color='darkblue'>3.1 Listen</font>"
   ]
  },
  {
   "cell_type": "markdown",
   "id": "hybrid-pointer",
   "metadata": {},
   "source": [
    "Als nächstes schauen Sie sich einen weiteren Python-Datentyp an. Hierbei handelt es sich um eine Liste, die verschiedene Objekte zusammenfasst:"
   ]
  },
  {
   "cell_type": "code",
   "execution_count": 6,
   "id": "sonic-portsmouth",
   "metadata": {},
   "outputs": [],
   "source": [
    "bag_of_things = [3, \"sky\", \"unicorns\", 6.23]"
   ]
  },
  {
   "cell_type": "markdown",
   "id": "suspected-device",
   "metadata": {},
   "source": [
    "### <font color='darkblue'>3.2 Dictionaries</font>"
   ]
  },
  {
   "cell_type": "markdown",
   "id": "failing-terrace",
   "metadata": {},
   "source": [
    "Ein weiterer häufig verwendeter Datentyp sind die Dictionaries in denen Schlüssel- und Werte-Paare gespeichert werden. Hier beispielweise die Namen von Früchten und ihren Farben."
   ]
  },
  {
   "cell_type": "code",
   "execution_count": 7,
   "id": "institutional-pilot",
   "metadata": {},
   "outputs": [],
   "source": [
    "fruits_and_colors = {\"banana\": \"yellow\",\n",
    "                     \"strawberry\": \"red\",\n",
    "                     \"blueberry\": \"blue\"}"
   ]
  },
  {
   "cell_type": "markdown",
   "id": "obvious-customer",
   "metadata": {},
   "source": [
    "## <font color='darkblue'>4. Nutzung weiterer Funktionen und Methoden</font>"
   ]
  },
  {
   "cell_type": "markdown",
   "id": "sustained-genetics",
   "metadata": {},
   "source": [
    "Python beinhaltet viele vorgefertigte Befehle, um mit den Variablen zu hantieren. Hierbei unterscheiden sich sogenannte Funktionen von Methoden. Eine Funktion wird angewendet, indem ihr Name geschrieben wird und dahinter in runden Klammern das Objekt, auf das die Funktion angewendet werden soll. Eine Methode ist ein spezielle Funktion, die an ein bestimmtes Objekt - wie zum Beispiel eine Zeichenketten - geknüpft ist. Eine Methode wird angewendet, indem hinter das Objekt, ein Punkt und dann der Name für die Methode mit abschließenden runden Klammern geschrieben wird. Den Unterschied zeigt das folgende Beispiel.\n",
    "\n",
    "Hier nutzen Sie die Funktion `len` um die Länge einer Zeichenkette zu berechnen:"
   ]
  },
  {
   "cell_type": "code",
   "execution_count": 8,
   "id": "monetary-density",
   "metadata": {},
   "outputs": [
    {
     "data": {
      "text/plain": [
       "30"
      ]
     },
     "execution_count": 8,
     "metadata": {},
     "output_type": "execute_result"
    }
   ],
   "source": [
    "len(wise_sentence)"
   ]
  },
  {
   "cell_type": "markdown",
   "id": "interested-porcelain",
   "metadata": {},
   "source": [
    "Hier nutzen Sie die Methode `upper`, die alle Zeichenketten-Objekte besitzen, um alle Zeichen der Zeichenkette großgeschrieben zurückgeben zu lassen."
   ]
  },
  {
   "cell_type": "code",
   "execution_count": 9,
   "id": "retained-climate",
   "metadata": {},
   "outputs": [
    {
     "data": {
      "text/plain": [
       "'ALL GENERALISATIONS ARE WRONG.'"
      ]
     },
     "execution_count": 9,
     "metadata": {},
     "output_type": "execute_result"
    }
   ],
   "source": [
    "wise_sentence.upper()"
   ]
  },
  {
   "cell_type": "markdown",
   "id": "ordinary-affair",
   "metadata": {},
   "source": [
    "Die vorherige Methode benötigt kein zusätzlichen Argumente. Jetzt werden Sie die Methode `count` nutzen um ein Zeichenkette in einer anderen zu suchen.\n",
    "Die Suchzeichenkette ist in diesem Falle ein \"e\"."
   ]
  },
  {
   "cell_type": "code",
   "execution_count": 10,
   "id": "descending-handbook",
   "metadata": {},
   "outputs": [
    {
     "data": {
      "text/plain": [
       "3"
      ]
     },
     "execution_count": 10,
     "metadata": {},
     "output_type": "execute_result"
    }
   ],
   "source": [
    "wise_sentence.count(\"e\")"
   ]
  },
  {
   "cell_type": "markdown",
   "id": "overall-scenario",
   "metadata": {},
   "source": [
    "Jetzt werden Sie die Methode `replace` nutzen, die nicht nur ein sondern gleich zwei \n",
    "Argumente benötigt. Zuerst die Zeichenkette, die ersetzt werden soll, und dann\n",
    "die Zeichenkette, die stattdessen eingefügt wird."
   ]
  },
  {
   "cell_type": "code",
   "execution_count": 11,
   "id": "appropriate-smoke",
   "metadata": {},
   "outputs": [
    {
     "data": {
      "text/plain": [
       "'All generalisations are right.'"
      ]
     },
     "execution_count": 11,
     "metadata": {},
     "output_type": "execute_result"
    }
   ],
   "source": [
    "wise_sentence.replace(\"wrong\", \"right\")"
   ]
  },
  {
   "cell_type": "markdown",
   "id": "4cbd014d",
   "metadata": {},
   "source": [
    "## <font color='darkblue'>5. Nutzung weiterer Packages</font>"
   ]
  },
  {
   "cell_type": "markdown",
   "id": "composite-thing",
   "metadata": {},
   "source": [
    "Bisher haben Sie nur die Kern-Sprachelement von Python genutzt. Python bringt aber eine reichhaltige Sammlung an Erweiterungen mit sich.\n",
    "\n",
    "Hier nutzen Sie zum Beipsiel das Package `math`. Dieses laden Sie in das momentan genutzte Jupyter Notebook mit dem Keyword `import` und dem Namen des Packages."
   ]
  },
  {
   "cell_type": "code",
   "execution_count": 12,
   "id": "valid-dealing",
   "metadata": {},
   "outputs": [],
   "source": [
    "import math"
   ]
  },
  {
   "cell_type": "markdown",
   "id": "caring-advertising",
   "metadata": {},
   "source": [
    "Das Package bring nun mathematische Konstanten und Operationen mit.\n",
    "Zum Beispiel die Zahl pi..."
   ]
  },
  {
   "cell_type": "code",
   "execution_count": 13,
   "id": "artistic-workstation",
   "metadata": {},
   "outputs": [
    {
     "data": {
      "text/plain": [
       "3.141592653589793"
      ]
     },
     "execution_count": 13,
     "metadata": {},
     "output_type": "execute_result"
    }
   ],
   "source": [
    "math.pi"
   ]
  },
  {
   "cell_type": "markdown",
   "id": "dried-ranking",
   "metadata": {},
   "source": [
    "... oder die mögliche die Möglichkeit den Cosinus zu berechnen."
   ]
  },
  {
   "cell_type": "code",
   "execution_count": 14,
   "id": "southern-amendment",
   "metadata": {},
   "outputs": [
    {
     "data": {
      "text/plain": [
       "-1.0"
      ]
     },
     "execution_count": 14,
     "metadata": {},
     "output_type": "execute_result"
    }
   ],
   "source": [
    "math.cos(math.pi)"
   ]
  }
 ],
 "metadata": {
  "kernelspec": {
   "display_name": "DaLI-DM",
   "language": "python",
   "name": "DaLI-DM"
  },
  "language_info": {
   "codemirror_mode": {
    "name": "ipython",
    "version": 3
   },
   "file_extension": ".py",
   "mimetype": "text/x-python",
   "name": "python",
   "nbconvert_exporter": "python",
   "pygments_lexer": "ipython3",
   "version": "3.8.8"
  },
  "latex_envs": {
   "LaTeX_envs_menu_present": true,
   "autoclose": false,
   "autocomplete": true,
   "bibliofile": "biblio.bib",
   "cite_by": "apalike",
   "current_citInitial": 1,
   "eqLabelWithNumbers": true,
   "eqNumInitial": 1,
   "hotkeys": {
    "equation": "Ctrl-E",
    "itemize": "Ctrl-I"
   },
   "labels_anchors": false,
   "latex_user_defs": false,
   "report_style_numbering": false,
   "user_envs_cfg": false
  },
  "toc": {
   "base_numbering": 1,
   "nav_menu": {},
   "number_sections": false,
   "sideBar": true,
   "skip_h1_title": true,
   "title_cell": "Table of Contents",
   "title_sidebar": "Contents",
   "toc_cell": false,
   "toc_position": {},
   "toc_section_display": true,
   "toc_window_display": false
  },
  "varInspector": {
   "cols": {
    "lenName": 16,
    "lenType": 16,
    "lenVar": 40
   },
   "kernels_config": {
    "python": {
     "delete_cmd_postfix": "",
     "delete_cmd_prefix": "del ",
     "library": "var_list.py",
     "varRefreshCmd": "print(var_dic_list())"
    },
    "r": {
     "delete_cmd_postfix": ") ",
     "delete_cmd_prefix": "rm(",
     "library": "var_list.r",
     "varRefreshCmd": "cat(var_dic_list()) "
    }
   },
   "types_to_exclude": [
    "module",
    "function",
    "builtin_function_or_method",
    "instance",
    "_Feature"
   ],
   "window_display": false
  }
 },
 "nbformat": 4,
 "nbformat_minor": 5
}
