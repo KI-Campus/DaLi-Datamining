{
 "cells": [
  {
   "cell_type": "markdown",
   "metadata": {},
   "source": [
    "# <font color='darkblue'>Modul 2: Datenvorbereitung bis zum train-test-split - Was macht Schokolade lecker?</font>  &nbsp; <font size='6'>&#x1F36B;</font>"
   ]
  },
  {
   "cell_type": "markdown",
   "metadata": {},
   "source": [
    "<hr style=\"border:1px solid gray\"> </hr>"
   ]
  },
  {
   "cell_type": "markdown",
   "metadata": {},
   "source": [
    "In diesem Notebook wird mit einem Datensatz, welcher in einem späteren Modul zur Klassifikation verwendet werden soll, noch einmal das Bereinigen und Darstellen von Daten geübt. Außerdem wird die Bedeutungen der Parameter von `train_test_split()` erforscht. "
   ]
  },
  {
   "cell_type": "markdown",
   "metadata": {},
   "source": [
    "## <font color='darkblue'>Inhalt</font>\n",
    "\n",
    "1. [Datenvorbereitung mit Schokolade](#kap1)  \n",
    "    1.1 [Datensatz einbinden und erforschen](#kap11)  \n",
    "    1.2 [Datensatz bereinigen und vorbereiten](#kap12)  \n",
    "    &emsp; &ensp;1.2.1 [One-Hot-Encoding](#kap121)\n",
    "     \n",
    "   \n",
    "2. [Train-test-split](#kap2)     \n",
    "\n",
    "\n",
    "3. [Fazit](#kap3)"
   ]
  },
  {
   "cell_type": "markdown",
   "metadata": {},
   "source": [
    "<hr style=\"border:1px solid gray\"> </hr>"
   ]
  },
  {
   "cell_type": "markdown",
   "metadata": {},
   "source": [
    "## <font color='darkblue'>1.  Datenvorbereitung mit Schokolade</font> <a name=\"kap1\"></a>"
   ]
  },
  {
   "cell_type": "markdown",
   "metadata": {},
   "source": [
    "### <font color='darkblue'>1.1  Datensatz einbinden und erforschen</font> <a name=\"kap11\"></a>"
   ]
  },
  {
   "cell_type": "markdown",
   "metadata": {},
   "source": [
    "In diesem Beispiel soll ein Datensatz mit Merkmalen von Schokoladenriegeln untersucht werden, der ursprünglich auf <a href=\"http://flavorsofcacao.com/chocolate_database.html\">Flavors of Cacao</a> veröffentlicht wurde, aber auch über <a href=\"https://www.kaggle.com/andrewmvd/chocolate-ratings\">Kaggle</a> heruntergeladen werden kann. Mit ihm soll im vierten Modul ein Modell zur Bewertung des Geschmacks von Schokoladenriegeln anhand verschiedener Merkmale erstellt werden. \n",
    "\n",
    "Die Grundlage des Datensatzes ist eine Untersuchung, für die in den Jahren 2012 bis 2020 2530 verschiedene Schokoladenriegel in ihrem Geschmack bewertet wurden. Dabei wurden unter anderem charakteristische Eigenschaften der Riegel angegeben. "
   ]
  },
  {
   "cell_type": "markdown",
   "metadata": {},
   "source": [
    "Zunächst werden die benötigten Bibliotheken eingebunden, sowie der Datensatz eingelesen und ein Überblick angezeigt."
   ]
  },
  {
   "cell_type": "code",
   "execution_count": null,
   "metadata": {},
   "outputs": [],
   "source": [
    "import numpy as np \n",
    "import pandas as pd \n",
    "import seaborn as sns\n",
    "import matplotlib.pyplot as plt"
   ]
  },
  {
   "cell_type": "code",
   "execution_count": null,
   "metadata": {
    "execution": {
     "iopub.execute_input": "2022-01-31T08:10:50.850875Z",
     "iopub.status.busy": "2022-01-31T08:10:50.850554Z",
     "iopub.status.idle": "2022-01-31T08:10:50.890282Z",
     "shell.execute_reply": "2022-01-31T08:10:50.888921Z",
     "shell.execute_reply.started": "2022-01-31T08:10:50.850838Z"
    }
   },
   "outputs": [],
   "source": [
    "df = pd.read_csv('M2_Uebung_Schokolade.csv')\n",
    "df.info()"
   ]
  },
  {
   "cell_type": "code",
   "execution_count": null,
   "metadata": {
    "execution": {
     "iopub.execute_input": "2022-01-31T08:10:50.893037Z",
     "iopub.status.busy": "2022-01-31T08:10:50.892662Z",
     "iopub.status.idle": "2022-01-31T08:10:50.911791Z",
     "shell.execute_reply": "2022-01-31T08:10:50.910803Z",
     "shell.execute_reply.started": "2022-01-31T08:10:50.892988Z"
    }
   },
   "outputs": [],
   "source": [
    "df.head()"
   ]
  },
  {
   "cell_type": "markdown",
   "metadata": {},
   "source": [
    "Der Datensatz enthält Informationen zur Herstellung, Zusammensetzung und Geschmacksbewertung von Schokoladenriegeln. Die Merkmale werden in der nachfolgenden Tabelle erläutert."
   ]
  },
  {
   "cell_type": "markdown",
   "metadata": {},
   "source": [
    "<table align='left'>\n",
    "    <thead>\n",
    "        <tr>\n",
    "          <th style=\"text-align:left\">Spaltenname</th>\n",
    "          <th style=\"text-align:left\">Bedeutung</th>\n",
    "          <th style=\"text-align:left\">Weitere Informationen</th>\n",
    "        </tr>\n",
    "    </thead>\n",
    "    <tr>\n",
    "    <td style=\"text-align:left\">Company</td>\n",
    "    <td style=\"text-align:left\">Hersteller</td>\n",
    "    <td style=\"text-align:left\">-</td>\n",
    "    </tr>\n",
    "    <tr>\n",
    "    <td style=\"text-align:left\">Company Location</td>\n",
    "    <td style=\"text-align:left\">Herstellungsort</td>\n",
    "    <td style=\"text-align:left\">Im Datensatz sind nur Riegel enthalten, die in den USA oder Kanada produziert wurden.</td>\n",
    "    </tr>\n",
    "    <tr>\n",
    "    <td style=\"text-align:left\">Review Date</td>\n",
    "    <td style=\"text-align:left\">Jahr der Bewertung</td>\n",
    "    <td style=\"text-align:left\">-</td>\n",
    "    </tr>\n",
    "    <tr>\n",
    "    <td style=\"text-align:left; vertical-align: top\">Country of Bean Origin</td>\n",
    "    <td style=\"text-align:left; vertical-align: top\">Herkunftsland der verwendeten Kakaobohne</td>\n",
    "    <td style=\"text-align:left; vertical-align: top\">-</td>\n",
    "    </tr>\n",
    "    <tr>\n",
    "    <td style=\"text-align:left; vertical-align: top\">Specific Bean Origin or Bar Name</td>\n",
    "    <td style=\"text-align:left; vertical-align: top\">Name der verwendeten Bohne /<br>Name des Riegels</td>\n",
    "    <td style=\"text-align:left; vertical-align: top\">-</td>\n",
    "    </tr>\n",
    "    <tr>\n",
    "    <td style=\"text-align:left\">Cocoa Percent</td>\n",
    "    <td style=\"text-align:left\">Kakaoanteil</td>\n",
    "    <td style=\"text-align:left\">[%]</td>\n",
    "    </tr>\n",
    "    <tr>\n",
    "    <td style=\"text-align:left; vertical-align: top\">Ingredients</td>\n",
    "    <td style=\"text-align:left; vertical-align: top\">Verwendete Zutaten</td>\n",
    "    <td style=\"text-align:left; vertical-align: top\">Die vorangestellte Zahl gibt die Anzahl der verwendeten Zutaten an. Bedeutung der Buchstaben: <br>B = Bohnen, S = Zucker, S* = Andere Süßungsmittel als weißer Rohr- / Rübenzucker, <br> C = Kakaobutter, V = Vanille, L = Lecithin, Sa = Salz</td>\n",
    "    </tr>\n",
    "    <tr>\n",
    "    <td style=\"text-align:left\">Most Memorable Characteristics</td>\n",
    "    <td style=\"text-align:left\">Einprägsamste Merkmale</td>\n",
    "    <td style=\"text-align:left\">-</td>\n",
    "    </tr>\n",
    "    <tr>\n",
    "    <td style=\"text-align:left; vertical-align: top\">Rating</td>\n",
    "    <td style=\"text-align:left; vertical-align: top\">Bewertung</td>\n",
    "    <td style=\"text-align:left; vertical-align: top\">3 = sehr empfehlenswert <br>2 = empfehlenswert <br>1 = enttäuschend</td>\n",
    "    </tr>\n",
    "</table>"
   ]
  },
  {
   "cell_type": "markdown",
   "metadata": {},
   "source": [
    "<div class=\"alert alert-block alert-success\">\n",
    "&#128187; <b>Arbeitsauftrag:</b> \n",
    "\n",
    "Um sich einen Überblick über die Daten zu schaffen, wenden Sie die Methode `describe()` auf die Variable `df` an und plotten Sie anschließend ein Histogramm aller Daten.\n",
    "    \n",
    "Tipp: Übungsmaterial Modul 1.\n",
    "</div>"
   ]
  },
  {
   "cell_type": "code",
   "execution_count": null,
   "metadata": {},
   "outputs": [],
   "source": [
    "# Wenden Sie die Methode describe() an"
   ]
  },
  {
   "cell_type": "code",
   "execution_count": null,
   "metadata": {},
   "outputs": [],
   "source": [
    "# Plotten Sie die Histogramme aller Daten"
   ]
  },
  {
   "cell_type": "markdown",
   "metadata": {},
   "source": [
    "Aus der ersten Erforschung des Datensatzes geht hervor, dass es bezüglich des Merkmals `Ingredients` einige NaN Einträge gibt. Diese müssen entfernt werden. Außerdem liegen viele der Merkmale, obwohl Zahl-codiert, als `object` vor. Auch die Merkmale `Ingredients` und `Most Memorable Characteristics` liegen in einer Form vor, die so noch nicht bearbeitet werden kann. Diese Probleme werden nachfolgend behoben.  "
   ]
  },
  {
   "cell_type": "markdown",
   "metadata": {},
   "source": [
    "### <font color='darkblue'>1.2  Datensatz bereinigen und vorbereiten</font> <a name=\"kap12\"></a>"
   ]
  },
  {
   "cell_type": "markdown",
   "metadata": {},
   "source": [
    "Zunächst werden die NaN Einträge gelöscht: "
   ]
  },
  {
   "cell_type": "code",
   "execution_count": null,
   "metadata": {},
   "outputs": [],
   "source": [
    "df = df.dropna()"
   ]
  },
  {
   "cell_type": "markdown",
   "metadata": {},
   "source": [
    "Wegen der Prozentzeichen wurde das Merkmal `Cocoa Percent` als `objekt`  eingelesen."
   ]
  },
  {
   "cell_type": "code",
   "execution_count": null,
   "metadata": {
    "scrolled": false
   },
   "outputs": [],
   "source": [
    "df['Cocoa Percent']"
   ]
  },
  {
   "cell_type": "markdown",
   "metadata": {},
   "source": [
    "<div class=\"alert alert-block alert-success\">\n",
    "&#128187; <b>Arbeitsauftrag:</b> \n",
    "\n",
    "Bei dem Merkmal Cacao Percent wird nun zuerst das Prozentzeichen gelöscht. Wandeln Sie dann die Spalte in ein float um. Die Ausgabe der dritten Zelle zeigt dann, ob Ihr Vorgehen funktioniert hat. \n",
    "    \n",
    "Tipp: Nutzen Sie die Funktion `pd.to_numeric()` für diese Spalte.\n",
    "</div>"
   ]
  },
  {
   "cell_type": "code",
   "execution_count": null,
   "metadata": {
    "execution": {
     "iopub.execute_input": "2022-01-31T08:10:50.914325Z",
     "iopub.status.busy": "2022-01-31T08:10:50.913901Z",
     "iopub.status.idle": "2022-01-31T08:10:50.948385Z",
     "shell.execute_reply": "2022-01-31T08:10:50.947414Z",
     "shell.execute_reply.started": "2022-01-31T08:10:50.914265Z"
    }
   },
   "outputs": [],
   "source": [
    "df['Cocoa Percent']=df['Cocoa Percent'].str.replace('%','')"
   ]
  },
  {
   "cell_type": "code",
   "execution_count": null,
   "metadata": {},
   "outputs": [],
   "source": [
    "# Wandeln Sie df['Cocoa Percent'] in einen float um"
   ]
  },
  {
   "cell_type": "code",
   "execution_count": null,
   "metadata": {},
   "outputs": [],
   "source": [
    "# Hat sich der Datentyp in der Ausgabe verändert?\n",
    "df['Cocoa Percent']"
   ]
  },
  {
   "cell_type": "markdown",
   "metadata": {},
   "source": [
    "<hr style=\"border:1px solid lightgrey\"> </hr>"
   ]
  },
  {
   "cell_type": "markdown",
   "metadata": {},
   "source": [
    "### <font color='darkblue'>1.2.1 One-Hot-Encoding</font> <a name=\"kap121\"></a>"
   ]
  },
  {
   "cell_type": "markdown",
   "metadata": {},
   "source": [
    "Die Verarbeitung der Merkmale `Ingredients` und `Most Memorable Characteristics` sind etwas aufwändiger. Hierbei soll der Inhalt der Spalte in viele Spalten zu je einem Inhalt aufgeteilt werden. Beispielsweise werden aus den Ausprägungen `rich cocoa, fatty, bready` der Spalte `Most Memorable Characteristics` drei Spalten `rich cocoa`, `fatty` und `bready` jeweils mit Ausprägung 1. Für jede Ausprägung in `Most Memorable Characteristics` entsteht so eine neue Spalte. Dieses Vorgehen nennt man One-Hot-Encoding.    \n",
    "\n",
    "Das Vorgehen wird nachfolgend für `Most Memorable Characteristics` gezeigt und danach auf die `Ingredients` übertragen. Das Vorgehen besteht aus vier Schritten: "
   ]
  },
  {
   "cell_type": "markdown",
   "metadata": {},
   "source": [
    "**Schritt 1:** In `char_dict` werden alle möglichen Ausprägungen der Spalte gesammelt und gleichzeitig gespeichert, wie oft sie vorkommen."
   ]
  },
  {
   "cell_type": "code",
   "execution_count": null,
   "metadata": {
    "execution": {
     "iopub.execute_input": "2022-01-31T08:10:51.029444Z",
     "iopub.status.busy": "2022-01-31T08:10:51.029194Z",
     "iopub.status.idle": "2022-01-31T08:10:51.172929Z",
     "shell.execute_reply": "2022-01-31T08:10:51.172049Z",
     "shell.execute_reply.started": "2022-01-31T08:10:51.029414Z"
    }
   },
   "outputs": [],
   "source": [
    "char_dict = {}\n",
    "for index, row in df.iterrows():    # für jede Zeile\n",
    "    chars = row[\"Most Memorable Characteristics\"].split(\",\") # Spalte die Eigenschaften nach jedem Komma ab und schreibe sie in chars\n",
    "    for c in chars:   # für jede Eigenschaft in chars\n",
    "        if c.strip().lower() in char_dict.keys(): # wenn die Eigenschaft schon vorhanden\n",
    "            char_dict[c.strip().lower()] += 1     # zähle einen herauf\n",
    "        else:                                     # wenn die Eigenschaft noch nicht vorhanden\n",
    "            char_dict[c.strip().lower()] = 1      # füge es hinzu und setze die Anzahl auf 1\n",
    "            \n",
    "print(char_dict)"
   ]
  },
  {
   "cell_type": "markdown",
   "metadata": {},
   "source": [
    "<div class=\"alert alert-block alert-info\">\n",
    "&#128204; <b>Anmerkung:</b>  \n",
    "\n",
    "In diesem Code wurden einige string-Methoden benutzt, die Sie sich gerne, beispielweise mit der Dokumentation, noch einmal genauer anschauen können (`strip`, `lower`und `split`)."
   ]
  },
  {
   "cell_type": "markdown",
   "metadata": {},
   "source": [
    "**Schritt 2:** Mit dem Befehl\n",
    "\n",
    "```python\n",
    "char_dict = { k: v for k, v in char_dict.items() if v >= n }\n",
    "```\n",
    "\n",
    "können Sie die Eigenschaften auswählen, die öfter als `n` Mal erwähnt werden. Da es, wie oben angezeigt, seeeehr viele unterschiedliche `Most Memorable Characteristics` gibt, werden nur diejenigen ausgewählt, die mindestens 20 Erwähnungen im Datensatz haben. "
   ]
  },
  {
   "cell_type": "code",
   "execution_count": null,
   "metadata": {
    "execution": {
     "iopub.execute_input": "2022-01-31T08:10:51.174912Z",
     "iopub.status.busy": "2022-01-31T08:10:51.174656Z",
     "iopub.status.idle": "2022-01-31T08:10:51.181097Z",
     "shell.execute_reply": "2022-01-31T08:10:51.179383Z",
     "shell.execute_reply.started": "2022-01-31T08:10:51.17488Z"
    }
   },
   "outputs": [],
   "source": [
    "char_dict = { k: v for k, v in char_dict.items() if v >= 20 }\n",
    "print(char_dict)"
   ]
  },
  {
   "cell_type": "markdown",
   "metadata": {},
   "source": [
    "**Schritt 3:** Die noch nur im Dictionary enthaltenen `Most Memorable Characteristics` werden nun als neue Spalten/Merkmale in  die Variable `df_copy` eingefügt."
   ]
  },
  {
   "cell_type": "code",
   "execution_count": null,
   "metadata": {
    "execution": {
     "iopub.execute_input": "2022-01-31T08:10:51.184113Z",
     "iopub.status.busy": "2022-01-31T08:10:51.183882Z",
     "iopub.status.idle": "2022-01-31T08:10:52.803429Z",
     "shell.execute_reply": "2022-01-31T08:10:52.802294Z",
     "shell.execute_reply.started": "2022-01-31T08:10:51.184085Z"
    }
   },
   "outputs": [],
   "source": [
    "df_copy = df.copy()   \n",
    "\n",
    "zeroes = []\n",
    "for index, row in df.iterrows():\n",
    "    zeroes.append(0)\n",
    "\n",
    "for k in char_dict.keys():  # für jede key, d.h. für jede Eigenschaft, wird eine Spalte mit Nullen eingefügt\n",
    "    df_copy[k] = zeroes \n",
    "\n",
    "for index, row in df.iterrows():\n",
    "    chars = row[\"Most Memorable Characteristics\"].split(\",\")\n",
    "    for c in chars:\n",
    "        if c.strip().lower() in char_dict.keys():\n",
    "            df_copy.loc[index,c.strip().lower()] = 1\n",
    "\n",
    "df_copy.head()"
   ]
  },
  {
   "cell_type": "markdown",
   "metadata": {},
   "source": [
    "**Schritt 4:** Die ursprüngliche Spalte `Most Memorable Characteristics` wird gelöscht."
   ]
  },
  {
   "cell_type": "code",
   "execution_count": null,
   "metadata": {},
   "outputs": [],
   "source": [
    "df_copy = df_copy.drop(\"Most Memorable Characteristics\", axis=1)\n",
    "df_copy.head()"
   ]
  },
  {
   "cell_type": "markdown",
   "metadata": {},
   "source": [
    "Jede Eigenschaft hat nun eine eigene Spalte bekommen. Es sind nun 74 Spalten."
   ]
  },
  {
   "cell_type": "markdown",
   "metadata": {},
   "source": [
    "Für eine Übertragung auf das Merkmal `Ingredients` muss zunächst die vorgestellte Anzahl der `Ingredients` von den tatsächlichen `Ingredients` getrennt werden. Dies passiert mit dem nachfolgenden Befehl: "
   ]
  },
  {
   "cell_type": "code",
   "execution_count": null,
   "metadata": {},
   "outputs": [],
   "source": [
    "df_copy[['Number of Ingredients', 'Ingredients']] = df_copy['Ingredients'].str.split('-', expand=True)\n",
    "df_copy['Number of Ingredients'] = pd.to_numeric(df_copy['Number of Ingredients']) "
   ]
  },
  {
   "cell_type": "code",
   "execution_count": null,
   "metadata": {
    "scrolled": true
   },
   "outputs": [],
   "source": [
    "df_copy.head()"
   ]
  },
  {
   "cell_type": "markdown",
   "metadata": {},
   "source": [
    "<div class=\"alert alert-block alert-success\">\n",
    "&#128187; <b>Arbeitsauftrag:</b> \n",
    "\n",
    "Wandeln Sie mit Hilfe des vorhergehenden Beispiels und der vorgegebenen Bausteine das neue Merkmal `Ingredients` in mehrere Merkmale um (bspw. `Salz`). Beachten Sie dabei, dass Schritt 2 in diesem Fall nicht nötig ist. \n",
    "  \n",
    "</div>"
   ]
  },
  {
   "cell_type": "code",
   "execution_count": null,
   "metadata": {},
   "outputs": [],
   "source": [
    "# Schritt 1: "
   ]
  },
  {
   "cell_type": "code",
   "execution_count": null,
   "metadata": {},
   "outputs": [],
   "source": [
    "# Schritt 3: "
   ]
  },
  {
   "cell_type": "code",
   "execution_count": null,
   "metadata": {},
   "outputs": [],
   "source": [
    "# Schritt 4:"
   ]
  },
  {
   "cell_type": "markdown",
   "metadata": {},
   "source": [
    "Der so veränderte Datensatz sollte nun 81 Spalten haben. Der Datensatz ist nun für die Modellierung in Modul 4 vorbereitet und wird als csv Datei gespeichert:"
   ]
  },
  {
   "cell_type": "markdown",
   "metadata": {},
   "source": [
    "<div class=\"alert alert-block alert-info\">\n",
    "&#128204; <b>Anmerkung:</b>  Die folgende Zelle sollte von Ihnen nicht ausgeführt werden, da Sie nicht lokal auf Ihrem Computer arbeiten. Die entstandene Datei steht Ihnen in Modul 4 dennoch zur Verfügung. "
   ]
  },
  {
   "cell_type": "code",
   "execution_count": null,
   "metadata": {},
   "outputs": [],
   "source": [
    "# df_copy.to_csv(f\"M4_Uebung_Schokolade_bereinigt.csv\", index=False)"
   ]
  },
  {
   "cell_type": "markdown",
   "metadata": {},
   "source": [
    "<hr style=\"border:1px solid gray\"> </hr>"
   ]
  },
  {
   "cell_type": "markdown",
   "metadata": {},
   "source": [
    "## <font color='darkblue'>2. Train-test-split</font> <a name=\"kap2\"></a>"
   ]
  },
  {
   "cell_type": "markdown",
   "metadata": {},
   "source": [
    "Für die weitere Erfoschung sind nur noch einige Merkmale interessant und zwar `Cocoa Percent`, `Rating` und `Number of Ingredients`. Für den weiteren Verlauf wird `df` auf diese drei Merkmale eingeschränkt: "
   ]
  },
  {
   "cell_type": "code",
   "execution_count": null,
   "metadata": {},
   "outputs": [],
   "source": [
    "df = df_copy[['Cocoa Percent','Rating','Number of Ingredients']]"
   ]
  },
  {
   "cell_type": "markdown",
   "metadata": {},
   "source": [
    "Es folgen nun nach Einbindung des benötigten Moduls einige Aufgaben zur Erforschung der Eingabeparameter von `train_test_split()`. Eine zusammenfassende Erläuterung zu den Parametern (und damit die Antworten auf die gestellten Fragen) folgen im Fazit.   \n",
    "\n",
    "Zunächst wird der Datensatz dafür auf 10% seiner Größe eingeschränkt, um die folgenden Phänomene besser zu beobachten. Auch hierfür lässt sich die Funktion `train_test_split()` von scikit-learn verwenden. Im folgenden Befehlt wird die Trainingsmenge, die nur 10% der Daten enthalten wird, einfach wieder `df` genannt. Die Testmenge `raus` wird nicht mehr weiter betrachtet.  "
   ]
  },
  {
   "cell_type": "code",
   "execution_count": null,
   "metadata": {},
   "outputs": [],
   "source": [
    "from sklearn.model_selection import train_test_split\n",
    "df, raus = train_test_split(df, test_size=0.9, random_state=42)"
   ]
  },
  {
   "cell_type": "markdown",
   "metadata": {},
   "source": [
    "<div class=\"alert alert-block alert-success\">\n",
    "&#128187; <b>Arbeitsauftrag:</b> \n",
    "\n",
    "Ergänzen Sie die Variablen, sodass die folgende Zelle einen Scatterplot Kakaoanteil gegen Anzahl der Inhaltsstoffe, eingefärbt nach Rating, ausgibt. \n",
    "    \n",
    "</div>"
   ]
  },
  {
   "cell_type": "code",
   "execution_count": null,
   "metadata": {
    "scrolled": true
   },
   "outputs": [],
   "source": [
    "# scatter = plt.scatter(#, #, c=#,marker='o') \n",
    "plt.title('Kakaoanteil, Anzahl der Inhaltsstoffe und Rating der Schokoriegel') \n",
    "plt.xlabel('Kakaoanteil') \n",
    "plt.ylabel('Anzahl der Inhaltsstoffe') \n",
    "plt.legend(*scatter.legend_elements())\n",
    "plt.show;"
   ]
  },
  {
   "cell_type": "markdown",
   "metadata": {},
   "source": [
    "Nun folgen die Aufgaben zur Funktion `train_test_split()`."
   ]
  },
  {
   "cell_type": "markdown",
   "metadata": {},
   "source": [
    "<div class=\"alert alert-block alert-success\">\n",
    "&#128187; <b>Arbeitsauftrag:</b> \n",
    "\n",
    "In den folgenden beiden Zellen sehen Sie die Aufteilung einmal mit einem `test_size` Parameter von 0.1 und einmal mit 0.4. Im Anschluss folgt die Ausgabe des oben geforderten Plots (Hier Überprüfung: Stimmt die Syntax von Ihrem Plot?) bezüglich der entstandenen Trainingsmenge. Was beobachten Sie? \n",
    "    \n",
    "</div>"
   ]
  },
  {
   "cell_type": "code",
   "execution_count": null,
   "metadata": {},
   "outputs": [],
   "source": [
    "train, test = train_test_split(df, test_size=0.1, random_state=42, stratify=df['Rating'])\n",
    "scatter = plt.scatter(train['Cocoa Percent'],train['Number of Ingredients'], c=train['Rating'],marker='o')\n",
    "plt.title('Kakaoanteil, Anzahl der Inhaltsstoffe und Rating der Schokoriegel') \n",
    "plt.xlabel('Kakaoanteil') \n",
    "plt.ylabel('Anzahl der Inhaltsstoffe') \n",
    "plt.legend(*scatter.legend_elements())\n",
    "plt.show;"
   ]
  },
  {
   "cell_type": "code",
   "execution_count": null,
   "metadata": {},
   "outputs": [],
   "source": [
    "train, test = train_test_split(df, test_size=0.4, random_state=42, stratify=df['Rating'])\n",
    "scatter = plt.scatter(train['Cocoa Percent'],train['Number of Ingredients'], c=train['Rating'],marker='o')\n",
    "plt.title('Kakaoanteil, Anzahl der Inhaltsstoffe und Rating der Schokoriegel') \n",
    "plt.xlabel('Kakaoanteil') \n",
    "plt.ylabel('Anzahl der Inhaltsstoffe') \n",
    "plt.legend(*scatter.legend_elements())\n",
    "plt.show;"
   ]
  },
  {
   "cell_type": "markdown",
   "metadata": {},
   "source": [
    "<div class=\"alert alert-block alert-success\">\n",
    "&#128187; <b>Arbeitsauftrag:</b> \n",
    "\n",
    "In den folgenden beiden Zellen sehen Sie die Aufteilung einmal mit einem `random_state` Parameter und einmal ohne. Im Anschluss folgt die Ausgabe der ersten 10 Einträge der Trainingsdaten. Führen Sie die Zellen mehrfach aus. Was beobachten Sie? \n",
    "    \n",
    "</div>"
   ]
  },
  {
   "cell_type": "code",
   "execution_count": null,
   "metadata": {},
   "outputs": [],
   "source": [
    "train, test = train_test_split(df, test_size=0.3, random_state=42, stratify=df['Rating'])\n",
    "train.head(10)"
   ]
  },
  {
   "cell_type": "code",
   "execution_count": null,
   "metadata": {},
   "outputs": [],
   "source": [
    "train, test = train_test_split(df, test_size=0.3, stratify=df['Rating'])\n",
    "train.head(10)"
   ]
  },
  {
   "cell_type": "markdown",
   "metadata": {},
   "source": [
    "<div class=\"alert alert-block alert-success\">\n",
    "&#128187; <b>Arbeitsauftrag:</b> \n",
    "\n",
    "In den folgenden beiden Zellen sehen Sie die Aufteilung einmal mit einem `stratify` Parameter auf das Merkmal `clarity` und einmal ohne. Im Anschluss folgt die Ausgabe des oben geforderten Plots bezüglich der entstandenen Testmenge in beiden Fällen **ohne** stratify. Führen Sie beide Zellen mehrfach aus. Was beobachten Sie? \n",
    "    \n",
    "</div>"
   ]
  },
  {
   "cell_type": "code",
   "execution_count": null,
   "metadata": {},
   "outputs": [],
   "source": [
    "train, test = train_test_split(df, test_size=0.3, stratify=df['Rating'])\n",
    "scatter = plt.scatter(test['Cocoa Percent'],test['Number of Ingredients'], c=test['Rating'],marker='o')\n",
    "plt.title('Kakaoanteil, Anzahl der Inhaltsstoffe und Rating der Schokoriegel') \n",
    "plt.xlabel('Kakaoanteil') \n",
    "plt.ylabel('Anzahl der Inhaltsstoffe') \n",
    "plt.legend(*scatter.legend_elements())\n",
    "plt.show;"
   ]
  },
  {
   "cell_type": "code",
   "execution_count": null,
   "metadata": {
    "scrolled": true
   },
   "outputs": [],
   "source": [
    "train, test = train_test_split(df, test_size=0.3)\n",
    "scatter = plt.scatter(test['Cocoa Percent'],test['Number of Ingredients'], c=test['Rating'],marker='o')\n",
    "plt.title('Kakaoanteil, Anzahl der Inhaltsstoffe und Rating der Schokoriegel') \n",
    "plt.xlabel('Kakaoanteil') \n",
    "plt.ylabel('Anzahl der Inhaltsstoffe') \n",
    "plt.legend(*scatter.legend_elements())\n",
    "plt.show;"
   ]
  },
  {
   "cell_type": "markdown",
   "metadata": {},
   "source": [
    "<hr style=\"border:1px solid gray\"> </hr>"
   ]
  },
  {
   "cell_type": "markdown",
   "metadata": {},
   "source": [
    "## <font color='darkblue'>3. Fazit</font> <a name=\"kap3\"></a>"
   ]
  },
  {
   "cell_type": "markdown",
   "metadata": {},
   "source": [
    "Dieses Notebook hat\n",
    "- einige Schritte des Datenverständnisses und der Datenvorbereitung wiederholt. \n",
    "- die Umformatierung ungünstig formatierter Merkmale mit vielen Informationen in viele Merkmale gezeigt (One-Hot-Encoding).\n",
    "- die Bedeutung der Parameter von train_test_split erläutert und zwar:\n",
    "    - `test_size` kontrolliert die Größe der jeweiligen Testmenge (und damit auch der Trainingsmenge).\n",
    "    - `random_state` sorgt dafür, dass sich das \"zufällige Auswählen\" reproduzieren lässt: es wird immer die zu dem jeweiligen Parameter gehörende zufällige Menge ausgewählt.\n",
    "    - `stratify` sorgt dafür, dass die Verteilung eines bestimmten Merkmals immer beibehalten wird. So sind in einer ausgewählten Teilmenge beispielsweise immer alle vorher vorhandenen Klassen weiterhin vertreten."
   ]
  }
 ],
 "metadata": {
  "kernelspec": {
   "display_name": "DaLI-DM",
   "language": "python",
   "name": "DaLI-DM"
  },
  "language_info": {
   "codemirror_mode": {
    "name": "ipython",
    "version": 3
   },
   "file_extension": ".py",
   "mimetype": "text/x-python",
   "name": "python",
   "nbconvert_exporter": "python",
   "pygments_lexer": "ipython3",
   "version": "3.8.8"
  },
  "latex_envs": {
   "LaTeX_envs_menu_present": true,
   "autoclose": false,
   "autocomplete": true,
   "bibliofile": "biblio.bib",
   "cite_by": "apalike",
   "current_citInitial": 1,
   "eqLabelWithNumbers": true,
   "eqNumInitial": 1,
   "hotkeys": {
    "equation": "Ctrl-E",
    "itemize": "Ctrl-I"
   },
   "labels_anchors": false,
   "latex_user_defs": false,
   "report_style_numbering": false,
   "user_envs_cfg": false
  },
  "toc": {
   "base_numbering": 1,
   "nav_menu": {},
   "number_sections": false,
   "sideBar": true,
   "skip_h1_title": true,
   "title_cell": "Table of Contents",
   "title_sidebar": "Contents",
   "toc_cell": false,
   "toc_position": {},
   "toc_section_display": true,
   "toc_window_display": false
  },
  "varInspector": {
   "cols": {
    "lenName": 16,
    "lenType": 16,
    "lenVar": 40
   },
   "kernels_config": {
    "python": {
     "delete_cmd_postfix": "",
     "delete_cmd_prefix": "del ",
     "library": "var_list.py",
     "varRefreshCmd": "print(var_dic_list())"
    },
    "r": {
     "delete_cmd_postfix": ") ",
     "delete_cmd_prefix": "rm(",
     "library": "var_list.r",
     "varRefreshCmd": "cat(var_dic_list()) "
    }
   },
   "types_to_exclude": [
    "module",
    "function",
    "builtin_function_or_method",
    "instance",
    "_Feature"
   ],
   "window_display": false
  }
 },
 "nbformat": 4,
 "nbformat_minor": 4
}
