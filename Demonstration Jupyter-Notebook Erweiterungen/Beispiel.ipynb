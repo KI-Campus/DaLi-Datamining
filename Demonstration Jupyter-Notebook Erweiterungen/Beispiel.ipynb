{
 "cells": [
  {
   "cell_type": "markdown",
   "id": "c4fa865a",
   "metadata": {},
   "source": [
    "# Demonstration verschiedener Jupyter Notebook Elemente für den Einsatz im Data Literacy Kontext\n",
    "\n",
    "# <span style=\"color:mediumblue\">Inhalt</span>\n",
    "\n",
    "1. [Strukturierende Elemente](#kap1)    \n",
    "    &ensp; 1.1 [Farbige Blöcke](#kap11)  \n",
    "    &ensp; 1.2 [Inhaltsverzeichnis](#kap12)  \n",
    "2. [Interaktive Elemente](#kap2)  \n",
    "3. [Einbindung von Grafiken](#kap3)  \n",
    "4. [Hidden Code](#kap4)  \n",
    "5. [Multiple Choice Fragen](#kap5)  "
   ]
  },
  {
   "cell_type": "markdown",
   "id": "268bcdbe",
   "metadata": {},
   "source": [
    "# <span style=\"color:mediumblue\">1. Strukturierende Elemente </span> <a name=\"kap1\"></a>\n",
    "## <span style=\"color:mediumblue\">1.1 Farbige Blöcke </span> <a name=\"kap11\"></a>\n",
    "\n",
    "Die Zelle für den Block muss eine Markdown-Zelle sein!"
   ]
  },
  {
   "cell_type": "markdown",
   "id": "749a3b61",
   "metadata": {},
   "source": [
    "<div class=\"alert alert-block alert-success\">\n",
    "<b>Arbeitsauftrag:</b> \n",
    "Arbeitauftrag 1. \n",
    "</div>\n",
    "\n",
    "Andere Schlüsselwörter sind „warning“ = gelb, „info“ = blau und „danger“ = rot."
   ]
  },
  {
   "cell_type": "markdown",
   "id": "fcd06b36",
   "metadata": {},
   "source": [
    "## <span style=\"color:mediumblue\">1.2 Inhaltsverzeichnis </span> <a name=\"kap12\"></a>"
   ]
  },
  {
   "cell_type": "markdown",
   "id": "417a4302",
   "metadata": {},
   "source": [
    "Doppelklicken Sie auf den Text für das Inhaltsverzeichnis oben, um sich den einzugebenden Text anzeigen zu lassen und auf die Überschrift oberhalb, um die Referenz, auf die sich das Inhaltsverzeichnis bezieht zu sehen. \n",
    "In diesem Beispiel wird z.B. mit der Referenz \"kap12\" aufeinander verwiesen. "
   ]
  },
  {
   "cell_type": "markdown",
   "id": "b638bdce",
   "metadata": {},
   "source": [
    "# <span style=\"color:mediumblue\">2. Interaktive Elemente </span> <a name=\"kap2\"></a>\n",
    "Zur Erzeugung interaktiver Elemente werden folgende Pakete benötigt:"
   ]
  },
  {
   "cell_type": "code",
   "execution_count": null,
   "id": "0e633f1b",
   "metadata": {},
   "outputs": [],
   "source": [
    "import ipywidgets as widgets \n",
    "from ipywidgets import interact, Layout \n",
    "from IPython.display import display "
   ]
  },
  {
   "cell_type": "markdown",
   "id": "52c7a43b",
   "metadata": {},
   "source": [
    "Erzeugung von Dropdown-Menü, Slider oder Eingabefeld:"
   ]
  },
  {
   "cell_type": "code",
   "execution_count": null,
   "id": "baf23a6e",
   "metadata": {},
   "outputs": [],
   "source": [
    "style = {'description_width': 'initial'}\n",
    "\n",
    "# Dropdown-Widget für Geschlecht\n",
    "dd1 = widgets.Dropdown(options=['Weiblich', 'Männlich'], value='Weiblich', description='Geschlecht: ');display(dd1);\n",
    "\n",
    "# IntSlider-Widget für Anzahl Kinder \n",
    "is1 = widgets.IntSlider(value='0', min=0, max=10, step=1, description='Anzahl Kinder: ', style=style);display(is1); \n",
    "\n",
    "# Text-Eingabefeld für Alter \n",
    "tb1 = widgets.Text(value='40', description='Alter: ');display(tb1); "
   ]
  },
  {
   "cell_type": "markdown",
   "id": "da076349",
   "metadata": {},
   "source": [
    "In den oben definierten Variablen sind nun die Auswahlmenüs gespeichert. Die ausgewählten Zahlen können über die Funktion \"value\" erreicht werden: "
   ]
  },
  {
   "cell_type": "code",
   "execution_count": null,
   "id": "15811672",
   "metadata": {},
   "outputs": [],
   "source": [
    "print(dd1.value)\n",
    "print(is1.value)\n",
    "print(tb1.value)"
   ]
  },
  {
   "cell_type": "markdown",
   "id": "9ec9e413",
   "metadata": {},
   "source": [
    "# <span style=\"color:mediumblue\">3. Einbindung von Grafiken </span> <a name=\"kap3\"></a>"
   ]
  },
  {
   "cell_type": "markdown",
   "id": "4695cbc7",
   "metadata": {},
   "source": [
    "Hier wird die Grafik \"dm00.png\" aus dem Unterordner \"Bilder\" mit einer Höhe von 500 Pixeln importiert. Doppelklicken Sie auf die Grafik, um den entsprechenden HTML-Code zu sehen:"
   ]
  },
  {
   "cell_type": "markdown",
   "id": "bd8f556e",
   "metadata": {},
   "source": [
    "<img src=\" bilder/dm00.png\" style=\"height:500px\">"
   ]
  },
  {
   "cell_type": "markdown",
   "id": "4fbb625d",
   "metadata": {},
   "source": [
    "# <span style=\"color:mediumblue\">4. Hidden Code </span> <a name=\"kap4\"></a>"
   ]
  },
  {
   "cell_type": "code",
   "execution_count": null,
   "id": "6f4aba5e",
   "metadata": {},
   "outputs": [],
   "source": []
  },
  {
   "cell_type": "code",
   "execution_count": null,
   "id": "106334ed",
   "metadata": {},
   "outputs": [],
   "source": []
  },
  {
   "cell_type": "markdown",
   "id": "22d6ce01",
   "metadata": {},
   "source": [
    "# <span style=\"color:mediumblue\">5. Multiple Choice Fragen </span> <a name=\"kap5\"></a>\n",
    "\n",
    "Für Multiple Choice Fragen wird wieder das Paket \"widgets\" benötigt. Es ist hier noch einmal aufgeführt, damit es beim Kopieren nicht vergessen wird:"
   ]
  },
  {
   "cell_type": "code",
   "execution_count": null,
   "id": "395ee6a7",
   "metadata": {},
   "outputs": [],
   "source": [
    "from IPython.display import display\n",
    "from IPython.display import clear_output\n",
    "import ipywidgets as widgets"
   ]
  },
  {
   "cell_type": "markdown",
   "id": "046d64f0",
   "metadata": {},
   "source": [
    "In der folgenden Zelle wird die Funktion \"create_multipleChoice_widget\" definiert. Sie muss nicht mehr verändert werden. "
   ]
  },
  {
   "cell_type": "code",
   "execution_count": null,
   "id": "beaf3d3b",
   "metadata": {},
   "outputs": [],
   "source": [
    "def create_multipleChoice_widget(description, options, correct_answer):\n",
    "    if correct_answer not in options:\n",
    "        options.append(correct_answer)\n",
    "    \n",
    "    correct_answer_index = options.index(correct_answer)\n",
    "    \n",
    "    radio_options = [(words, i) for i, words in enumerate(options)]\n",
    "    alternativ = widgets.RadioButtons(\n",
    "        options = radio_options,\n",
    "        description = '',\n",
    "        disabled = False )\n",
    "    \n",
    "    description_out = widgets.Output()\n",
    "    with description_out:\n",
    "        print(description)\n",
    "        \n",
    "    feedback_out = widgets.Output()\n",
    "\n",
    "    def check_selection(b):\n",
    "        a = int(alternativ.value)\n",
    "        if a==correct_answer_index:\n",
    "            s = '\\x1b[6;30;42m' + \"Richtig.\" + '\\x1b[0m' +\"\\n\" #green color\n",
    "        else:\n",
    "            s = '\\x1b[5;30;41m' + \"Falsch. \" + '\\x1b[0m' +\"\\n\" #red color\n",
    "        with feedback_out:\n",
    "            clear_output()\n",
    "            print(s)\n",
    "        return\n",
    "    \n",
    "    check = widgets.Button(description=\"submit\")\n",
    "    check.on_click(check_selection)\n",
    "    \n",
    "    return widgets.VBox([description_out, alternativ, check, feedback_out])"
   ]
  },
  {
   "cell_type": "markdown",
   "id": "7c17e44b",
   "metadata": {},
   "source": [
    "Diese Funktion kann anschließend für jede Multiple Choice Frage nach dem folgenden Muster befüllt werden:"
   ]
  },
  {
   "cell_type": "code",
   "execution_count": null,
   "id": "b865bef6",
   "metadata": {},
   "outputs": [],
   "source": [
    "Q1 = create_multipleChoice_widget('Mit welchem Maß mißt man den linearen Zusammenhang zweier Merkmale?', \\\n",
    "                                  ['durchschnittlicher quadratischer Fehler','Korrelationskoeffizient','Varianz'], \\\n",
    "                                  'Korrelationskoeffizient')"
   ]
  },
  {
   "cell_type": "markdown",
   "id": "c943906e",
   "metadata": {},
   "source": [
    "Die beiden oberen Teile werden wie in \"Hidden Code\" beschrieben für den Benutzer versteckt. Er sieht nur den folgenden Teil:"
   ]
  },
  {
   "cell_type": "code",
   "execution_count": null,
   "id": "f26b665d",
   "metadata": {},
   "outputs": [],
   "source": [
    "display(Q1)"
   ]
  },
  {
   "cell_type": "code",
   "execution_count": null,
   "id": "ee20d78c",
   "metadata": {},
   "outputs": [],
   "source": []
  },
  {
   "cell_type": "code",
   "execution_count": null,
   "id": "6581df5b",
   "metadata": {},
   "outputs": [],
   "source": []
  }
 ],
 "metadata": {
  "kernelspec": {
   "display_name": "Python 3 (ipykernel)",
   "language": "python",
   "name": "python3"
  },
  "language_info": {
   "codemirror_mode": {
    "name": "ipython",
    "version": 3
   },
   "file_extension": ".py",
   "mimetype": "text/x-python",
   "name": "python",
   "nbconvert_exporter": "python",
   "pygments_lexer": "ipython3",
   "version": "3.9.7"
  }
 },
 "nbformat": 4,
 "nbformat_minor": 5
}
