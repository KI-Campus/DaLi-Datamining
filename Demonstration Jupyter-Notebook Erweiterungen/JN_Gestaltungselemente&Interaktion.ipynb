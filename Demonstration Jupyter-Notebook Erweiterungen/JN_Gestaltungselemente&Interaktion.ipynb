{
 "cells": [
  {
   "cell_type": "markdown",
   "id": "c4fa865a",
   "metadata": {},
   "source": [
    "# Demonstration verschiedener Jupyter Notebook Elemente für den Einsatz im Data Literacy Kontext\n",
    "\n",
    "# <span style=\"color:mediumblue\">Inhalt</span>\n",
    "\n",
    "1. [Strukturierende Elemente](#kap1)    \n",
    "    &ensp; 1.1 [Farbige Boxen](#kap11)  \n",
    "    &ensp; 1.2 [Inhaltsverzeichnis](#kap12)  \n",
    "    \n",
    "2. [Einbindung von Grafiken](#kap2)  \n",
    "\n",
    "3. [Interaktive Elemente](#kap3)     \n",
    "    &ensp; 3.1 [Variableneingabe](#kap31)  \n",
    "    &ensp; 3.2 [Multiple Choice Fragen](#kap32)\n",
    "    \n",
    "4. [Ausgeblendeter Code](#kap4)  \n"
   ]
  },
  {
   "cell_type": "markdown",
   "id": "268bcdbe",
   "metadata": {},
   "source": [
    "# <span style=\"color:mediumblue\">1. Strukturierende Elemente </span> <a name=\"kap1\"></a>\n",
    "## <span style=\"color:mediumblue\">1.1 Farbige Boxen </span> <a name=\"kap11\"></a>\n",
    "\n",
    "Es folgt ein Beispiel für eine farbige Box. Die zugrundeliegende Zelle für die Box muss eine Markdown-Zelle sein!"
   ]
  },
  {
   "cell_type": "markdown",
   "id": "749a3b61",
   "metadata": {},
   "source": [
    "<div class=\"alert alert-block alert-success\">\n",
    "<b>Arbeitsauftrag:</b> \n",
    "Hier könnte Ihr Arbeitsauftrag stehen. \n",
    "</div>"
   ]
  },
  {
   "cell_type": "code",
   "execution_count": 3,
   "id": "ed9c0d16",
   "metadata": {},
   "outputs": [],
   "source": [
    "# Code für den Arbeitauftrag "
   ]
  },
  {
   "cell_type": "markdown",
   "id": "53ba3223",
   "metadata": {},
   "source": [
    "Andere Schlüsselwörter als 'success' sind 'warning' für gelb, 'info' für blau und 'danger' für rot."
   ]
  },
  {
   "cell_type": "markdown",
   "id": "fcd06b36",
   "metadata": {},
   "source": [
    "## <span style=\"color:mediumblue\">1.2 Inhaltsverzeichnis </span> <a name=\"kap12\"></a>"
   ]
  },
  {
   "cell_type": "markdown",
   "id": "417a4302",
   "metadata": {},
   "source": [
    "Doppelklicken Sie auf den Text für das Inhaltsverzeichnis oben, um sich den einzugebenden Text anzeigen zu lassen und auf die Überschrift oberhalb, um die Referenz, auf die sich das Inhaltsverzeichnis bezieht zu sehen. \n",
    "In diesem Beispiel wird z.B. mit der Referenz \"kap12\" verwiesen. "
   ]
  },
  {
   "cell_type": "markdown",
   "id": "9ec9e413",
   "metadata": {},
   "source": [
    "# <span style=\"color:mediumblue\">2. Einbindung von Grafiken </span> <a name=\"kap2\"></a>"
   ]
  },
  {
   "cell_type": "markdown",
   "id": "4695cbc7",
   "metadata": {},
   "source": [
    "Hier wird die Grafik \"dm00.png\" aus dem Unterordner \"Bilder\" mit einer Höhe von 500 Pixeln importiert. Doppelklicken Sie auf die Grafik, um den entsprechenden HTML-Code zu sehen:"
   ]
  },
  {
   "cell_type": "markdown",
   "id": "bd8f556e",
   "metadata": {},
   "source": [
    "<img src=\" bilder/dm00.png\" style=\"height:500px\">"
   ]
  },
  {
   "cell_type": "markdown",
   "id": "175c4873",
   "metadata": {},
   "source": [
    "So werden Emojis eingebunden: <font size='6'>&#128142;</font> "
   ]
  },
  {
   "cell_type": "markdown",
   "id": "b638bdce",
   "metadata": {},
   "source": [
    "# <span style=\"color:mediumblue\">3. Interaktive Elemente </span> <a name=\"kap3\"></a>\n",
    "Zur Erzeugung der folgenden interaktiven Elemente werden folgende Pakete benötigt:"
   ]
  },
  {
   "cell_type": "code",
   "execution_count": 4,
   "id": "0e633f1b",
   "metadata": {},
   "outputs": [],
   "source": [
    "import ipywidgets as widgets \n",
    "from ipywidgets import interact, Layout \n",
    "from IPython.display import clear_output, display"
   ]
  },
  {
   "cell_type": "markdown",
   "id": "876b1980",
   "metadata": {},
   "source": [
    "## <span style=\"color:mediumblue\">3.1 Variableneingabe </span> <a name=\"kap31\"></a>\n",
    "Beispiel zur Erzeugung von Dropdown-Menü, Slider oder Eingabefeld:"
   ]
  },
  {
   "cell_type": "code",
   "execution_count": 5,
   "id": "baf23a6e",
   "metadata": {},
   "outputs": [
    {
     "data": {
      "application/vnd.jupyter.widget-view+json": {
       "model_id": "416a6dac104e48b6b8fde1f89cd27ec4",
       "version_major": 2,
       "version_minor": 0
      },
      "text/plain": [
       "Dropdown(description='Geschlecht: ', options=('w', 'm', 'd'), value='w')"
      ]
     },
     "metadata": {},
     "output_type": "display_data"
    },
    {
     "data": {
      "application/vnd.jupyter.widget-view+json": {
       "model_id": "5cb71f5df53b4a1f97b4c02bfb7fe746",
       "version_major": 2,
       "version_minor": 0
      },
      "text/plain": [
       "IntSlider(value=3, description='Anzahl Kinder: ', max=10, style=SliderStyle(description_width='initial'))"
      ]
     },
     "metadata": {},
     "output_type": "display_data"
    },
    {
     "data": {
      "application/vnd.jupyter.widget-view+json": {
       "model_id": "17cfc10bdac0411aab79cdf1c906f3ce",
       "version_major": 2,
       "version_minor": 0
      },
      "text/plain": [
       "Text(value='0', description='Alter: ')"
      ]
     },
     "metadata": {},
     "output_type": "display_data"
    }
   ],
   "source": [
    "style = {'description_width': 'initial'}\n",
    "\n",
    "# Dropdown-Widget für Geschlecht\n",
    "dd1 = widgets.Dropdown(options=['w', 'm', 'd'], value='w', description='Geschlecht: ');display(dd1);\n",
    "\n",
    "# IntSlider-Widget für Anzahl Kinder \n",
    "is1 = widgets.IntSlider(value='3', min=0, max=10, step=1, description='Anzahl Kinder: ', style=style);display(is1); \n",
    "\n",
    "# Text-Eingabefeld für Alter \n",
    "tb1 = widgets.Text(value='0', description='Alter: ');display(tb1); "
   ]
  },
  {
   "cell_type": "markdown",
   "id": "da076349",
   "metadata": {},
   "source": [
    "Die Eingabe wird durch den Code hinter den Auswahlmenüs gespeichert und kann im Anschluss weiterverwendet werden."
   ]
  },
  {
   "cell_type": "code",
   "execution_count": 6,
   "id": "15811672",
   "metadata": {},
   "outputs": [
    {
     "name": "stdout",
     "output_type": "stream",
     "text": [
      "Ich bin 0 Jahre alt und habe 3 Kinder.\n"
     ]
    }
   ],
   "source": [
    "print('Ich bin', tb1.value, 'Jahre alt und habe', is1.value, 'Kinder.')"
   ]
  },
  {
   "cell_type": "markdown",
   "id": "22d6ce01",
   "metadata": {},
   "source": [
    "## <span style=\"color:mediumblue\">3.2 Multiple Choice Fragen </span> <a name=\"kap32\"></a>\n"
   ]
  },
  {
   "cell_type": "markdown",
   "id": "046d64f0",
   "metadata": {},
   "source": [
    "In der folgenden Zelle wird die Funktion \"create_multipleChoice_widget\" definiert. Sie muss nicht mehr verändert werden. Sie wurde entnommen aus: https://github.com/jupyter-widgets/ipywidgets/issues/2487"
   ]
  },
  {
   "cell_type": "code",
   "execution_count": 7,
   "id": "beaf3d3b",
   "metadata": {},
   "outputs": [],
   "source": [
    "def create_multipleChoice_widget(description, options, correct_answer):\n",
    "    if correct_answer not in options:\n",
    "        options.append(correct_answer)\n",
    "    \n",
    "    correct_answer_index = options.index(correct_answer)\n",
    "    \n",
    "    radio_options = [(words, i) for i, words in enumerate(options)]\n",
    "    alternativ = widgets.RadioButtons(\n",
    "        options = radio_options,\n",
    "        description = '',\n",
    "        disabled = False )\n",
    "    \n",
    "    description_out = widgets.Output()\n",
    "    with description_out:\n",
    "        print(description)\n",
    "        \n",
    "    feedback_out = widgets.Output()\n",
    "\n",
    "    def check_selection(b):\n",
    "        a = int(alternativ.value)\n",
    "        if a==correct_answer_index:\n",
    "            s = '\\x1b[6;30;42m' + \"Richtig.\" + '\\x1b[0m' +\"\\n\" #green color\n",
    "        else:\n",
    "            s = '\\x1b[5;30;41m' + \"Falsch. \" + '\\x1b[0m' +\"\\n\" #red color\n",
    "        with feedback_out:\n",
    "            clear_output()\n",
    "            print(s)\n",
    "        return\n",
    "    \n",
    "    check = widgets.Button(description=\"submit\")\n",
    "    check.on_click(check_selection)\n",
    "    \n",
    "    return widgets.VBox([description_out, alternativ, check, feedback_out])"
   ]
  },
  {
   "cell_type": "markdown",
   "id": "7c17e44b",
   "metadata": {},
   "source": [
    "Diese Funktion kann anschließend für jede Multiple Choice Frage nach dem folgenden Muster befüllt werden:"
   ]
  },
  {
   "cell_type": "code",
   "execution_count": 8,
   "id": "b865bef6",
   "metadata": {},
   "outputs": [],
   "source": [
    "Q1 = create_multipleChoice_widget('Mit welchem Maß mißt man den linearen Zusammenhang zweier Merkmale?', \\\n",
    "                                  ['durchschnittlicher quadratischer Fehler','Korrelationskoeffizient','Varianz'], \\\n",
    "                                  'Korrelationskoeffizient')"
   ]
  },
  {
   "cell_type": "code",
   "execution_count": 9,
   "id": "f26b665d",
   "metadata": {},
   "outputs": [
    {
     "data": {
      "application/vnd.jupyter.widget-view+json": {
       "model_id": "74bfe2c698eb43b495cd5ac3d6d5875a",
       "version_major": 2,
       "version_minor": 0
      },
      "text/plain": [
       "VBox(children=(Output(), RadioButtons(options=(('durchschnittlicher quadratischer Fehler', 0), ('Korrelationsk…"
      ]
     },
     "metadata": {},
     "output_type": "display_data"
    }
   ],
   "source": [
    "display(Q1)"
   ]
  },
  {
   "cell_type": "markdown",
   "id": "4fbb625d",
   "metadata": {},
   "source": [
    "# <span style=\"color:mediumblue\">4. Ausgeblendeter Code </span> <a name=\"kap4\"></a>"
   ]
  },
  {
   "cell_type": "markdown",
   "id": "93bd0be9",
   "metadata": {},
   "source": [
    "Zur Nutzung von ausgeblendetem Code gibt es viele Varianten. Eine sehr unkomplizierte Variante funktioniert über die Einbindung des Befehls hide_code über den nachfolgenden Java Code. Die Zelle muss nicht mehr verändert werden. "
   ]
  },
  {
   "cell_type": "code",
   "execution_count": 10,
   "id": "8fb7ffc2",
   "metadata": {},
   "outputs": [
    {
     "data": {
      "text/html": [
       "\n",
       "    <script>\n",
       "    function code_toggle() {\n",
       "        if ($('div.cell.code_cell.rendered.selected div.input').css('display')!='none'){\n",
       "            $('div.cell.code_cell.rendered.selected div.input').hide();\n",
       "        } else {\n",
       "            $('div.cell.code_cell.rendered.selected div.input').show();\n",
       "        }\n",
       "    }\n",
       "    </script>\n",
       "\n",
       "\n",
       "<form action=\"javascript:code_toggle()\"><input type=\"submit\" id=\"toggleButton\" value=\"Code ein-/ausblenden\"></form>\n"
      ],
      "text/plain": [
       "<IPython.core.display.HTML object>"
      ]
     },
     "metadata": {},
     "output_type": "display_data"
    }
   ],
   "source": [
    "from IPython.core.display import display, HTML\n",
    "toggle_code_str = '''\n",
    "<form action=\"javascript:code_toggle()\"><input type=\"submit\" id=\"toggleButton\" value=\"Code ein-/ausblenden\"></form>\n",
    "'''\n",
    "toggle_code_prepare_str = '''\n",
    "    <script>\n",
    "    function code_toggle() {\n",
    "        if ($('div.cell.code_cell.rendered.selected div.input').css('display')!='none'){\n",
    "            $('div.cell.code_cell.rendered.selected div.input').hide();\n",
    "        } else {\n",
    "            $('div.cell.code_cell.rendered.selected div.input').show();\n",
    "        }\n",
    "    }\n",
    "    </script>\n",
    "\n",
    "'''\n",
    "display(HTML(toggle_code_prepare_str + toggle_code_str))\n",
    "def hide_code():\n",
    "    display(HTML(toggle_code_str))"
   ]
  },
  {
   "cell_type": "markdown",
   "id": "4d76badc",
   "metadata": {},
   "source": [
    "Der Befehl hide_code am Ende einer Zelle sorgt dann dafür, dass diese ausgeblendet wird. "
   ]
  },
  {
   "cell_type": "markdown",
   "id": "d4c914ff",
   "metadata": {},
   "source": [
    "Wenn man oben im Menü unter \"View\", \"Cell Toolbar\", \"Hide Code\" auswählt, wir für jede Zelle eine Auswahl angeboten, mit der Auswahl \"Hide Prompts\", \"Hide Code\" und \"Hide Outputs\". Hiermit kann man den Code dauerhaft verstecken. \n",
    "Über \"View\", \"Cell Toolbar\", \"None\" wird diese Auswahl wieder ausgeblendet. \n",
    "Dies ist in der folgenden Zelle geschehen:"
   ]
  },
  {
   "cell_type": "code",
   "execution_count": null,
   "id": "8b88da36",
   "metadata": {},
   "outputs": [],
   "source": []
  },
  {
   "cell_type": "code",
   "execution_count": 14,
   "id": "24f37ab9",
   "metadata": {
    "hideCode": true,
    "hidePrompt": false
   },
   "outputs": [],
   "source": [
    "\n",
    "Q2 = create_multipleChoice_widget('Mit welchem Befehl kan man sich in Python etwas ausgeben lassen?' , \\\n",
    "                                  ['print()','show()','display()'], \\\n",
    "                                  'print()')\n",
    "\n",
    "#hide_code()\n"
   ]
  },
  {
   "cell_type": "code",
   "execution_count": 15,
   "id": "82d70845",
   "metadata": {},
   "outputs": [
    {
     "data": {
      "application/vnd.jupyter.widget-view+json": {
       "model_id": "b60c8898fe2440129c5c2a28920403c0",
       "version_major": 2,
       "version_minor": 0
      },
      "text/plain": [
       "VBox(children=(Output(outputs=({'output_type': 'stream', 'text': 'Mit welchem Befehl kan man sich in Python et…"
      ]
     },
     "metadata": {},
     "output_type": "display_data"
    }
   ],
   "source": [
    "display(Q2)"
   ]
  },
  {
   "cell_type": "code",
   "execution_count": null,
   "id": "49b105f2",
   "metadata": {},
   "outputs": [],
   "source": []
  },
  {
   "cell_type": "code",
   "execution_count": null,
   "id": "12e69164",
   "metadata": {},
   "outputs": [],
   "source": []
  }
 ],
 "metadata": {
  "kernelspec": {
   "display_name": "Python 3 (ipykernel)",
   "language": "python",
   "name": "python3"
  },
  "language_info": {
   "codemirror_mode": {
    "name": "ipython",
    "version": 3
   },
   "file_extension": ".py",
   "mimetype": "text/x-python",
   "name": "python",
   "nbconvert_exporter": "python",
   "pygments_lexer": "ipython3",
   "version": "3.9.7"
  },
  "latex_envs": {
   "LaTeX_envs_menu_present": true,
   "autoclose": false,
   "autocomplete": true,
   "bibliofile": "biblio.bib",
   "cite_by": "apalike",
   "current_citInitial": 1,
   "eqLabelWithNumbers": true,
   "eqNumInitial": 1,
   "hotkeys": {
    "equation": "Ctrl-E",
    "itemize": "Ctrl-I"
   },
   "labels_anchors": false,
   "latex_user_defs": false,
   "report_style_numbering": false,
   "user_envs_cfg": false
  },
  "toc": {
   "base_numbering": 1,
   "nav_menu": {},
   "number_sections": false,
   "sideBar": true,
   "skip_h1_title": true,
   "title_cell": "Table of Contents",
   "title_sidebar": "Contents",
   "toc_cell": false,
   "toc_position": {},
   "toc_section_display": true,
   "toc_window_display": false
  },
  "varInspector": {
   "cols": {
    "lenName": 16,
    "lenType": 16,
    "lenVar": 40
   },
   "kernels_config": {
    "python": {
     "delete_cmd_postfix": "",
     "delete_cmd_prefix": "del ",
     "library": "var_list.py",
     "varRefreshCmd": "print(var_dic_list())"
    },
    "r": {
     "delete_cmd_postfix": ") ",
     "delete_cmd_prefix": "rm(",
     "library": "var_list.r",
     "varRefreshCmd": "cat(var_dic_list()) "
    }
   },
   "types_to_exclude": [
    "module",
    "function",
    "builtin_function_or_method",
    "instance",
    "_Feature"
   ],
   "window_display": false
  }
 },
 "nbformat": 4,
 "nbformat_minor": 5
}
