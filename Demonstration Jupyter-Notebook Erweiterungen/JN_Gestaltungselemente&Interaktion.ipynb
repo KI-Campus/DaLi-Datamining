{
 "cells": [
  {
   "cell_type": "markdown",
   "id": "c4fa865a",
   "metadata": {},
   "source": [
    "# Demonstration verschiedener Jupyter Notebook Elemente für den Einsatz im Data Literacy Kontext\n",
    "\n",
    "<hr style=\"border:1px solid gray\"> </hr>\n",
    "\n",
    "Bitte beachten Sie, dass die Ansicht in GitHub nicht optimal ist und für eine besser Nutzbarkeit ein Herunterladen oder lokales Ausführen empfohlen wird. \n",
    "\n",
    "<hr style=\"border:1px solid gray\"> </hr>\n",
    "\n",
    "# <span style=\"color:mediumblue\">Inhalt</span>\n",
    "\n",
    "1. [Strukturierende Elemente](#kap1)    \n",
    "    &ensp; 1.1 [Farbige Boxen](#kap11)  \n",
    "    &ensp; 1.2 [Inhaltsverzeichnis](#kap12)  \n",
    "    \n",
    "2. [Einbindung von Grafiken](#kap2)  \n",
    "\n",
    "3. [Interaktive Elemente](#kap3)     \n",
    "    &ensp; 3.1 [Variableneingabe](#kap31)  \n",
    "    &ensp; 3.2 [Multiple Choice Fragen](#kap32)\n",
    "    \n",
    "4. [Ausgeblendeter Code](#kap4)  \n",
    "    &ensp; 4.1 [Mit Java Code](#kap41)  \n",
    "    &ensp; 4.2 [Mit Hilfe der \"Hide Code\" Toolbar](#kap42)"
   ]
  },
  {
   "cell_type": "markdown",
   "id": "268bcdbe",
   "metadata": {},
   "source": [
    "# <span style=\"color:mediumblue\">1. Strukturierende Elemente </span> <a name=\"kap1\"></a>\n",
    "\n",
    "Hier wird Code für strukturierende Elemente, wie Linien, farbige Boxen und ein Inhaltsverzeichnis dargestelllt. \n",
    "\n",
    "<hr style=\"border:1px solid gray\"> </hr>\n",
    "\n",
    "## <span style=\"color:mediumblue\">1.1 Farbige Boxen </span> <a name=\"kap11\"></a>\n",
    "\n",
    "Es folgt ein Beispiel für eine farbige Box. Die zugrundeliegende Zelle für die Box muss eine Markdown-Zelle sein, mit Doppelklick auf die Zelle können Sie sich den zugrundeliegenden HTML Code ansehen. "
   ]
  },
  {
   "cell_type": "markdown",
   "id": "749a3b61",
   "metadata": {},
   "source": [
    "<div class=\"alert alert-block alert-success\">\n",
    "<b>Arbeitsauftrag:</b> \n",
    "Hier könnte Ihr Arbeitsauftrag stehen. \n",
    "</div>"
   ]
  },
  {
   "cell_type": "code",
   "execution_count": 1,
   "id": "ed9c0d16",
   "metadata": {},
   "outputs": [],
   "source": [
    "# Code für den Arbeitauftrag "
   ]
  },
  {
   "cell_type": "markdown",
   "id": "53ba3223",
   "metadata": {},
   "source": [
    "Andere Schlüsselwörter als 'success' (in der ersten Zeile des Codes der Markdown Zelle) sorgen für andere Fraben, beispielsweise `warning`für gelb, `info` für blau und `danger` für rot."
   ]
  },
  {
   "cell_type": "markdown",
   "id": "fcd06b36",
   "metadata": {},
   "source": [
    "## <span style=\"color:mediumblue\">1.2 Inhaltsverzeichnis </span> <a name=\"kap12\"></a>"
   ]
  },
  {
   "cell_type": "markdown",
   "id": "417a4302",
   "metadata": {},
   "source": [
    "Doppelklicken Sie auf den Text für das Inhaltsverzeichnis oben, um sich den einzugebenden Text anzeigen zu lassen und auf die Überschrift oberhalb, um die Referenz, auf die sich das Inhaltsverzeichnis bezieht, zu sehen. \n",
    "In diesem Beispiel wird z.B. mit der Referenz \"kap12\" verwiesen. "
   ]
  },
  {
   "cell_type": "markdown",
   "id": "9ec9e413",
   "metadata": {},
   "source": [
    "# <span style=\"color:mediumblue\">2. Einbindung von Grafiken </span> <a name=\"kap2\"></a>"
   ]
  },
  {
   "cell_type": "markdown",
   "id": "4695cbc7",
   "metadata": {},
   "source": [
    "Hier wird die Grafik \"dm00.png\" aus dem Unterordner \"Bilder\" mit einer Höhe von 500 Pixeln importiert (manchmal nicht in github zu sehen, lokal funktioniert es aber). Doppelklicken Sie auf die Grafik, um den entsprechenden HTML-Code zu sehen:"
   ]
  },
  {
   "cell_type": "markdown",
   "id": "bd8f556e",
   "metadata": {},
   "source": [
    "<img src=\" bilder/dm00.png\" style=\"height:500px\">"
   ]
  },
  {
   "cell_type": "markdown",
   "id": "175c4873",
   "metadata": {},
   "source": [
    "So werden Emojis eingebunden: <font size='6'>&#128142;</font> (Doppelklick!)"
   ]
  },
  {
   "cell_type": "markdown",
   "id": "b638bdce",
   "metadata": {},
   "source": [
    "# <span style=\"color:mediumblue\">3. Interaktive Elemente </span> <a name=\"kap3\"></a>\n",
    "Hier wird Code für interaktive Elemente wie Dropdown-Menüs oder MC Fragen dargestelllt. Zur Erzeugung der folgenden interaktiven Elemente werden folgende Pakete benötigt:"
   ]
  },
  {
   "cell_type": "code",
   "execution_count": 2,
   "id": "0e633f1b",
   "metadata": {},
   "outputs": [],
   "source": [
    "import ipywidgets as widgets \n",
    "from ipywidgets import interact, Layout \n",
    "from IPython.display import clear_output, display"
   ]
  },
  {
   "cell_type": "markdown",
   "id": "876b1980",
   "metadata": {},
   "source": [
    "## <span style=\"color:mediumblue\">3.1 Variableneingabe </span> <a name=\"kap31\"></a>\n",
    "Beispiel zur Erzeugung von Dropdown-Menü, Slider oder Eingabefeld:"
   ]
  },
  {
   "cell_type": "code",
   "execution_count": 3,
   "id": "baf23a6e",
   "metadata": {},
   "outputs": [
    {
     "data": {
      "application/vnd.jupyter.widget-view+json": {
       "model_id": "f893109fd80c4352b1667ec96b1bc371",
       "version_major": 2,
       "version_minor": 0
      },
      "text/plain": [
       "Dropdown(description='Geschlecht: ', options=('w', 'm', 'd'), value='w')"
      ]
     },
     "metadata": {},
     "output_type": "display_data"
    },
    {
     "data": {
      "application/vnd.jupyter.widget-view+json": {
       "model_id": "eee94d0cbb0e48c18bf55464276d3e4e",
       "version_major": 2,
       "version_minor": 0
      },
      "text/plain": [
       "IntSlider(value=3, description='Anzahl Kinder: ', max=10, style=SliderStyle(description_width='initial'))"
      ]
     },
     "metadata": {},
     "output_type": "display_data"
    },
    {
     "data": {
      "application/vnd.jupyter.widget-view+json": {
       "model_id": "aca24d126d78479abd28f7dc87b31e76",
       "version_major": 2,
       "version_minor": 0
      },
      "text/plain": [
       "Text(value='0', description='Alter: ')"
      ]
     },
     "metadata": {},
     "output_type": "display_data"
    }
   ],
   "source": [
    "style = {'description_width': 'initial'}\n",
    "\n",
    "# Dropdown-Widget für Geschlecht\n",
    "dd1 = widgets.Dropdown(options=['w', 'm', 'd'], value='w', description='Geschlecht: ');display(dd1);\n",
    "\n",
    "# IntSlider-Widget für Anzahl Kinder \n",
    "is1 = widgets.IntSlider(value='3', min=0, max=10, step=1, description='Anzahl Kinder: ', style=style);display(is1); \n",
    "\n",
    "# Text-Eingabefeld für Alter \n",
    "tb1 = widgets.Text(value='0', description='Alter: ');display(tb1); "
   ]
  },
  {
   "cell_type": "markdown",
   "id": "da076349",
   "metadata": {},
   "source": [
    "Die Eingabe wird durch den Code hinter den Auswahlmenüs gespeichert und kann im Anschluss weiterverwendet werden."
   ]
  },
  {
   "cell_type": "code",
   "execution_count": 4,
   "id": "15811672",
   "metadata": {},
   "outputs": [
    {
     "name": "stdout",
     "output_type": "stream",
     "text": [
      "Ich bin 0 Jahre alt und habe 3 Kinder.\n"
     ]
    }
   ],
   "source": [
    "print('Ich bin', tb1.value, 'Jahre alt und habe', is1.value, 'Kinder.')"
   ]
  },
  {
   "cell_type": "markdown",
   "id": "22d6ce01",
   "metadata": {},
   "source": [
    "## <span style=\"color:mediumblue\">3.2 Multiple Choice Fragen </span> <a name=\"kap32\"></a>\n"
   ]
  },
  {
   "cell_type": "markdown",
   "id": "046d64f0",
   "metadata": {},
   "source": [
    "In der folgenden Zelle wird die Funktion \"create_multipleChoice_widget\" definiert. Sie muss nicht mehr verändert werden. Sie wurde entnommen aus: https://github.com/jupyter-widgets/ipywidgets/issues/2487"
   ]
  },
  {
   "cell_type": "code",
   "execution_count": 5,
   "id": "beaf3d3b",
   "metadata": {},
   "outputs": [],
   "source": [
    "def create_multipleChoice_widget(description, options, correct_answer):\n",
    "    if correct_answer not in options:\n",
    "        options.append(correct_answer)\n",
    "    \n",
    "    correct_answer_index = options.index(correct_answer)\n",
    "    \n",
    "    radio_options = [(words, i) for i, words in enumerate(options)]\n",
    "    alternativ = widgets.RadioButtons(\n",
    "        options = radio_options,\n",
    "        description = '',\n",
    "        disabled = False )\n",
    "    \n",
    "    description_out = widgets.Output()\n",
    "    with description_out:\n",
    "        print(description)\n",
    "        \n",
    "    feedback_out = widgets.Output()\n",
    "\n",
    "    def check_selection(b):\n",
    "        a = int(alternativ.value)\n",
    "        if a==correct_answer_index:\n",
    "            s = '\\x1b[6;30;42m' + \"Richtig.\" + '\\x1b[0m' +\"\\n\" #green color\n",
    "        else:\n",
    "            s = '\\x1b[5;30;41m' + \"Falsch. \" + '\\x1b[0m' +\"\\n\" #red color\n",
    "        with feedback_out:\n",
    "            clear_output()\n",
    "            print(s)\n",
    "        return\n",
    "    \n",
    "    check = widgets.Button(description=\"submit\")\n",
    "    check.on_click(check_selection)\n",
    "    \n",
    "    return widgets.VBox([description_out, alternativ, check, feedback_out])"
   ]
  },
  {
   "cell_type": "markdown",
   "id": "7c17e44b",
   "metadata": {},
   "source": [
    "Diese Funktion kann anschließend für jede Multiple Choice Frage nach dem folgenden Muster befüllt werden:"
   ]
  },
  {
   "cell_type": "code",
   "execution_count": 6,
   "id": "b865bef6",
   "metadata": {},
   "outputs": [],
   "source": [
    "Q1 = create_multipleChoice_widget('Mit welchem Maß mißt man den linearen Zusammenhang zweier Merkmale?', \\\n",
    "                                  ['durchschnittlicher quadratischer Fehler','Korrelationskoeffizient','Varianz'], \\\n",
    "                                  'Korrelationskoeffizient')"
   ]
  },
  {
   "cell_type": "code",
   "execution_count": 7,
   "id": "f26b665d",
   "metadata": {},
   "outputs": [
    {
     "data": {
      "application/vnd.jupyter.widget-view+json": {
       "model_id": "1938aa55a5424479bf28726aff325283",
       "version_major": 2,
       "version_minor": 0
      },
      "text/plain": [
       "VBox(children=(Output(), RadioButtons(options=(('durchschnittlicher quadratischer Fehler', 0), ('Korrelationsk…"
      ]
     },
     "metadata": {},
     "output_type": "display_data"
    }
   ],
   "source": [
    "display(Q1)"
   ]
  },
  {
   "cell_type": "markdown",
   "id": "4fbb625d",
   "metadata": {},
   "source": [
    "# <span style=\"color:mediumblue\">4. Ausgeblendeter Code </span> <a name=\"kap4\"></a>\n",
    "## <span style=\"color:mediumblue\">4.1 Mit Javascript Code </span> <a name=\"kap41\"></a>"
   ]
  },
  {
   "cell_type": "markdown",
   "id": "93bd0be9",
   "metadata": {},
   "source": [
    "Zur Nutzung von ausgeblendetem Code gibt es viele Varianten. Eine sehr unkomplizierte Variante funktioniert über die Einbindung des Befehls hide_code über den nachfolgenden Javascript Code. Die Zelle muss nicht mehr verändert werden. "
   ]
  },
  {
   "cell_type": "code",
   "execution_count": 8,
   "id": "8fb7ffc2",
   "metadata": {},
   "outputs": [
    {
     "data": {
      "text/html": [
       "\n",
       "    <script>\n",
       "    function code_toggle() {\n",
       "        if ($('div.cell.code_cell.rendered.selected div.input').css('display')!='none'){\n",
       "            $('div.cell.code_cell.rendered.selected div.input').hide();\n",
       "        } else {\n",
       "            $('div.cell.code_cell.rendered.selected div.input').show();\n",
       "        }\n",
       "    }\n",
       "    </script>\n",
       "\n",
       "\n",
       "<form action=\"javascript:code_toggle()\"><input type=\"submit\" id=\"toggleButton\" value=\"Code ein-/ausblenden\"></form>\n"
      ],
      "text/plain": [
       "<IPython.core.display.HTML object>"
      ]
     },
     "metadata": {},
     "output_type": "display_data"
    }
   ],
   "source": [
    "from IPython.core.display import display, HTML\n",
    "toggle_code_str = '''\n",
    "<form action=\"javascript:code_toggle()\"><input type=\"submit\" id=\"toggleButton\" value=\"Code ein-/ausblenden\"></form>\n",
    "'''\n",
    "toggle_code_prepare_str = '''\n",
    "    <script>\n",
    "    function code_toggle() {\n",
    "        if ($('div.cell.code_cell.rendered.selected div.input').css('display')!='none'){\n",
    "            $('div.cell.code_cell.rendered.selected div.input').hide();\n",
    "        } else {\n",
    "            $('div.cell.code_cell.rendered.selected div.input').show();\n",
    "        }\n",
    "    }\n",
    "    </script>\n",
    "\n",
    "'''\n",
    "display(HTML(toggle_code_prepare_str + toggle_code_str))\n",
    "def hide_code():\n",
    "    display(HTML(toggle_code_str))"
   ]
  },
  {
   "cell_type": "markdown",
   "id": "4d76badc",
   "metadata": {},
   "source": [
    "Der Befehl hide_code am Ende einer Zelle sorgt dann dafür, dass diese ausgeblendet wird. "
   ]
  },
  {
   "cell_type": "code",
   "execution_count": 9,
   "id": "24f37ab9",
   "metadata": {
    "hideCode": false,
    "hidePrompt": false
   },
   "outputs": [
    {
     "data": {
      "text/html": [
       "\n",
       "<form action=\"javascript:code_toggle()\"><input type=\"submit\" id=\"toggleButton\" value=\"Code ein-/ausblenden\"></form>\n"
      ],
      "text/plain": [
       "<IPython.core.display.HTML object>"
      ]
     },
     "metadata": {},
     "output_type": "display_data"
    }
   ],
   "source": [
    "Q2 = create_multipleChoice_widget('Mit welchem Befehl kan man sich in Python etwas ausgeben lassen?' , \\\n",
    "                                  ['print()','show()','display()'], \\\n",
    "                                  'print()')\n",
    "hide_code()"
   ]
  },
  {
   "cell_type": "code",
   "execution_count": 10,
   "id": "82d70845",
   "metadata": {},
   "outputs": [
    {
     "data": {
      "application/vnd.jupyter.widget-view+json": {
       "model_id": "04d4ab29ea274f77888b8745a8e3eab3",
       "version_major": 2,
       "version_minor": 0
      },
      "text/plain": [
       "VBox(children=(Output(), RadioButtons(options=(('print()', 0), ('show()', 1), ('display()', 2)), value=0), But…"
      ]
     },
     "metadata": {},
     "output_type": "display_data"
    }
   ],
   "source": [
    "display(Q2)"
   ]
  },
  {
   "cell_type": "markdown",
   "id": "97045263",
   "metadata": {},
   "source": [
    "## <span style=\"color:mediumblue\">4.2 Mit Hilfe der \"Hide Code\" Toolbar </span> <a name=\"kap42\"></a>\n",
    "Eine andere komfortable Methode Code auszublenden ist der Einsatz der \"Hide Code\" Toolbar. \n",
    "\n",
    "Sie wird durch \n",
    "\n",
    "`pip install hide_code`\n",
    "\n",
    "`jupyter nbextension install --py --user hide_code`\n",
    "\n",
    "`jupyter nbextension enable --py --user hide_code`\n",
    "\n",
    "`jupyter serverextension enable --py --user hide_code`\n",
    "\n",
    "installiert.\n",
    "Danach kann man sie im Menü über \"View\", \"Cell Toolbar\", \"Hide Code\" auswählen. \n",
    "\n",
    "Anschließend wir für jede Zelle eine Auswahl angeboten, mit der Auswahl \"Hide Prompts\", \"Hide Code\" und \"Hide Outputs\". Hiermit kann man den Code dauerhaft verstecken. \n",
    "Über \"View\", \"Cell Toolbar\", \"None\" wird diese Auswahl wieder ausgeblendet. \n",
    "In der folgenden Zelle ist der Code dauerhaft ausgeblendet. Erst wenn die Auswahl \"Hide Code\" aufgehoben wird, ist er wieder sichtbar."
   ]
  },
  {
   "cell_type": "code",
   "execution_count": 11,
   "id": "98097020",
   "metadata": {
    "hideCode": true,
    "hidePrompt": true
   },
   "outputs": [
    {
     "data": {
      "application/vnd.jupyter.widget-view+json": {
       "model_id": "04d4ab29ea274f77888b8745a8e3eab3",
       "version_major": 2,
       "version_minor": 0
      },
      "text/plain": [
       "VBox(children=(Output(), RadioButtons(options=(('print()', 0), ('show()', 1), ('display()', 2)), value=0), But…"
      ]
     },
     "metadata": {},
     "output_type": "display_data"
    }
   ],
   "source": [
    "display(Q2)"
   ]
  }
 ],
 "metadata": {
  "kernelspec": {
   "display_name": "Python 3",
   "language": "python",
   "name": "python3"
  },
  "language_info": {
   "codemirror_mode": {
    "name": "ipython",
    "version": 3
   },
   "file_extension": ".py",
   "mimetype": "text/x-python",
   "name": "python",
   "nbconvert_exporter": "python",
   "pygments_lexer": "ipython3",
   "version": "3.8.8"
  },
  "latex_envs": {
   "LaTeX_envs_menu_present": true,
   "autoclose": false,
   "autocomplete": true,
   "bibliofile": "biblio.bib",
   "cite_by": "apalike",
   "current_citInitial": 1,
   "eqLabelWithNumbers": true,
   "eqNumInitial": 1,
   "hotkeys": {
    "equation": "Ctrl-E",
    "itemize": "Ctrl-I"
   },
   "labels_anchors": false,
   "latex_user_defs": false,
   "report_style_numbering": false,
   "user_envs_cfg": false
  },
  "toc": {
   "base_numbering": 1,
   "nav_menu": {},
   "number_sections": false,
   "sideBar": true,
   "skip_h1_title": true,
   "title_cell": "Table of Contents",
   "title_sidebar": "Contents",
   "toc_cell": false,
   "toc_position": {},
   "toc_section_display": true,
   "toc_window_display": false
  },
  "varInspector": {
   "cols": {
    "lenName": 16,
    "lenType": 16,
    "lenVar": 40
   },
   "kernels_config": {
    "python": {
     "delete_cmd_postfix": "",
     "delete_cmd_prefix": "del ",
     "library": "var_list.py",
     "varRefreshCmd": "print(var_dic_list())"
    },
    "r": {
     "delete_cmd_postfix": ") ",
     "delete_cmd_prefix": "rm(",
     "library": "var_list.r",
     "varRefreshCmd": "cat(var_dic_list()) "
    }
   },
   "types_to_exclude": [
    "module",
    "function",
    "builtin_function_or_method",
    "instance",
    "_Feature"
   ],
   "window_display": false
  }
 },
 "nbformat": 4,
 "nbformat_minor": 5
}
