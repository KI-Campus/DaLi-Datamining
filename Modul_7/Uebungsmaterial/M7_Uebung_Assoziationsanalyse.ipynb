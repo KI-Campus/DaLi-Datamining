{
 "cells": [
  {
   "cell_type": "markdown",
   "metadata": {},
   "source": [
    "# <p style='margin-bottom:-30px'><font color='darkblue'>Modul 7: Übungsmaterial Assoziationsanalyse &#8211; Und was hörst du?</font>&nbsp; <font size='6'>&#127911;</font></p>"
   ]
  },
  {
   "cell_type": "markdown",
   "metadata": {},
   "source": [
    "<hr style=\"border:1px solid gray\"> </hr>"
   ]
  },
  {
   "cell_type": "markdown",
   "metadata": {},
   "source": [
    "Im zweiten Video dieses Moduls haben Sie die Begriffe Konfidenz und Support kennengelernt. Im Rahmen der Assoziationsanalyse tauchen auch noch andere Begriffe wie Lift, Leverage und Conviction auf. Diese sollen in diesem Notebook erklärt werden. Anschließend wird mit der Assoziationsanalyse ein Datensatz mit Musikdaten analysiert."
   ]
  },
  {
   "cell_type": "markdown",
   "metadata": {},
   "source": [
    "## <font color='darkblue'>Inhalt</font>\n",
    "\n",
    "\n",
    "1. [Weitere Kennwerte der Assoziationsanalyse](#kap1)  \n",
    "    1.1 [Wiederholung der Warenkorbanalyse](#kap11)  \n",
    "    1.2 [Lift](#kap12)  \n",
    "    1.3 [Leverage und Conviction](#kap13)\n",
    "    \n",
    "\n",
    "2. [Anwendung der Assoziationsanalyse auf einen Musik-Datensatz](#kap2)    \n",
    "    2.1 [Datensatz einlesen und erforschen](#kap21)    \n",
    "    2.2 [Datensatz vorbereiten](#kap22)   \n",
    "    2.3 [Modellierung](#kap23)  \n",
    "    2.4 [Erweiterung um die Kenwerte der Assoziationsanalyse](#kap24)\n",
    "\n",
    "\n",
    "3. [Fazit](#kap3)"
   ]
  },
  {
   "cell_type": "markdown",
   "metadata": {},
   "source": [
    "<hr style=\"border:1px solid gray\"> </hr>"
   ]
  },
  {
   "cell_type": "markdown",
   "metadata": {},
   "source": [
    "## <font color='darkblue'>1. Weitere Kennwerte der Assoziationsanalyse</font> <a name=\"kap1\"></a>"
   ]
  },
  {
   "cell_type": "markdown",
   "metadata": {},
   "source": [
    "### <font color='darkblue'>1.1 Wiederholung der Warenkorbanalyse</font> <a name=\"kap11\"></a>"
   ]
  },
  {
   "cell_type": "markdown",
   "metadata": {},
   "source": [
    "Zunächst werden noch einmal die Schritte bis zu den Assoziationsregeln aus dem anderen Notebook durchgeführt:"
   ]
  },
  {
   "cell_type": "code",
   "execution_count": null,
   "metadata": {},
   "outputs": [],
   "source": [
    "import pandas as pd\n",
    "from mlxtend.preprocessing import TransactionEncoder"
   ]
  },
  {
   "cell_type": "code",
   "execution_count": null,
   "metadata": {},
   "outputs": [],
   "source": [
    "dataset = [['Apfel', 'Avocado', 'Chips'],\n",
    "           ['Apfel', 'Avocado', 'Chips', 'Bier', 'Wasser'],\n",
    "           ['Avocado', 'Chips', 'Bier'],\n",
    "           ['Bier', 'Wasser'],\n",
    "           ['Avocado', 'Chips', 'Wasser'],\n",
    "           ['Apfel', 'Avocado', 'Wasser'],\n",
    "           ['Apfel', 'Avocado', 'Chips'],\n",
    "           ['Apfel', 'Avocado', 'Chips']\n",
    "          ]"
   ]
  },
  {
   "cell_type": "code",
   "execution_count": null,
   "metadata": {},
   "outputs": [],
   "source": [
    "te = TransactionEncoder()\n",
    "te_matrix = te.fit(dataset).transform(dataset)\n",
    "df = pd.DataFrame(te_matrix, columns=te.columns_)\n",
    "print(df)"
   ]
  },
  {
   "cell_type": "code",
   "execution_count": null,
   "metadata": {},
   "outputs": [],
   "source": [
    "from mlxtend.frequent_patterns import apriori\n",
    "frequent_itemsets = apriori(df, min_support=0.5, use_colnames=True)\n",
    "\n",
    "frequent_itemsets"
   ]
  },
  {
   "cell_type": "code",
   "execution_count": null,
   "metadata": {
    "scrolled": true
   },
   "outputs": [],
   "source": [
    "from mlxtend.frequent_patterns import association_rules\n",
    "\n",
    "rules = association_rules(frequent_itemsets, metric=\"confidence\", min_threshold=0.8)\n",
    "rules"
   ]
  },
  {
   "cell_type": "markdown",
   "metadata": {},
   "source": [
    "Hier sind jetzt die Begriffe Lift, Leverage und Conviction zu sehen. Sie werden nun erklärt:"
   ]
  },
  {
   "cell_type": "markdown",
   "metadata": {},
   "source": [
    "### <font color='darkblue'>1.2 Lift</font> <a name=\"kap12\"></a>"
   ]
  },
  {
   "cell_type": "markdown",
   "metadata": {},
   "source": [
    "Der Lift ist eine weitere Größe, die im Rahmen der Assoziationsanalyse genutzt wird und in der vorstehenden Tabelle zu finden ist. Er berechnet sich durch\n",
    "\n",
    "$$\\operatorname{lift}(A\\Rightarrow B) = \\frac{\\text{Anzahl der Einkäufe von $A$ und $B$}}{\\text{Anzahl der Einkäufe von $A$}\\cdot\\text{Anzahl der Einkäufe von $B$}}$$\n",
    "\n",
    "d.h. die Anzahl der gemeinsamen Einkäufe von $A$ und $B$ wird in Relation zu den Einkäufen von $A$ und den Einkäufen von $B$ (und nicht wie bei der Konfidenz nur zu den Einkäufen von $A$) gesetzt. Dadurch wird verhindert, dass eine Scheinregel in Betracht gezogen wird, die dadurch entsteht, dass $B$ in sehr vielen Einkäufen vorkommt.\n",
    "\n",
    "Der Lift kann folgende Werte annehmen:\n",
    "- $\\operatorname{lift}(A\\Rightarrow B) = 1$ bedeutet, dass $A$ und $B$ unabhängig voneinander gekauft werden\n",
    "- $\\operatorname{lift}(A\\Rightarrow B) > 1$ bedeutet, dass $B$ wahrscheinlich gekauft wird, wenn $A$ gekauft wird\n",
    "- $\\operatorname{lift}(A\\Rightarrow B) < 1$ bedeutet, dass $B$ wahrscheinlich *nicht* gekauft wird, wenn $A$ gekauft wird\n",
    "\n",
    "Die Tabelle zeigt, dass alle Liftwerte über 1 liegen, was bedeutet, dass hier keine Scheinregeln vorliegen, sondern die Waren tatsächlich abhängig voneinander gekauft werden. Aufgrund des kleinen Datensatzes liegen die Werte von Lift aber nur wenig über 1, in Anwendungen werden größere Werte erwartet!\n",
    "\n",
    "Durch Umformungen folgt:\n",
    "\n",
    "$$\\operatorname{lift}(A\\Rightarrow B) = \\frac{\\operatorname{conf}(A\\Rightarrow B)}{\\operatorname{supp}(B)}$$\n",
    "\n",
    "Hieraus kann die folgende Interpretation gezogen werden: Der Lift von 1,14 bei der ersten Regel Apfel &rarr; Avocado bedeutet konkret, dass Avocados von Apfel-Käufer:innen 14% öfter gekauft werden als vom Durchschnitt aller Käufer:innen. "
   ]
  },
  {
   "cell_type": "markdown",
   "metadata": {},
   "source": [
    "Mit `mlextend` kann sowohl bei den gefundenen Regeln der zugehörige Lift ausgegeben werden, als auch bei der Erzeugung/Berechnung der Regeln statt auf die Konfidenz auf den Lift geachtet werden:"
   ]
  },
  {
   "cell_type": "markdown",
   "metadata": {},
   "source": [
    "<div class=\"alert alert-block alert-success\">\n",
    "&#128187; <b>Arbeitsauftrag:</b> \n",
    "\n",
    "Setzen Sie die folgenden Parameter so fest, dass die Metrik `lift` mit einem Grenzwert von `1.1` ausgewählt wird.\n",
    "</div>"
   ]
  },
  {
   "cell_type": "code",
   "execution_count": null,
   "metadata": {},
   "outputs": [],
   "source": [
    "# Durchführung der Assoziationsanalyse mit Lift\n",
    "# rules = association_rules(frequent_itemsets, metric=#, min_threshold=#)\n",
    "rules"
   ]
  },
  {
   "cell_type": "markdown",
   "metadata": {},
   "source": [
    "Es sollten sich in diesem Fall 6 Assoziationsregeln ergeben. "
   ]
  },
  {
   "cell_type": "markdown",
   "metadata": {},
   "source": [
    "### <font color='darkblue'>1.3 Leverage und Conviction</font> <a name=\"kap13\"></a>"
   ]
  },
  {
   "cell_type": "markdown",
   "metadata": {},
   "source": [
    "Zwei weitere Kennwerte bei der Assoziationsanalyse sind Leverage und Conviction. \n",
    "\n",
    "**Leverage** - zu deutsch Hebel - ist definiert durch\n",
    "\n",
    "$$\\operatorname{leverage}(A\\Rightarrow B) = \\operatorname{supp}(A\\Rightarrow B) - \\operatorname{supp}(A) \\cdot \\operatorname{supp}(B)\n",
    "$$\n",
    "\n",
    "Der Leverage ist in seiner Aussagekraft stark mit dem Lift vergleichbar: \n",
    "\n",
    "- $\\operatorname{leverage}(A\\Rightarrow B) = 0$ bedeutet, dass $A$ und $B$ unabhängig voneinander gekauft werden\n",
    "- $\\operatorname{leverage}(A\\Rightarrow B) > 0$ bedeutet, dass $B$ wahrscheinlich gekauft wird, wenn $A$ gekauft wird\n",
    "- $\\operatorname{leverage}(A\\Rightarrow B) < 0$ bedeutet, dass $B$ wahrscheinlich *nicht* gekauft wird, wenn $A$ gekauft \n",
    "\n",
    "Die sehr kleinen Leverage Werte im Beispiel liegen an der Größe des Datensatzes (bei sehr wenigen Artikeln ist ein gemeinsamer Kauf schneller Zufall als bei vielen Artikeln). "
   ]
  },
  {
   "cell_type": "markdown",
   "metadata": {},
   "source": [
    "**Conviction** - zu deutsch Überzeugungswert - ist definiert als\n",
    "\n",
    "$$\\operatorname{conviction}(A\\Rightarrow B) = \\frac{1- \\operatorname{supp}(B)}{1 - \\operatorname{conf}(A\\Rightarrow B) }\n",
    "$$\n",
    "\n",
    "Die Conviction kann Werte von 0 bis unendlich annehmen. Ein hoher Wert zeigt an, dass der Kauf von B sehr abhängig ist von A. Bei einer Konfidenz von 1, d.h. alle Käufer:innen von A kauften auch B, wird der Nenner 0 und Conviciton wird unendlich groß.\n",
    "\n",
    "Conviction kann dabei wie folgt interpretiert werden: das Verhältnis der erwarteten Häufigkeit des Auftretens von A ohne B (d. h. der Häufigkeit, mit der die Regel eine falsche Vorhersage trifft), wenn A und B unabhängig wären, dividiert durch die beobachtete Häufigkeit falscher Vorhersagen. Im Beispiel zeigt der Überzeugungswert von 1,25, dass die Regel \"$Apfel \\Rightarrow Chips$\" 1,25 mal so häufig falsch liegen würde, wenn der Zusammenhang zwischen Apfel und Chips rein zufällig wäre. \n",
    "Im Beispiel zeigen sich auch drei Einträge mit einem `Inf` bei conviction. Dies ist der Fall, da IMMER, wenn ein Apfel bzw. Chips oder Äpfel und Chips gekauft wurden, auch Avocados gekauft wurden. "
   ]
  },
  {
   "cell_type": "markdown",
   "metadata": {},
   "source": [
    "<hr style=\"border:1px solid gray\"> </hr>"
   ]
  },
  {
   "cell_type": "markdown",
   "metadata": {},
   "source": [
    "## <font color='darkblue'>2. Anwendung der Assoziationsanalyse auf einen Musik-Datensatz</font> <a name=\"kap2\"></a>"
   ]
  },
  {
   "cell_type": "markdown",
   "metadata": {},
   "source": [
    "Die Assoziationsanalyse wird nicht nur zur Analyse von Warenkörben benutzt. Sie kann auch auf den hier vorgestellten Datensatz angewendet werden. Aus einer Liste, in der erfasst ist, welche:r Hörer:in, welche Musik gehört hat, können Regeln für Musik, die oft zusammen gehört wird, erstellt werden. Daraus lassen sich dann leicht Empfehlungen ableiten. "
   ]
  },
  {
   "cell_type": "markdown",
   "metadata": {},
   "source": [
    "### <font color='darkblue'>2.1 Datensatz einlesen und erforschen</font> <a name=\"kap21\"></a>"
   ]
  },
  {
   "cell_type": "markdown",
   "metadata": {},
   "source": [
    "Der Datensatz stammt ursprünglich von <a href=\"https://www.kaggle.com/ravichaubey1506/lastfm\">Kaggle</a> und enthält Musikdaten aus dem Jahr 2011. Der Datenstaz wird eingelesen und die ersten Informationen ausgegeben: "
   ]
  },
  {
   "cell_type": "code",
   "execution_count": null,
   "metadata": {},
   "outputs": [],
   "source": [
    "df = pd.read_csv(\"M7_Uebung_Musikdaten.csv\")\n",
    "df.info()"
   ]
  },
  {
   "cell_type": "markdown",
   "metadata": {},
   "source": [
    "Der Datensatzt enthält keine leeren Felder. Außer der Spalte `user` sind alle Spalten als object-Datentyp abgespeichert.  \n",
    "Die Datenspalten sind in der folgenden Tabelle beschrieben."
   ]
  },
  {
   "cell_type": "markdown",
   "metadata": {},
   "source": [
    "<table align='left'>\n",
    "    <thead>\n",
    "        <tr>\n",
    "          <th style=\"text-align:left\">Spaltenname</th>\n",
    "          <th style=\"text-align:left\">Bedeutung</th>\n",
    "          <th style=\"text-align:left\">Weitere Informationen</th>\n",
    "        </tr>\n",
    "    </thead>\n",
    "    <tr>\n",
    "    <td style=\"text-align:left\">user</td>\n",
    "    <td style=\"text-align:left\">User ID</td>\n",
    "    <td style=\"text-align:left\">-</td>\n",
    "    </tr>\n",
    "    <tr>\n",
    "    <td style=\"text-align:left\">artist</td>\n",
    "    <td style=\"text-align:left\">Name von Band oder Künstler:in</td>\n",
    "    <td style=\"text-align:left\">-</td>\n",
    "    </tr>\n",
    "    <tr>\n",
    "    <td style=\"text-align:left\">sex</td>\n",
    "    <td style=\"text-align:left\">Geschlecht User</td>\n",
    "    <td style=\"text-align:left\">m (male = männlich), f (female = weiblich)</td>\n",
    "    </tr>\n",
    "    <tr>\n",
    "    <td style=\"text-align:left\">country</td>\n",
    "        <td style=\"text-align:left\">Land User</td>\n",
    "    <td style=\"text-align:left\">-</td>\n",
    "    </tr>\n",
    "</table>"
   ]
  },
  {
   "cell_type": "markdown",
   "metadata": {},
   "source": [
    "Zuerst wird der Datensatz nun in mehreren Arbeitsaufträgen genauer analysiert:"
   ]
  },
  {
   "cell_type": "markdown",
   "metadata": {},
   "source": [
    "<div class=\"alert alert-block alert-success\">\n",
    "&#128187; <b>Arbeitsauftrag:</b> \n",
    "\n",
    "Bestimmen Sie die Anzahl der verschiedenen vorkommenden Bands und Künstler:innen, sowie die Anzahl der Hörer:innen im Datensatz. \n",
    "    \n",
    "Tipp: Kombinieren Sie den Befehl `unique()` mit einem weiteren Befehl.  \n",
    "</div>"
   ]
  },
  {
   "cell_type": "code",
   "execution_count": null,
   "metadata": {},
   "outputs": [],
   "source": [
    "# Bestimmung der Anzahl an Bands und Künstler:innen "
   ]
  },
  {
   "cell_type": "code",
   "execution_count": null,
   "metadata": {},
   "outputs": [],
   "source": [
    "# Bestimmung der Anzahl an Anzahl der Hörer:innen"
   ]
  },
  {
   "cell_type": "markdown",
   "metadata": {},
   "source": [
    "Der Datensatz enthält 1004 Bands und Künstler:innen  und 15.000 Hörer:innen. "
   ]
  },
  {
   "cell_type": "markdown",
   "metadata": {},
   "source": [
    "<div class=\"alert alert-block alert-success\">\n",
    "&#128187; <b>Arbeitsauftrag:</b> \n",
    "\n",
    "Bestimmen Sie nun die am häufigsten genannte Bands und Künstler:innen und die am seltensten genannte Bands und Künstler:innen \n",
    "    \n",
    "Tipp: Hierbei ist der Befehl `value_counts` sehr hilfreich. \n",
    "</div>\n"
   ]
  },
  {
   "cell_type": "code",
   "execution_count": null,
   "metadata": {
    "scrolled": true
   },
   "outputs": [],
   "source": [
    "# Bestimmung der am häufigsten genannten Anzahl an Bands und Künstler:innen "
   ]
  },
  {
   "cell_type": "code",
   "execution_count": null,
   "metadata": {
    "scrolled": true
   },
   "outputs": [],
   "source": [
    "# Bestimmung der am seltensten genannten Anzahl an Bands und Künstler:innen "
   ]
  },
  {
   "cell_type": "markdown",
   "metadata": {},
   "source": [
    "*Radiohead* und *The Beatles* sind in diesem Datensatz am häufigsten vertreten."
   ]
  },
  {
   "cell_type": "markdown",
   "metadata": {},
   "source": [
    "### <font color='darkblue'>2.2 Datensatz vorbereiten</font> <a name=\"kap22\"></a>"
   ]
  },
  {
   "cell_type": "markdown",
   "metadata": {},
   "source": [
    "Für die Anwendung des Apriori Algorithmus muss der Datensatz noch vorbereitet werden. Im Notebook zum Video war der Datensatz eine lange Liste, bei der jeder Eintrag einem Einkauf entsprach. \n",
    "\n",
    "Ein Einkauf entspricht hier einer hörenden Person. Allerdings enthielt ein Einkauf alle Teile, die eingekauft wurden. Dementsprechend muss nun für jede hörende Person sortiert werden, welche Bands und Künstler:innen gehört werden. Diese Liste soll `transactions` heißen. \n",
    "\n",
    "Das Anlegen geschieht mit dem folgenden Befehl: "
   ]
  },
  {
   "cell_type": "code",
   "execution_count": null,
   "metadata": {},
   "outputs": [],
   "source": [
    "# Erklärung: für jede hörende Person werden alle Bands und Künstler:innen in einer Liste gesammelt und diese\n",
    "# als Element an transaction drangehängt\n",
    "transactions = []\n",
    "for i in df['user'].unique():   \n",
    "    transactions.append(list(df[df['user'] == i]['artist'].values))  \n",
    "    # Bilde eine Liste über alle Bands und Künstler:innen, die gehört wurden, und hänge sie an transactions an"
   ]
  },
  {
   "cell_type": "markdown",
   "metadata": {},
   "source": [
    "Es entsteht eine sehr große Variable, auf die im nächsten Kapitel der Apriori Algorithmus angewendet werden kann.  "
   ]
  },
  {
   "cell_type": "code",
   "execution_count": null,
   "metadata": {},
   "outputs": [],
   "source": [
    "transactions"
   ]
  },
  {
   "cell_type": "markdown",
   "metadata": {},
   "source": [
    "### <font color='darkblue'>2.3 Modellierung</font> <a name=\"kap23\"></a>"
   ]
  },
  {
   "cell_type": "markdown",
   "metadata": {},
   "source": [
    "Der Apriori Algorithmus wird nun eingebunden und mit `min_support=0.007`und `min_confidence=0.7` durchgeführt. Die Größenordnung dieser Werte unterscheidet sich sehr stark vom ersten Beispiel, da es einen deutlich größeren \"Warenkorb\" gibt."
   ]
  },
  {
   "cell_type": "code",
   "execution_count": null,
   "metadata": {},
   "outputs": [],
   "source": [
    "from efficient_apriori import apriori\n",
    "itemsets, rules = apriori(transactions, min_support=0.007,  min_confidence=0.7)"
   ]
  },
  {
   "cell_type": "code",
   "execution_count": null,
   "metadata": {},
   "outputs": [],
   "source": [
    "len(rules)"
   ]
  },
  {
   "cell_type": "code",
   "execution_count": null,
   "metadata": {
    "scrolled": true
   },
   "outputs": [],
   "source": [
    "rules"
   ]
  },
  {
   "cell_type": "markdown",
   "metadata": {},
   "source": [
    "Diese Kombination an Parametern gibt zufälligerweise genau eine Regel aus, die inhaltlich auch plausibel erscheint."
   ]
  },
  {
   "cell_type": "markdown",
   "metadata": {},
   "source": [
    "<div class=\"alert alert-block alert-success\">\n",
    "&#128187; <b>Arbeitsauftrag:</b> \n",
    "\n",
    "Verändern Sie  `min_support` oder `min_confidence` so, dass mehr Regeln ausgegeben werden. Müssen die Parameter dazu größer oder kleiner gemacht werden?\n",
    "\n",
    "</div>"
   ]
  },
  {
   "cell_type": "code",
   "execution_count": null,
   "metadata": {},
   "outputs": [],
   "source": [
    "# Platz für den Arbeitsauftrag \n",
    "# itemsets_neu, rules_neu = apriori(transactions, min_support=#,  min_confidence=#)\n",
    "display(len(rules_neu))\n",
    "rules_neu"
   ]
  },
  {
   "cell_type": "markdown",
   "metadata": {},
   "source": [
    "Eine kleinere Konfidenz und ein kleinerer Mindest-Support bewirkt mehr Regeln. Inhaltlch scheinen die entstehenden Regeln plausibel zu sein. "
   ]
  },
  {
   "cell_type": "markdown",
   "metadata": {},
   "source": [
    "### <font color='darkblue'>2.4 Erweiterung um die Kennwerte der Assoziationsanalyse</font> <a name=\"kap24\"></a>"
   ]
  },
  {
   "cell_type": "markdown",
   "metadata": {},
   "source": [
    "Es wird nun das folgende Modell weiter untersucht: "
   ]
  },
  {
   "cell_type": "code",
   "execution_count": null,
   "metadata": {},
   "outputs": [],
   "source": [
    "itemsets, rules = apriori(transactions, min_support=0.007,  min_confidence=0.6) # löschen\n",
    "rules"
   ]
  },
  {
   "cell_type": "markdown",
   "metadata": {},
   "source": [
    "Nun sollen die bekannten Kennwerte (Support, Confidence, Lift und Conviction) zu den entstandenen Regeln ausgegeben werden. \n",
    "\n",
    "Da das Paket `mlxtend` so große Datenmengen nicht verarbeiten kann, soll in diesem Abschnitt eine ähnliche Tabelle mit dem Paket `efficient_apriori` erstellt werden. Leverage wird dabei ausgelassen, da der Befehl hierfür sehr umfassend wäre (Wenn Sie eine aufwändige Programmieraufgabe ausprobieren wollen: Dies ist eine!)"
   ]
  },
  {
   "cell_type": "markdown",
   "metadata": {},
   "source": [
    "<div class=\"alert alert-block alert-success\">\n",
    "&#128187; <b>Arbeitsauftrag:</b> \n",
    "\n",
    "Wenden Sie nachfolgend die Methode zur Ausgabe von Support (Name: `support`), Confidence (Name: `confidence`), Lift (Name: `lift`) und Conviction (Name: `conviction`) auf die Variable `rules[1]` an. \n",
    "</div>"
   ]
  },
  {
   "cell_type": "code",
   "execution_count": null,
   "metadata": {
    "scrolled": true
   },
   "outputs": [],
   "source": [
    "# Ausgabe des Supports \n",
    "rules[1]"
   ]
  },
  {
   "cell_type": "code",
   "execution_count": null,
   "metadata": {},
   "outputs": [],
   "source": [
    "# Ausgabe der Konfidenz\n",
    "rules[1]"
   ]
  },
  {
   "cell_type": "code",
   "execution_count": null,
   "metadata": {},
   "outputs": [],
   "source": [
    "# Ausgabe des Lifts \n",
    "rules[1]"
   ]
  },
  {
   "cell_type": "code",
   "execution_count": null,
   "metadata": {},
   "outputs": [],
   "source": [
    "# Ausgabe der Conviction\n",
    "rules[1]"
   ]
  },
  {
   "cell_type": "markdown",
   "metadata": {},
   "source": [
    "Die Methoden `lhs` bzw. `rhs` geben \"A\" und \"B\" der Assoziationsregeln aus: "
   ]
  },
  {
   "cell_type": "code",
   "execution_count": null,
   "metadata": {},
   "outputs": [],
   "source": [
    "print(rules[1].lhs)\n",
    "print(rules[1].rhs)"
   ]
  },
  {
   "cell_type": "markdown",
   "metadata": {},
   "source": [
    "Werden alle diese Methoden kombiniert, so kann daraus die gewünschte Tabelle zusammengebaut werden: "
   ]
  },
  {
   "cell_type": "code",
   "execution_count": null,
   "metadata": {},
   "outputs": [],
   "source": [
    "def regeln(rules):\n",
    "    eintrag = []\n",
    "    for x in rules:\n",
    "        eintrag.append([x.lhs, x.rhs, x.support, x.confidence, x.lift, x.conviction])\n",
    "    return pd.DataFrame(eintrag, columns=[\"antecedents\", \"consequents\", \"support\",\"confidence\",\"lift\", \"conviction\"])"
   ]
  },
  {
   "cell_type": "code",
   "execution_count": null,
   "metadata": {},
   "outputs": [],
   "source": [
    "ergebnis = regeln(rules)\n",
    "ergebnis"
   ]
  },
  {
   "cell_type": "markdown",
   "metadata": {},
   "source": [
    "Folgendes kann für die Werte festgestellt werden: \n",
    "- Der Support liegt im Gegensatz zu dem kleinen Warenkorb am Anfang nun im kleinen Prozentbereich. Er ist wie folgt zu intepretieren: Bei der ersten Regel hörten 2,2% aller Höher:innen *Keane* und *Coldplay*. \n",
    "- Die Konfidenzwerte liegen alle bei etwa 0,6. Die erste Regel lässt sich so interpretieren: Wurde *Keane* gehört, wurde in 64% der Fälle auch *Coldplay* gehört.\n",
    "- Der Lift liegt nun für alle Regeln bei mindestens 3. Der Lift von 4,0 bei der Regel *Keane* &rarr; *Coldplay* bedeutet beispielsweise, dass *Coldplay* von *Keane*-Hörer:innen vier Mal so oft gehört wird wie der Durchschnitt aller Hörer:innen. \n",
    "- Auch die Conviction liegt nun mindestens bei 2. Dies ist nicht besonders groß, wenn bedacht wird, dass Conviction unendlich groß werden kann. Grund dafür ist die Größenordnung der Konfidenzwerte. "
   ]
  },
  {
   "cell_type": "markdown",
   "metadata": {},
   "source": [
    "<div class=\"alert alert-block alert-success\">\n",
    "&#128187; <b>Arbeitsauftrag:</b> \n",
    "\n",
    "Sortieren Sie die Variable `ergebnis` nach den Ausprägungen der Varable `lift`.\n",
    "    \n",
    "Tipp: Nutzen Sie die Methode `sort_values()`\n",
    "</div>"
   ]
  },
  {
   "cell_type": "code",
   "execution_count": null,
   "metadata": {},
   "outputs": [],
   "source": [
    "# Platz für Arbeitsauftrag"
   ]
  },
  {
   "cell_type": "markdown",
   "metadata": {},
   "source": [
    "Falls der Arbeitsauftrag geklappt hat, sollte nun an oberster Stelle die Assoziationsregel \"(beyoncé, britney spears)\t&rarr; rihanna\" stehen. Auch diese Regel ist sehr gut nachvollziehbar."
   ]
  },
  {
   "cell_type": "markdown",
   "metadata": {},
   "source": [
    "<hr style=\"border:1px solid gray\"> </hr>"
   ]
  },
  {
   "cell_type": "markdown",
   "metadata": {},
   "source": [
    "## <font color='darkblue'>3. Fazit</font> <a name=\"kap3\"></a>"
   ]
  },
  {
   "cell_type": "markdown",
   "metadata": {},
   "source": [
    "Dieses Notebook hat: \n",
    "- neue Begriffe der Assoziationsanalyse vorgestellt und ihre Bedeutung erläutert. \n",
    "- den Apriori Algorithmus auf einen Musikdatensatz angewendet. "
   ]
  }
 ],
 "metadata": {
  "kernelspec": {
   "display_name": "DaLI-DM",
   "language": "python",
   "name": "DaLI-DM"
  },
  "language_info": {
   "codemirror_mode": {
    "name": "ipython",
    "version": 3
   },
   "file_extension": ".py",
   "mimetype": "text/x-python",
   "name": "python",
   "nbconvert_exporter": "python",
   "pygments_lexer": "ipython3",
   "version": "3.8.8"
  },
  "latex_envs": {
   "LaTeX_envs_menu_present": true,
   "autoclose": false,
   "autocomplete": true,
   "bibliofile": "biblio.bib",
   "cite_by": "apalike",
   "current_citInitial": 1,
   "eqLabelWithNumbers": true,
   "eqNumInitial": 1,
   "hotkeys": {
    "equation": "Ctrl-E",
    "itemize": "Ctrl-I"
   },
   "labels_anchors": false,
   "latex_user_defs": false,
   "report_style_numbering": false,
   "user_envs_cfg": false
  },
  "toc": {
   "base_numbering": 1,
   "nav_menu": {},
   "number_sections": false,
   "sideBar": true,
   "skip_h1_title": true,
   "title_cell": "Table of Contents",
   "title_sidebar": "Contents",
   "toc_cell": false,
   "toc_position": {},
   "toc_section_display": true,
   "toc_window_display": false
  },
  "varInspector": {
   "cols": {
    "lenName": 16,
    "lenType": 16,
    "lenVar": 40
   },
   "kernels_config": {
    "python": {
     "delete_cmd_postfix": "",
     "delete_cmd_prefix": "del ",
     "library": "var_list.py",
     "varRefreshCmd": "print(var_dic_list())"
    },
    "r": {
     "delete_cmd_postfix": ") ",
     "delete_cmd_prefix": "rm(",
     "library": "var_list.r",
     "varRefreshCmd": "cat(var_dic_list()) "
    }
   },
   "types_to_exclude": [
    "module",
    "function",
    "builtin_function_or_method",
    "instance",
    "_Feature"
   ],
   "window_display": false
  }
 },
 "nbformat": 4,
 "nbformat_minor": 4
}
