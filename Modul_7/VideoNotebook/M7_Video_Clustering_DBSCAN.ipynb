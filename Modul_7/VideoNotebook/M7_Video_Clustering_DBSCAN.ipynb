{
 "cells": [
  {
   "cell_type": "markdown",
   "metadata": {},
   "source": [
    "# Clusteranalyse mit DBSCAN"
   ]
  },
  {
   "cell_type": "markdown",
   "metadata": {},
   "source": [
    "Die Clusteranalyse ist eine Art des unüberwachten Lernens. Es liegt hierbei eine Datenmenge vor, die aus mehreren Merkmalen besteht. Anders als beim überwachten Lernen gibt es allerdings kein durch die Fragestellung gegebenes Zielmerkmal. \n",
    "\n",
    "Ziel einer Clusteranalyse ist es, Gruppen zu finden, die ähnliche Eigenschaften besitzen, sogenannte Cluster. Manchmal ist es nützlich, für jedes Cluster typische Repräsentanten angeben zu können, dies sind dann die Clusterzentren.\n",
    "\n",
    "Ein möglicher Anwendungsbereich von Clusteranalysen ist beispielsweise die Analyse sozialer Netzwerke bezüglich ihrer Nutzer:innen. \n"
   ]
  },
  {
   "cell_type": "markdown",
   "metadata": {},
   "source": [
    "<hr style=\"border:1px solid gray\"> </hr>"
   ]
  },
  {
   "cell_type": "markdown",
   "metadata": {},
   "source": [
    "## Inhalt    \n",
    "\n",
    "1. [DBSCAN](#kap1)  \n",
    "    1.1 [Durchführung](#kap11)  \n",
    "    1.2 [Einfluss der Hyperparameter](#kap12)  \n",
    "    1.3 [Unterschiedliche Dichte der Punktwolke](#kap13)\n",
    "    \n",
    "    \n",
    "2. [Fazit](#kap2)  "
   ]
  },
  {
   "cell_type": "markdown",
   "metadata": {},
   "source": [
    "<hr style=\"border:1px solid gray\"> </hr>"
   ]
  },
  {
   "cell_type": "markdown",
   "metadata": {},
   "source": [
    "## 1. DBSCAN <a name=\"kap1\"></a>"
   ]
  },
  {
   "cell_type": "markdown",
   "metadata": {},
   "source": [
    "### 1.1 Durchführung <a name=\"kap31\"></a>"
   ]
  },
  {
   "cell_type": "markdown",
   "metadata": {},
   "source": [
    "Ein Verfahren, das komplexere Cluster finden kann, ist DBSCAN. Das steht für \"Density Based Spatial Clustering of Applications with Noise\" (dt.: dichte-basierte räumliche Clusteranalyse mit Rauschen). \n",
    "\n",
    "Wie der Name sagt, handelt es sich um ein Dichte-basiertes Verfahren. Dichte meint hier die Anzahl der Punkte, die \"nah beieinander liegen\". Was das bedeutet, wird mithilfe von zwei Parametern festgelegt: Der Radius `eps` gibt die maximale Entfernung der Punkte zueinander an und bestimmt zusammen mit der minimalen Anzahl der Punkte `min_samples`, die in einem Kreis mit Radius `eps` liegen müssen, die Dichte. \n",
    "\n",
    "Das Verfahren beginnt mit einem beliebigen Punkt und prüft, ob es mindestens `min_samples` Punkte gibt, die nicht weiter als `eps` entfernt sind. Ist dies nicht der Fall, so wird der Punkt als \"Rauschpunkt\" (engl. noise) deklariert und keinem Cluster zugeordnet, sondern aussortiert und mit dem nächsten Punkt erneut begonnen. \n",
    "\n",
    "Gibt es dagegen mindestens `min_samples` Punkte in der Umgebung, dann wird der Punkt zum Startpunkt eines Clusters, und die Punkte in seiner `eps`-Umgebung werden diesem Cluster zugeordnet. \n",
    "\n",
    "Diese so dem Cluster zugeordneten Punkte werden im nächsten Schritt bezüglich `eps` und `min_samples` betrachtet. Sind die Kriterien erfüllt, werden diese Punkte \"Kernpunkt\" genannt und die in ihrer `eps`-Umgebung liegenden Punkte dem Cluster zugeordnet.\n",
    "Ist ein Punkt einem Cluster zugeordnet, hat jedoch selbst nicht mindestens `min_smaples` Punkte in seiner `eps`-Umgebung, so wird er als Randpunkt bezeichnet.\n",
    "\n",
    "Auf diese Weise können alle sogenannten dichte-erreichbaren Punkte (also Punkte in der `eps`-Umgebung) und Kernpunkte ermittelt und dem Cluster zugeordnet werden. Können für ein Cluster keine weiteren dichte-erreichbaren Punkte mehr gefunden werden, so wird ein beliebiger weiterer Punkt betrachtet. Sofern es sich bei diesem Punkt nicht um einen Rauschpunkt handelt, ist dies der Startpunkt für das nächste Cluster. Alle diesem neuen Cluster zugehörigen Punkte werden dann wie oben beschrieben ermittelt. \n",
    "\n",
    "Das Verfahren endet, wenn alle Punkte des Datensatzes entweder als Kernpunkt, als Randpunkt oder als Rauschpunkt deklariert worden sind."
   ]
  },
  {
   "cell_type": "markdown",
   "metadata": {},
   "source": [
    "Zunächst wird eine Funktion definiert, um die Ergebnisse des zu betrachtenden Verfahrens anschaulich zu plotten.\n",
    "Aufgrund der Struktur der Ausgabe von DBSCAN ist die Programmierung etwas aufwändig. Der Code ist in den Kommentaren erläutert. "
   ]
  },
  {
   "cell_type": "code",
   "execution_count": null,
   "metadata": {},
   "outputs": [],
   "source": [
    "import numpy as np\n",
    "import matplotlib.pyplot as plt\n",
    "import pandas as pd\n",
    "%matplotlib inline\n",
    "from sklearn import cluster, datasets, mixture\n",
    "import warnings\n",
    "warnings.filterwarnings('ignore')"
   ]
  },
  {
   "cell_type": "code",
   "execution_count": null,
   "metadata": {},
   "outputs": [],
   "source": [
    "def plot_dbscan(dbscan, X):\n",
    "\n",
    "    kern =  X[dbscan.core_sample_indices_] # Kernpunkte\n",
    "    rausch = X[dbscan.labels_ == -1] # Rauschpunkte\n",
    "    \n",
    "    # Randpunkte bestimmen:\n",
    "    indizes = np.array([i for  i in range(len(X))]) # ndarray an Indizes. Es sollen Indizes für Kern- und Rauschpunkte rausgelöscht werden\n",
    "    rausch_indizes, = np.where(dbscan.labels_ == -1) # Indizes der Rauschpunkte in X\n",
    "    kern_rausch_indizes = np.append(dbscan.core_sample_indices_, rausch_indizes) # Indizes der Rausch- und Kernpunkte in X\n",
    "    indizes_rand = np.delete(indizes, kern_rausch_indizes) # Wenn man Rausch- und Kernpunkte aus den Indizes entfernt, bleiben Randpunkte übrig\n",
    "    rand = X[indizes_rand] # Genau die Randpunkte auswählen\n",
    "        \n",
    "    #Kernpunkte plotten (mit *)\n",
    "    plt.scatter(kern[:, 0], kern[:, 1], marker='*', s=30, c=dbscan.labels_[dbscan.core_sample_indices_])\n",
    "    # Rauschpunkte plotten (mit roten Xen)\n",
    "    plt.scatter(rausch[:, 0], rausch[:, 1], c=\"r\", marker=\"X\", s=30)\n",
    "    # Randpunkte plotten (mit .)\n",
    "    plt.scatter(rand[:, 0], rand[:, 1], c=dbscan.labels_[indizes_rand], marker=\".\", alpha=0.5)\n",
    "    \n",
    "    plt.xlabel(\"$x_1$\", fontsize=14)\n",
    "    plt.ylabel(\"$x_2$\", fontsize=14, rotation=0, labelpad=20)\n",
    "    plt.title(\"eps={:.2f}, min_samples={}\".format(dbscan.eps, dbscan.min_samples), fontsize=14)\n",
    "    plt.show()\n",
    "    "
   ]
  },
  {
   "cell_type": "code",
   "execution_count": null,
   "metadata": {},
   "outputs": [],
   "source": [
    "from sklearn.cluster import DBSCAN"
   ]
  },
  {
   "cell_type": "markdown",
   "metadata": {},
   "source": [
    "Zunächst wird DBSCAN auf den gleichen Datensatz wie oben angewendet. Hier sind keine Vorgaben nötig, die Anzahl der Cluster wird vom Algorithmus bestimmt:"
   ]
  },
  {
   "cell_type": "code",
   "execution_count": null,
   "metadata": {},
   "outputs": [],
   "source": [
    "blob_centers = np.array(\n",
    "    [[1,  2],\n",
    "     [4 , 5],\n",
    "     [3,  1],\n",
    "     [2.2,  2.8],\n",
    "     ])\n",
    "blob_std = np.array([0.3, 0.2, 0.4, 0.2])\n",
    "X, y = datasets.make_blobs(n_samples=500, centers=blob_centers, cluster_std=blob_std, random_state=7)  \n",
    "print(X[0:5,:])\n",
    "print(y[0:5])"
   ]
  },
  {
   "cell_type": "code",
   "execution_count": null,
   "metadata": {},
   "outputs": [],
   "source": [
    "dbscan_blobs = DBSCAN(eps=0.5, min_samples=5)  \n",
    "dbscan_blobs.fit(X)"
   ]
  },
  {
   "cell_type": "code",
   "execution_count": null,
   "metadata": {
    "scrolled": false
   },
   "outputs": [],
   "source": [
    "plot_dbscan(dbscan_blobs, X)"
   ]
  },
  {
   "cell_type": "markdown",
   "metadata": {},
   "source": [
    "Der Plot zeigt:\n",
    "  - Es wurden drei Cluster gefunden. Jede Punktemenge mit Sternen in der gleichen Farbe ist ein Cluster. \n",
    "  - Die runden Punkte kennzeichnen alle Randpunkte. (Hinweis: Da nicht alle Cluster Randpunkte haben, werden die Randpunkt des gelben Clusters hier fälschlicherweise lila gekennzeichnet.)\n",
    "  - Die roten Kreuze zeigen Rauschpunkte, auch Ausreißer genannt. \n",
    "    \n",
    "An der Überschrift ist abzulesen, welche vorbelegten Parameter DBSCAN verwendet hat: \n",
    "  - `eps` ist der Radius des Kreises, der um jeden Punkt gezogen wird.\n",
    "  - `min_samples` gibt an, wie viele Punkte in diesem Kreis liegen müssen, damit ein Punkt als Kernpunkt oder Randpunkt gilt. \n",
    "    \n",
    "DBSCAN berechnet keine Clusterzentren!"
   ]
  },
  {
   "cell_type": "markdown",
   "metadata": {},
   "source": [
    "<div class=\"alert alert-block alert-success\">\n",
    "<b>Arbeitsauftrag:</b> \n",
    "\n",
    "Verändern Sie `eps` und `min_samples` mit dem Ziel, die vier Cluster zu finden, die im vorhergehenden Plot mit `eps=0.5` und `min_smaples=5` zu erkennen sind, aber nicht gefunden werden. Gibt es eine Kombination, die das ermöglicht?\n",
    "\n",
    "</div>"
   ]
  },
  {
   "cell_type": "code",
   "execution_count": null,
   "metadata": {},
   "outputs": [],
   "source": [
    "# Platz für Arbeitsauftrag"
   ]
  },
  {
   "cell_type": "markdown",
   "metadata": {},
   "source": [
    "### 1.2 Einfluss der Hyperparameter <a name=\"kap12\"></a>"
   ]
  },
  {
   "cell_type": "markdown",
   "metadata": {},
   "source": [
    "Nun soll eine andere Datenmenge betrachtet werden: "
   ]
  },
  {
   "cell_type": "code",
   "execution_count": null,
   "metadata": {},
   "outputs": [],
   "source": [
    "X_neu = np.load(\"cluster.npy\")"
   ]
  },
  {
   "cell_type": "code",
   "execution_count": null,
   "metadata": {},
   "outputs": [],
   "source": [
    "plt.scatter(X_neu[:, 0],X_neu[:, 1]);\n",
    "plt.xlabel(\"$x_1$\", fontsize=14)\n",
    "plt.ylabel(\"$x_2$\", fontsize=14, rotation=0, labelpad=20)\n",
    "plt.show()"
   ]
  },
  {
   "cell_type": "markdown",
   "metadata": {},
   "source": [
    "Die Wahl von `eps` und `min_samples` kann anhand des Plots getroffen werden. Es wird der Bereich mit der niedrigsten Dichte, der dennoch als Cluster angesehen wird, gewählt. Im linken Bereich sind z.B. etwa 30 Punkte in einem Radius von 0.6.\n",
    "\n",
    "Zunächst werden diese grafisch ermittelten Werte genutzt:"
   ]
  },
  {
   "cell_type": "code",
   "execution_count": null,
   "metadata": {},
   "outputs": [],
   "source": [
    "dbscan_X_neu = DBSCAN(eps=0.6, min_samples=30)  \n",
    "dbscan_X_neu.fit(X_neu)\n",
    "plot_dbscan(dbscan_X_neu, X_neu)\n",
    "plt.show()"
   ]
  },
  {
   "cell_type": "markdown",
   "metadata": {},
   "source": [
    "Bei einem größeren Radius wird das kleine linke Cluster dem großen zugeordnet:"
   ]
  },
  {
   "cell_type": "code",
   "execution_count": null,
   "metadata": {},
   "outputs": [],
   "source": [
    "dbscan_X_neu = DBSCAN(eps=0.8, min_samples=30)  \n",
    "dbscan_X_neu.fit(X_neu)\n",
    "plot_dbscan(dbscan_X_neu, X_neu)\n",
    "plt.show()"
   ]
  },
  {
   "cell_type": "markdown",
   "metadata": {},
   "source": [
    "Bei kleinerem `eps` wird das große Cluster auseinandergerissen:"
   ]
  },
  {
   "cell_type": "code",
   "execution_count": null,
   "metadata": {},
   "outputs": [],
   "source": [
    "dbscan_X_neu = DBSCAN(eps=0.4, min_samples=30)  \n",
    "dbscan_X_neu.fit(X_neu)\n",
    "plot_dbscan(dbscan_X_neu, X_neu)\n",
    "plt.show()"
   ]
  },
  {
   "cell_type": "markdown",
   "metadata": {},
   "source": [
    "Zum Vergleich wird hier noch das Ergebnis des k-Means-Algorithmus geplottet:"
   ]
  },
  {
   "cell_type": "code",
   "execution_count": null,
   "metadata": {},
   "outputs": [],
   "source": [
    "from sklearn.cluster import KMeans\n",
    "k = 3\n",
    "kmeans_neu = KMeans(n_clusters=k, random_state=0).fit(X_neu)"
   ]
  },
  {
   "cell_type": "code",
   "execution_count": null,
   "metadata": {},
   "outputs": [],
   "source": [
    "def plot_kmeans(X, mod):                                     # mod ist das trainierte Modell\n",
    "    plt.scatter(X[:,0], X[:,1], c=mod.labels_.astype(float)) # mod.labels_ ist dasselbe wie y_pred\n",
    "    plt.scatter(mod.cluster_centers_[:, 0], mod.cluster_centers_[:, 1], marker='x', s=2, linewidths=12, color='k')\n",
    "    plt.show()"
   ]
  },
  {
   "cell_type": "code",
   "execution_count": null,
   "metadata": {},
   "outputs": [],
   "source": [
    "plot_kmeans(X_neu,kmeans_neu)"
   ]
  },
  {
   "cell_type": "markdown",
   "metadata": {},
   "source": [
    "Hier zeigt sich wieder das gleiche Phänomen wie oben: k-Means trennt nach Distanzen nicht nach Dichte."
   ]
  },
  {
   "cell_type": "markdown",
   "metadata": {},
   "source": [
    "### 1.3 Unterschiedliche Dichte der Punktwolke <a name=\"kap13\"></a>"
   ]
  },
  {
   "cell_type": "markdown",
   "metadata": {},
   "source": [
    "`eps` und `min_samples` legen die Dichte der gesuchten Cluster fest. Sind die Cluster unterschiedlich dicht, hat der DBSCAN Schwierigkeiten: Es können immer nur Teile der Cluster gefunden werden:"
   ]
  },
  {
   "cell_type": "code",
   "execution_count": null,
   "metadata": {},
   "outputs": [],
   "source": [
    "blob_centers = np.array(\n",
    "    [[1,  1],\n",
    "     [1,  1.7],\n",
    "     [3,  3],\n",
    "     ])\n",
    "blob_std = np.array([0.1, 0.1, 0.5])"
   ]
  },
  {
   "cell_type": "code",
   "execution_count": null,
   "metadata": {},
   "outputs": [],
   "source": [
    "def plot_clusters(X):\n",
    "    plt.scatter(X[:, 0], X[:, 1])\n",
    "    plt.xlabel(\"$x_1$\")\n",
    "    plt.ylabel(\"$x_2$\")\n",
    "    plt.show()"
   ]
  },
  {
   "cell_type": "code",
   "execution_count": null,
   "metadata": {},
   "outputs": [],
   "source": [
    "X_d, y_d = datasets.make_blobs(n_samples=500, centers=blob_centers, cluster_std=blob_std, random_state=7)  \n",
    "print(X_d[0:5,:])\n",
    "print(y_d[0:5])\n",
    "plot_clusters(X_d)"
   ]
  },
  {
   "cell_type": "markdown",
   "metadata": {},
   "source": [
    "Nun wird `eps` variiert:"
   ]
  },
  {
   "cell_type": "code",
   "execution_count": null,
   "metadata": {},
   "outputs": [],
   "source": [
    "for i in (0.1, 0.2, 0.3):\n",
    "    dbscan = DBSCAN(eps=i, min_samples=5)\n",
    "    dbscan.fit(X_d)\n",
    "    plot_dbscan(dbscan,X_d)"
   ]
  },
  {
   "cell_type": "markdown",
   "metadata": {},
   "source": [
    "Für eps = 0.1 findet DBSCAN die beiden kleinen Cluster unten links, aber nicht das große weniger dichte Cluster rechts. Wird der Radius erhöht, werden die beiden kleinen Cluster zu einem zusammengefasst. Das große rechte Cluster wird nun erkannt. "
   ]
  },
  {
   "cell_type": "markdown",
   "metadata": {},
   "source": [
    "## 2. Fazit <a name=\"kap2\"></a>"
   ]
  },
  {
   "cell_type": "markdown",
   "metadata": {},
   "source": [
    "Es wurde die Clusterananalyse mit DBSCAN auf einem selbsterzeugten Beispieldatensatz angewendet. Hierbei wurde...\n",
    "\n",
    "- gezeigt, wie das dichte-basierte Verfahren sich inhaltlich vom distanz-basierten Clustern mit k_Means unterscheidet,\n",
    "\n",
    "- eine visuelle Darstellung des Ergebnisses von DBSCAN thematisiert,\n",
    "\n",
    "- der Einfluss der Hyperparameter `eps`und `min_samples`gezeigt. "
   ]
  }
 ],
 "metadata": {
  "kernelspec": {
   "display_name": "DaLI-DM",
   "language": "python",
   "name": "python-dali-dm"
  },
  "language_info": {
   "codemirror_mode": {
    "name": "ipython",
    "version": 3
   },
   "file_extension": ".py",
   "mimetype": "text/x-python",
   "name": "python",
   "nbconvert_exporter": "python",
   "pygments_lexer": "ipython3",
   "version": "3.8.8"
  },
  "latex_envs": {
   "LaTeX_envs_menu_present": true,
   "autoclose": false,
   "autocomplete": true,
   "bibliofile": "biblio.bib",
   "cite_by": "apalike",
   "current_citInitial": 1,
   "eqLabelWithNumbers": true,
   "eqNumInitial": 1,
   "hotkeys": {
    "equation": "Ctrl-E",
    "itemize": "Ctrl-I"
   },
   "labels_anchors": false,
   "latex_user_defs": false,
   "report_style_numbering": false,
   "user_envs_cfg": false
  },
  "toc": {
   "base_numbering": 1,
   "nav_menu": {},
   "number_sections": false,
   "sideBar": true,
   "skip_h1_title": true,
   "title_cell": "Table of Contents",
   "title_sidebar": "Contents",
   "toc_cell": false,
   "toc_position": {},
   "toc_section_display": true,
   "toc_window_display": false
  },
  "varInspector": {
   "cols": {
    "lenName": 16,
    "lenType": 16,
    "lenVar": 40
   },
   "kernels_config": {
    "python": {
     "delete_cmd_postfix": "",
     "delete_cmd_prefix": "del ",
     "library": "var_list.py",
     "varRefreshCmd": "print(var_dic_list())"
    },
    "r": {
     "delete_cmd_postfix": ") ",
     "delete_cmd_prefix": "rm(",
     "library": "var_list.r",
     "varRefreshCmd": "cat(var_dic_list()) "
    }
   },
   "types_to_exclude": [
    "module",
    "function",
    "builtin_function_or_method",
    "instance",
    "_Feature"
   ],
   "window_display": false
  }
 },
 "nbformat": 4,
 "nbformat_minor": 4
}
