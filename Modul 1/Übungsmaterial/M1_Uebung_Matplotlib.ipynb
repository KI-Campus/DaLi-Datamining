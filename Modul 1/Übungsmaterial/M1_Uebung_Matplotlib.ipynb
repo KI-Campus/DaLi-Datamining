{
 "cells": [
  {
   "cell_type": "markdown",
   "id": "8e284a16",
   "metadata": {},
   "source": [
    "# <font color='darkblue'>Modul 1: Übungsmaterial zu Matplotlib</font> &nbsp; <font size='6'>&#x26C5;</font>"
   ]
  },
  {
   "cell_type": "markdown",
   "id": "b11c5fa4",
   "metadata": {},
   "source": [
    "<hr style=\"border:1px solid gray\"> </hr>"
   ]
  },
  {
   "cell_type": "markdown",
   "id": "d6c00a93",
   "metadata": {},
   "source": [
    "In diesem Notebook werden einige grundlegende Befehle zum Anlegen und Formatieren von Visualisierungen in Python eingeführt. Außerdem werden im Anschluss anhand eines Wetterdatensatzes unterschiedliche Diagrammtypen thematisiert."
   ]
  },
  {
   "cell_type": "markdown",
   "id": "8bd432d8",
   "metadata": {},
   "source": [
    "## <font color='darkblue'>Inhalt</font>\n",
    "\n",
    "\n",
    "1. [Matplotlib einbinden](#kap1)  \n",
    "   \n",
    "\n",
    "2. [Plots formatieren](#kap2)    \n",
    "    2.1 [2-D Plots (Punkte)](#kap21)  \n",
    "    2.2 [Graphen von Funktionen](#kap22)  \n",
    "    2.3 [Achsenbeschriftung](#kap23)   \n",
    "    2.4 [Achsenskalierung](#kap24)  \n",
    "    2.5 [Legende](#kap25)  \n",
    "    2.6 [Gitternetz](#kap26)\n",
    "\n",
    "\n",
    "3. [Arten von Plots anhand von Wetterdaten](#kap3)  \n",
    "    3.1 [Daten einlesen](#kap31)    \n",
    "    3.2 [Scatterplots](#kap32)  \n",
    "    3.3 [Histogramme](#kap33)  \n",
    "\n",
    "\n",
    "4. [Fazit](#kap4)"
   ]
  },
  {
   "cell_type": "markdown",
   "id": "e429b70e",
   "metadata": {},
   "source": [
    "<hr style=\"border:1px solid gray\"> </hr>"
   ]
  },
  {
   "cell_type": "markdown",
   "id": "4387acaa",
   "metadata": {},
   "source": [
    "## <font color='darkblue'>1. Matplotlib einbinden</font> <a name=\"kap1\"></a>"
   ]
  },
  {
   "cell_type": "markdown",
   "id": "b39bed73",
   "metadata": {},
   "source": [
    "Matplotlib ist die bekannteste Python Bibliothek zur graphischen Darstellung von Daten und Funktionen. Sie ermöglicht statische, animierte und interaktive Visualisierungen. \n",
    "\n",
    "Es gibt verschiedene Möglichkeiten, Matplotlib zu nutzen. In diesem Notebook werden Sie unter anderem das Modul Pyplot kennenlernen. Viele Funktionen in Matplotlib benötigen außerdem die Numpy Bibliothek."
   ]
  },
  {
   "cell_type": "markdown",
   "id": "3319556d",
   "metadata": {},
   "source": [
    "<div class=\"alert alert-block alert-success\"> <a name=\"aa1\"></a>\n",
    "&#128187; <b>Arbeitsauftrag:</b> \n",
    "\n",
    "Binden Sie aus der `matplotlib` Bibliothek das Modul `pyplot` mit dem Kürzel `plt` ein, sowie die `numpy` Bibliothek mit dem Kürzel `np` und die `pandas` Bibliothek mit dem Kürzel `pd`. \n",
    "    \n",
    "Bei Schwierigkeiten schlagen Sie im Notebook des end-to-end Projektes nach oder nutzen eine Suchmaschine. \n",
    "</div>"
   ]
  },
  {
   "cell_type": "code",
   "execution_count": null,
   "id": "b8db17d2",
   "metadata": {},
   "outputs": [],
   "source": [
    "# Binden Sie die Bibliotheken ein"
   ]
  },
  {
   "cell_type": "markdown",
   "id": "effac144",
   "metadata": {},
   "source": [
    "<hr style=\"border:1px solid gray\"> </hr>"
   ]
  },
  {
   "cell_type": "markdown",
   "id": "7187c376",
   "metadata": {},
   "source": [
    "## <font color='darkblue'>2. Plots formatieren</font> <a name=\"kap2\"></a>"
   ]
  },
  {
   "cell_type": "markdown",
   "id": "bdb38055",
   "metadata": {},
   "source": [
    "### <font color='darkblue'>2.1 2D-Plots (Punkte)</font> <a name=\"kap21\"></a>"
   ]
  },
  {
   "cell_type": "markdown",
   "id": "803598db",
   "metadata": {},
   "source": [
    "Die Punkte (1;1), (2;0) und (3;4) sollen in einem Koordinatensystem dargestellt werden. "
   ]
  },
  {
   "cell_type": "code",
   "execution_count": null,
   "id": "e742f431",
   "metadata": {},
   "outputs": [],
   "source": [
    "plt.plot([1,2,3],[1,0,4]); # alle x-Koordinaten in einem Vektor, alle y-Koordinaten im anderen "
   ]
  },
  {
   "cell_type": "markdown",
   "id": "3f8f12b7",
   "metadata": {},
   "source": [
    "<div class=\"alert alert-block alert-info\">\n",
    "&#128204; <b>Anmerkung:</b>  \n",
    "\n",
    "Das Semikolon hinter einen plt.plot führt zu einer schlankeren Ausgabe (probieren Sie die Alternative aus!)"
   ]
  },
  {
   "cell_type": "markdown",
   "id": "c4497d65",
   "metadata": {},
   "source": [
    "Man sieht: Punkte werden standardmäßig in Form von blauen Linien geplottet. Ein <span style=\"font-family:Consolas; color:crimson\">\"o\"</span> als optionales Argument gibt stattdessen nur die Punkte selbst als Kreise aus."
   ]
  },
  {
   "cell_type": "code",
   "execution_count": null,
   "id": "7a607256",
   "metadata": {},
   "outputs": [],
   "source": [
    "plt.plot([1,2,3],[1,0,4],\"o\");"
   ]
  },
  {
   "cell_type": "markdown",
   "id": "50e8f771",
   "metadata": {},
   "source": [
    "Es gibt eine Vielzahl unterschiedlicher Formatierungsmöglichkeiten der Datenpunkte, so genannte Marker:"
   ]
  },
  {
   "cell_type": "code",
   "execution_count": null,
   "id": "58701294",
   "metadata": {},
   "outputs": [],
   "source": [
    "plt.plot([1,2,3],[1,0,4],\"<\");"
   ]
  },
  {
   "cell_type": "code",
   "execution_count": null,
   "id": "2ab52df4",
   "metadata": {},
   "outputs": [],
   "source": [
    "plt.plot([1,2,3],[1,0,4],\"D\");"
   ]
  },
  {
   "cell_type": "markdown",
   "id": "b60c0986",
   "metadata": {},
   "source": [
    "Eine vollständige Übersicht der Marker findet sich <a href=\"https://matplotlib.org/stable/api/markers_api.html\">an dieser Stelle</a> der Dokumentation von matplotlib.\n",
    "\n",
    "Außerdem gibt es die Möglichkeit, andere Einstellungen wie Farbe, Linienstärke und Linienart zu verändern:"
   ]
  },
  {
   "cell_type": "code",
   "execution_count": null,
   "id": "249889ff",
   "metadata": {},
   "outputs": [],
   "source": [
    "plt.plot([1,2,3],[1,0,4],marker=\"d\",markersize=20,color=\"g\",linewidth=1);"
   ]
  },
  {
   "cell_type": "markdown",
   "id": "729763b3",
   "metadata": {},
   "source": [
    "<div class=\"alert alert-block alert-success\">\n",
    "&#128187; <b>Arbeitsauftrag:</b> \n",
    "    \n",
    "Testen Sie anhand des folgenden Beispiels die Formatierungsmöglichkeiten und Kennwortargumente aus. Finden Sie heraus, welche Farben schon vordefiniert sind und durch Abkürzungen wie \"g\" benutzt werden können. \n",
    "</div>"
   ]
  },
  {
   "cell_type": "code",
   "execution_count": null,
   "id": "ec8c401d",
   "metadata": {},
   "outputs": [],
   "source": [
    "a,b = [1,2,3],[1,0,4]"
   ]
  },
  {
   "cell_type": "code",
   "execution_count": null,
   "id": "cb0c5bf4",
   "metadata": {},
   "outputs": [],
   "source": [
    "plt.plot(a,b,marker=\"d\",markersize=20,color=\"g\",linewidth=1); # Nehmen Sie hier Änderungen vor!"
   ]
  },
  {
   "cell_type": "markdown",
   "id": "774787c7",
   "metadata": {},
   "source": [
    "Hier finden Sie eine <a href=\"https://matplotlib.org/stable/gallery/color/named_colors.html\">Übersicht der definierten Farben.</a>"
   ]
  },
  {
   "cell_type": "markdown",
   "id": "e8077c92",
   "metadata": {},
   "source": [
    "### <font color='darkblue'>2.2 Graphen von Funktionen</font> <a name=\"kap22\"></a>"
   ]
  },
  {
   "cell_type": "markdown",
   "id": "4814a350",
   "metadata": {},
   "source": [
    "Bisher wurden nur Punkte geplottet. Der Plot von Funktionsgraphen erfolgt nach dem gleichen Prinzip: Es werden viele eng beieinander liegende Punkte einer Funktion berechnet und dann geplottet. Diese Punkte werden durch gerade Linien verbunden wie bei dem obigen Beispiel. Da die Punkte aber sehr nah beieinander liegen, sieht es aus wie eine glatte Kurve.\n",
    "\n",
    "Angenommen, es soll die Funktion $f(x) = x^2 $ zwischen 0 und 2 geplottet werden."
   ]
  },
  {
   "cell_type": "markdown",
   "id": "2747caa0",
   "metadata": {},
   "source": [
    "Zuerst wird eine Serie von Punkten zwischen 0 und 2 erzeugt:"
   ]
  },
  {
   "cell_type": "markdown",
   "id": "f00f1b90",
   "metadata": {},
   "source": [
    "<div class=\"alert alert-block alert-info\">\n",
    "&#128204; <b>Anmerkung:</b> \n",
    "    \n",
    "`np.arange(0,2,0.01)` erzeugt mit Hilfe der NumPy Bibliothek einen „Vektor“ mit Einträgen zwischen 0 und 2 und dem Abstand 0.01."
   ]
  },
  {
   "cell_type": "code",
   "execution_count": null,
   "id": "9ef0444f",
   "metadata": {},
   "outputs": [],
   "source": [
    "x = np.arange(0,2,0.01)\n",
    "print(x)"
   ]
  },
  {
   "cell_type": "markdown",
   "id": "bc52e2d5",
   "metadata": {},
   "source": [
    "Dann werden die Funktionswerte in $x^2$ berechnet. Der Befehl hierfür ist `x**2`. Anschließend werden alle Zahlenpaare geplottet:"
   ]
  },
  {
   "cell_type": "code",
   "execution_count": null,
   "id": "80ccaed4",
   "metadata": {},
   "outputs": [],
   "source": [
    "x = np.arange(0,2,0.01)\n",
    "plt.plot(x,x**2);"
   ]
  },
  {
   "cell_type": "markdown",
   "id": "63d5efe4",
   "metadata": {},
   "source": [
    "Zu wenige x-Werte erzeugen keine glatte Kurve. Eine Schrittweite von 0.5 ist zum Beispiel zu groß:"
   ]
  },
  {
   "cell_type": "code",
   "execution_count": null,
   "id": "5309ff65",
   "metadata": {},
   "outputs": [],
   "source": [
    "x = np.arange(0,2,0.5)\n",
    "plt.plot(x,x**2);"
   ]
  },
  {
   "cell_type": "markdown",
   "id": "e787d4a4",
   "metadata": {},
   "source": [
    "### <font color='darkblue'>2.3 Achsenbeschriftung</font> <a name=\"kap23\"></a>"
   ]
  },
  {
   "cell_type": "markdown",
   "id": "8519bade",
   "metadata": {},
   "source": [
    "`xlabel()`und `ylabel()` versieht die Achsen des zuletzt erstellten Plots mit einer Beschriftung, die unter bzw. neben der Achse angezeigt wird:"
   ]
  },
  {
   "cell_type": "code",
   "execution_count": null,
   "id": "e4114988",
   "metadata": {},
   "outputs": [],
   "source": [
    "x = np.arange(0,2,0.01)\n",
    "plt.plot(x,2*x)\n",
    "plt.xlabel(\"x\")\n",
    "plt.ylabel(\"f(x)\");"
   ]
  },
  {
   "cell_type": "markdown",
   "id": "6c651722",
   "metadata": {},
   "source": [
    "Mit `xticks()`und `yticks()` lassen sich die an den Achsen stehenden Zahlen anpassen:"
   ]
  },
  {
   "cell_type": "code",
   "execution_count": null,
   "id": "e0540156",
   "metadata": {},
   "outputs": [],
   "source": [
    "x = np.arange(0,2,0.01)\n",
    "plt.plot(x,2*x)\n",
    "plt.xticks([])\n",
    "plt.yticks([0,2,4]);"
   ]
  },
  {
   "cell_type": "markdown",
   "id": "4c856563",
   "metadata": {},
   "source": [
    "### <font color='darkblue'>2.4  Achsenskalierung</font> <a name=\"kap24\"></a>"
   ]
  },
  {
   "cell_type": "markdown",
   "id": "ba4b655b",
   "metadata": {},
   "source": [
    "`xscale()`und `yscale()` ermöglichen verschiedene Skalierungen der Achsen, beispielsweise logarithmisch statt linear:"
   ]
  },
  {
   "cell_type": "code",
   "execution_count": null,
   "id": "b9b9f870",
   "metadata": {},
   "outputs": [],
   "source": [
    "x = np.arange(0,2,0.01)\n",
    "plt.plot(x,2*x)\n",
    "plt.xscale(\"log\")\n",
    "plt.yscale(\"linear\");"
   ]
  },
  {
   "cell_type": "markdown",
   "id": "adfe16fd",
   "metadata": {},
   "source": [
    "### <font color='darkblue'>2.5 Legende</font> <a name=\"kap25\"></a>"
   ]
  },
  {
   "cell_type": "markdown",
   "id": "cbf59fab",
   "metadata": {},
   "source": [
    "`legend()` blendet eine Legende ein. Dies ist besonders bei mehreren Plots in einem Koordinatensystem nützlich:"
   ]
  },
  {
   "cell_type": "code",
   "execution_count": null,
   "id": "76b534d2",
   "metadata": {},
   "outputs": [],
   "source": [
    "x = np.arange(0,2,0.01)\n",
    "plt.plot(x,x,label=\"f1\")\n",
    "plt.plot(x,2*x,label=\"f2\")\n",
    "plt.legend();"
   ]
  },
  {
   "cell_type": "markdown",
   "id": "99cf113d",
   "metadata": {},
   "source": [
    "### <font color='darkblue'>2.6 Gitternetz</font> <a name=\"kap26\"></a>"
   ]
  },
  {
   "cell_type": "markdown",
   "id": "753e6cfd",
   "metadata": {},
   "source": [
    "Mit `grid()` kann ein auf dem Koordinatensystem liegendes Gitternetz konfiguriert werden:"
   ]
  },
  {
   "cell_type": "code",
   "execution_count": null,
   "id": "3c1e8d10",
   "metadata": {},
   "outputs": [],
   "source": [
    "x = np.arange(0,2,0.01)\n",
    "plt.plot(x,2*x)\n",
    "plt.grid();"
   ]
  },
  {
   "cell_type": "markdown",
   "id": "abdd7160",
   "metadata": {},
   "source": [
    "Betrachten Sie den folgenden Plot: "
   ]
  },
  {
   "cell_type": "code",
   "execution_count": null,
   "id": "afe1aea8",
   "metadata": {},
   "outputs": [],
   "source": [
    "x = np.arange(0,2,0.01)\n",
    "plt.plot(x,2*x, label='f1');"
   ]
  },
  {
   "cell_type": "markdown",
   "id": "70f02c58",
   "metadata": {},
   "source": [
    "<div class=\"alert alert-block alert-success\">\n",
    "&#128187; <b>Arbeitsauftrag:</b> \n",
    "    \n",
    "Verändern Sie den vorstehenden Plot so, dass ...<br>\n",
    "<ul>\n",
    "    <li>die Achsen mit \"x\" und \"f(x)=2*x\" beschriftet werden,</li>\n",
    "    <li>an den Achsen nur ganze Zahlen stehen,</li>\n",
    "    <li>es eine Legende mit dem Namen der Funktion gibt,</li>\n",
    "    <li>und dem Plot ein Gitternetz hinterliegt.</li>\n",
    "    </ul>"
   ]
  },
  {
   "cell_type": "code",
   "execution_count": null,
   "id": "5e6cb504",
   "metadata": {},
   "outputs": [],
   "source": [
    "# Verändern Sie den Plot"
   ]
  },
  {
   "cell_type": "markdown",
   "id": "5233fe57",
   "metadata": {},
   "source": [
    "<hr style=\"border:1px solid gray\"> </hr>"
   ]
  },
  {
   "cell_type": "markdown",
   "id": "f4544604",
   "metadata": {},
   "source": [
    "## <font color='darkblue'>3. Arten von Plots anhand von Wetterdaten</font> <a name=\"kap3\"></a>"
   ]
  },
  {
   "cell_type": "markdown",
   "id": "c7fbca53",
   "metadata": {},
   "source": [
    "### <font color='darkblue'>3.1 Daten einlesen</font> <a name=\"kap31\"></a>"
   ]
  },
  {
   "cell_type": "markdown",
   "id": "4e875c2b",
   "metadata": {},
   "source": [
    "Neben `plot()` bietet Matplotlib viele weitere Funktionen für verschiedene Diagrammarten, welche für eine Visualisierung verschiedener Arten von Daten sehr hilfreich sein können. Um die zwei wichtigsten in den folgenden Unterkapiteln zu thematisieren, wird nun zunächst ein Datensatz eingelesen, der visualisiert werden soll: "
   ]
  },
  {
   "cell_type": "code",
   "execution_count": null,
   "id": "25cee3b0",
   "metadata": {},
   "outputs": [],
   "source": [
    "df = pd.read_excel(r'M1_Uebung_Wetter.xlsx')\n",
    "df"
   ]
  },
  {
   "cell_type": "markdown",
   "id": "c17a3cb9",
   "metadata": {},
   "source": [
    "Bei dem Datensatz handelt es sich um Werte, welche in ihrer ursprünglichen Form von Meteostat <a href=\"https://meteostat.net/de/place/45I0JU?t=2020-11-01/2021-10-31\">auf dieser Seite</a> zur Verfügung gestellt werden. Die Daten werden unter anderem auch in dem verlinkten Data Literacy Basiskurs verwendet. \n",
    "\n",
    "Der Datensatz enthält unterschiedliche Informationen über das Wetter gemessen über 365 Tage. Die Merkmale werden nachfolgend dargestellt: "
   ]
  },
  {
   "cell_type": "markdown",
   "id": "0f2d5d3c",
   "metadata": {},
   "source": [
    "<table align='left'>\n",
    "    <thead>\n",
    "        <tr>\n",
    "          <th style=\"text-align:left\">Spaltenname</th>\n",
    "          <th style=\"text-align:left\">Bedeutung</th>\n",
    "          <th style=\"text-align:left\">Einheit</th>\n",
    "        </tr>\n",
    "    </thead>\n",
    "    <tr>\n",
    "    <td style=\"text-align:left\">date</td>\n",
    "    <td style=\"text-align:left\">Datum</td>\n",
    "    <td style=\"text-align:left\">-</td>\n",
    "    </tr>\n",
    "    <tr>\n",
    "    <td style=\"text-align:left\">tavg</td>\n",
    "    <td style=\"text-align:left\">Durchschnittstemperatur</td>\n",
    "    <td style=\"text-align:left\">°C</td>\n",
    "    </tr>\n",
    "    <tr>\n",
    "    <td style=\"text-align:left\">tmin</td>\n",
    "    <td style=\"text-align:left\">Tagestiefsttemperatur</td>\n",
    "    <td style=\"text-align:left\">°C</td>\n",
    "    </tr>\n",
    "    <tr>\n",
    "    <td style=\"text-align:left\">tmax</td>\n",
    "    <td style=\"text-align:left\">Tageshöchsttemperatur</td>\n",
    "    <td style=\"text-align:left\">°C</td>\n",
    "    </tr>\n",
    "    <tr>\n",
    "    <td style=\"text-align:left\">prcp</td>\n",
    "    <td style=\"text-align:left\">Gesamtniederschlag</td>\n",
    "    <td style=\"text-align:left\">mm</td>\n",
    "    </tr>\n",
    "    <tr>\n",
    "    <td style=\"text-align:left\">snow</td>\n",
    "    <td style=\"text-align:left\">Schneefall</td>\n",
    "    <td style=\"text-align:left\">mm</td>\n",
    "    </tr>\n",
    "    <tr>\n",
    "    <td style=\"text-align:left\">rd</td>\n",
    "    <td style=\"text-align:left\">Regentag</td>\n",
    "    <td style=\"text-align:left\">ja (0) /nein (1)</td>\n",
    "    </tr>\n",
    "    <tr>\n",
    "    <td style=\"text-align:left\">wdir</td>\n",
    "    <td style=\"text-align:left\">Windrichtung</td>\n",
    "    <td style=\"text-align:left\">°</td>\n",
    "    </tr>\n",
    "    <tr>\n",
    "    <td style=\"text-align:left\">wspd</td>\n",
    "    <td style=\"text-align:left\">durchschnittliche Windgeschwindigkeit</td>\n",
    "    <td style=\"text-align:left\">km/h</td>\n",
    "    </tr>\n",
    "    <tr>\n",
    "    <td style=\"text-align:left\">wpgt</td>\n",
    "    <td style=\"text-align:left\">Windgeschwindigkeit (Tages-Maximum)</td>\n",
    "    <td style=\"text-align:left\">km/h</td>\n",
    "    </tr>\n",
    "    <tr>\n",
    "    <td style=\"text-align:left\">pres</td>\n",
    "    <td style=\"text-align:left\">Luftdruck</td>\n",
    "    <td style=\"text-align:left\">hPa</td>\n",
    "    </tr>\n",
    "    <tr>\n",
    "    <td style=\"text-align:left\">tsun</td>\n",
    "    <td style=\"text-align:left\">Sonnenscheindauer</td>\n",
    "    <td style=\"text-align:left\">min</td>\n",
    "    </tr>\n",
    "</table>"
   ]
  },
  {
   "cell_type": "markdown",
   "id": "93f34db0",
   "metadata": {},
   "source": [
    "<div class=\"alert alert-block alert-success\">\n",
    "&#128187; <b>Arbeitsauftrag:</b> \n",
    "    \n",
    "Wenden Sie die Methode `info()` und die Methode `describe()`auf die Variable `df` an, um erste Informationen über den Datensatz zu gewinnen. "
   ]
  },
  {
   "cell_type": "code",
   "execution_count": null,
   "id": "a2f11e47",
   "metadata": {},
   "outputs": [],
   "source": [
    "# Wenden Sie den Methode info auf den Dataframe an"
   ]
  },
  {
   "cell_type": "code",
   "execution_count": null,
   "id": "2f0432fc",
   "metadata": {},
   "outputs": [],
   "source": [
    "# Wenden Sie den Methode describe auf den Dataframe an"
   ]
  },
  {
   "cell_type": "markdown",
   "id": "1f383cd8",
   "metadata": {},
   "source": [
    "Sind die Befehle richtig ausgeführt worden, dann ist zu sehen: Die Daten wurden über 365 Tage erhoben. Alle Datenfelder sind gefüllt. Die erste Spalte enthält ein Datum, die übrigen Spalten beinhalten Zahlenwerte. Der Wertebereich der Merkmale variiert stark. "
   ]
  },
  {
   "cell_type": "markdown",
   "id": "7f324f72",
   "metadata": {},
   "source": [
    "### <font color='darkblue'>3.2 Scatterplots</font> <a name=\"kap32\"></a>"
   ]
  },
  {
   "cell_type": "markdown",
   "id": "b0a65fdb",
   "metadata": {},
   "source": [
    "`scatter()` wird zur Erstellung von Scatterplots, also Streudiagrammen verwendet. Bei Streudiagrammen werden zwei Merkmale gegeneinander geplottet, sodass die Ausprägungen jedes Merkmals einen Punkt ergeben. \n",
    "Im folgenden Plot sind die Durchschnittstemperatur eines Tages und seine Sonnenscheindauer (in Minuten) gegeneinander aufgetragen."
   ]
  },
  {
   "cell_type": "code",
   "execution_count": null,
   "id": "067e36cd",
   "metadata": {},
   "outputs": [],
   "source": [
    "plt.scatter(df['tavg'], df['tsun']);"
   ]
  },
  {
   "cell_type": "markdown",
   "id": "799d78a8",
   "metadata": {},
   "source": [
    "<div class=\"alert alert-block alert-success\">\n",
    "&#128187; <b>Arbeitsauftrag:</b> \n",
    "    \n",
    "Auch bei dieser Art des Plots, kann das Anlegen einer Beschriftung hilfreich sein. Nutzen Sie den folgenden Baustein, um das Diagramm und die Achsen zu beschriften."
   ]
  },
  {
   "cell_type": "code",
   "execution_count": null,
   "id": "1fa090af",
   "metadata": {},
   "outputs": [],
   "source": [
    "plt.scatter(df['tavg'], df['tsun'])\n",
    "#plt.title() \n",
    "#plt.xlabel() \n",
    "#plt.ylabel() \n",
    "plt.show()"
   ]
  },
  {
   "cell_type": "markdown",
   "id": "42ada0ec",
   "metadata": {},
   "source": [
    "Schon dieser einfachen Grafik kann entnommen werden, dass eine leichte Tendenz besteht, dass Tage mit mehr Sonnenstunden eine höhere Temperatur haben.\n",
    "\n",
    "In dieser Art von Plot kann eine dritte Information untergebracht werden, indem die Punkte eine bestimmte Farbe zugewiesen bekommen. Im folgenden Plot ist hierfür das Merkmal Regentag genutzt worden. Das Einbinden der Legende zeigt die beiden Farben an. "
   ]
  },
  {
   "cell_type": "code",
   "execution_count": null,
   "id": "533c52e0",
   "metadata": {},
   "outputs": [],
   "source": [
    "scatter = plt.scatter(df['tavg'], df['tsun'], c = df['rd'])\n",
    "plt.title('Temperatur und Sonnenstunden, gefärbt nach Regentagen') \n",
    "plt.xlabel('Temperatur') \n",
    "plt.ylabel('Sonnenstunden') \n",
    "plt.legend(*scatter.legend_elements())\n",
    "plt.show()"
   ]
  },
  {
   "cell_type": "markdown",
   "id": "520e368f",
   "metadata": {},
   "source": [
    "Die Aussage hier ist nicht überraschend: Die Regentage haben im Schnitt weniger Sonnenstunden als die Nicht-Regentage. "
   ]
  },
  {
   "cell_type": "markdown",
   "id": "79fa7580",
   "metadata": {},
   "source": [
    "<div class=\"alert alert-block alert-success\">\n",
    "&#128187; <b>Arbeitsauftrag:</b> \n",
    "    \n",
    "Plotten Sie zwei andere Merkmale auf die x-Achse und y-Achse, um sie gegeneinader und bezüglich Regentag eingefärbt zu plotten. Überrascht das Ergebnis?"
   ]
  },
  {
   "cell_type": "code",
   "execution_count": null,
   "id": "3f20f86d",
   "metadata": {},
   "outputs": [],
   "source": [
    "#scatter = plt.scatter(x, y, c = df['rd'])\n",
    "#plt.title('x und y, gefärbt nach Regentagen') \n",
    "#plt.xlabel('x') \n",
    "#plt.ylabel('y') \n",
    "#plt.legend(*scatter.legend_elements())\n",
    "#plt.show()"
   ]
  },
  {
   "cell_type": "markdown",
   "id": "efe6662f",
   "metadata": {},
   "source": [
    "### <font color='darkblue'>3.3 Histogramme</font> <a name=\"kap33\"></a>"
   ]
  },
  {
   "cell_type": "markdown",
   "id": "52274eb7",
   "metadata": {},
   "source": [
    "Eine weitere wichtige Darstellungsart sind die Histogramme. Histogramme können bezüglich aller Merkmale eines Datensatzes mit der Methode `hist()` schnell geplottet werden. Mit `figsize` wird eine ausreichende Größe vorgegeben. \n",
    "\n",
    "Die Ausgabe der Histogramme aller Zahlen-codierten Merkmale auf diese Art ist ein üblicher Schritt zum ersten Erforschen eines Datensatzes. "
   ]
  },
  {
   "cell_type": "code",
   "execution_count": null,
   "id": "e4733219",
   "metadata": {},
   "outputs": [],
   "source": [
    "df.hist(figsize=(20,10));"
   ]
  },
  {
   "cell_type": "markdown",
   "id": "6143031c",
   "metadata": {},
   "source": [
    "Aus der Darstellung können erste Informationen über den Datensatz gewonnen werde, beispielsweise, dass ca. 60% der Tage Regentage waren. Oder auch, dass es wenige Tage mit sehr viel Niederschlag gab. \n",
    "\n",
    "Mit den Befehlen zur Erstellung von Histogrammen mit der mathplotlib gibt es noch mehr Möglichkeiten der Formatierung: "
   ]
  },
  {
   "cell_type": "markdown",
   "id": "68e7c673",
   "metadata": {},
   "source": [
    "<div class=\"alert alert-block alert-success\">\n",
    "&#128187; <b>Arbeitsauftrag:</b> \n",
    "    \n",
    "Der Code für das Erstellen von Histogrammen funktioniert ähnlich wie der zur Erstellung von Scatterplots. Ergänzen Sie die richtige Variable, sodass ein Histogramm erstellt wird, welches einen Überblick über das Merkmal Sonnenstunden gibt. "
   ]
  },
  {
   "cell_type": "code",
   "execution_count": null,
   "id": "10ff8cda",
   "metadata": {},
   "outputs": [],
   "source": [
    "# Erstellen Sie ein Histogramm zum Merkmal Sonnenstunden\n",
    "#plt.hist()\n",
    "plt.title('Sonnenstunden') \n",
    "plt.show()"
   ]
  },
  {
   "cell_type": "markdown",
   "id": "4bbee362",
   "metadata": {},
   "source": [
    "Sollen mehrere Plots in einem Bild dargestellt werden, ist es für die Übersichtlichkeit manchmal nützlich, zumindest Teile davon transparenter zu machen. Das ist möglich mit dem Parameter `alpha`, der die Transparenz zwischen 0 (durchsichtig) und 1 (deckend) angibt. Die Ergänzung einer Legende liefert eine bessere Übersichtlickeit, hierfür wird jedem Plot ein `label` zugewiesen. "
   ]
  },
  {
   "cell_type": "code",
   "execution_count": null,
   "id": "22724662",
   "metadata": {
    "scrolled": true
   },
   "outputs": [],
   "source": [
    "plt.hist(df['tsun'], alpha=0.8, label='Sonnenstunden');\n",
    "plt.hist(df['tavg'], alpha=0.5, label='Durchschnittstemperatur');\n",
    "plt.legend();"
   ]
  },
  {
   "cell_type": "markdown",
   "id": "42d7cb7b",
   "metadata": {},
   "source": [
    "<div class=\"alert alert-block alert-info\">\n",
    "&#128204; <b>Anmerkung:</b> \n",
    "\n",
    "Wenn man zwei Plot-Befehle untereinander schreibt, führt dies zur Ausgabe in *einem* Diagramm. "
   ]
  },
  {
   "cell_type": "markdown",
   "id": "63971596",
   "metadata": {},
   "source": [
    "Scheinbar ist diese Darstellungsart nur sinnvoll, wenn die Ausprägungen beider Merkmale ähnliche Größenordnung haben. Ein Blick in die ersten Histogramme verrät, dass alle drei Temperatur-Merkmale dieselbe Größenordnung aufweisen. Sie sollen nun in eine Grafik geplottet werden. "
   ]
  },
  {
   "cell_type": "markdown",
   "id": "cef016c1",
   "metadata": {},
   "source": [
    "<div class=\"alert alert-block alert-success\">\n",
    "&#128187; <b>Arbeitsauftrag:</b> \n",
    "    \n",
    "Erstellen Sie eine beschriftete Grafik, welche die Histogramme der Merkmale `tavg`, `tmin` und `tmax` enthält, und machen Sie mithilfe des Parameters `alpha` alle drei Histogramme transparenter. \n",
    "</div>"
   ]
  },
  {
   "cell_type": "code",
   "execution_count": null,
   "id": "6803f855",
   "metadata": {},
   "outputs": [],
   "source": [
    "# Erstellen Sie ein Histogramm zu den Merkmalen Durchschnittstemperatur, Tagestiefsttemperatur und Tageshöchsttemperatur"
   ]
  },
  {
   "cell_type": "markdown",
   "id": "443958da",
   "metadata": {},
   "source": [
    "<hr style=\"border:1px solid gray\"> </hr>"
   ]
  },
  {
   "cell_type": "markdown",
   "id": "a1e15647",
   "metadata": {},
   "source": [
    "## <font color='darkblue'>4. Fazit</font> <a name=\"kap4\"></a>"
   ]
  },
  {
   "cell_type": "markdown",
   "id": "6971d9b0",
   "metadata": {},
   "source": [
    "Dieses Notebook hat\n",
    "- die Grundlagen von matplotlib erklärt.\n",
    "- mehrere Beschriftungsmöglichkeiten aufgezeigt. \n",
    "- den Plot mehrerer Objekte in einer Grafik erklärt. \n",
    "- die Erstellung von Scatterplots und Histogrammen gezeigt."
   ]
  }
 ],
 "metadata": {
  "kernelspec": {
   "display_name": "Python 3",
   "language": "python",
   "name": "python3"
  },
  "language_info": {
   "codemirror_mode": {
    "name": "ipython",
    "version": 3
   },
   "file_extension": ".py",
   "mimetype": "text/x-python",
   "name": "python",
   "nbconvert_exporter": "python",
   "pygments_lexer": "ipython3",
   "version": "3.8.8"
  },
  "latex_envs": {
   "LaTeX_envs_menu_present": true,
   "autoclose": false,
   "autocomplete": true,
   "bibliofile": "biblio.bib",
   "cite_by": "apalike",
   "current_citInitial": 1,
   "eqLabelWithNumbers": true,
   "eqNumInitial": 1,
   "hotkeys": {
    "equation": "Ctrl-E",
    "itemize": "Ctrl-I"
   },
   "labels_anchors": false,
   "latex_user_defs": false,
   "report_style_numbering": false,
   "user_envs_cfg": false
  },
  "toc": {
   "base_numbering": 1,
   "nav_menu": {},
   "number_sections": false,
   "sideBar": true,
   "skip_h1_title": true,
   "title_cell": "Table of Contents",
   "title_sidebar": "Contents",
   "toc_cell": false,
   "toc_position": {},
   "toc_section_display": true,
   "toc_window_display": false
  },
  "varInspector": {
   "cols": {
    "lenName": 16,
    "lenType": 16,
    "lenVar": 40
   },
   "kernels_config": {
    "python": {
     "delete_cmd_postfix": "",
     "delete_cmd_prefix": "del ",
     "library": "var_list.py",
     "varRefreshCmd": "print(var_dic_list())"
    },
    "r": {
     "delete_cmd_postfix": ") ",
     "delete_cmd_prefix": "rm(",
     "library": "var_list.r",
     "varRefreshCmd": "cat(var_dic_list()) "
    }
   },
   "types_to_exclude": [
    "module",
    "function",
    "builtin_function_or_method",
    "instance",
    "_Feature"
   ],
   "window_display": false
  }
 },
 "nbformat": 4,
 "nbformat_minor": 5
}
