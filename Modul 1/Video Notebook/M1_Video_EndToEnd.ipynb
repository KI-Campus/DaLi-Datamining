{
 "cells": [
  {
   "cell_type": "markdown",
   "id": "049aaf3e",
   "metadata": {},
   "source": [
    "# End-to-End Projekt: Vorhersage des Überlebens auf der Titanic"
   ]
  },
  {
   "cell_type": "markdown",
   "id": "07572919",
   "metadata": {},
   "source": [
    "<hr style=\"border:1px solid gray\"> </hr>"
   ]
  },
  {
   "cell_type": "markdown",
   "id": "806c0993",
   "metadata": {},
   "source": [
    "## Inhalt\n",
    "\n",
    "0. [Einleitung und CRISP-DM](#kap0)\n",
    "\n",
    "\n",
    "1. [Geschäftsverständnis](#kap1)  \n",
    "\n",
    "\n",
    "2. [Datenverständnis](#kap2)    \n",
    "\n",
    "\n",
    "3. [Datenvorbereitung](#kap3)  \n",
    "    3.1 [Aufteilung in Trainings- und Testdatensatz](#kap31)  \n",
    "    3.2 [Erste Merkmalsauswahl](#kap32)   \n",
    "    \n",
    "\n",
    "4. [Modellierung](#kap4)  \n",
    "    4.1 [Modellgüte](#kap41)  \n",
    "    4.2 [Iteration zu den vorhergehenden Schritten](#kap42)  \n",
    "\n",
    "\n",
    "5. [Evaluation](#kap5)\n",
    "\n",
    "\n",
    "6. [Bereitstellung](#kap6)"
   ]
  },
  {
   "cell_type": "markdown",
   "id": "4025f10e",
   "metadata": {},
   "source": [
    "<hr style=\"border:1px solid gray\"> </hr>"
   ]
  },
  {
   "cell_type": "markdown",
   "id": "f796e414",
   "metadata": {},
   "source": [
    "## 0. Einleitung und CRISP-DM <a name=\"kap0\"></a>"
   ]
  },
  {
   "cell_type": "markdown",
   "id": "eedee0ca",
   "metadata": {},
   "source": [
    "In diesem Jupyter Notebook soll zunächst der Ablauf eines typischen Projektes in Data Mining an einem kleinen Beispiel demonstriert werden. Dabei werden die typischen Schritte eines solchen Projektes analog zum CRISP-DM Modell durchgeführt und kurz erläutert, um einen Überblick zu geben und anschließend durchgeführt. Detaillierte Erläuterungen zu den einzelnen Schritte folgen in den späteren Modulen. "
   ]
  },
  {
   "cell_type": "markdown",
   "id": "3143457f",
   "metadata": {},
   "source": [
    "<img src=\"dm00.png\" style=\"height:500px\">"
   ]
  },
  {
   "cell_type": "markdown",
   "id": "bee67b08",
   "metadata": {},
   "source": [
    "## 1. Geschäftsverständnis <a name=\"kap1\"></a>"
   ]
  },
  {
   "cell_type": "markdown",
   "id": "368e9460",
   "metadata": {},
   "source": [
    "Der erste Schritt in einem Data Mining Projekt ist die genaue Formulierung der Aufgabe. In allgemeinen Anwendungen wird eine Geschäftsidee formuliert oder ein Problem einer Fachabteilung vorgetragen. Diese sollten mit Hilfe von Daten lösbar sein.  \n",
    "In Industrieanwendungen wird dieser Schritt oft von interdisziplinären Arbeitsgruppen, bestehend aus der Fachabteilung und der Data Science-Abteilung, entwickelt.  "
   ]
  },
  {
   "cell_type": "markdown",
   "id": "ccaec698",
   "metadata": {},
   "source": [
    "<hr style=\"border:4px solid lightblue\"> </hr> \n",
    "\n",
    "### Die Aufgabe \n",
    "\n",
    "Der 15. April 2023 ist das 111. Jubiläum einer der berühmtesten Katastrophen der Seefahrt: Die RMS Titanic kollidierte auf ihrer Jungfernfahrt am 14. April 1912 mit einem Eisberg und versank wenige Stunden später im Nordatlantik. Dabei kamen über 60% der an Bord befindlichen Reisenden ums Leben.  \n",
    "\n",
    "Im Rahmen des Jubiläums plant eine Produktionsfirma einen neuen Dokumentarfilm, der neue Erkenntnisse der Titanic-Forschung enthüllen und mit Gerüchten und Mythen um die Titanic aufräumen soll. Im Zuge der Produktion soll ein umfangreiches Medienangebot erstellt werden, unter anderem ein Virtual Reality (VR) - Erlebnis, bei dem Nutzer:innen selbst in die Welt der Titanic eintauchen und erleben können, wie sich die Fahrt auf der Titanic, aber auch deren Untergang ereignet hat.  \n",
    "Zu Beginn der Simulation wählen die Nutzer:innen verschiedene Merkmale des Charakters aus (beispielsweise Alter, Geschlecht und Passagierklasse). Ein Vorhersagemodell soll anhand dieser Auswahldaten entscheiden, ob der Charakter überlebt oder nicht. Je nach Wahl werden den Nutzer:innen unterschiedliche Endsequenzen eingespielt.  \n",
    "\n",
    "Die Aufgabe Ihres Data Mining Teams besteht nun darin, ein Vorhersagemodell aufgrund vorliegender Daten zu entwickeln, das ausgehend von allgemeinen Merkmalen ein Überleben oder Nichtüberleben vorhersagt und damit die Grundlage für die Sequenzwahl im VR-Erlebnis bildet.\n",
    "\n",
    "<hr style=\"border:4px solid lightblue\"> </hr> "
   ]
  },
  {
   "cell_type": "markdown",
   "id": "5c908eb0",
   "metadata": {},
   "source": [
    "Es handelt sich in diesem Fall um ein Klassifikationsmodell, da zwei Ergebnisklassen, nämlich 'überlebt' und 'nicht überlebt', existieren. In späteren Modulen des Kurses werden weitere Arten von Vorhersagemodellen thematisiert. Bei anderen Arten von Vorhersagemodellen sehen einzelne Ausgestaltungen der CRISP-DM Arbeitsbereiche unterschiedlich aus, die allgemeine Bedeutung der einzelnen Arbeitsbereiche bleibt aber gleich. \n",
    "\n",
    "Der Plan zur Erstellung des Modells ist, anhand der üblichen Schritte im CRISP-DM die Datengrundlage zu erforschen und dann Merkmale und einen Ansatz für eine Modellierung auszuwählen, sowie die Modellierung im Nachhinein bezüglich bestimmter Merkmale zu beurteilen und ggf. zu optimieren. "
   ]
  },
  {
   "cell_type": "markdown",
   "id": "a973c442",
   "metadata": {},
   "source": [
    "<div class=\"alert alert-block alert-warning\">\n",
    "<b>Ergebnissicherung:</b> <br>\n",
    "     - Der Arbeitsbereich Geschäftsverständnis dient dazu, ausgehend von der Fragestellung die Anforderungen und Ziele für das Data Mining Projekt zu formulieren. Die Vorgehensweise wird dabei geplant und in einer ersten Version festgelegt werden. <br>\n",
    "    - Ein Klassifikationsmodell ist ein Modell, welches ausgehend von einem Datensatz ein Modell erstellt, das die Kategorie (Klasse) bestimmter Beispiele vorhersagen kann. \n",
    "</div>"
   ]
  },
  {
   "cell_type": "markdown",
   "id": "bb3bbabc",
   "metadata": {},
   "source": [
    "##  2. Datenverständnis (Data Understanding) <a name=\"kap2\"></a>"
   ]
  },
  {
   "cell_type": "markdown",
   "id": "4be392ec",
   "metadata": {},
   "source": [
    "Ausgangspunkt für die Bearbeitung eines Data Mining Projekts sind selbstverständlich unterschiedliche Daten. In vielen Anwendungen, gerade im industriellen Kontext, ist es aufwändig, die passenden Daten zu finden und sie eventuell aus mehreren Quellen zusammen zu führen. \n",
    "\n",
    "Für das hier thematisierte Beispiel werden Informationen über die allgemeinen Merkmale der Reisenden und über die Frage, ob sie überlebt haben oder nicht, benötigt. Ein Datensatz mit diesen Inhalten ist bei den zu diesem Video gehörenden Materialien zu finden und kann dort heruntergeladen werden. Der Datensatz ist aus mehreren Originaldaten von https://www.kaggle.com/c/titanic/data zusammengefügt. \n",
    "\n",
    "Der Datensatz wird nun zunächst genauer betrachtet, um zu verstehen, welche Informationen zur Verfügung stehen."
   ]
  },
  {
   "cell_type": "markdown",
   "id": "99ba3221",
   "metadata": {},
   "source": [
    "Zu Beginn des Notebooks werden die grundlegenden Bibliotheken eingebunden, die in fast jedem Data Mining Projekt genutzt werden."
   ]
  },
  {
   "cell_type": "code",
   "execution_count": 1,
   "id": "5d1c97bb",
   "metadata": {},
   "outputs": [],
   "source": [
    "import numpy as np\n",
    "import pandas as pd\n",
    "import matplotlib.pyplot as plt"
   ]
  },
  {
   "cell_type": "markdown",
   "id": "47b78e8e",
   "metadata": {},
   "source": [
    "Der Datensatz wird nun zunächst mit `pd.read_csv()` eingelesen, da er im csv-Format vorliegt. Anschließend wird er für eine erste Übersicht ausgegeben um zu überprüfen, ob die Datei richtig eingelesen wurde. "
   ]
  },
  {
   "cell_type": "code",
   "execution_count": 2,
   "id": "299e06f4",
   "metadata": {
    "scrolled": false
   },
   "outputs": [
    {
     "ename": "FileNotFoundError",
     "evalue": "[Errno 2] No such file or directory: 'titanic.csv'",
     "output_type": "error",
     "traceback": [
      "\u001b[1;31m---------------------------------------------------------------------------\u001b[0m",
      "\u001b[1;31mFileNotFoundError\u001b[0m                         Traceback (most recent call last)",
      "\u001b[1;32m<ipython-input-2-8f90e5789658>\u001b[0m in \u001b[0;36m<module>\u001b[1;34m\u001b[0m\n\u001b[0;32m      1\u001b[0m \u001b[0mcsv_path\u001b[0m \u001b[1;33m=\u001b[0m \u001b[1;34m\"titanic.csv\"\u001b[0m\u001b[1;33m\u001b[0m\u001b[1;33m\u001b[0m\u001b[0m\n\u001b[1;32m----> 2\u001b[1;33m \u001b[0mdf\u001b[0m \u001b[1;33m=\u001b[0m \u001b[0mpd\u001b[0m\u001b[1;33m.\u001b[0m\u001b[0mread_csv\u001b[0m\u001b[1;33m(\u001b[0m\u001b[0mcsv_path\u001b[0m\u001b[1;33m)\u001b[0m\u001b[1;33m\u001b[0m\u001b[1;33m\u001b[0m\u001b[0m\n\u001b[0m\u001b[0;32m      3\u001b[0m \u001b[0mdf\u001b[0m\u001b[1;33m\u001b[0m\u001b[1;33m\u001b[0m\u001b[0m\n",
      "\u001b[1;32mC:\\ProgramData\\Anaconda3\\lib\\site-packages\\pandas\\io\\parsers.py\u001b[0m in \u001b[0;36mread_csv\u001b[1;34m(filepath_or_buffer, sep, delimiter, header, names, index_col, usecols, squeeze, prefix, mangle_dupe_cols, dtype, engine, converters, true_values, false_values, skipinitialspace, skiprows, skipfooter, nrows, na_values, keep_default_na, na_filter, verbose, skip_blank_lines, parse_dates, infer_datetime_format, keep_date_col, date_parser, dayfirst, cache_dates, iterator, chunksize, compression, thousands, decimal, lineterminator, quotechar, quoting, doublequote, escapechar, comment, encoding, dialect, error_bad_lines, warn_bad_lines, delim_whitespace, low_memory, memory_map, float_precision, storage_options)\u001b[0m\n\u001b[0;32m    608\u001b[0m     \u001b[0mkwds\u001b[0m\u001b[1;33m.\u001b[0m\u001b[0mupdate\u001b[0m\u001b[1;33m(\u001b[0m\u001b[0mkwds_defaults\u001b[0m\u001b[1;33m)\u001b[0m\u001b[1;33m\u001b[0m\u001b[1;33m\u001b[0m\u001b[0m\n\u001b[0;32m    609\u001b[0m \u001b[1;33m\u001b[0m\u001b[0m\n\u001b[1;32m--> 610\u001b[1;33m     \u001b[1;32mreturn\u001b[0m \u001b[0m_read\u001b[0m\u001b[1;33m(\u001b[0m\u001b[0mfilepath_or_buffer\u001b[0m\u001b[1;33m,\u001b[0m \u001b[0mkwds\u001b[0m\u001b[1;33m)\u001b[0m\u001b[1;33m\u001b[0m\u001b[1;33m\u001b[0m\u001b[0m\n\u001b[0m\u001b[0;32m    611\u001b[0m \u001b[1;33m\u001b[0m\u001b[0m\n\u001b[0;32m    612\u001b[0m \u001b[1;33m\u001b[0m\u001b[0m\n",
      "\u001b[1;32mC:\\ProgramData\\Anaconda3\\lib\\site-packages\\pandas\\io\\parsers.py\u001b[0m in \u001b[0;36m_read\u001b[1;34m(filepath_or_buffer, kwds)\u001b[0m\n\u001b[0;32m    460\u001b[0m \u001b[1;33m\u001b[0m\u001b[0m\n\u001b[0;32m    461\u001b[0m     \u001b[1;31m# Create the parser.\u001b[0m\u001b[1;33m\u001b[0m\u001b[1;33m\u001b[0m\u001b[1;33m\u001b[0m\u001b[0m\n\u001b[1;32m--> 462\u001b[1;33m     \u001b[0mparser\u001b[0m \u001b[1;33m=\u001b[0m \u001b[0mTextFileReader\u001b[0m\u001b[1;33m(\u001b[0m\u001b[0mfilepath_or_buffer\u001b[0m\u001b[1;33m,\u001b[0m \u001b[1;33m**\u001b[0m\u001b[0mkwds\u001b[0m\u001b[1;33m)\u001b[0m\u001b[1;33m\u001b[0m\u001b[1;33m\u001b[0m\u001b[0m\n\u001b[0m\u001b[0;32m    463\u001b[0m \u001b[1;33m\u001b[0m\u001b[0m\n\u001b[0;32m    464\u001b[0m     \u001b[1;32mif\u001b[0m \u001b[0mchunksize\u001b[0m \u001b[1;32mor\u001b[0m \u001b[0miterator\u001b[0m\u001b[1;33m:\u001b[0m\u001b[1;33m\u001b[0m\u001b[1;33m\u001b[0m\u001b[0m\n",
      "\u001b[1;32mC:\\ProgramData\\Anaconda3\\lib\\site-packages\\pandas\\io\\parsers.py\u001b[0m in \u001b[0;36m__init__\u001b[1;34m(self, f, engine, **kwds)\u001b[0m\n\u001b[0;32m    817\u001b[0m             \u001b[0mself\u001b[0m\u001b[1;33m.\u001b[0m\u001b[0moptions\u001b[0m\u001b[1;33m[\u001b[0m\u001b[1;34m\"has_index_names\"\u001b[0m\u001b[1;33m]\u001b[0m \u001b[1;33m=\u001b[0m \u001b[0mkwds\u001b[0m\u001b[1;33m[\u001b[0m\u001b[1;34m\"has_index_names\"\u001b[0m\u001b[1;33m]\u001b[0m\u001b[1;33m\u001b[0m\u001b[1;33m\u001b[0m\u001b[0m\n\u001b[0;32m    818\u001b[0m \u001b[1;33m\u001b[0m\u001b[0m\n\u001b[1;32m--> 819\u001b[1;33m         \u001b[0mself\u001b[0m\u001b[1;33m.\u001b[0m\u001b[0m_engine\u001b[0m \u001b[1;33m=\u001b[0m \u001b[0mself\u001b[0m\u001b[1;33m.\u001b[0m\u001b[0m_make_engine\u001b[0m\u001b[1;33m(\u001b[0m\u001b[0mself\u001b[0m\u001b[1;33m.\u001b[0m\u001b[0mengine\u001b[0m\u001b[1;33m)\u001b[0m\u001b[1;33m\u001b[0m\u001b[1;33m\u001b[0m\u001b[0m\n\u001b[0m\u001b[0;32m    820\u001b[0m \u001b[1;33m\u001b[0m\u001b[0m\n\u001b[0;32m    821\u001b[0m     \u001b[1;32mdef\u001b[0m \u001b[0mclose\u001b[0m\u001b[1;33m(\u001b[0m\u001b[0mself\u001b[0m\u001b[1;33m)\u001b[0m\u001b[1;33m:\u001b[0m\u001b[1;33m\u001b[0m\u001b[1;33m\u001b[0m\u001b[0m\n",
      "\u001b[1;32mC:\\ProgramData\\Anaconda3\\lib\\site-packages\\pandas\\io\\parsers.py\u001b[0m in \u001b[0;36m_make_engine\u001b[1;34m(self, engine)\u001b[0m\n\u001b[0;32m   1048\u001b[0m             )\n\u001b[0;32m   1049\u001b[0m         \u001b[1;31m# error: Too many arguments for \"ParserBase\"\u001b[0m\u001b[1;33m\u001b[0m\u001b[1;33m\u001b[0m\u001b[1;33m\u001b[0m\u001b[0m\n\u001b[1;32m-> 1050\u001b[1;33m         \u001b[1;32mreturn\u001b[0m \u001b[0mmapping\u001b[0m\u001b[1;33m[\u001b[0m\u001b[0mengine\u001b[0m\u001b[1;33m]\u001b[0m\u001b[1;33m(\u001b[0m\u001b[0mself\u001b[0m\u001b[1;33m.\u001b[0m\u001b[0mf\u001b[0m\u001b[1;33m,\u001b[0m \u001b[1;33m**\u001b[0m\u001b[0mself\u001b[0m\u001b[1;33m.\u001b[0m\u001b[0moptions\u001b[0m\u001b[1;33m)\u001b[0m  \u001b[1;31m# type: ignore[call-arg]\u001b[0m\u001b[1;33m\u001b[0m\u001b[1;33m\u001b[0m\u001b[0m\n\u001b[0m\u001b[0;32m   1051\u001b[0m \u001b[1;33m\u001b[0m\u001b[0m\n\u001b[0;32m   1052\u001b[0m     \u001b[1;32mdef\u001b[0m \u001b[0m_failover_to_python\u001b[0m\u001b[1;33m(\u001b[0m\u001b[0mself\u001b[0m\u001b[1;33m)\u001b[0m\u001b[1;33m:\u001b[0m\u001b[1;33m\u001b[0m\u001b[1;33m\u001b[0m\u001b[0m\n",
      "\u001b[1;32mC:\\ProgramData\\Anaconda3\\lib\\site-packages\\pandas\\io\\parsers.py\u001b[0m in \u001b[0;36m__init__\u001b[1;34m(self, src, **kwds)\u001b[0m\n\u001b[0;32m   1865\u001b[0m \u001b[1;33m\u001b[0m\u001b[0m\n\u001b[0;32m   1866\u001b[0m         \u001b[1;31m# open handles\u001b[0m\u001b[1;33m\u001b[0m\u001b[1;33m\u001b[0m\u001b[1;33m\u001b[0m\u001b[0m\n\u001b[1;32m-> 1867\u001b[1;33m         \u001b[0mself\u001b[0m\u001b[1;33m.\u001b[0m\u001b[0m_open_handles\u001b[0m\u001b[1;33m(\u001b[0m\u001b[0msrc\u001b[0m\u001b[1;33m,\u001b[0m \u001b[0mkwds\u001b[0m\u001b[1;33m)\u001b[0m\u001b[1;33m\u001b[0m\u001b[1;33m\u001b[0m\u001b[0m\n\u001b[0m\u001b[0;32m   1868\u001b[0m         \u001b[1;32massert\u001b[0m \u001b[0mself\u001b[0m\u001b[1;33m.\u001b[0m\u001b[0mhandles\u001b[0m \u001b[1;32mis\u001b[0m \u001b[1;32mnot\u001b[0m \u001b[1;32mNone\u001b[0m\u001b[1;33m\u001b[0m\u001b[1;33m\u001b[0m\u001b[0m\n\u001b[0;32m   1869\u001b[0m         \u001b[1;32mfor\u001b[0m \u001b[0mkey\u001b[0m \u001b[1;32min\u001b[0m \u001b[1;33m(\u001b[0m\u001b[1;34m\"storage_options\"\u001b[0m\u001b[1;33m,\u001b[0m \u001b[1;34m\"encoding\"\u001b[0m\u001b[1;33m,\u001b[0m \u001b[1;34m\"memory_map\"\u001b[0m\u001b[1;33m,\u001b[0m \u001b[1;34m\"compression\"\u001b[0m\u001b[1;33m)\u001b[0m\u001b[1;33m:\u001b[0m\u001b[1;33m\u001b[0m\u001b[1;33m\u001b[0m\u001b[0m\n",
      "\u001b[1;32mC:\\ProgramData\\Anaconda3\\lib\\site-packages\\pandas\\io\\parsers.py\u001b[0m in \u001b[0;36m_open_handles\u001b[1;34m(self, src, kwds)\u001b[0m\n\u001b[0;32m   1360\u001b[0m         \u001b[0mLet\u001b[0m \u001b[0mthe\u001b[0m \u001b[0mreaders\u001b[0m \u001b[0mopen\u001b[0m \u001b[0mIOHanldes\u001b[0m \u001b[0mafter\u001b[0m \u001b[0mthey\u001b[0m \u001b[0mare\u001b[0m \u001b[0mdone\u001b[0m \u001b[1;32mwith\u001b[0m \u001b[0mtheir\u001b[0m \u001b[0mpotential\u001b[0m \u001b[0mraises\u001b[0m\u001b[1;33m.\u001b[0m\u001b[1;33m\u001b[0m\u001b[1;33m\u001b[0m\u001b[0m\n\u001b[0;32m   1361\u001b[0m         \"\"\"\n\u001b[1;32m-> 1362\u001b[1;33m         self.handles = get_handle(\n\u001b[0m\u001b[0;32m   1363\u001b[0m             \u001b[0msrc\u001b[0m\u001b[1;33m,\u001b[0m\u001b[1;33m\u001b[0m\u001b[1;33m\u001b[0m\u001b[0m\n\u001b[0;32m   1364\u001b[0m             \u001b[1;34m\"r\"\u001b[0m\u001b[1;33m,\u001b[0m\u001b[1;33m\u001b[0m\u001b[1;33m\u001b[0m\u001b[0m\n",
      "\u001b[1;32mC:\\ProgramData\\Anaconda3\\lib\\site-packages\\pandas\\io\\common.py\u001b[0m in \u001b[0;36mget_handle\u001b[1;34m(path_or_buf, mode, encoding, compression, memory_map, is_text, errors, storage_options)\u001b[0m\n\u001b[0;32m    640\u001b[0m                 \u001b[0merrors\u001b[0m \u001b[1;33m=\u001b[0m \u001b[1;34m\"replace\"\u001b[0m\u001b[1;33m\u001b[0m\u001b[1;33m\u001b[0m\u001b[0m\n\u001b[0;32m    641\u001b[0m             \u001b[1;31m# Encoding\u001b[0m\u001b[1;33m\u001b[0m\u001b[1;33m\u001b[0m\u001b[1;33m\u001b[0m\u001b[0m\n\u001b[1;32m--> 642\u001b[1;33m             handle = open(\n\u001b[0m\u001b[0;32m    643\u001b[0m                 \u001b[0mhandle\u001b[0m\u001b[1;33m,\u001b[0m\u001b[1;33m\u001b[0m\u001b[1;33m\u001b[0m\u001b[0m\n\u001b[0;32m    644\u001b[0m                 \u001b[0mioargs\u001b[0m\u001b[1;33m.\u001b[0m\u001b[0mmode\u001b[0m\u001b[1;33m,\u001b[0m\u001b[1;33m\u001b[0m\u001b[1;33m\u001b[0m\u001b[0m\n",
      "\u001b[1;31mFileNotFoundError\u001b[0m: [Errno 2] No such file or directory: 'titanic.csv'"
     ]
    }
   ],
   "source": [
    "csv_path = \"titanic.csv\"\n",
    "df = pd.read_csv(csv_path)  \n",
    "df"
   ]
  },
  {
   "cell_type": "markdown",
   "id": "fee77095",
   "metadata": {},
   "source": [
    "Die Daten von 1309 Reisenden wurden eingelesen und liefern folgende Informationen:  \n",
    "- Die `PassengerId` nummeriert alle Reisenden durch.\n",
    "- Das Merkmal `Survived` = 'Überlebt' gibt uns an, ob die Reisenden überlebt haben oder nicht. Dabei bedeutet  0 = nicht überlebt, 1 = überlebt.\n",
    "- `Pclass` steht für die Ticketklasse. Es gab drei Klassen: 1, 2 und 3.\n",
    "- `Name` enthält die vollständigen Namen der Reisenden.\n",
    "- `Sex` = 'Geschlecht' gibt an, ob die Reisenden männlich oder weiblich waren.\n",
    "- `Age` = 'Alter' ist das Alter der Reisenden zu Beginn der Reise.\n",
    "- `SibSp` = 'Siblings/Spouses' = 'Geschwister/Ehepartner' zeigt an, wie viele Geschwister oder Ehepartner der Reisenden sich mit an Bord befanden.\n",
    "- `Parch` = 'Parents/Children' = 'Eltern/Kinder' informiert uns darüber, wie viele Elternteile oder Kinder der Reisenden sich mit an Bord befanden.\n",
    "- `Ticket` gibt die Ticketnummer der Reisenden an.\n",
    "- `Fare` = 'Fahrpreis' ist der Fahrpreis, der von den Reisenden für die Überfahrt bezahlt wurde.\n",
    "- `Cabin` = 'Kabine' enthält die Kabinennummer der Reisenden.\n",
    "- `Embarked` = 'Eingeschifft' gibt den Ort an, an dem die Reisenden zugestiegen sind. Möglich sind C = Cherbourg, Q=Queenstown und S = Southampton."
   ]
  },
  {
   "cell_type": "markdown",
   "id": "8b48968d",
   "metadata": {},
   "source": [
    "Eine genaue Betrachtung der Tabelle zeigt, dass nicht alle Felder ausgefüllt sind. Es gibt zum Beispiel in Zeile 0 bei `Cabin` den Eintrag `NaN` = 'Not a number' (keine Zahl). Um Mehr Informationen über den Datensatz zu gewinnen, kann der folgende Befehl eingesetzt werden: "
   ]
  },
  {
   "cell_type": "code",
   "execution_count": null,
   "id": "2a420245",
   "metadata": {},
   "outputs": [],
   "source": [
    "df.info()"
   ]
  },
  {
   "cell_type": "markdown",
   "id": "177b288c",
   "metadata": {},
   "source": [
    "Folgendes kann beobachtet werden:\n",
    "- Der Datensatz enthält 1309 Einträge. \n",
    "- In der Spalte `Non-Null Count` = 'Nicht-Null Anzahl' wird angezeigt, wie viele dieser Einträge jeweils gefüllt sind. Beispielsweise haben `PassengerId` und `Survived` Einträge in allen Zeilen, während bei `Age` nur 1046 Felder gefüllt sind und in `Cabin` sogar nur 295.  \n",
    "- Die Spalte `Dtype` gibt an, als welcher Datentyp die Spalte gespeichert ist."
   ]
  },
  {
   "cell_type": "markdown",
   "id": "d8ba4385",
   "metadata": {},
   "source": [
    "#### Visualisierung"
   ]
  },
  {
   "cell_type": "markdown",
   "id": "875bd9b2",
   "metadata": {},
   "source": [
    "Die Visualisierung eines Datensatzes auf unterschiedlichen Wegen kann sehr hilfreich sein, um mehr Informationen über den Datensatz zu gewinnen. "
   ]
  },
  {
   "cell_type": "code",
   "execution_count": null,
   "id": "50fa0a32",
   "metadata": {},
   "outputs": [],
   "source": [
    "df.hist(figsize=(10,10))\n",
    "plt.show()"
   ]
  },
  {
   "cell_type": "markdown",
   "id": "2bb3edbf",
   "metadata": {},
   "source": [
    "Die einfachen Histogramme zeigen bereits:\n",
    "- 500 der 1300 Reisenden überlebten, das sind ca. 40%. \n",
    "- Etwa 300 Personen reisten jeweils in erster und zweiter Klasse, doppelt so viele reisten in dritter Klasse. \n",
    "- Die meisten Reisenden an Bord waren zwischen 20 und 40 Jahre alt. \n",
    "- Die meisten reisten ohne Angehörige.\n",
    "- Beim Fahrpreis gab es wenige sehr teure Tickets, die Verteilung bei den günstigen Tickets lässt sich auf dieser Grafik nicht weiter erkennen. "
   ]
  },
  {
   "cell_type": "markdown",
   "id": "d8a176a6",
   "metadata": {},
   "source": [
    "An dieser Stelle können geeignete Visualisierungen schon sehr aufschlußreich sein. Ein Beispiel finden Sie im folgenden Arbeitsauftrag:"
   ]
  },
  {
   "cell_type": "markdown",
   "id": "48836b7b",
   "metadata": {},
   "source": [
    "<div class=\"alert alert-block alert-success\">\n",
    "<b>Arbeitsauftrag:</b> \n",
    "\n",
    "Eine Visualisierung des Anteils der Überlebenden zu einem Merkmal, z.B. zur Passagierklasse, könnte erste Hinweise auf ein gutes Modell liefern. Um dies einfach umzusetzen, ist die Bibliothek seaborn und dort der Befehl countplot sehr hilfreich. Schauen Sie in der Dokumentation von searborn nach und versuchen Sie es! Achtung: Am Besten neuen Tab öffnen! \n",
    "\n",
    "Tipp: Binden Sie die Bibliothek `seaborn` mit dem Kürzel `sns`ein und führen Sie im Anschluss den Befehl `sns.countplot(...)` aus. Eingabeparameter sind für `x` die Passagierklasse, für `hue` die Spalte mit dem Merkmal Überleben und für `data` den Datensatz. <br> Durch Ändern von `x='Pclass'` in ein anderes Merkmal können Sie dies auch für andere Merkmale tun. \n",
    "</div>"
   ]
  },
  {
   "cell_type": "code",
   "execution_count": null,
   "id": "7696160c",
   "metadata": {
    "scrolled": true
   },
   "outputs": [],
   "source": [
    "# Platz für Arbeitsauftrag"
   ]
  },
  {
   "cell_type": "markdown",
   "id": "7a41e09b",
   "metadata": {},
   "source": [
    "Aus dieser Darstellung zeigt sich bereits, dass Reisende der untersten Passagierklasse im Vergleich zu den beiden anderen Passagierklassen zu einem geringeren Anteil überlebt haben."
   ]
  },
  {
   "cell_type": "markdown",
   "id": "5787ec6a",
   "metadata": {},
   "source": [
    "<div class=\"alert alert-block alert-warning\">\n",
    "<b>Ergebnissicherung:</b> <br>\n",
    "    - Der Arbeitsbereich Datenverständnis dient dazu, sich einen Überblick über die vorliegenden Daten zu verschaffen. Dabei sollten die Daten in Hinblick auf ihre Eigenschaften und Qualität und die dadurch ggf. auftretenden Probleme für die Aufgabenstellung analysiert werden.\n",
    "</div>"
   ]
  },
  {
   "cell_type": "markdown",
   "id": "5db047ff",
   "metadata": {},
   "source": [
    "<div class=\"alert alert-block alert-info\">\n",
    "<b>Information:</b> <br>\n",
    "    - Mehr Informationen zu Datentypen sind in Modul 1, Video 2 zu finden. <br>\n",
    "    - Mehr Informationen zu Datenverständnis sind in Modul 3, Video 2 zu finden. </div>"
   ]
  },
  {
   "cell_type": "markdown",
   "id": "a383c966",
   "metadata": {},
   "source": [
    "## 3. Datenvorbereitung (Data preparation) <a name=\"kap3\"></a>"
   ]
  },
  {
   "cell_type": "markdown",
   "id": "b4dea0fa",
   "metadata": {},
   "source": [
    "Bei der Datenvorbereitung wird ein Datensatz so weit vorbereitet, dass er anschließend für die Modellierung genutzt werden kann. Dabei sind viele Aspekte zu beachten:\n",
    "- Fehlende Daten werden ergänzt.\n",
    "- Der Datentyp wird überprüft und ggf. geändert.\n",
    "- Es werden die Merkmale ausgewählt, die Einfluss auf die Zielvariable haben. \n",
    "- ..."
   ]
  },
  {
   "cell_type": "code",
   "execution_count": null,
   "id": "641d99f7",
   "metadata": {},
   "outputs": [],
   "source": [
    "df.info()"
   ]
  },
  {
   "cell_type": "markdown",
   "id": "e970a9e0",
   "metadata": {},
   "source": [
    "Offenbar ist der Datensatz nicht vollständig. Eine Ergänzung der fehlenden Daten erscheint, gerade bei dem Merkmal `Cabin` aber schwierig. Dieser Punkt wird zunächst zurückgestellt und dann betrachtet, sobald die Merkmale für die spätere Analyse ausgewählt wurden. \n",
    "\n",
    "Daten mit numerischem Typ können von Python besser analysiert und verarbeitet werden, deshalb sollen zunächst alle Merkmale vom Typ `object` betrachtet werden, um zu sehen, ob sie in Zahlen umgewandelt werden können: \n",
    "\n",
    "- Beim Merkmal Namen ist dies nicht sinnvoll.\n",
    "- Das Merkmal `Sex` könnten durch `male`='männlich' mit 0 und `female`='weiblich' mit 1 umkodiert werden. \n",
    "- Das Merkmal `Ticket` beinhaltet eine unverständliche Buchstaben-Nummern-Kombination und bleibt deswegen unverändert. \n",
    "- Das Merkmal `Cabin` enthält nur wenige Daten und ist deswegen uninteressant. \n",
    "- Das Merkmal `Embarked` könnte mit Hilfe von Zahlen umkodiert werden, wegen des geringen zu erwartenden Einflusses wird dies zunächst nicht durchgeführt. "
   ]
  },
  {
   "cell_type": "code",
   "execution_count": null,
   "id": "fbf5240e",
   "metadata": {},
   "outputs": [],
   "source": [
    "df.loc[df.Sex =='male', 'Sex']=0\n",
    "df.loc[df.Sex =='female', 'Sex']=1"
   ]
  },
  {
   "cell_type": "markdown",
   "id": "d99ff863",
   "metadata": {},
   "source": [
    "Die Änderungen werden durch die Betrachtung der Daten überprüft: "
   ]
  },
  {
   "cell_type": "code",
   "execution_count": null,
   "id": "f79b0642",
   "metadata": {
    "scrolled": true
   },
   "outputs": [],
   "source": [
    "df.head()"
   ]
  },
  {
   "cell_type": "code",
   "execution_count": null,
   "id": "2eb29f95",
   "metadata": {},
   "outputs": [],
   "source": [
    "df.info()"
   ]
  },
  {
   "cell_type": "markdown",
   "id": "33892c2a",
   "metadata": {},
   "source": [
    "Das Geschlecht ist immer noch vom Typ `object`. "
   ]
  },
  {
   "cell_type": "markdown",
   "id": "12f3fd69",
   "metadata": {},
   "source": [
    "<div class=\"alert alert-block alert-success\">\n",
    "<b>Arbeitsauftrag:</b> \n",
    "    \n",
    "Nutzen Sie die Dokumentation von Python oder eine Suchmaschine (Achtung: Am Besten neuen Tab öffnen!) dazu, herauszufinden, wie sich der Datentyp der Spalte `df['Sex']` in `float` umwandeln lässt. Wenden Sie den passenden Befehl anschließend an. \n",
    "    \n",
    "Tipp: Eine Möglichkeit ist in der Pandas Bibliothek zu finden. \n",
    "</div>"
   ]
  },
  {
   "cell_type": "code",
   "execution_count": null,
   "id": "09671b2e",
   "metadata": {},
   "outputs": [],
   "source": [
    "# Platz für Arbeitsauftrag"
   ]
  },
  {
   "cell_type": "markdown",
   "id": "6c91feb9",
   "metadata": {},
   "source": [
    "Die nachfolgende Ausgabe zeigt, dass das Vorgehen erfolgreich war. "
   ]
  },
  {
   "cell_type": "code",
   "execution_count": null,
   "id": "581f3291",
   "metadata": {
    "scrolled": true
   },
   "outputs": [],
   "source": [
    "df.info()"
   ]
  },
  {
   "cell_type": "markdown",
   "id": "6e1f30d4",
   "metadata": {},
   "source": [
    "### 3.1 Aufteilung in Trainings- und Testdatensatz <a name=\"kap31\"></a>"
   ]
  },
  {
   "cell_type": "markdown",
   "id": "fb4381a1",
   "metadata": {},
   "source": [
    "Beim überwachten Lernen wird der Datensatz in Trainings- und Testdatensatz aufgeteilt. Der Testdatensatz soll völlig unabhängig von allen späteren Entscheidungen sein, um damit die Güte der Vorhersage testen können. Daher wird diese Trennung üblicherweise vor der Merkmalsauswahl vorgenommen.\n",
    "\n",
    "Im folgenden Abschnitt wird der Datensatz aufgeteilt. Die Größe des Testdatensatzsatzes soll 30 % betragen (`test_size=0.3`). Mit `random_state=0` wird sichergestellt, dass immer die gleichen 30% Testdaten ausgewählt werden (die Ergebnisse des Modells fallen sonst bei jeder Durchführung etwas anders aus), `stratify` sorgt dafür, dass nach der Teilung in Trainings- und Testmenge die Verteilung in den beiden Mengen der der Ausgangsmenge entspricht, das bedeutet der Anteil der Überlebenden ist in beiden Mengen gleich. \n",
    "\n",
    "An dieser Stelle wird zum ersten Mal die Bibliothek sklearn benutzt. Sie ist die beliebteste Bibliothek für maschinelles Lernen in Python und enthält viele wichtigen Befehle aus diesem Bereich."
   ]
  },
  {
   "cell_type": "code",
   "execution_count": null,
   "id": "6f29c895",
   "metadata": {},
   "outputs": [],
   "source": [
    "from sklearn.model_selection import train_test_split\n",
    "train_set, test_set = train_test_split(df, test_size=0.3, random_state=0, stratify = df['Survived'])\n",
    "print(train_set)"
   ]
  },
  {
   "cell_type": "markdown",
   "id": "32f50e35",
   "metadata": {},
   "source": [
    "<div class=\"alert alert-block alert-info\">\n",
    "<b>Information:</b> <br>\n",
    "    - Mehr Informationen zum Aufteilen von Trainings- und Testdaten sind in Modul 2, Video 1 zu finden.</div>"
   ]
  },
  {
   "cell_type": "markdown",
   "id": "ff39111c",
   "metadata": {},
   "source": [
    "### 3.2 Erste Merkmalsauswahl <a name=\"kap32\"></a>"
   ]
  },
  {
   "cell_type": "markdown",
   "id": "0c443718",
   "metadata": {},
   "source": [
    "Zur Datenvorbereitung gehört die Entscheidung, welche Merkmale für die Modellierung betrachtet werden. So hat beispielsweise der Name der Reisenden offensichtlich keinen Einfluss auf das Überleben.\n",
    "\n",
    "Bei anderen Merkmalen stellt sich die Frage nach dem Einfluss aber:\n",
    "- Hat das Alter der Reisenden Einfluss auf ihren Überlebenswillen?\n",
    "- Haben Reisende mit vielen Angehörigen an Bord sich bemüht, sie zu retten und dabei das eigene Überleben riskiert?\n",
    "- Hat das Geschlecht Einfluss auf das Überleben? Haben sich Männer zuerst in die Rettungsboote gesetzt oder wurde nach dem Grundsatz \"Frauen und Kinder zuerst\" gehandelt?\n",
    "\n",
    "Eine Idee für den Einfluss eines numerischen Merkmals auf ein anderes gibt der Korrelationskoeffizient.\n",
    "Der Korrelationskoeffizient wird zwischen zwei Merkmalen berechnet und sein Wert liegt immer zwischen -1 und 1. Dabei bedeutet ein Wert nahe 0, dass zwei Merkmale sich gegenseitig nicht beeinflussen. Ein positiver Wert bedeutet, dass bei steigenden Werten des einen Merkmals auch die Werte des anderen Merkmals steigen. Je näher der Korrelationskoeffizient an 1 liegt, desto besser lässt sich das Verhältnis anhand einer Geraden mit positiver Steigung darstellen. Ein negativer Korrelationskoeffizient sagt aus, dass bei steigenden Werten des einen Merkmals die Werte des anderen Merkmals fallen. Je näher der Wert an -1 liegt, desto besser lässt sich das Verhältnis anhand einer Geraden mit negativer Steigung darstellen.\n",
    "\n",
    "Ein Überblick über die Korrelationskoeffizienten lässt sich mit einem einfachen Befehl erzeugen. "
   ]
  },
  {
   "cell_type": "code",
   "execution_count": null,
   "id": "bdb564b9",
   "metadata": {},
   "outputs": [],
   "source": [
    "import seaborn as sns\n",
    "corr_matrix = train_set.corr()\n",
    "plt.figure(figsize=(7, 5))\n",
    "sns.heatmap(corr_matrix, annot=True, vmin=-1, vmax=1)\n",
    "plt.show()"
   ]
  },
  {
   "cell_type": "markdown",
   "id": "4ccbfd32",
   "metadata": {},
   "source": [
    "Den betragsmäßig größten Korrelationskoeffizienten mit dem Zielmerkmal `Survived` hat das Geschlecht (0.68), dann folgt die Passagierklasse (-0,26) und die Anzahl der Eltern/Kinder (0,08). Alle anderen Merkmale weisen eine betragsmäßige Korellation <0,05 auf, sodass hier nicht mehr von einem Einfluss auf `Survived` gesprochen werden kann. \n",
    "\n",
    "Zunächst werden für die Modellierung deswegen ausschließlich diese beiden Merkmale und natürlich `Survived` betrachtet. Die Auswahl wird im nächsten Schritt durchgeführt, das Zielmerkmal wird als `y` (abhängige Variable), die Menge aus Geschlecht und Passagierklasse als `X` (unabhängige Variable) gespeichert: "
   ]
  },
  {
   "cell_type": "code",
   "execution_count": null,
   "id": "aafd9e0c",
   "metadata": {},
   "outputs": [],
   "source": [
    "X_train=train_set[['Sex', 'Pclass']]\n",
    "X_train.info()\n",
    "y_train=train_set[['Survived']]\n",
    "\n",
    "X_test=test_set[['Sex', 'Pclass']]\n",
    "X_test.info()\n",
    "y_test=test_set[['Survived']]"
   ]
  },
  {
   "cell_type": "markdown",
   "id": "9011aeba",
   "metadata": {},
   "source": [
    "Die Ansicht zeigt, dass bezüglich der ausgewählten Merkmale keine `NaN` Einträge vorhanden sind, deshalb kann mit der Modellierung begonnen werden. "
   ]
  },
  {
   "cell_type": "markdown",
   "id": "4309c63e",
   "metadata": {},
   "source": [
    "<div class=\"alert alert-block alert-warning\">\n",
    "<b>Ergebnissicherung:</b> <br>\n",
    "    - Der Arbeitsbereich Datenvorbereitung dient dazu, den Datensatz so zu bereinigen und vorzubereiten, dass mit diesem die Modellierung vorgenommen werden kann.\n",
    "</div>"
   ]
  },
  {
   "cell_type": "markdown",
   "id": "3b2e1cbe",
   "metadata": {},
   "source": [
    "<div class=\"alert alert-block alert-info\">\n",
    "<b>Information:</b> <br>\n",
    "    - Mehr Informationen zur Datenvorbereitung sind in Modul 3, Video 2 zu finden. </div>"
   ]
  },
  {
   "cell_type": "markdown",
   "id": "b1158978",
   "metadata": {},
   "source": [
    "## 4. Modellierung <a name=\"kap4\"></a>"
   ]
  },
  {
   "cell_type": "markdown",
   "id": "fd8fa8d9",
   "metadata": {},
   "source": [
    "Nun wird mit Hilfe der ausgewählten Merkmale aus den Trainingsdaten ein Modell zur Vorhersage des Überlebens der Reisenden erstellt. Das Modell, welches hier genutzt wird, ist ein Entscheidungsbaum (Decision Tree). \n",
    "\n",
    "Die folgende Zelle importiert das Modul zur Nutzung von Entscheidungbäumen und iniziiert dann einen Baum mit Tiefe 2 (`max_depth = 2`), es dürfen also zwei Unterscheidungsebenen erstellt werden."
   ]
  },
  {
   "cell_type": "code",
   "execution_count": null,
   "id": "4f8d1873",
   "metadata": {},
   "outputs": [],
   "source": [
    "from sklearn.tree import DecisionTreeClassifier\n",
    "tree_clf = DecisionTreeClassifier(max_depth = 2)\n",
    "tree_clf.fit(X_train, y_train)"
   ]
  },
  {
   "cell_type": "code",
   "execution_count": null,
   "id": "4c6e230b",
   "metadata": {},
   "outputs": [],
   "source": [
    "tree_clf.predict([[1,3]])"
   ]
  },
  {
   "cell_type": "markdown",
   "id": "f2b0b54f",
   "metadata": {},
   "source": [
    "Um das Modell zu visualisieren, wird mit dem folgenden Befehl der entstandene Baum ausgegeben."
   ]
  },
  {
   "cell_type": "code",
   "execution_count": null,
   "id": "ff5cc670",
   "metadata": {},
   "outputs": [],
   "source": [
    "from sklearn import tree\n",
    "tree.plot_tree(tree_clf, feature_names = X_train.columns, class_names=['not-Survived', 'Survived'], filled=True); "
   ]
  },
  {
   "cell_type": "markdown",
   "id": "289fa6b2",
   "metadata": {},
   "source": [
    "Das erste Modell wurde erfolgreich erzeugt. Die Visualisierung zeigt eine Entscheidung auf zwei Entscheidungsebenen, die erste nach dem Geschlecht, die zweite nach der Passagierklasse. Die Ausgabe (und Farbe) auf der untersten Ebene zeigt jedoch, dass in dem entstanden Modell alleine die Information über das Geschlecht des Reisenden einen Einfluss hat. "
   ]
  },
  {
   "cell_type": "markdown",
   "id": "e59f6e4c",
   "metadata": {},
   "source": [
    "<div class=\"alert alert-block alert-info\">\n",
    "<b>Information:</b> <br>\n",
    "    - Mehr Informationen zur Interpretation der Grafik sind in Modul 2, Video 2 zu finden <br>\n",
    "    - Mehr Informationen zu unterschiedlichen Modellen sind in den Modulen 4 bis 7 zu finden. </div>"
   ]
  },
  {
   "cell_type": "markdown",
   "id": "22e999fb",
   "metadata": {},
   "source": [
    "<div class=\"alert alert-block alert-warning\">\n",
    "<b>Ergebnissicherung:</b> <br>\n",
    "    - Der Arbeitsbereich Modellierung dient dazu, die für den Datensatz geeigneten Methoden des Data Minings zu ermitteln und anzuwenden. Dabei werden die Parameter der Modelle optimiert und häufig verschiedene Modell erstellt und verglichen.\n",
    "</div>"
   ]
  },
  {
   "cell_type": "markdown",
   "id": "1995dc51",
   "metadata": {},
   "source": [
    "### 4.1 Modellgüte <a name=\"kap41\"></a>"
   ]
  },
  {
   "cell_type": "markdown",
   "id": "9181ea61",
   "metadata": {},
   "source": [
    "Ein erster Ansatz, um die Güte eines Modells einzuschätzen, ist die Trefferquote des Ziel-Merkmals bezüglich der Trainingsdaten und bezüglich der Testdaten. Dies wird in der folgenden Zelle berechnet:"
   ]
  },
  {
   "cell_type": "code",
   "execution_count": null,
   "id": "a6188180",
   "metadata": {},
   "outputs": [],
   "source": [
    "print(tree_clf.score(X_train, y_train))\n",
    "print(tree_clf.score(X_test, y_test))"
   ]
  },
  {
   "cell_type": "markdown",
   "id": "8ce7cc12",
   "metadata": {},
   "source": [
    "Für die Trainingsdaten sind 85,26 % der Vorhersagen richtig, für die Testdaten sogar 86,01 %. Gar nicht schlecht!"
   ]
  },
  {
   "cell_type": "markdown",
   "id": "5f4f8afe",
   "metadata": {},
   "source": [
    "<div class=\"alert alert-block alert-success\">\n",
    "<b>Arbeitsauftrag:</b>\n",
    "    \n",
    "Eine weitere Möglichkeit, die Güte eines Modells zu überprüfen ist die Konfusionsmatrix. Um diese zu nutzen, ist Funktion `confusion_matrix` aus dem metrics Modul sehr hilfreich. Schauen Sie in der Dokumentation von sklearn nach und versuchen Sie es! (Achtung: Am Besten neuen Tab öffnen!)\n",
    "\n",
    "Tipp: Importieren Sie aus der Bibliothek `sklearn` das Modul `metrics` und nutzen Sie dann den Befehl `metrics.confusion_matrix(...)` mit der durch das Modell ermittelten Klasse und der tatsächlichen Klasse als Eingabeparametern.<br>\n",
    "    \n",
    "Frage: Was könnten die Einträge der ausgegebenen Matrix bedeuten?   \n",
    "</div>"
   ]
  },
  {
   "cell_type": "code",
   "execution_count": 3,
   "id": "bc4fe918",
   "metadata": {},
   "outputs": [
    {
     "ename": "NameError",
     "evalue": "name 'y_test' is not defined",
     "output_type": "error",
     "traceback": [
      "\u001b[1;31m---------------------------------------------------------------------------\u001b[0m",
      "\u001b[1;31mNameError\u001b[0m                                 Traceback (most recent call last)",
      "\u001b[1;32m<ipython-input-3-32a6c2b52ab8>\u001b[0m in \u001b[0;36m<module>\u001b[1;34m\u001b[0m\n\u001b[0;32m      1\u001b[0m \u001b[1;32mfrom\u001b[0m \u001b[0msklearn\u001b[0m \u001b[1;32mimport\u001b[0m \u001b[0mmetrics\u001b[0m\u001b[1;33m\u001b[0m\u001b[1;33m\u001b[0m\u001b[0m\n\u001b[1;32m----> 2\u001b[1;33m \u001b[0mprint\u001b[0m\u001b[1;33m(\u001b[0m\u001b[0mmetrics\u001b[0m\u001b[1;33m.\u001b[0m\u001b[0mconfusion_matrix\u001b[0m\u001b[1;33m(\u001b[0m\u001b[0my_test\u001b[0m\u001b[1;33m,\u001b[0m \u001b[0mtree_clf\u001b[0m\u001b[1;33m.\u001b[0m\u001b[0mpredict\u001b[0m\u001b[1;33m(\u001b[0m\u001b[0mX_test\u001b[0m\u001b[1;33m)\u001b[0m\u001b[1;33m)\u001b[0m\u001b[1;33m)\u001b[0m\u001b[1;33m\u001b[0m\u001b[1;33m\u001b[0m\u001b[0m\n\u001b[0m",
      "\u001b[1;31mNameError\u001b[0m: name 'y_test' is not defined"
     ]
    }
   ],
   "source": [
    "from sklearn import metrics\n",
    "print(metrics.confusion_matrix(y_test, tree_clf.predict(X_test)))"
   ]
  },
  {
   "cell_type": "markdown",
   "id": "d6c68b29",
   "metadata": {},
   "source": [
    "Die Konfusionsmatrix gibt uns genauer Erkenntnisse über die Art der falschen Vorhersagen:\n",
    "\n",
    "- In 220 Fällen wurde das Nichtüberleben vorhergesagt und es ist auch so eingetreten.\n",
    "- In 30 Fällen wurde das Nichtüberleben vorhergesagt, in Wahrheit ist es der reisenden Person aber geglückt.\n",
    "- In 25 Fällen wurde das Überleben vorhergesagt, in Wahrheit hat die reisende Person aber nicht überlebt.\n",
    "- In 118 Fällen wurde das Überleben vorhergesagt und es ist auch so eingetreten. "
   ]
  },
  {
   "cell_type": "markdown",
   "id": "1425d630",
   "metadata": {},
   "source": [
    "Das erste Modell könnte nun herausgegeben werden, es ist aber sinnvoller, noch einmal die vorhergehenden Schritte durchzugehen und zu überlegen, ob es mit einem neuen Durchlauf noch verbessert werden kann.\n"
   ]
  },
  {
   "cell_type": "markdown",
   "id": "bea84c53",
   "metadata": {},
   "source": [
    "<div class=\"alert alert-block alert-info\">\n",
    "<b>Information:</b> <br>\n",
    "    - Mehr Informationen zur Modellvalidierung sind Modul 5, Video 2 zu finden. </div>"
   ]
  },
  {
   "cell_type": "markdown",
   "id": "0ea79034",
   "metadata": {},
   "source": [
    "<div class=\"alert alert-block alert-warning\">\n",
    "<b>Ergebnissicherung:</b> <br>\n",
    "    - Der Arbeitsbereich Evaluation dient dazu, die erstellten Modelle qualitativ zu bewerten, diese mit der Aufgabenstellung abzugleichen und das beste Modell auszuwählen.\n",
    "</div>"
   ]
  },
  {
   "cell_type": "markdown",
   "id": "809716b8",
   "metadata": {},
   "source": [
    "### 4.2 Iteration zu den vorhergehenden Schritten <a name=\"kap42\"></a>"
   ]
  },
  {
   "cell_type": "markdown",
   "id": "3a980f52",
   "metadata": {},
   "source": [
    "Bei diesem Schritt handelt es sich nicht um einen eigenen Arbeitsbereich, sondern vielmehr um die systematische Wiederholung der vorhergehenden Arbeitsbereiche für eine potentielle Verbesserung des Modells, beispielsweise anhand folgender Fragen: \n",
    "- Sollte versucht werden, fehlende Werte durch geschätzte Werte zu ersetzen, um nicht so viele Daten herauslöschen zu müssen?\n",
    "- Können andere oder mehr Merkmale verwendet werden, um das Modell zu erstellen? \n",
    "- Kann eine Veränderung der Modellparameter zu einem verbesserten Modell führen? \n",
    "\n",
    "In diesem Fall werden die folgenden Schritte ausporbiert:\n",
    "- In `Age` und `Fare` werden die fehlenden Werte durch Mittelwerte ersetzt. \n",
    "- Es werden zusätzlich die Merkmale `Parch`, `Age` und `Fare` für die Modellierung betrachtet.\n",
    "- Der Entscheidungsbaum darf sich bis zu einer Tiefe von 3 aufbauen. "
   ]
  },
  {
   "cell_type": "code",
   "execution_count": null,
   "id": "e80bf005",
   "metadata": {},
   "outputs": [],
   "source": [
    "df.loc[df['Age'].isnull(), 'Age'] = df['Age'].mean()\n",
    "df.loc[df['Fare'].isnull(), 'Fare'] = df['Fare'].mean()"
   ]
  },
  {
   "cell_type": "code",
   "execution_count": null,
   "id": "408e0825",
   "metadata": {},
   "outputs": [],
   "source": [
    "train_set, test_set = train_test_split(df, test_size=0.3, random_state=0, stratify = df['Survived'])\n",
    "X_train=train_set[['Sex', 'Pclass', 'Parch', 'Age', 'Fare']]\n",
    "y_train=train_set[['Survived']]\n",
    "\n",
    "X_test=test_set[['Sex', 'Pclass', 'Parch', 'Age', 'Fare']]\n",
    "y_test=test_set[['Survived']]"
   ]
  },
  {
   "cell_type": "code",
   "execution_count": null,
   "id": "16c931d7",
   "metadata": {},
   "outputs": [],
   "source": [
    "tree_clf = DecisionTreeClassifier(max_depth = 3)  \n",
    "tree_clf.fit(X_train, y_train)"
   ]
  },
  {
   "cell_type": "code",
   "execution_count": null,
   "id": "22770622",
   "metadata": {},
   "outputs": [],
   "source": [
    "tree.plot_tree(tree_clf, feature_names = X_train.columns, class_names=True, filled=True);"
   ]
  },
  {
   "cell_type": "code",
   "execution_count": null,
   "id": "46f5e9ec",
   "metadata": {},
   "outputs": [],
   "source": [
    "print(tree_clf.score(X_train, y_train))\n",
    "print(tree_clf.score(X_test, y_test))"
   ]
  },
  {
   "cell_type": "markdown",
   "id": "5818b33f",
   "metadata": {},
   "source": [
    "Das Modell hat sich durch diese Schritte ein wenig verbessert: Statt einer Korrektklassifikationsrate von 86,01 % auf den Testdatensatz wird nun ein Wert von 86,51% erreicht und anders als in unserem ersten Modell wird das Überleben nicht mehr allein auf Basis das Geschlechts entschieden. \n",
    "\n",
    "Es kann beobachtet werden, dass sich ein Modell nicht durch schlichtes Ausprobieren optimieren lässt."
   ]
  },
  {
   "cell_type": "markdown",
   "id": "d37450ad",
   "metadata": {},
   "source": [
    "<div class=\"alert alert-block alert-info\">\n",
    "<b>Information:</b> <br>\n",
    "    - Mehr Informationen zur Interpretation der Grafik sind in Modul 3, Video 1 zu finden.</div>"
   ]
  },
  {
   "cell_type": "markdown",
   "id": "38681941",
   "metadata": {},
   "source": [
    "<div class=\"alert alert-block alert-success\">\n",
    "<b>Arbeitsauftrag:</b> \n",
    "\n",
    "Nutzen Sie die nachfolgend vorgegebenen Bausteine, um mit der Auswahl der Merkmale und der Tiefe des Baums zu experimentieren, indem Sie die Bausteine einkommentieren und mit Parametern befüllen. <br>\n",
    "</div>"
   ]
  },
  {
   "cell_type": "code",
   "execution_count": null,
   "id": "fbcc74a8",
   "metadata": {},
   "outputs": [],
   "source": [
    "# Baustein zum Trennen von Trainingsdaten und Testdaten\n",
    "# train_set, test_set = train_test_split(df, test_size=0.3, random_state=0, stratify = df['Survived'])\n",
    "# X_train=train_set[[ ]]\n",
    "# y_train=train_set[['Survived']]\n",
    "# X_train.info()\n",
    "\n",
    "# X_test=test_set[[ ]]\n",
    "# X_test.info()\n",
    "# y_test=test_set[['Survived']]"
   ]
  },
  {
   "cell_type": "code",
   "execution_count": null,
   "id": "c581b036",
   "metadata": {},
   "outputs": [],
   "source": [
    "# Baustein zum Fitten und Ausgeben des Modells und seiner Güte\n",
    "#tree_clf_v2 = DecisionTreeClassifier(max_depth = 3)  \n",
    "#tree_clf_v2.fit(X_train, y_train)\n",
    "#tree.plot_tree(tree_clf_v2, feature_names = X_train.columns, class_names=True, filled=True) \n",
    "#print(tree_clf_v2.score(X_train, y_train))\n",
    "#print(tree_clf_v2.score(X_test, y_test))"
   ]
  },
  {
   "cell_type": "markdown",
   "id": "96c74994",
   "metadata": {},
   "source": [
    "## 5. Evaluation <a name=\"kap5\"></a>"
   ]
  },
  {
   "cell_type": "markdown",
   "id": "59536f32",
   "metadata": {},
   "source": [
    "Die Evaluation führt zurück zur ursprünglichen Aufgabenstellung:"
   ]
  },
  {
   "cell_type": "markdown",
   "id": "8dd561f3",
   "metadata": {},
   "source": [
    "<hr style=\"border:4px solid lightblue\"> </hr> \n",
    "\n",
    "Für das Titanic VR-Erlebnis soll nun das erstellte Vorhersagemodell eingesetzt werden.  \n",
    "Führen Sie die Zellen aus und tragen Sie beliebige Werte in die angezeigten Felder ein, um Ihr Vorhersagemodell zu testen!  \n",
    "\n",
    "<b>Hätten Sie auf der Titanic überlebt?</b>\n",
    "\n",
    "<hr style=\"border:4px solid lightblue\"> </hr> "
   ]
  },
  {
   "cell_type": "code",
   "execution_count": null,
   "id": "f918566c",
   "metadata": {},
   "outputs": [],
   "source": [
    "from IPython.display import display \n",
    "import ipywidgets as widgets \n",
    "from ipywidgets import interact, Layout "
   ]
  },
  {
   "cell_type": "code",
   "execution_count": null,
   "id": "0bb1ae9d",
   "metadata": {
    "scrolled": true
   },
   "outputs": [],
   "source": [
    "style = {'description_width': 'initial'}\n",
    "\n",
    "# Dropdown-Widget für Geschlecht\n",
    "dd1 = widgets.Dropdown(options=['Weiblich', 'Männlich'], value='Weiblich', description='Geschlecht: ');display(dd1);\n",
    "\n",
    "# Dropdown-Widget für Passagierklasse\n",
    "dd2 = widgets.Dropdown(options=[1, 2, 3], value=1, description='Passagierklasse: ', style=style);display(dd2);\n",
    "\n",
    "# IntSlider-Widget für Anzahl Eltern/Kinder \n",
    "is1 = widgets.IntSlider(value=0,min=0, max=10, step=1, description='Anzahl Verwandter an Bord: ', style=style);display(is1); \n",
    "\n",
    "# Text-Eingabefeld für Alter \n",
    "tb1 = widgets.Text(value='40', description='Alter: ');display(tb1); \n",
    "\n",
    "# IntSlider-Widget für Tickepres \n",
    "is2 = widgets.Text(value='0', description='Ticketpreis: ');display(is2); "
   ]
  },
  {
   "cell_type": "code",
   "execution_count": null,
   "id": "3465428c",
   "metadata": {},
   "outputs": [],
   "source": [
    "# AUSGABE: Überlebt oder nicht überlebt?\n",
    "\n",
    "s = dd1.value\n",
    "if s == 'Männlich': s = 0\n",
    "else: s =1\n",
    "\n",
    "df_user = pd.DataFrame([[s, dd2.value, is1.value, int(tb1.value), is2.value]])\n",
    "\n",
    "if tree_clf.predict(df_user) == 1: print('Sie hätten auf der Titanic überlebt!') \n",
    "    # Hier wird das oben erstellte Modell tree_clf für die Vorhersage benutzt\n",
    "else: print('Sie hätten auf der Titanic leider nicht überlebt!')"
   ]
  },
  {
   "cell_type": "markdown",
   "id": "0714bbdf",
   "metadata": {},
   "source": [
    "<div class=\"alert alert-block alert-success\">\n",
    "<b>Arbeitsauftrag:</b> \n",
    "    \n",
    "Ändern Sie die Eingabeparameter auf Ihre eigenen Daten und führen Sie anschließend die darunter liegende Zelle erneut aus.<br>\n",
    "Variieren Sie anschließend die Parameter mehrmals und führen die Zelle aus. Was fällt Ihnen auf?<br>\n",
    "</div> "
   ]
  },
  {
   "cell_type": "markdown",
   "id": "fa79758d",
   "metadata": {},
   "source": [
    "Werden die Eingabeparameter geändert so fällt auf, dass sich die Entscheidung, ob ein Charakter überlebt oder nicht, auf der obersten Stufe am Geschlecht orientiert. Während bei Auswal von _Weiblich_ noch weitere Parameter über das Überleben entscheiden, wird bei Auswahl von _Männlich_ immer ein Nichtüberleben vorhergesagt. Tatsächlich überlebten nur etwa ein Fünftel der Männer, während drei Viertel der Frauen überlebten. Das Modell ist jedoch für das VR-Erlebnis nicht geeignet, da in der Simulation abgebildet werden soll, dass auch Männer das Unglück überlebt haben.\n",
    "Um den Sachverhalt besser darstellen zu können ist also ein besseres Modell nötig. Zellen, die fehlende Einträge enthielten, können beispielsweise ergänzt werden. Die fehlenden Einträge für das Alter könnten geschätzt und entsprechend ausgefüllt werden, der Zustiegsort und andere Größen können als potentielle Merkmale betrachtet und auch andere Modellarten können erstellt und genutzt werden. Außerdem gibt es auch noch weitere Klassifikationsverfahren, die das Problem evtl. besser lösen können. \n",
    "\n",
    "Die Module dieses Kurses erläutern und vertiefen die verschiedenen Schritte des Data Mining und zeigen Methoden zur Bildung und Interpretation geeigneter Modelle für vielfältige Anwendungsfälle. "
   ]
  },
  {
   "cell_type": "markdown",
   "id": "28e05310",
   "metadata": {},
   "source": [
    "## 6. Bereitstellung <a name=\"kap6\"></a>"
   ]
  },
  {
   "cell_type": "markdown",
   "id": "30fee232",
   "metadata": {},
   "source": [
    "Im letzten Schritt wird das final ausgewählte Modell veröffentlicht und eingesetzt. Dazu gehört auch eine umfassende Dokumentation über das Modell und seine Qualität, sowie bei Einsatz in einen laufenden Prozess möglicherweise die Implementation einer Überwachung bzw. stetigen Weiterentwicklung des Modells."
   ]
  },
  {
   "cell_type": "markdown",
   "id": "9b117696",
   "metadata": {},
   "source": [
    "Für das VR-Erlebnis muss das Modell so angepasst und optimiert werden, dass es für die Charakterwahl und die Entscheidung über den Verlauf der Simulation eingesetzt werden kann."
   ]
  }
 ],
 "metadata": {
  "kernelspec": {
   "display_name": "Python 3",
   "language": "python",
   "name": "python3"
  },
  "language_info": {
   "codemirror_mode": {
    "name": "ipython",
    "version": 3
   },
   "file_extension": ".py",
   "mimetype": "text/x-python",
   "name": "python",
   "nbconvert_exporter": "python",
   "pygments_lexer": "ipython3",
   "version": "3.8.8"
  },
  "latex_envs": {
   "LaTeX_envs_menu_present": true,
   "autoclose": false,
   "autocomplete": true,
   "bibliofile": "biblio.bib",
   "cite_by": "apalike",
   "current_citInitial": 1,
   "eqLabelWithNumbers": true,
   "eqNumInitial": 1,
   "hotkeys": {
    "equation": "Ctrl-E",
    "itemize": "Ctrl-I"
   },
   "labels_anchors": false,
   "latex_user_defs": false,
   "report_style_numbering": false,
   "user_envs_cfg": false
  },
  "toc": {
   "base_numbering": 1,
   "nav_menu": {},
   "number_sections": false,
   "sideBar": true,
   "skip_h1_title": true,
   "title_cell": "Table of Contents",
   "title_sidebar": "Contents",
   "toc_cell": false,
   "toc_position": {
    "height": "calc(100% - 180px)",
    "left": "10px",
    "top": "150px",
    "width": "312.018px"
   },
   "toc_section_display": true,
   "toc_window_display": false
  },
  "varInspector": {
   "cols": {
    "lenName": 16,
    "lenType": 16,
    "lenVar": 40
   },
   "kernels_config": {
    "python": {
     "delete_cmd_postfix": "",
     "delete_cmd_prefix": "del ",
     "library": "var_list.py",
     "varRefreshCmd": "print(var_dic_list())"
    },
    "r": {
     "delete_cmd_postfix": ") ",
     "delete_cmd_prefix": "rm(",
     "library": "var_list.r",
     "varRefreshCmd": "cat(var_dic_list()) "
    }
   },
   "types_to_exclude": [
    "module",
    "function",
    "builtin_function_or_method",
    "instance",
    "_Feature"
   ],
   "window_display": false
  }
 },
 "nbformat": 4,
 "nbformat_minor": 5
}
