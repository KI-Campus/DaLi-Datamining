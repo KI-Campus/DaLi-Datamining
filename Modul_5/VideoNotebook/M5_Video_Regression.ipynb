{
 "cells": [
  {
   "cell_type": "markdown",
   "id": "cb4535f0",
   "metadata": {},
   "source": [
    "# Regression: Boston Housing Dataset"
   ]
  },
  {
   "cell_type": "markdown",
   "id": "77a34c4d",
   "metadata": {},
   "source": [
    "Quelle: https://www.kaggle.com/altavish/boston-housing-dataset  \n",
    "\n",
    "Der Datensatz enthält Daten über die Lebensbedingungen in den Außenbezirken von Boston im Jahr 1978.  \n",
    "Er wurde von David Harrison und Daniel L. Rubinfeld veröffentlicht. "
   ]
  },
  {
   "cell_type": "markdown",
   "id": "d06b7570",
   "metadata": {},
   "source": [
    "<hr style=\"border:1px solid gray\"> </hr>"
   ]
  },
  {
   "cell_type": "markdown",
   "id": "8041e957",
   "metadata": {},
   "source": [
    "## Inhalt\n",
    "\n",
    "1. [Geschäftverständnis / Aufgabe](#kap1)\n",
    "\n",
    "\n",
    "2. [Datenverständnis](#kap2)  \n",
    "\n",
    "\n",
    "3. [Datenvorbereitung](#kap3)  \n",
    "    3.1 [Aufteilung in Trainings- und Testdatensatz](#kap31)  \n",
    "    3.2 [Normalisierung der Daten](#kap32)  \n",
    "    3.3 [Erste Merkmalsauswahl](#kap33)  \n",
    "    3.4 [Visualisierung](#kap34)  \n",
    "\n",
    "\n",
    "4. [Modellierung](#kap4)  \n",
    "    4.1 [Lineare Regression](#kap41)  \n",
    "    4.2 [Gütemaße für Regressionsfunktionen](#kap42)  \n",
    "    4.3 [Polynomiale Regression](#kap43)  \n",
    "    4.4 [Mehrdimensionale Regression](#kap44)  \n",
    "    4.5 [Lasso](#kap45)  \n",
    "\n",
    "\n",
    "5. [Fazit](#kap5)"
   ]
  },
  {
   "cell_type": "markdown",
   "id": "4ff64aa5",
   "metadata": {},
   "source": [
    "<hr style=\"border:1px solid gray\"> </hr>"
   ]
  },
  {
   "cell_type": "markdown",
   "id": "47c7ce46",
   "metadata": {},
   "source": [
    "## 1. Geschäftsverständnis / Aufgabe <a name=\"kap1\"></a>"
   ]
  },
  {
   "cell_type": "markdown",
   "id": "83a2bbb1",
   "metadata": {},
   "source": [
    "Ein Datensatz, der verschiedene Kennwerte zu Wohnungen in Boston enthält, soll genutzt werden, um ein Vorhersagemodell zu entwickeln, das den Wert einer Wohnung bestimmt.\n",
    "\n",
    "Der Unterschied zum Kapitel Klassifikation besteht darin, dass das vorherzusagende Merkmal ein metrisch skaliertes Merkmal und keine Klasse (Bsp. end-to-end: `Überlebt`/`Nicht überlebt`) ist. Ebenso sind die vorhersagenden Merkmale metrisch skaliert."
   ]
  },
  {
   "cell_type": "markdown",
   "id": "8deb544b",
   "metadata": {},
   "source": [
    "##  2. Datenverständnis <a name=\"kap2\"></a>"
   ]
  },
  {
   "cell_type": "code",
   "execution_count": null,
   "id": "16ca77f6",
   "metadata": {},
   "outputs": [],
   "source": [
    "import numpy as np\n",
    "import pandas as pd\n",
    "import matplotlib.pyplot as plt\n",
    "%matplotlib inline"
   ]
  },
  {
   "cell_type": "code",
   "execution_count": null,
   "id": "eda6093e",
   "metadata": {},
   "outputs": [],
   "source": [
    "csv_path = \"M5_Video_BostonHousing.csv\"  \n",
    "df = pd.read_csv(csv_path)  \n",
    "df"
   ]
  },
  {
   "cell_type": "markdown",
   "id": "9c05c34f",
   "metadata": {},
   "source": [
    "<div class=\"alert alert-block alert-success\">\n",
    "<b>Arbeitsauftrag:</b> \n",
    "\n",
    "Erforschen Sie den Datensatz, indem Sie die Kommentare zu den Merkmalen im Notebook lesen, den Befehl .info anwenden und ein erstes Histogramm erzeugen. Löschen Sie außerdem alle Beispiele mit NaN Einträge des Datensatzes heraus.\n",
    "\n",
    "</div>"
   ]
  },
  {
   "cell_type": "markdown",
   "id": "f0594ac7",
   "metadata": {},
   "source": [
    "Der Datensatz enthält 490 Zeilen, dies sind die Vorstadtbezirke von Boston, über die die Daten erhoben wurden. Es wurden jeweils 14 Eigenschaften (=Spalten) erfasst. Die Namen der Spalten bedeuten folgendes:\n",
    "\n",
    "- `CRIM` gibt die Pro-Kopf-Kriminalitätsrate in dem Vorstadtbezirk an. \n",
    "- `ZN` ist der Anteil der Landparzellen, die größer als 25.000 Quadratfuß, etwa 2.320 Quadratmeter, sind.\n",
    "- Der Flächenanteil der Gebiete, die nicht vom Einzelhandel genutzt werden, ist in `INDUS` erfasst.\n",
    "- `CHAS` ist die sog. Charles-River-Variable. Sie hat den Wert '1', wenn der Charles River durch den Bezirk fließt und den Wert '0', wenn dies nicht der Fall ist. \n",
    "- `NOX` entspricht der Stickstoffmonixid-Konzentration (in Teilen pro 10 Millionen) in diesem Bezirk.\n",
    "- `RM` gibt die durchschnittliche Anzahl der Zimmer pro Wohnung bzw. Gebäude an.\n",
    "- `AGE` ist der Anteil der vor 1940 gebauten und von den Eigentümer:innen selbst genutzten Wohnungen. \n",
    "- Mit `DIS` wird die gewichteten Entfernunge zu fünf Arbeitsvermittlungsagenturen in Boston angegeben. \n",
    "- `RAD` ist ein Index, der die Zugänglichkeit von Einfallsstraßen erfasst.\n",
    "- `TAX` enthält die Höhe der unverminderten Grundstueuer pro 10.000 Dollar.\n",
    "- `PTRATIO` gibt das Verhältnis von Schüler:innen zu Lehrer:innen an. \n",
    "- `B` errechnet sich nach der Formel $1000 \\cdot (\\text{a}-0.63)^2$, wobei $\\text{a}$ der Anteil der Bevölkerung mit afroamerikanischer Abstammung ist.  \n",
    "- `LSTAT` ist der Prozentsatz der Bevölkerung mit niedrigem sozialem Status.\n",
    "- `MEDV` ist der Medianwert des Preises der von den Eigentümern selbst genutzten Wohnungen bzw. Häuser, angegeben in Einheiten von 1.000 Dollar. Hier wird er als durchschnittlicher Wert einer Wohnung in einem Vorstadtbezirk interpretiert. "
   ]
  },
  {
   "cell_type": "markdown",
   "id": "494de759",
   "metadata": {},
   "source": [
    "Aus dem obigen Datensatz soll der Wert von `MEDV` aus den übrigen Daten vorhergesagt werden. Für unbekannte Daten kann dann eine gute Schätzung abgegeben werden. `MEDV` wird dann als das Zielmerkmal bezeichnet. Die übrigen Spalten sind die Eingabemerkmale. "
   ]
  },
  {
   "cell_type": "markdown",
   "id": "2810abf5",
   "metadata": {},
   "source": [
    "Zunächst wird wieder eine allgemeinen Analyse der Daten vorgenommen: "
   ]
  },
  {
   "cell_type": "code",
   "execution_count": null,
   "id": "cdc14242",
   "metadata": {},
   "outputs": [],
   "source": [
    "df.info()"
   ]
  },
  {
   "cell_type": "markdown",
   "id": "1ceaa8a0",
   "metadata": {},
   "source": [
    "Alle Werte sind numerisch, sie wurden entweder als float- oder als integer-Werte abgespeichert. In mehreren Spalten fehlen Einträge. Da Datenverständnis und Datenvorbereitung in Modul 3.2. näher erläutert wurden, wird hier der einfache Weg gegangen und die Zeilen mit fehlenden Einträgen gelöscht. "
   ]
  },
  {
   "cell_type": "code",
   "execution_count": null,
   "id": "d3ce20d7",
   "metadata": {},
   "outputs": [],
   "source": [
    "df = df.dropna()"
   ]
  },
  {
   "cell_type": "code",
   "execution_count": null,
   "id": "123b5018",
   "metadata": {},
   "outputs": [],
   "source": [
    "df.hist(figsize=(12,12))\n",
    "plt.show()"
   ]
  },
  {
   "cell_type": "markdown",
   "id": "7f714c04",
   "metadata": {},
   "source": [
    "Die Histogramme zeigen, dass es keine Ausreißer gibt und die Merkmale sehr unterschiedlich verteilt sind. Die einzelnen Spalten haben sehr unterschiedliche Wertebereiche. "
   ]
  },
  {
   "cell_type": "markdown",
   "id": "175a9f50",
   "metadata": {},
   "source": [
    "## 3. Datenvorbereitung <a name=\"kap3\"></a>"
   ]
  },
  {
   "cell_type": "markdown",
   "id": "67ccf89a",
   "metadata": {},
   "source": [
    "### 3.1 Aufteilung in Trainings- und Testdatensatz <a name=\"kap31\"></a>"
   ]
  },
  {
   "cell_type": "markdown",
   "id": "7d9d005b",
   "metadata": {},
   "source": [
    "Um die Testdaten völlig unabhängig zu halten, wird wieder der  Train-Test-Split vorgenommen:"
   ]
  },
  {
   "cell_type": "code",
   "execution_count": null,
   "id": "7c957698",
   "metadata": {},
   "outputs": [],
   "source": [
    "from sklearn.model_selection import train_test_split\n",
    "train_set, test_set = train_test_split(df, random_state=0, test_size=0.3)"
   ]
  },
  {
   "cell_type": "markdown",
   "id": "ae139381",
   "metadata": {},
   "source": [
    "### 3.2 Normalisierung der Daten <a name=\"kap32\"></a>"
   ]
  },
  {
   "cell_type": "markdown",
   "id": "59f23ccf",
   "metadata": {},
   "source": [
    "In diesem Beispiel haben die Daten sehr unterschiedlich große numerische Ausprägungen, wie die nachfolgende Ausgabe zeigt:  "
   ]
  },
  {
   "cell_type": "code",
   "execution_count": null,
   "id": "dc335dba",
   "metadata": {},
   "outputs": [],
   "source": [
    "df.describe()"
   ]
  },
  {
   "cell_type": "markdown",
   "id": "fe4ee802",
   "metadata": {},
   "source": [
    "Die einzelnen Spalten haben sehr unterschiedliche Wertebereiche, z.B. liegen die Werte von `NOX` zwischen 0 und 0.871, aber `ZN` zwischen 0 und 100.  \n",
    "\n",
    "Normalisierung ist eigentlich erst relevant, wenn Regression in Abhängigkeit von mehreren Merkmalen betrieben wird, wie im zweiten Teil dieses Moduls. Dennoch wird sie hier schon einmal vorgenommen:"
   ]
  },
  {
   "cell_type": "code",
   "execution_count": null,
   "id": "8182c617",
   "metadata": {},
   "outputs": [],
   "source": [
    "from sklearn.preprocessing import MinMaxScaler\n",
    "scaler = MinMaxScaler()\n",
    "scaler.fit(train_set)                             # Skalierung wird an train_set angepasst\n",
    "train_set_scaled = scaler.transform(train_set)    # Auf train_set anpassen\n",
    "test_set_scaled = scaler.transform(test_set)      # Dieselbe Skalierung auch auf test_set anpassen\n",
    "train_set_scaled = pd.DataFrame(train_set_scaled, index=train_set.index, columns=train_set.columns) # Rückumwandlung in Dataframe\n",
    "test_set_scaled = pd.DataFrame(test_set_scaled, index=test_set.index, columns=test_set.columns)\n",
    "train_set_scaled.head()"
   ]
  },
  {
   "cell_type": "markdown",
   "id": "9c88f6b5",
   "metadata": {},
   "source": [
    "Die Auswirkung zeigt sich beispielsweise an den beiden nachfolgenden Grafiken: Die Beziehung zwischen den Merkmalen bleibt gleich, lediglich die Skalierung der Achsen unterscheidet sich."
   ]
  },
  {
   "cell_type": "code",
   "execution_count": null,
   "id": "f1e9d328",
   "metadata": {},
   "outputs": [],
   "source": [
    "train_set.plot(kind='scatter', x='LSTAT', y='RM');"
   ]
  },
  {
   "cell_type": "code",
   "execution_count": null,
   "id": "974e0fb5",
   "metadata": {},
   "outputs": [],
   "source": [
    "train_set_scaled.plot(kind='scatter', x='LSTAT', y='RM');"
   ]
  },
  {
   "cell_type": "markdown",
   "id": "a287836c",
   "metadata": {},
   "source": [
    "### 3.3 Erste Merkmalsauswahl <a name=\"kap33\"></a>"
   ]
  },
  {
   "cell_type": "markdown",
   "id": "040f742d",
   "metadata": {},
   "source": [
    "<div class=\"alert alert-block alert-success\">\n",
    "<b>Arbeitsauftrag:</b> \n",
    "\n",
    "Bestimmen Sie nun durch Berechnung der Korrelationsmatrix, welche Merkmale den größten Einfluss auf das Zielmerkmal `MEDV` haben.\n",
    "Wählen Sie alle Merkmale, deren Korrelation zu `MEDV` größer als 0,5 ist. \n",
    "</div>"
   ]
  },
  {
   "cell_type": "code",
   "execution_count": null,
   "id": "42ea1c40",
   "metadata": {},
   "outputs": [],
   "source": [
    "# Platz für Arbeitsauftrag"
   ]
  },
  {
   "cell_type": "markdown",
   "id": "aaa9588b",
   "metadata": {},
   "source": [
    "Die Korrelationsmatrix zeigt, dass die betragsmäßig höchsten Koeffizienten mit `MEDV` die Merkmale `LSTAT`, `RM`, `PTRATIO`, `TAX` und `INDUS` sind.\n",
    "Diese Merkmale sind aber nicht unabhängig voneinander, z.B. beträgt der Korrelationskoeffizient zwischen `LSTAT` und `RM` -0.67. Beide Merkmale drücken evtl. die gleiche Kausalität aus. \n",
    "\n",
    "Zunächst soll ein einfaches Modell erstellt werden:\n",
    "Als Eingabemerkmal wird `LSTAT` verwendet, weil es den beträgsmäßig größten Korrelationskoeffizienten mit dem Zielmerkmal `MEDV` aufweist.   "
   ]
  },
  {
   "cell_type": "markdown",
   "id": "781a612e",
   "metadata": {},
   "source": [
    "### 3.4 Visualisierung <a name=\"kap34\"></a>"
   ]
  },
  {
   "cell_type": "markdown",
   "id": "69aaf378",
   "metadata": {},
   "source": [
    "Um einen Eindruck der Beziehung zwischen `LSTAT` und `MEDV` zu bekommen, wird das zugehörige Streudiagramm geplottet: "
   ]
  },
  {
   "cell_type": "code",
   "execution_count": null,
   "id": "c205267d",
   "metadata": {},
   "outputs": [],
   "source": [
    "train_set.plot(kind='scatter', x='LSTAT', y='MEDV');"
   ]
  },
  {
   "cell_type": "markdown",
   "id": "0b2f56ea",
   "metadata": {},
   "source": [
    "Eine Gerade, die von links oben nach rechts unten verläuft, würde den Trend bzw. den groben Zusammenhang zwischen `LSTAT` und `MEDV` schon gut charakterisieren. Welche Gerade dies am besten tut, wird nun berechnet. "
   ]
  },
  {
   "cell_type": "markdown",
   "id": "0c7e18c2",
   "metadata": {},
   "source": [
    "## 4. Modellierung <a name=\"kap4\"></a>"
   ]
  },
  {
   "cell_type": "markdown",
   "id": "4ea25270",
   "metadata": {},
   "source": [
    "Zunächst werden Trainings- und Testdaten auf die gewünschten Merkmale eingeschränkt: "
   ]
  },
  {
   "cell_type": "code",
   "execution_count": null,
   "id": "89d0f78b",
   "metadata": {},
   "outputs": [],
   "source": [
    "X_train = train_set_scaled[['LSTAT']]\n",
    "y_train = train_set_scaled[['MEDV']]\n",
    "X_test = test_set_scaled[['LSTAT']]\n",
    "y_test = test_set_scaled[['MEDV']]"
   ]
  },
  {
   "cell_type": "markdown",
   "id": "2fe8ccc1",
   "metadata": {},
   "source": [
    "### 4.1 Lineare Regression <a name=\"kap41\"></a>"
   ]
  },
  {
   "cell_type": "markdown",
   "id": "64cd88fe",
   "metadata": {},
   "source": [
    "Nun wird das lineare Regressionmodell erstellt. Die Syntax entspricht dabei dem bereits bekannten Vorgehen. "
   ]
  },
  {
   "cell_type": "code",
   "execution_count": null,
   "id": "7da5ca35",
   "metadata": {},
   "outputs": [],
   "source": [
    "from sklearn.linear_model import LinearRegression\n",
    "lin_reg = LinearRegression()\n",
    "lin_reg.fit(X_train, y_train)\n",
    "print('Achsenabschnitt = ', lin_reg.intercept_, ',   Steigung = ', lin_reg.coef_)"
   ]
  },
  {
   "cell_type": "markdown",
   "id": "91712cf7",
   "metadata": {},
   "source": [
    "Es beschreibt die Gerade $ \\text{MEDV} = -0.71963166 \\cdot \\text{LSTAT} +  0.60635174 $ und bezieht sich auf die normierten Werte. "
   ]
  },
  {
   "cell_type": "code",
   "execution_count": null,
   "id": "a56c06d1",
   "metadata": {},
   "outputs": [],
   "source": [
    "xline = np.linspace(-0.1,1.1, 100).reshape(100, 1)  \n",
    "yline = lin_reg.predict(xline)\n",
    "\n",
    "plt.plot(X_train, y_train,'.')\n",
    "plt.plot(xline,yline , color='red')\n",
    "plt.xlabel('LSTAT')\n",
    "plt.ylabel('MEDV')\n",
    "plt.xlim(-0.1, 1.1)\n",
    "plt.show()"
   ]
  },
  {
   "cell_type": "markdown",
   "id": "816c4f35",
   "metadata": {},
   "source": [
    "Die Gerade gibt den Trend der Punktwolke gut wider. Es ist aber auch deutlich zu erkennen, dass eine gebogene Linie den Trend besser annähern könnte. Mehr hierzu folgt in Kapitel 4.3. "
   ]
  },
  {
   "cell_type": "markdown",
   "id": "3a1a9dcd",
   "metadata": {},
   "source": [
    "### 4.2 Gütemaße für Regressionsfunktionen <a name=\"kap42\"></a>"
   ]
  },
  {
   "cell_type": "markdown",
   "id": "e8cd9ebd",
   "metadata": {},
   "source": [
    "Um verschiedene Regressionsfunktionen miteinander vergleichen zu können, wird ein Gütemaß benötigt. Dieses wurde schon bei der Herleitung der Regressionsfunktion benutzt:\n",
    "Die mittlere quadratische Abweichung = mse (für mean squarred error). \n",
    "Es ist brauchbar für den Vergleich von Regressionsfunktionen zu **demselben Datensatz**. \n",
    "\n",
    "Allgemeiner ist das Bestimmtheitsmaß R². Der Wertebereich des Bestimmtheitsmaßes liegt grundsätzlich zwischen 0 und 1, bei sehr schlechter Anpassung kann es auch negativ werden. Je näher sein Wert an 1 liegt, desto besser ist die Regressionsfunktion an die Daten angepasst. "
   ]
  },
  {
   "cell_type": "code",
   "execution_count": null,
   "id": "8eece74c",
   "metadata": {},
   "outputs": [],
   "source": [
    "from sklearn.metrics import mean_squared_error, r2_score\n",
    "\n",
    "y_pred_train = lin_reg.predict(X_train)\n",
    "print ('mse_training = ', mean_squared_error(y_train, y_pred_train))\n",
    "print ('r2_training = ', r2_score(y_train, y_pred_train))\n",
    "\n",
    "y_pred_test = lin_reg.predict(X_test)\n",
    "print ('mse_test = ', mean_squared_error(y_test, y_pred_test))\n",
    "print ('r2_test = ', r2_score(y_test, y_pred_test))"
   ]
  },
  {
   "cell_type": "markdown",
   "id": "ce98e66f",
   "metadata": {},
   "source": [
    "R² ist mit etwa 0.56 bzw. 0.53 noch weit vom optimalen Wert 1 entfernt. Es besteht also noch Verbesserungspotential für die Regressionsfunktion!"
   ]
  },
  {
   "cell_type": "markdown",
   "id": "bac68ab0",
   "metadata": {},
   "source": [
    "### 4.3 Polynomiale Regression <a name=\"kap43\"></a>"
   ]
  },
  {
   "cell_type": "markdown",
   "id": "a482fd55",
   "metadata": {},
   "source": [
    "Betrachten Sie erneut das Streudiagramm zwischen `LSTAT` und `MEDV`: "
   ]
  },
  {
   "cell_type": "code",
   "execution_count": null,
   "id": "4e34c0b0",
   "metadata": {},
   "outputs": [],
   "source": [
    "train_set.plot(kind='scatter', x='LSTAT', y='MEDV');"
   ]
  },
  {
   "cell_type": "markdown",
   "id": "b25a54c3",
   "metadata": {},
   "source": [
    "Statt einer Geraden können auch andere Funktionen mit einer Regression angepasst werden. Betrachten Sie zunächst die Anpassung einer Parabel: \n",
    "\n",
    "Die Umsetzung in sklearn kann zunächst etwas verwirren: Der Befehl `poly_features.fit_transform()` erzeugt eine Menge, die neben den Werten von `LSTAT` nun in einer zweiten Spalte auch alle quadrierten Werte dieses Merkmals enthält. An diesen neuen Datensatz wird dann wieder das Modell `LinearRegression()` angepasst."
   ]
  },
  {
   "cell_type": "code",
   "execution_count": null,
   "id": "4f3f9326",
   "metadata": {},
   "outputs": [],
   "source": [
    "from sklearn.preprocessing import PolynomialFeatures\n",
    "\n",
    "poly_features = PolynomialFeatures(degree=2, include_bias=False)  \n",
    "X_polybig = poly_features.fit_transform(X_train)\n",
    "print(X_polybig)  \n",
    "q_reg = LinearRegression()\n",
    "q_reg.fit(X_polybig, y_train)"
   ]
  },
  {
   "cell_type": "code",
   "execution_count": null,
   "id": "d2075ccf",
   "metadata": {},
   "outputs": [],
   "source": [
    "X_new_poly = poly_features.fit_transform(xline)\n",
    "yline = q_reg.predict(X_new_poly)\n",
    "plt.plot(X_train, y_train, '.')\n",
    "plt.plot(xline,yline , color='red')\n",
    "plt.xlabel('LSTAT')\n",
    "plt.ylabel('MEDV')\n",
    "plt.xlim(-0.1, 1.1)\n",
    "plt.show()\n",
    "y_pred = q_reg.predict(X_polybig)\n",
    "\n",
    "print('Achsenabschnitt= ', q_reg.intercept_, 'Weitere_Koeffizienten= ', q_reg.coef_)\n",
    "print ('mse= ', mean_squared_error(y_train, y_pred))\n",
    "print ('r2= ', r2_score(y_train, y_pred))\n",
    "X_polybig_test = poly_features.fit_transform(X_test)\n",
    "y_pred_test = q_reg.predict(X_polybig_test)\n",
    "print ('mse_test= ', mean_squared_error(y_test, y_pred_test))\n",
    "print ('r2_test= ', r2_score(y_test, y_pred_test))"
   ]
  },
  {
   "cell_type": "markdown",
   "id": "5eca9815",
   "metadata": {},
   "source": [
    "Das Polynom vom Grad 2 hat die Form:\n",
    "\n",
    "$ \\text{MEDV} = 0.7429774  -1.71341124 \\text{ LSTAT} + 1.20149199 \\text{ LSTAT}^2 $\n",
    "\n",
    "Der mse wird kleiner, R² steigt auf 0.66 bzw. 0.60. Das Modell ist also besser geworden. Dies ist auch der visuelle Eindruck der Grafik. Dort ist auch zu sehen, dass ab ca. `LSTAT` = 0.7 die Regressionskurve wieder ansteigt. Dies scheint aber nicht der allgemeine Trend zu sein! \n",
    "\n",
    "Die Werte von mse und R² für die Testmenge zeigen wieder, dass das Modell sich schon stark den Trainingsdaten angepasst hat. "
   ]
  },
  {
   "cell_type": "markdown",
   "id": "d4cdf501",
   "metadata": {},
   "source": [
    "<div class=\"alert alert-block alert-success\">\n",
    "<b>Arbeitsauftrag:</b> \n",
    "\n",
    "Auch der Grad des Polynoms kann noch weiter gesteigert werden. Berechnen und plotten Sie nun das Regressionspolynom für den Grad 3, also eine Funktion der Form $p (x) = a + bx + cx^2 + dx^3$. \n",
    "    \n",
    "Beantworten Sie anschließend die folgenden Fragen: Ist die Regressionsfunktion nun monoton fallend im Bereich der Eingabewerte? Ist die Qualität des Modells noch weiter gestiegen?\n",
    "\n",
    "</div>"
   ]
  },
  {
   "cell_type": "code",
   "execution_count": null,
   "id": "140470b9",
   "metadata": {},
   "outputs": [],
   "source": [
    "# Platz für Arbeitsauftrag"
   ]
  },
  {
   "cell_type": "markdown",
   "id": "baa4adb7",
   "metadata": {},
   "source": [
    "Es ergibt sich also:\n",
    "\n",
    "$ \\text{MEDV} = 0.80369577  -2.46637799 \\text{ LSTAT} + 3.33601743 \\text{ LSTAT}^2  -1.58977525 \\text{ LSTAT}^3$\n",
    "\n",
    "Es ist R² = 0.67 für die Trainingsdaten und 0.61 für die Testdaten, d.h. die Regressionspolynome zweiten und dritten Grades sind ungefähr gleich gut. Allerdings gibt es eine in den Kontext passende Verbesserung des Modells, da die Werte ab 0.7 nicht wieder ansteigen. "
   ]
  },
  {
   "cell_type": "markdown",
   "id": "1257c3de",
   "metadata": {},
   "source": [
    "### 4.4 Mehrdimensionale Regression <a name=\"kap44\"></a>"
   ]
  },
  {
   "cell_type": "markdown",
   "id": "d8b72bbe",
   "metadata": {},
   "source": [
    "Bisher wurde nur die Abhängigkeit von einem Eingabemerkmal zum Zielmerkmal betrachtet. Diese Vorgehensweise stößt schnell an ihre Grenzen, da das Zielmerkmal meistens von mehreren Merkmalen beeinflußt wird. \n",
    "\n",
    "Es wird nun versucht, das Modell dadurch zu verbessern, dass ein weiteres Merkmal, nämlich `RM` miteinbezogen wird. "
   ]
  },
  {
   "cell_type": "code",
   "execution_count": null,
   "id": "93d0e3cf",
   "metadata": {},
   "outputs": [],
   "source": [
    "X_train = train_set_scaled[['RM', 'LSTAT']] \n",
    "X_test = test_set_scaled[['RM', 'LSTAT']] \n",
    "\n",
    "m_reg = LinearRegression()\n",
    "m_reg.fit(X_train, y_train)\n",
    "print('Achsenabschnitt= ', m_reg.intercept_, 'Weitere_Koeffizienten= ', m_reg.coef_)"
   ]
  },
  {
   "cell_type": "markdown",
   "id": "b9299238",
   "metadata": {},
   "source": [
    "Es ergibt sich also:\n",
    "\n",
    "$ \\text{MEDV} = 0.23396104  +0.60512348 \\text{ RM} -0.42334203 \\text{ LSTAT}$\n",
    "\n",
    "Nachfolgend wird das Modell visualisiert: "
   ]
  },
  {
   "cell_type": "code",
   "execution_count": null,
   "id": "8cfc311a",
   "metadata": {
    "scrolled": true
   },
   "outputs": [],
   "source": [
    "%matplotlib notebook\n",
    "\n",
    "from mpl_toolkits.mplot3d import axes3d   \n",
    "\n",
    "# Erstellen der Grafik\n",
    "fig = plt.figure()\n",
    "ax = fig.add_subplot(111, projection='3d')\n",
    "\n",
    "# Erstellen der Daten\n",
    "Y1 = np.arange(0, 1.1, 0.1)\n",
    "Y2 = np.arange(0, 1.1, 0.1)\n",
    "Y1, Y2 = np.meshgrid(Y1, Y2)\n",
    "Z = m_reg.intercept_  + m_reg.coef_[0][0]*Y1 + m_reg.coef_[0][1]*Y2\n",
    "\n",
    "# Plot der Ebene\n",
    "surf = ax.plot_surface(Y1, Y2, Z, color='red', linewidth=0, antialiased=False, alpha=0.2)\n",
    "\n",
    "# Plot der Datenpunkte / Scatterplot\n",
    "ax.scatter(X_train[['RM']], X_train[['LSTAT']], y_train)\n",
    "\n",
    "# Beschriftung der Achsen\n",
    "ax.set_xlabel('RM')\n",
    "ax.set_ylabel('LSTAT')\n",
    "ax.set_zlabel('MEDV')\n",
    "\n",
    "plt.show()"
   ]
  },
  {
   "cell_type": "markdown",
   "id": "835f751b",
   "metadata": {},
   "source": [
    "Außerdem werden die üblichen Gütemaße bestimmt: "
   ]
  },
  {
   "cell_type": "code",
   "execution_count": null,
   "id": "226f274f",
   "metadata": {},
   "outputs": [],
   "source": [
    "y_pred_train = m_reg.predict(X_train)   \n",
    "\n",
    "print('achsenabschnitt= ', m_reg.intercept_, 'koeffizienten= ', m_reg.coef_)\n",
    "print ('mse_train= ', mean_squared_error(y_train, y_pred_train))\n",
    "print ('r2_train= ', r2_score(y_train, y_pred_train))\n",
    "\n",
    "y_pred_test = m_reg.predict(X_test)\n",
    "print ('mse_test= ', mean_squared_error(y_test, y_pred_test))\n",
    "print ('r2_test= ', r2_score(y_test, y_pred_test))"
   ]
  },
  {
   "cell_type": "markdown",
   "id": "a1b57afb",
   "metadata": {},
   "source": [
    "Es ist R² = 0.68 für die Trainingsdaten und 0.61 für die Testdaten, d.h. die Regression entspricht von der Qualität etwa derjenigen mit den höhergradigen Polynomen. "
   ]
  },
  {
   "cell_type": "markdown",
   "id": "d6c97d4e",
   "metadata": {},
   "source": [
    "### 4.5 Lasso <a name=\"kap45\"></a>"
   ]
  },
  {
   "cell_type": "markdown",
   "id": "de80022d",
   "metadata": {},
   "source": [
    "Bisher wurden die Merkmale zunächst über die Korrelationsmatrix ausgewählt und anschließend die Regression zu den ausgewählten Merkmalen bestimmt. Hierzu gibt es eine komfortable Alternative:\n",
    "\n",
    "Bei der Lasso Regression wird nicht ein möglichst kleiner mse gewählt, um die Regressionsfunktion zu bestimmen, sondern der mse um einen zweiten Term erweitert: $mse + \\alpha \\cdot \\sum_{i=1}^{m} |a_i|$.\n",
    "\n",
    "Dieser zweite Term entspricht der Summe der Beträge der Koeffizienten, eine Minimierung des Gesamtausdruckes versucht also einen Kompromiss zu finden zwischen dem kleinsten mse bei gleichzeitig kleinen Koeffizienten, bzw. wenig Koeffizienten ungleich 0. Die Größenordnung des Parameters &alpha; sagt dabei aus, wie wichtig es ist, dass wenig bzw. kleine Koeffizienten ausgewählt werden. "
   ]
  },
  {
   "cell_type": "markdown",
   "id": "6b5f3649",
   "metadata": {},
   "source": [
    "Für diese Art der Regression können also von vornherein alle Merkmale betrachtet werden: "
   ]
  },
  {
   "cell_type": "code",
   "execution_count": null,
   "id": "7f7f7f87",
   "metadata": {},
   "outputs": [],
   "source": [
    "X_train = train_set_scaled.drop(['MEDV'], axis = 1)\n",
    "X_test = test_set_scaled.drop(['MEDV'], axis = 1)\n",
    "X_train.head()"
   ]
  },
  {
   "cell_type": "markdown",
   "id": "5db1d1f9",
   "metadata": {},
   "source": [
    "Für einen ersten Versuch wird der Parameter &alpha; nicht verändert, er befindet sich in der Standardvariante auf 1. Die Anwendung der Lasso Regression funktioniert wie alle bisherigen Modellierungen:  "
   ]
  },
  {
   "cell_type": "code",
   "execution_count": null,
   "id": "47229856",
   "metadata": {},
   "outputs": [],
   "source": [
    "from sklearn.linear_model import Lasso\n",
    "lasso_reg = Lasso()\n",
    "lasso_reg.fit(X_train, y_train)\n",
    "\n",
    "print('Achsenabschnitt = ', lasso_reg.intercept_, 'Weitere_Koeffizienten = ', lasso_reg.coef_)\n",
    "\n",
    "y_pred_train = lasso_reg.predict(X_train) \n",
    "print ('mse = ', mean_squared_error(y_train, y_pred_train))\n",
    "print ('r2 = ', r2_score(y_train, y_pred_train))"
   ]
  },
  {
   "cell_type": "markdown",
   "id": "88bd251a",
   "metadata": {},
   "source": [
    "Das Ergebnis ist ernüchternd: Die Regressionsfunktion lautet nun $ \\text{MEDV} = 0.38524444$, alle weiteren Koeffizienten sind 0, und der mse ist stark gestiegen!\n",
    "\n",
    "Im nächsten Ansatz wird der Paramter &alpha; variiert und die Ergebnisse miteinander verglichen: "
   ]
  },
  {
   "cell_type": "code",
   "execution_count": null,
   "id": "a40ece61",
   "metadata": {},
   "outputs": [],
   "source": [
    "for i in [0.001, 0.01, 0.1, 1]:\n",
    "    print('alpha= ', i)\n",
    "    lasso_reg = Lasso(alpha=i)\n",
    "    lasso_reg.fit(X_train, y_train)\n",
    "\n",
    "    print('Achsenabschnitt = ', lasso_reg.intercept_, 'Koeffizienten = ', lasso_reg.coef_)\n",
    "\n",
    "    y_pred_train = lasso_reg.predict(X_train) \n",
    "    print ('mse = ', mean_squared_error(y_train, y_pred_train))\n",
    "    print ('r2 = ', r2_score(y_train, y_pred_train))\n",
    "\n",
    "    y_pred_test = lasso_reg.predict(X_test)\n",
    "    print ('mse_test = ', mean_squared_error(y_test, y_pred_test))\n",
    "    print ('r2_test = ', r2_score(y_test, y_pred_test))\n",
    "    print('')"
   ]
  },
  {
   "cell_type": "markdown",
   "id": "5bf8b176",
   "metadata": {},
   "source": [
    "Die Ergebnisse zeigen den starken Einfluss von &alpha; auf das Modell: \n",
    "\n",
    "&alpha; = 0.001 ergibt das bisher beste Ergebnis, aber es werden alle Merkmale berücksichtigt, das Modell ist also recht aufwändig. \n",
    "\n",
    "Bei &alpha; = 0.01 gehen nur noch die Merkmale `INDUS`, `RM`, `TAX`, `PTRATIO` und `LSTAT` ins Modell ein. Die Gütemaße sind nun wieder schlechter, das Modell aber deutlich weniger komplex. \n",
    "\n",
    "Ab &alpha; = 0.1 werden, wie in der ersten Variante der Umsetzung, keine Merkmale mehr berücksichtigt."
   ]
  },
  {
   "cell_type": "markdown",
   "id": "65ab9767",
   "metadata": {},
   "source": [
    "## 5. Fazit <a name=\"kap5\"></a>"
   ]
  },
  {
   "cell_type": "markdown",
   "id": "2a0e2173",
   "metadata": {},
   "source": [
    "Es wurden nun viele verschiedene Arten von Regression vorgestellt, hierbei wurde...\n",
    "\n",
    "- für ein Eingabemerkmal eine Gerade, eine Parabel und ein Polynom dritten Grades angepasst.\n",
    "\n",
    "- festgestellt, dass mehrdimensionale Modelle einen Trend in der Regel besser abbilden, aber auch aufwändiger sind.\n",
    "\n",
    "- die Lasso Regression als Beispiel für andere Typen von Regressionsmodellen, die nicht nur das Ziel haben, den mse zu minimieren, vorgestellt. "
   ]
  }
 ],
 "metadata": {
  "kernelspec": {
   "display_name": "DaLI-DM",
   "language": "python",
   "name": "python-dali-dm"
  },
  "language_info": {
   "codemirror_mode": {
    "name": "ipython",
    "version": 3
   },
   "file_extension": ".py",
   "mimetype": "text/x-python",
   "name": "python",
   "nbconvert_exporter": "python",
   "pygments_lexer": "ipython3",
   "version": "3.8.8"
  },
  "latex_envs": {
   "LaTeX_envs_menu_present": true,
   "autoclose": false,
   "autocomplete": true,
   "bibliofile": "biblio.bib",
   "cite_by": "apalike",
   "current_citInitial": 1,
   "eqLabelWithNumbers": true,
   "eqNumInitial": 1,
   "hotkeys": {
    "equation": "Ctrl-E",
    "itemize": "Ctrl-I"
   },
   "labels_anchors": false,
   "latex_user_defs": false,
   "report_style_numbering": false,
   "user_envs_cfg": false
  },
  "toc": {
   "base_numbering": 1,
   "nav_menu": {},
   "number_sections": false,
   "sideBar": true,
   "skip_h1_title": true,
   "title_cell": "Table of Contents",
   "title_sidebar": "Contents",
   "toc_cell": false,
   "toc_position": {},
   "toc_section_display": true,
   "toc_window_display": false
  },
  "varInspector": {
   "cols": {
    "lenName": 16,
    "lenType": 16,
    "lenVar": 40
   },
   "kernels_config": {
    "python": {
     "delete_cmd_postfix": "",
     "delete_cmd_prefix": "del ",
     "library": "var_list.py",
     "varRefreshCmd": "print(var_dic_list())"
    },
    "r": {
     "delete_cmd_postfix": ") ",
     "delete_cmd_prefix": "rm(",
     "library": "var_list.r",
     "varRefreshCmd": "cat(var_dic_list()) "
    }
   },
   "types_to_exclude": [
    "module",
    "function",
    "builtin_function_or_method",
    "instance",
    "_Feature"
   ],
   "window_display": false
  }
 },
 "nbformat": 4,
 "nbformat_minor": 5
}
