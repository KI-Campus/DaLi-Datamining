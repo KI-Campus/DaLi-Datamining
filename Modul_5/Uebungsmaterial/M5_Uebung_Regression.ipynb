{
 "cells": [
  {
   "cell_type": "markdown",
   "metadata": {},
   "source": [
    "# <font color='darkblue'>Modul 5: Übungsmaterial zu Regression - Welches Auto verbraucht wie viel?</font> &nbsp; <font size='6'>&#128663;</font>"
   ]
  },
  {
   "cell_type": "markdown",
   "metadata": {},
   "source": [
    "<hr style=\"border:1px solid gray\"> </hr>"
   ]
  },
  {
   "cell_type": "markdown",
   "metadata": {},
   "source": [
    "In diesem Notebook wird die Regression auf einen Datensatz über verschiedene Merkmale von Automodellen und deren Verbrauch angewendet. Es werden noch einmal die verschiedenen Arten der Regression durchgegangen und auch neue Methoden eingeführt. "
   ]
  },
  {
   "cell_type": "markdown",
   "metadata": {},
   "source": [
    "## <font color='darkblue'>Inhalt</font>\n",
    "\n",
    "\n",
    "1. [Datenverständnis und Datenvorbereitung](#kap1)   \n",
    "    \n",
    "\n",
    "2. [Modellierung](#kap2)    \n",
    "    2.1 [Train-Test-Split](#kap21)    \n",
    "    2.2 [Merkmalsauswahl](#kap22)     \n",
    "    2.3 [Normalisierung](#kap23)  \n",
    "    2.4 [Eindimensionale Lineare Regression](#kap24)  \n",
    "    2.5 [Eindimensionale Polynomiale Regression](#kap25)  \n",
    "    2.6 [Mehrdimensionale Lineare Regression](#kap26)\n",
    "\n",
    "\n",
    "3. [Regularisierung von Regressionsmodellen](#kap3)  \n",
    "    3.1 [Ridge-Regression](#kap31)  \n",
    "\n",
    "\n",
    "4. [Weitere Regressionsmodelle](#kap4)  \n",
    "    4.1 [Support Vector Regression](#kap41)\n",
    "\n",
    "\n",
    "5. [Fazit](#kap5)"
   ]
  },
  {
   "cell_type": "markdown",
   "metadata": {},
   "source": [
    "<hr style=\"border:1px solid gray\"> </hr>"
   ]
  },
  {
   "cell_type": "markdown",
   "metadata": {},
   "source": [
    "## <font color='darkblue'>1. Datenverständnis und Datenvorbereitung</font> <a name=\"kap1\"></a>"
   ]
  },
  {
   "cell_type": "markdown",
   "metadata": {},
   "source": [
    "Stellen Sie sich folgende Situation vor:\n",
    "Sie sind bei einer Denkfabrik beschäftigt, die verschiedene Szenarien zur Senkung des Verbrauchs von Autos durchspielen soll. Eine Idee ist es, den Hubraum oder die Leistung der Autos oder beides zu begrenzen. Dazu wird ein Modell benötigt, das über alle Auotmodelle den Trend angibt - dies sind Regressionsfunktionen!\n",
    "\n",
    "Das Ziel dieses Notebooks ist es also, eine möglichst gute Regressionsfunktion für eine Datensatz über Automodelle zu entwickeln. Dazu wird ein <a href=\"https://archive.ics.uci.edu/ml/datasets/auto+mpg\">Autodatensatz</a> betrachtet. Er enthält Daten von 398 verschiedenen Modellen des amerikanischen Marktes aus dem Jahr 1993. "
   ]
  },
  {
   "cell_type": "code",
   "execution_count": null,
   "metadata": {},
   "outputs": [],
   "source": [
    "import numpy as np\n",
    "import pandas as pd\n",
    "import matplotlib.pyplot as plt\n",
    "import seaborn as sns"
   ]
  },
  {
   "cell_type": "code",
   "execution_count": null,
   "metadata": {},
   "outputs": [],
   "source": [
    "df = pd.read_csv(\"M5_Uebung_Autos.csv\")"
   ]
  },
  {
   "cell_type": "markdown",
   "metadata": {},
   "source": [
    "Zunächst werden die Daten betrachtet, um einen groben Überblick über diese zu erhalten."
   ]
  },
  {
   "cell_type": "code",
   "execution_count": null,
   "metadata": {
    "scrolled": false
   },
   "outputs": [],
   "source": [
    "df"
   ]
  },
  {
   "cell_type": "markdown",
   "metadata": {},
   "source": [
    "Die Datenspalten sind in der folgenden Tabelle genauer beschrieben:"
   ]
  },
  {
   "cell_type": "markdown",
   "metadata": {},
   "source": [
    "<table align='left'>\n",
    "    <thead>\n",
    "        <tr>\n",
    "          <th style=\"text-align:left\">Spaltenname</th>\n",
    "          <th style=\"text-align:left\">Bedeutung</th>\n",
    "          <th style=\"text-align:left\">Weitere Informationen</th>\n",
    "        </tr>\n",
    "    </thead>\n",
    "    <tr>\n",
    "    <td style=\"text-align:left; vertical-align: top\">mpg</td>\n",
    "    <td style=\"text-align:left; vertical-align: top\">miles per gallon (dt. Meilen pro Gallone)</td>\n",
    "    <td style=\"text-align:left; vertical-align: top\">1 Meile = 1,609344 km; 1 Gallone = 3,7854 l</td>\n",
    "    </tr>\n",
    "    <tr>\n",
    "    <td style=\"text-align:left\">cylinders</td>\n",
    "    <td style=\"text-align:left\">Anzahl der Zylinder</td>\n",
    "    <td style=\"text-align:left\">-</td>\n",
    "    </tr>\n",
    "    <tr>\n",
    "    <td style=\"text-align:left\">displacement</td>\n",
    "    <td style=\"text-align:left\">Hubraum</td>\n",
    "    <td style=\"text-align:left\">[in³]</td>\n",
    "    </tr>\n",
    "    <tr>\n",
    "    <td style=\"text-align:left; vertical-align: top\">horsepower</td>\n",
    "    <td style=\"text-align:left; vertical-align: top\">Britische Pferdestärke (hp)</td>\n",
    "    <td style=\"text-align:left; vertical-align: top\">1 hp = 1,0139 PS </td>\n",
    "    </tr>\n",
    "    <tr>\n",
    "    <td style=\"text-align:left; vertical-align: top\">weight</td>\n",
    "    <td style=\"text-align:left; vertical-align: top\">Gewicht</td>\n",
    "    <td style=\"text-align:left; vertical-align: top\">[lbs]</td>\n",
    "    </tr>\n",
    "    <tr>\n",
    "    <td style=\"text-align:left; vertical-align: top\">acceleration</td>\n",
    "    <td style=\"text-align:left; vertical-align: top\">Beschleunigung</td>\n",
    "    <td style=\"text-align:left; vertical-align: top\">Bei dieser Angabe handelt es sich um die Dauer [s], in der von 0 auf 60 mph beschleunigt wird. Das entspricht in etwa der in Deutschland üblichen Angabe der Zeitdauer für eine Beschleunigung von 0 auf 100 km/h.</td>\n",
    "    </tr>\n",
    "    <tr>\n",
    "    <td style=\"text-align:left; vertical-align: top\">model year</td>\n",
    "    <td style=\"text-align:left; vertical-align: top\">Baujahr</td>\n",
    "    <td style=\"text-align:left; vertical-align: top\">-</td>\n",
    "    </tr>\n",
    "    <tr>\n",
    "    <td style=\"text-align:left; vertical-align: top\">origin</td>\n",
    "    <td style=\"text-align:left; vertical-align: top\">Herkunftsland</td>\n",
    "    <td style=\"text-align:left; vertical-align: top\">1 = Amerika<br>2 = Europa<br>3 = Asien</td>\n",
    "    </tr>\n",
    "    <tr>\n",
    "    <td style=\"text-align:left\">car name</td>\n",
    "    <td style=\"text-align:left\">Bezeichnung des Autos</td>\n",
    "    <td style=\"text-align:left\">-</td>\n",
    "    </tr>\n",
    "</table>"
   ]
  },
  {
   "cell_type": "markdown",
   "metadata": {},
   "source": [
    "<div class=\"alert alert-block alert-info\">\n",
    "&#128204; <b>Anmerkung:</b>  \n",
    "    \n",
    "Anders als in Deutschland üblich, wird der Verbrauch hier nicht in \"Liter pro 100 km\" angegeben, sondern in \"Meilen pro Gallone\". Es werden nicht nur andere Einheiten verwendet, sondern auch der \"Kehrwert\": Statt \"Liter pro km\" wären das also \"km pro Liter\" in metrischen Einheiten. Die Interpretation ist daher: Je höher der mpg-Wert desto weniger verbraucht es. Das stört aber nicht weiter, da die Angaben weiterhin recht intuitiv verständlich sind."
   ]
  },
  {
   "cell_type": "code",
   "execution_count": null,
   "metadata": {},
   "outputs": [],
   "source": [
    "df.info()"
   ]
  },
  {
   "cell_type": "markdown",
   "metadata": {},
   "source": [
    "Es fällt auf, dass es keine NaN-Einträge gibt, d.h. alle Felder sind ordnungsgemäßt gefüllt. Allerdings ist die Spalte \"horsepower\" vom Typ \"object\", und nicht \"float\", dies wird weiter unten noch überarbeitet."
   ]
  },
  {
   "cell_type": "code",
   "execution_count": null,
   "metadata": {},
   "outputs": [],
   "source": [
    "df.hist(figsize=(10,10));"
   ]
  },
  {
   "cell_type": "markdown",
   "metadata": {},
   "source": [
    "Die Daten sind in allen Merkmalen ungleichmäßig verteilt. Es gibt keine Ausreißer. Diese Merkmale brauchen nicht mehr angepasst zu werden.\n",
    "\n",
    "Da ein allgemeines Modell für alle Autos entwickelt werden soll, werden hier die Merkmale Autoname und Herkunft nicht benötigt und sie werden gelöscht. Sollen die Verbräuche von Autofirmen oder nach dem Herkunftsland verglichen werden, müssten sie beibehalten werden. "
   ]
  },
  {
   "cell_type": "code",
   "execution_count": null,
   "metadata": {},
   "outputs": [],
   "source": [
    "df = df.drop('car name', axis=1)\n",
    "df = df.drop('origin', axis=1)"
   ]
  },
  {
   "cell_type": "markdown",
   "metadata": {},
   "source": [
    "Nun muss noch das Merkmal \"horsepower\" (Pferdestärke) untersucht werden. "
   ]
  },
  {
   "cell_type": "markdown",
   "metadata": {},
   "source": [
    "<div class=\"alert alert-block alert-success\">\n",
    "&#128187; <b>Arbeitsauftrag:</b> \n",
    "    \n",
    "Lassen Sie sich alle Ausprägungen ausgeben, die das Merkmal `horsepower` annimmt. \n",
    "    \n",
    "Suchen Sie in der Liste nach Einträgen, die aus Zeichenketten (Strings) bestehen und überlegen Sie, wie Sie damit umgehen wollen.\n",
    "    \n",
    "Tipp: Methode `unique()`"
   ]
  },
  {
   "cell_type": "code",
   "execution_count": null,
   "metadata": {},
   "outputs": [],
   "source": [
    "# Platz für Arbeitsauftrag"
   ]
  },
  {
   "cell_type": "markdown",
   "metadata": {},
   "source": [
    "Die Ausgabe zeigt, dass \"?\" der einzige nicht-Zahl-Eintrag ist. Es werden nun alle Zeilen ausgegeben, bei denen \"?\" die Ausprägung des Merkmals ist:"
   ]
  },
  {
   "cell_type": "code",
   "execution_count": null,
   "metadata": {},
   "outputs": [],
   "source": [
    "df[df[\"horsepower\"] == \"?\"]"
   ]
  },
  {
   "cell_type": "markdown",
   "metadata": {},
   "source": [
    "Nur bei diesen 6 Einträgen fehlt die PS-Angabe. \n",
    "\n",
    "Es gibt verschiedene Möglichkeiten, damit umzugehen:\n",
    "- Die Einträge werden gelöscht\n",
    "- Die Einträge werden durch die Mittelwerte der Spalte ersetzt\n",
    "- Durch eine Recherche zu den betreffenden Automodellen werden echte Werte bestimmt\n",
    "\n",
    "Da hier nur 6 Einträge betroffen sind, werden sie gelöscht. "
   ]
  },
  {
   "cell_type": "code",
   "execution_count": null,
   "metadata": {},
   "outputs": [],
   "source": [
    "df[df[\"horsepower\"] == \"?\"].index"
   ]
  },
  {
   "cell_type": "code",
   "execution_count": null,
   "metadata": {},
   "outputs": [],
   "source": [
    "df = df.drop(df[df[\"horsepower\"] == \"?\"].index, axis=0)"
   ]
  },
  {
   "cell_type": "markdown",
   "metadata": {},
   "source": [
    "Nun wird noch der Datentyp angepasst:"
   ]
  },
  {
   "cell_type": "code",
   "execution_count": null,
   "metadata": {},
   "outputs": [],
   "source": [
    "df['horsepower'] = df['horsepower'].astype('float64')  "
   ]
  },
  {
   "cell_type": "markdown",
   "metadata": {},
   "source": [
    "Mit den bereinigten Daten lohnt sich nun eine erste visuelle Begutachtung der Abhängigkeiten der Merkmale. "
   ]
  },
  {
   "cell_type": "code",
   "execution_count": null,
   "metadata": {},
   "outputs": [],
   "source": [
    "sns.pairplot(df);"
   ]
  },
  {
   "cell_type": "markdown",
   "metadata": {},
   "source": [
    "Der pairplot gibt schon viele wichtige Erkenntnisse:\n",
    "mpg wird von allen Merkmalen beeinflusst. Für die einzelnen Merkmale gilt:\n",
    "- Je mehr Zylinder, desto weniger mpg\n",
    "- Je größer das Gewicht, desto weniger mpg\n",
    "- Je größer der Hubraum (displacement), desto weniger mpg\n",
    "- Je stärker die Beschleunigung, desto größer wird mpg\n",
    "- Je neuer, desto mehr mpg\n",
    "\n",
    "Auch die starke Abhängigkeit der Merkmale untereinander ist zu erkennen. Beispielsweise nimmt bei steigendem Hubraum auch horsepower zu. Das ist nicht überraschend, kann aber für die Modellierung ungünstig sein. "
   ]
  },
  {
   "cell_type": "markdown",
   "metadata": {},
   "source": [
    "<hr style=\"border:1px solid gray\"> </hr>"
   ]
  },
  {
   "cell_type": "markdown",
   "metadata": {},
   "source": [
    "## <font color='darkblue'>2. Modellierung</font> <a name=\"kap2\"></a>"
   ]
  },
  {
   "cell_type": "markdown",
   "metadata": {},
   "source": [
    "### <font color='darkblue'>2.1 Train-Test-Split</font> <a name=\"kap21\"></a>"
   ]
  },
  {
   "cell_type": "markdown",
   "metadata": {},
   "source": [
    "Nun sind die Daten soweit analysiert und vorbereitet, dass mit der Modellierung begonnen werden kann. Zunächst wird der Train-Test-Split durchgeführt, um die Testdaten bei allen weiteren Überlegungen außen vor zu lassen."
   ]
  },
  {
   "cell_type": "markdown",
   "metadata": {},
   "source": [
    "<div class=\"alert alert-block alert-success\">\n",
    "&#128187; <b>Arbeitsauftrag:</b> \n",
    "\n",
    "Führen Sie einen Train-Test-Split durch, bei dem 70% der Daten der Trainingsmenge und 30% der Testmenge zugeordnet wird. Setzen Sie den `random_state` auf den Wert 1.  \n",
    "</div>"
   ]
  },
  {
   "cell_type": "code",
   "execution_count": null,
   "metadata": {},
   "outputs": [],
   "source": [
    "from sklearn.model_selection import train_test_split \n",
    "# train_set, test_set = train_test_split(df, )"
   ]
  },
  {
   "cell_type": "markdown",
   "metadata": {},
   "source": [
    "### <font color='darkblue'>2.2 Merkmalsauswahl</font> <a name=\"kap22\"></a>"
   ]
  },
  {
   "cell_type": "markdown",
   "metadata": {},
   "source": [
    "Die Abhängigkeiten, die schon im Pairplot erkennbar waren, werden nun in der Korrelationsmatrix ausgedrückt:"
   ]
  },
  {
   "cell_type": "code",
   "execution_count": null,
   "metadata": {
    "scrolled": false
   },
   "outputs": [],
   "source": [
    "corr_matrix = train_set.corr()\n",
    "plt.figure(figsize=(8, 6))\n",
    "sns.heatmap(corr_matrix, annot=True, vmin=-1, vmax=1)\n",
    "plt.show()"
   ]
  },
  {
   "cell_type": "markdown",
   "metadata": {},
   "source": [
    "Die Merkmale haben alle recht hohe Korrelationen mit dem Verbauch. Am größten ist sie bei dem Gewicht, gefolgt vom Hubraum, dann Pferdestärken und Anzahl der Zylinder. Beschleunigung und Modelljahr haben eine deutlich niedrigere Korrelation zu mpg.\n",
    "\n",
    "Auffällig sind auch die hohen Korrelationen zwischen Zylinder, Hubraum, Pferdestärke und Gewicht. Diese Merkmale drücken in etwa das Gleiche aus. "
   ]
  },
  {
   "cell_type": "markdown",
   "metadata": {},
   "source": [
    "### <font color='darkblue'>2.3 Normalisierung</font> <a name=\"kap23\"></a>"
   ]
  },
  {
   "cell_type": "markdown",
   "metadata": {},
   "source": [
    "Für eine gewöhnliche Regression mittels einer Regressionsgeraden müssen die Daten normalerweise nicht normalisiert werden. Sollen aber weitere Regressionsmodelle ausprobiert werden, insbesondere welche mit Straftermen wie bei der schon bekannten Lasso-Regression, dann bietet es sich an, die Daten zu normalisieren. Dies wird nachfolgend vorgenommen: "
   ]
  },
  {
   "cell_type": "code",
   "execution_count": null,
   "metadata": {},
   "outputs": [],
   "source": [
    "from sklearn.preprocessing import MinMaxScaler\n",
    "scaler = MinMaxScaler()\n",
    "scaler.fit(train_set)                             # Skalierung wird an train_set angepasst\n",
    "train_set_scaled = scaler.transform(train_set)    # Auf train_set anpassen\n",
    "test_set_scaled = scaler.transform(test_set)      # Dieselbe Skalierung auch auf test_set anpassen\n",
    "train_set_scaled = pd.DataFrame(train_set_scaled, index=train_set.index, columns=train_set.columns) # Rückumwandlung in Dataframe\n",
    "test_set_scaled = pd.DataFrame(test_set_scaled, index=test_set.index, columns=test_set.columns)"
   ]
  },
  {
   "cell_type": "code",
   "execution_count": null,
   "metadata": {},
   "outputs": [],
   "source": [
    "train_set_scaled.describe()"
   ]
  },
  {
   "cell_type": "markdown",
   "metadata": {},
   "source": [
    "An den Einträgen für min und max ist erkennbar, dass nun alle Merkmale auf den Bereich von 0 bis 1 skaliert sind."
   ]
  },
  {
   "cell_type": "markdown",
   "metadata": {},
   "source": [
    "### <font color='darkblue'>2.4 Lineare Regression mit einem Merkmal</font> <a name=\"kap24\"></a>"
   ]
  },
  {
   "cell_type": "markdown",
   "metadata": {},
   "source": [
    "<div class=\"alert alert-block alert-success\">\n",
    "&#128187; <b>Arbeitsauftrag:</b> \n",
    "    \n",
    "Wählen Sie ein einzelnes Merkmal aus und bilden Sie ein lineares Regressionsmodell für das Zielmerkmal `mpg` in Abhängigkeit von dem gewählten Merkmal. Plotten Sie die Daten inklusive der Regressionsgeraden und lassen Sie sich die Gütemaße mse und $R^2$ sowohl für die Trainings- als auch für die Testdaten angeben.\n",
    "\n",
    "Tipp: Video-Notebook"
   ]
  },
  {
   "cell_type": "code",
   "execution_count": null,
   "metadata": {},
   "outputs": [],
   "source": [
    "from sklearn.linear_model import LinearRegression\n",
    "from sklearn.metrics import mean_squared_error, r2_score"
   ]
  },
  {
   "cell_type": "code",
   "execution_count": null,
   "metadata": {},
   "outputs": [],
   "source": [
    "# Platz für Arbeitsauftrag"
   ]
  },
  {
   "cell_type": "markdown",
   "metadata": {},
   "source": [
    "Sie sollten sehen: Die lineare Regression liefert schon ein recht gutes Ergebnis. "
   ]
  },
  {
   "cell_type": "markdown",
   "metadata": {},
   "source": [
    "### <font color='darkblue'>2.5 Eindimensionale Polynomiale Regression</font> <a name=\"kap25\"></a>"
   ]
  },
  {
   "cell_type": "markdown",
   "metadata": {},
   "source": [
    "Regression wird dazu benutzt, unbekannte Werte vorherzusagen, aber auch um generelle Abhängigkeiten genauer zu beschreiben. So ist es z.B. allgemein bekannt, das ein größeres Gewicht zu mehr Verbrauch führen wird. Aber wie stark wird der Verbrauch ansteigen? Ist das ein linearer Anstieg oder ist er quadratisch? \n",
    "\n",
    "Diese Frage kann eine polynomiale Regression zweiten Grades beantworten. "
   ]
  },
  {
   "cell_type": "code",
   "execution_count": null,
   "metadata": {},
   "outputs": [],
   "source": [
    "from sklearn.preprocessing import PolynomialFeatures"
   ]
  },
  {
   "cell_type": "code",
   "execution_count": null,
   "metadata": {},
   "outputs": [],
   "source": [
    "poly_features = PolynomialFeatures(degree=2, include_bias=False)  \n",
    "X_polybig = poly_features.fit_transform(X_train)\n",
    "\n",
    "quad_reg = LinearRegression()\n",
    "quad_reg.fit(X_polybig, y_train)"
   ]
  },
  {
   "cell_type": "code",
   "execution_count": null,
   "metadata": {
    "scrolled": true
   },
   "outputs": [],
   "source": [
    "xline = np.linspace(-0.1,1.1, 100).reshape(100, 1) \n",
    "X_new_poly = poly_features.fit_transform(xline)\n",
    "yline = quad_reg.predict(X_new_poly)\n",
    "plt.plot(X_train, y_train, '.')\n",
    "plt.plot(xline,yline , color='red')\n",
    "plt.xlabel('weight')\n",
    "plt.ylabel('mpg')\n",
    "plt.xlim(-0.1, 1.1)\n",
    "plt.show()\n",
    "y_pred = quad_reg.predict(X_polybig)\n",
    "\n",
    "print ('mse_training =', mean_squared_error(y_train, y_pred))\n",
    "print ('r2_training =', r2_score(y_train, y_pred))\n",
    "X_polybig_test = poly_features.fit_transform(X_test)\n",
    "y_pred_test = quad_reg.predict(X_polybig_test)\n",
    "print ('mse_test =', mean_squared_error(y_test, y_pred_test))\n",
    "print ('r2_test =', r2_score(y_test, y_pred_test))"
   ]
  },
  {
   "cell_type": "markdown",
   "metadata": {},
   "source": [
    "Tatsächlich sind die $R^2$-Werte hier besser.\n",
    "\n",
    "Bei einer zu starken Extrapolation der Werte ist jedoch Vorsicht geboten: Da eine Parabel angepasst wurde, wird die Kurve rechts von der 1 irgendwo wieder ansteigen. Dies entspricht dann nicht mehr dem, was physikalisch sinnvoll ist!"
   ]
  },
  {
   "cell_type": "markdown",
   "metadata": {},
   "source": [
    "### <font color='darkblue'>2.6 Mehrdimensionale Lineare Regression</font> <a name=\"kap26\"></a>"
   ]
  },
  {
   "cell_type": "markdown",
   "metadata": {},
   "source": [
    "Bei der Auswahl der Merkmale kann nicht nur die Korrelation jedes einzelnen Merkmals zum Zielmerkmal betrachtet werden, sondern auch die Korrelation untereinander, denn Merkmale, die untereinander hoch korreliert sind, drücken unter Umständen denselben Zusammenhang aus. Das Modell kann dann nichts Neues dazu lernen. Deswegen ist es manchmal sinnvoll, Merkmale auszuwählen, die nicht miteinander korreliert sind."
   ]
  },
  {
   "cell_type": "markdown",
   "metadata": {},
   "source": [
    "<div class=\"alert alert-block alert-success\">\n",
    "&#128187; <b>Arbeitsauftrag:</b> \n",
    "\n",
    "Nachfolgend wird ein mehrdimensionales Regressionsmodell mit den Merkmalen `weight` und `model year` aufgestellt und seine Güte bestimmt. \n",
    "    \n",
    "Stellen Sie analog ein Modell für die Merkmalen `weight` und `displacement` auf und vergleichen die Werte."
   ]
  },
  {
   "cell_type": "code",
   "execution_count": null,
   "metadata": {},
   "outputs": [],
   "source": [
    "X_train_m = train_set_scaled[[\"weight\", \"model year\"]]\n",
    "X_test_m = test_set_scaled[[\"weight\", \"model year\"]]\n",
    "\n",
    "m_reg = LinearRegression()\n",
    "m_reg.fit(X_train_m, y_train)\n",
    "print('Achsenabschnitt =', m_reg.intercept_)\n",
    "print('Weitere_Koeffizienten =', m_reg.coef_)\n",
    "\n",
    "y_pred_test = m_reg.predict(X_test_m)   \n",
    "\n",
    "print ('mse_test= ', mean_squared_error(y_test, y_pred_test))\n",
    "print ('r2_test= ', r2_score(y_test, y_pred_test))"
   ]
  },
  {
   "cell_type": "code",
   "execution_count": null,
   "metadata": {},
   "outputs": [],
   "source": [
    "# Platz für Arbeitsauftrag"
   ]
  },
  {
   "cell_type": "markdown",
   "metadata": {},
   "source": [
    "Es zeigt sich, dass das Modell für `weight`, `model year` wesentlich besser abschneidet. Dies liegt daran, dass das Modelljahr einen anderen Aspekt mit ins Modell einbringt, wogegen der Hubraum den gleichen Zusammenhang ausdrückt wie `weight`.\n",
    "\n",
    "Nun wird das Modell auf alle Merkmale erweitert, um zu sehen, ob es dadurch besser wird:"
   ]
  },
  {
   "cell_type": "code",
   "execution_count": null,
   "metadata": {},
   "outputs": [],
   "source": [
    "X_train_m = train_set_scaled.drop([\"mpg\"], axis=1)\n",
    "X_test_m = test_set_scaled.drop([\"mpg\"], axis=1)\n",
    "\n",
    "m_reg = LinearRegression()\n",
    "m_reg.fit(X_train_m, y_train)\n",
    "print('Achsenabschnitt =', m_reg.intercept_)\n",
    "print('Weitere_Koeffizienten =', m_reg.coef_)"
   ]
  },
  {
   "cell_type": "code",
   "execution_count": null,
   "metadata": {},
   "outputs": [],
   "source": [
    "y_pred_train = m_reg.predict(X_train_m)   \n",
    "\n",
    "print ('mse_train= ', mean_squared_error(y_train, y_pred_train))\n",
    "print ('r2_train= ', r2_score(y_train, y_pred_train))\n",
    "\n",
    "y_pred_test = m_reg.predict(X_test_m)\n",
    "print ('mse_test= ', mean_squared_error(y_test, y_pred_test))\n",
    "print ('r2_test= ', r2_score(y_test, y_pred_test))"
   ]
  },
  {
   "cell_type": "markdown",
   "metadata": {},
   "source": [
    "Das Modell mit allen Merkmalen ist nicht besser als das mit den Merkmalen `weight` und `model year`."
   ]
  },
  {
   "cell_type": "markdown",
   "metadata": {},
   "source": [
    "Bisher wurde nur die *lineare* Regression für mehrere Dimensionen angewendet. Es kann auch die polynomiale Regression angewendet werden. Dabei muss jedoch beachtet werden, dass dabei die Anzahl der Koeffizienten sehr stark wächst. Ein anderes Phänomen, das häufig auftritt, ist, dass die Koeffizienten immer größer werden. \n",
    "\n",
    "Wenn im folgenden Code der Grad der Polynome bei degree hochgesetzt wird, zeigt sich, dass auch hier die Koeffizienten stark ansteigen. "
   ]
  },
  {
   "cell_type": "code",
   "execution_count": null,
   "metadata": {},
   "outputs": [],
   "source": [
    "poly_features = PolynomialFeatures(degree=4, include_bias=False)  \n",
    "X_polybig_m = poly_features.fit_transform(X_train_m)\n",
    "\n",
    "quad_reg = LinearRegression()\n",
    "quad_reg.fit(X_polybig_m, y_train)\n",
    "print('Achsenabschnitt =', quad_reg.intercept_)\n",
    "print('Weitere_Koeffizienten =', quad_reg.coef_)\n",
    "\n",
    "y_pred = quad_reg.predict(X_polybig_m)\n",
    "\n",
    "print ('mse_training =', mean_squared_error(y_train, y_pred))\n",
    "print ('r2_training =', r2_score(y_train, y_pred))\n",
    "X_polybig_test_m = poly_features.fit_transform(X_test_m)\n",
    "y_pred_test = quad_reg.predict(X_polybig_test_m)\n",
    "print ('mse_test =', mean_squared_error(y_test, y_pred_test))\n",
    "print ('r2_test =', r2_score(y_test, y_pred_test))"
   ]
  },
  {
   "cell_type": "markdown",
   "metadata": {},
   "source": [
    "Auch zu beobachten ist, dass das Trainingsmodell immer besser wird, aber die Ergebnisse für die Testdaten immer schlechter ($R^2$ ist negativ!). Das Modell lässt sich nicht mehr gut verallgemeinern. "
   ]
  },
  {
   "cell_type": "markdown",
   "metadata": {},
   "source": [
    "<hr style=\"border:1px solid gray\"> </hr>"
   ]
  },
  {
   "cell_type": "markdown",
   "metadata": {},
   "source": [
    "## <font color='darkblue'>3. Regularisierung von Regressionsmodellen</font> <a name=\"kap3\"></a>"
   ]
  },
  {
   "cell_type": "markdown",
   "metadata": {},
   "source": [
    "Dieser Abschnitt beschäftigt sich mit der Frage, wie das Anwachsen der Koeffizienten und die zu starke Anpassung auf die Trainingsdaten (schlechte Verallgemeinerbarkeit) verhindert werden kann. \"Regularisierung\" heißt dabei, die Koeffizienten möglichst klein zu halten, ohne dabei allzu viel von der Güte eines Modells zu verlieren. "
   ]
  },
  {
   "cell_type": "markdown",
   "metadata": {},
   "source": [
    "### <font color='darkblue'>3.1 Ridge-Regression</font> <a name=\"kap31\"></a>"
   ]
  },
  {
   "cell_type": "markdown",
   "metadata": {},
   "source": [
    "Als erste Regularisierungsmethode haben Sie im Video schon die Lasso-Regression kennengelernt. Statt dem Mean Squared Error ($mse$) minimiert diese die Summe aus $mse$ und einem Extraterm:\n",
    "$$mse + \\alpha \\sum_{i=1}^{m} |a_i|,$$\n",
    "wobei $a_i$ die Regressionskoeffizienten sind.\n",
    "Dadurch ergibt sich der Vorteil, dass die Lasso-Methode selbst schon eine Merkmalsauswahl trifft. Es können also ganz bequem erstmal alle Merkmale in das Modell gegeben werden.\n",
    "\n",
    "Es gibt aber noch weitere Regularisierungsmethoden; eine davon ist die Ridge-Regression. Ähnlich wie bei der Lasso-Regression wird nicht der $mse$ minimiert, sondern ein zusätzlicher Term aufaddiert, hier \n",
    "$$mse + \\alpha\\sum_{i=1}^m |a_i|^2.$$ \n",
    "Der Unterschied besteht also \"nur\" in einem Quadrat, aber diese Methode verhält sich ganz anders. \n",
    "\n",
    "Ridge-Regression lohnt sich bei Datensätzen, die viele Merkmale haben, und deren Merkmale untereinander stark korreliert sind - so wie hier z.B. Hubraum mit Zylindern und Gewicht. Lasso-Regression oder auch eine manuelle Merkmalsauswahl würde eventuell nur eins der stark korrelierten Merkmale nutzen um die Komplexität des Modells zu verringern. Aber manchmal sollten alle Merkmale beachtet werden. Die \"gewöhliche\" lineare Regression würde dabei die Koeffizienten der korrelierten Merkmale überschätzen und das Modell etwas verzerren. Ridge-Regression vermeidet das und macht das Modell so stabiler. Es findet allerdings keine automatische Merkmalsauswahl statt. Diese sollte dann manuell vorher getroffen werden.\n",
    "\n"
   ]
  },
  {
   "cell_type": "code",
   "execution_count": null,
   "metadata": {},
   "outputs": [],
   "source": [
    "X_train_m = train_set_scaled.drop([\"mpg\"], axis=1)\n",
    "X_test_m = test_set_scaled.drop([\"mpg\"], axis=1)"
   ]
  },
  {
   "cell_type": "code",
   "execution_count": null,
   "metadata": {},
   "outputs": [],
   "source": [
    "from sklearn.linear_model import Ridge"
   ]
  },
  {
   "cell_type": "markdown",
   "metadata": {},
   "source": [
    "Die Syntax für die Ridge-Regression ist ganz ähnlich zur Lasso-Regression. Der Hyperparameter heißt auch hier $\\alpha$."
   ]
  },
  {
   "cell_type": "code",
   "execution_count": null,
   "metadata": {},
   "outputs": [],
   "source": [
    "ridge_reg = Ridge(alpha=1)\n",
    "ridge_reg.fit(X_train_m, y_train)"
   ]
  },
  {
   "cell_type": "code",
   "execution_count": null,
   "metadata": {},
   "outputs": [],
   "source": [
    "print('Achsenabschnitt =', ridge_reg.intercept_)\n",
    "print('Weitere_Koeffizienten =', ridge_reg.coef_)"
   ]
  },
  {
   "cell_type": "code",
   "execution_count": null,
   "metadata": {},
   "outputs": [],
   "source": [
    "y_pred_train_ridge = ridge_reg.predict(X_train_m)   \n",
    "\n",
    "print ('mse_train= ', mean_squared_error(y_train, y_pred_train_ridge))\n",
    "print ('r2_train= ', r2_score(y_train, y_pred_train_ridge))\n",
    "\n",
    "y_pred_test_ridge = ridge_reg.predict(X_test_m)\n",
    "print ('mse_test= ', mean_squared_error(y_test, y_pred_test_ridge))\n",
    "print ('r2_test= ', r2_score(y_test, y_pred_test_ridge))"
   ]
  },
  {
   "cell_type": "markdown",
   "metadata": {},
   "source": [
    "<div class=\"alert alert-block alert-success\">\n",
    "&#128187; <b>Arbeitsauftrag:</b> \n",
    "\n",
    "Probieren Sie die Ridge-Regression für verschiedene Werte von ``alpha`` aus. Gibt es Fälle, in denen eine Merkmalsauswahl getroffen wird, also manche Koeffizienten 0 sind? Vergleichen Sie zusätzlich die Koeffizienten mit den Werten der mehrdimensionalen Regression (mit allen Merkmalen). Sind die Koeffizienten hier größer oder kleiner oder lässt sich das nicht pauschal beantworten?"
   ]
  },
  {
   "cell_type": "code",
   "execution_count": null,
   "metadata": {},
   "outputs": [],
   "source": [
    "# Platz für Arbeitsauftrag: "
   ]
  },
  {
   "cell_type": "markdown",
   "metadata": {},
   "source": [
    "Sie sollten sehen: Die Ridge-Regression für alle Merkmale erreicht hier ein ähnlich gutes Ergebnis wie bei der manuellen Merkmalsauswahl und hat gleichzeitig kleinere Koeffizienten."
   ]
  },
  {
   "cell_type": "markdown",
   "metadata": {},
   "source": [
    "<hr style=\"border:1px solid gray\"> </hr>"
   ]
  },
  {
   "cell_type": "markdown",
   "metadata": {},
   "source": [
    "## <font color='darkblue'>4. Weitere Regressionsmodelle</font> <a name=\"kap4\"></a>"
   ]
  },
  {
   "cell_type": "markdown",
   "metadata": {},
   "source": [
    "Viele der Klassifikationsverfahren, die Sie in Modul 4 kennengelernt haben, können mit leichten Abwandlungen auch zur Regression verwendet werden. Sie heißen dann \"Regressor\" statt \"Classificator\". \n",
    "\n",
    "Hier soll das Vorgehen für die Support Vector Machines betrachtet werden, die im Falle der Regression als Support Vector Regression bezeichnet werden. "
   ]
  },
  {
   "cell_type": "markdown",
   "metadata": {},
   "source": [
    "### <font color='darkblue'>4.1 Support Vector Regression</font> <a name=\"kap41\"></a>"
   ]
  },
  {
   "cell_type": "markdown",
   "metadata": {},
   "source": [
    "Bei der Klassifikation wurde bei einer Support Vector Machine nach einer möglichst breiten Straße gesucht, die die beiden Klassen trennt. Nun wird diese Idee umgedreht:\n",
    "Es wird nach einer Straße gesucht, die möglichst viele Punkte **enthält**. Dabei wird die Breite der Straße durch den Parameter `epsilon` vorgegeben. \n",
    "\n",
    "Zunächst wird der Support Vector Regressor auf nur ein Merkmal, nämlich `weight`, angewendet, um das Ergebnis anschaulich plotten zu können. Die Daten werden auf dieses Merkmal eingeschränkt und dann das Modell eingebunden, initialisiert und gefittet. Im Anschluss werden die Gütemaße ausgegeben und das Ergebnis geplottet. "
   ]
  },
  {
   "cell_type": "code",
   "execution_count": null,
   "metadata": {},
   "outputs": [],
   "source": [
    "X_train_m = train_set_scaled[[\"weight\"]]\n",
    "X_test_m = test_set_scaled[[\"weight\"]]\n",
    "\n",
    "y_train = y_train.values.ravel() # Befehl verändert die Form der Variable und verhindert so eine sonst auftretende Warnung \n",
    "\n",
    "from sklearn.svm import SVR\n",
    "eps = 0.1  # Breite der Strasse\n",
    "svm_reg = SVR(kernel='rbf', epsilon=eps)\n",
    "svm_reg.fit(X_train_m, y_train)"
   ]
  },
  {
   "cell_type": "code",
   "execution_count": null,
   "metadata": {},
   "outputs": [],
   "source": [
    "y_pred_train_svm = svm_reg.predict(X_train_m)   \n",
    "\n",
    "print ('mse_train= ', mean_squared_error(y_train, y_pred_train_svm))\n",
    "print ('r2_train= ', r2_score(y_train, y_pred_train_svm))\n",
    "\n",
    "y_pred_test_svm = svm_reg.predict(X_test_m)\n",
    "print ('mse_test= ', mean_squared_error(y_test, y_pred_test_svm))\n",
    "print ('r2_test= ', r2_score(y_test, y_pred_test_svm))"
   ]
  },
  {
   "cell_type": "code",
   "execution_count": null,
   "metadata": {},
   "outputs": [],
   "source": [
    "xline = np.linspace(-0.1,1.1, 100).reshape(100, 1) \n",
    "yline = svm_reg.predict(xline)\n",
    "plt.plot(X_train, y_train, '.')\n",
    "plt.plot(xline,yline , color='red')\n",
    "plt.plot(xline,yline+eps , color='black')\n",
    "plt.plot(xline,yline-eps , color='black')\n",
    "plt.ylabel('mpg')\n",
    "plt.xlim(-0.1, 1.1)\n",
    "plt.title('Support Vector Regression mit Straße')\n",
    "plt.show()"
   ]
  },
  {
   "cell_type": "markdown",
   "metadata": {},
   "source": [
    "Die Anpassung ist in etwa so gut wie bei der linearen Regression. Die Kurve kann aber - abhängig von den Daten - beliebige Formen annehmen. \n",
    "\n",
    "Nun soll der Support Vector Regressor auf alle Merkmale angewendet werden, um zu sehen, ob so bessere Ergebnisse erzeugt werden. Hierfür werden die Mengen wieder neu definiert: "
   ]
  },
  {
   "cell_type": "code",
   "execution_count": null,
   "metadata": {},
   "outputs": [],
   "source": [
    "X_train_m = train_set_scaled.drop([\"mpg\"], axis=1)\n",
    "X_test_m = test_set_scaled.drop([\"mpg\"], axis=1)"
   ]
  },
  {
   "cell_type": "markdown",
   "metadata": {},
   "source": [
    "<div class=\"alert alert-block alert-success\">\n",
    "&#128187; <b>Arbeitsauftrag:</b> \n",
    "\n",
    "Wenden Sie dasselbe Modell wie oben nun auf die neu definierten Daten an. "
   ]
  },
  {
   "cell_type": "code",
   "execution_count": null,
   "metadata": {},
   "outputs": [],
   "source": [
    "# Hier soll wieder ein SVR gefittet werden."
   ]
  },
  {
   "cell_type": "markdown",
   "metadata": {},
   "source": [
    "Die Ausgabe der Gütemaße zeigt: Die SVR mit allen Merkmalen liefert anhand der Gütemaße das bisher beste Modell:"
   ]
  },
  {
   "cell_type": "code",
   "execution_count": null,
   "metadata": {},
   "outputs": [],
   "source": [
    "y_pred_train_svm = svm_reg.predict(X_train_m)   \n",
    "\n",
    "print ('mse_train= ', mean_squared_error(y_train, y_pred_train_svm))\n",
    "print ('r2_train= ', r2_score(y_train, y_pred_train_svm))\n",
    "\n",
    "y_pred_test_svm = svm_reg.predict(X_test_m)\n",
    "print ('mse_test= ', mean_squared_error(y_test, y_pred_test_svm))\n",
    "print ('r2_test= ', r2_score(y_test, y_pred_test_svm))"
   ]
  },
  {
   "cell_type": "markdown",
   "metadata": {},
   "source": [
    "Eine weitere Verbesserung könnte durch die Anpassung der Hyperparameter `epsilon` und `C` erreicht werden. \n",
    "\n",
    "Allgemein erzeugt die Support Vector Regression gute Regressionsfunktionen. Sie können vielfältigere Formen annehmen als die vorgebenen linearen oder polynomialen Regressionsfunktionen. "
   ]
  },
  {
   "cell_type": "markdown",
   "metadata": {},
   "source": [
    "<hr style=\"border:1px solid gray\"> </hr>"
   ]
  },
  {
   "cell_type": "markdown",
   "metadata": {},
   "source": [
    "## <font color='darkblue'>5. Fazit</font> <a name=\"kap5\"></a>"
   ]
  },
  {
   "cell_type": "markdown",
   "metadata": {},
   "source": [
    "Dieses Notebook hat:\n",
    "- die Schritte der Datenvorbereitung und Datenbereinigung wiederholt.\n",
    "- die Schritte der Modellierung wiederholt.\n",
    "- Ihre Fähigkeiten geschult, eine eindimensionale lineare Regression, eine eindimensionale polynomiale Regression sowie eine mehrdimensionale lineare Regression durchzuführen.\n",
    "- ein neues Verfahren, nämlich die Ridge-Regression, eingeführt.\n",
    "- die Übertragung der Support Vector Machine auf die Regression, also die Support Vector Regression, dargestellt."
   ]
  }
 ],
 "metadata": {
  "kernelspec": {
   "display_name": "DaLI-DM",
   "language": "python",
   "name": "python-dali-dm"
  },
  "language_info": {
   "codemirror_mode": {
    "name": "ipython",
    "version": 3
   },
   "file_extension": ".py",
   "mimetype": "text/x-python",
   "name": "python",
   "nbconvert_exporter": "python",
   "pygments_lexer": "ipython3",
   "version": "3.8.8"
  },
  "latex_envs": {
   "LaTeX_envs_menu_present": true,
   "autoclose": false,
   "autocomplete": true,
   "bibliofile": "biblio.bib",
   "cite_by": "apalike",
   "current_citInitial": 1,
   "eqLabelWithNumbers": true,
   "eqNumInitial": 1,
   "hotkeys": {
    "equation": "Ctrl-E",
    "itemize": "Ctrl-I"
   },
   "labels_anchors": false,
   "latex_user_defs": false,
   "report_style_numbering": false,
   "user_envs_cfg": false
  },
  "toc": {
   "base_numbering": 1,
   "nav_menu": {},
   "number_sections": false,
   "sideBar": true,
   "skip_h1_title": true,
   "title_cell": "Table of Contents",
   "title_sidebar": "Contents",
   "toc_cell": false,
   "toc_position": {},
   "toc_section_display": true,
   "toc_window_display": false
  },
  "varInspector": {
   "cols": {
    "lenName": 16,
    "lenType": 16,
    "lenVar": 40
   },
   "kernels_config": {
    "python": {
     "delete_cmd_postfix": "",
     "delete_cmd_prefix": "del ",
     "library": "var_list.py",
     "varRefreshCmd": "print(var_dic_list())"
    },
    "r": {
     "delete_cmd_postfix": ") ",
     "delete_cmd_prefix": "rm(",
     "library": "var_list.r",
     "varRefreshCmd": "cat(var_dic_list()) "
    }
   },
   "types_to_exclude": [
    "module",
    "function",
    "builtin_function_or_method",
    "instance",
    "_Feature"
   ],
   "window_display": false
  }
 },
 "nbformat": 4,
 "nbformat_minor": 4
}
